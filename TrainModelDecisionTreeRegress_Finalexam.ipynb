{
  "nbformat": 4,
  "nbformat_minor": 0,
  "metadata": {
    "colab": {
      "provenance": [],
      "collapsed_sections": [],
      "machine_shape": "hm",
      "mount_file_id": "1uR72MFyDuriVmsJZvog53bEtZ3ulpGVy",
      "authorship_tag": "ABX9TyPUG4MemXvucSWW85uCt3+h",
      "include_colab_link": true
    },
    "kernelspec": {
      "name": "python3",
      "display_name": "Python 3"
    },
    "language_info": {
      "name": "python"
    },
    "accelerator": "GPU",
    "gpuClass": "standard"
  },
  "cells": [
    {
      "cell_type": "markdown",
      "metadata": {
        "id": "view-in-github",
        "colab_type": "text"
      },
      "source": [
        "<a href=\"https://colab.research.google.com/github/WiratchawaKannika/DPDM65/blob/main/TrainModelDecisionTreeRegress_Finalexam.ipynb\" target=\"_parent\"><img src=\"https://colab.research.google.com/assets/colab-badge.svg\" alt=\"Open In Colab\"/></a>"
      ]
    },
    {
      "cell_type": "code",
      "execution_count": null,
      "metadata": {
        "id": "MaRhwv8q5c5l"
      },
      "outputs": [],
      "source": [
        "import pandas as pd\n",
        "import numpy as np"
      ]
    },
    {
      "cell_type": "markdown",
      "source": [
        "# Train Model เพื่อทำนายราคาที่อยู่อาศัย"
      ],
      "metadata": {
        "id": "3BmmCe0c57pz"
      }
    },
    {
      "cell_type": "markdown",
      "source": [
        "## Import data set"
      ],
      "metadata": {
        "id": "Yw_6alTw6C0C"
      }
    },
    {
      "cell_type": "code",
      "source": [
        "df_train = pd.read_csv('/content/drive/MyDrive/DPDM65/Final/MyDataSet_Finalexam.csv')\n",
        "print(df_train.shape)\n",
        "df_train.head()"
      ],
      "metadata": {
        "colab": {
          "base_uri": "https://localhost:8080/",
          "height": 357
        },
        "id": "dFAKsM2z5pbm",
        "outputId": "9bc1487d-a41a-4e12-fc7e-d43020bef855"
      },
      "execution_count": null,
      "outputs": [
        {
          "output_type": "stream",
          "name": "stdout",
          "text": [
            "(2715, 12)\n"
          ]
        },
        {
          "output_type": "execute_result",
          "data": {
            "text/plain": [
              "   Unnamed: 0       id province      district sub_district property_type  \\\n",
              "0           0  11243.0  ขอนแก่น      หนองเรือ     โนนสะอาด          Land   \n",
              "1           1    2092P  ขอนแก่น      หนองเรือ     โนนสะอาด          Land   \n",
              "2           2  17882.0  ขอนแก่น  เมืองขอนแก่น     บ้านทุ่ม          Land   \n",
              "3           3     306P  ขอนแก่น  เมืองขอนแก่น     บ้านทุ่ม          Land   \n",
              "4           4   2217.0  ขอนแก่น  เมืองขอนแก่น     บ้านทุ่ม          Land   \n",
              "\n",
              "   number_of_rai  number_of_ngan  number_of_va  sell_price  usable_area  \\\n",
              "0            8.0             1.0          70.0  21000000.0      10704.0   \n",
              "1            6.0             2.0          78.0   8900000.0      10704.0   \n",
              "2            0.0             1.0           0.0   2075000.0          0.0   \n",
              "3            7.0             0.0         100.0  35000000.0          0.0   \n",
              "4            0.0             1.0          80.0   4850000.0          0.0   \n",
              "\n",
              "                          G_area  \n",
              "0      โนนสะอาด,หนองเรือ,ขอนแก่น  \n",
              "1      โนนสะอาด,หนองเรือ,ขอนแก่น  \n",
              "2  บ้านทุ่ม,เมืองขอนแก่น,ขอนแก่น  \n",
              "3  บ้านทุ่ม,เมืองขอนแก่น,ขอนแก่น  \n",
              "4  บ้านทุ่ม,เมืองขอนแก่น,ขอนแก่น  "
            ],
            "text/html": [
              "\n",
              "  <div id=\"df-db6e92f8-26d6-4c20-af1c-0df98c6c04ce\">\n",
              "    <div class=\"colab-df-container\">\n",
              "      <div>\n",
              "<style scoped>\n",
              "    .dataframe tbody tr th:only-of-type {\n",
              "        vertical-align: middle;\n",
              "    }\n",
              "\n",
              "    .dataframe tbody tr th {\n",
              "        vertical-align: top;\n",
              "    }\n",
              "\n",
              "    .dataframe thead th {\n",
              "        text-align: right;\n",
              "    }\n",
              "</style>\n",
              "<table border=\"1\" class=\"dataframe\">\n",
              "  <thead>\n",
              "    <tr style=\"text-align: right;\">\n",
              "      <th></th>\n",
              "      <th>Unnamed: 0</th>\n",
              "      <th>id</th>\n",
              "      <th>province</th>\n",
              "      <th>district</th>\n",
              "      <th>sub_district</th>\n",
              "      <th>property_type</th>\n",
              "      <th>number_of_rai</th>\n",
              "      <th>number_of_ngan</th>\n",
              "      <th>number_of_va</th>\n",
              "      <th>sell_price</th>\n",
              "      <th>usable_area</th>\n",
              "      <th>G_area</th>\n",
              "    </tr>\n",
              "  </thead>\n",
              "  <tbody>\n",
              "    <tr>\n",
              "      <th>0</th>\n",
              "      <td>0</td>\n",
              "      <td>11243.0</td>\n",
              "      <td>ขอนแก่น</td>\n",
              "      <td>หนองเรือ</td>\n",
              "      <td>โนนสะอาด</td>\n",
              "      <td>Land</td>\n",
              "      <td>8.0</td>\n",
              "      <td>1.0</td>\n",
              "      <td>70.0</td>\n",
              "      <td>21000000.0</td>\n",
              "      <td>10704.0</td>\n",
              "      <td>โนนสะอาด,หนองเรือ,ขอนแก่น</td>\n",
              "    </tr>\n",
              "    <tr>\n",
              "      <th>1</th>\n",
              "      <td>1</td>\n",
              "      <td>2092P</td>\n",
              "      <td>ขอนแก่น</td>\n",
              "      <td>หนองเรือ</td>\n",
              "      <td>โนนสะอาด</td>\n",
              "      <td>Land</td>\n",
              "      <td>6.0</td>\n",
              "      <td>2.0</td>\n",
              "      <td>78.0</td>\n",
              "      <td>8900000.0</td>\n",
              "      <td>10704.0</td>\n",
              "      <td>โนนสะอาด,หนองเรือ,ขอนแก่น</td>\n",
              "    </tr>\n",
              "    <tr>\n",
              "      <th>2</th>\n",
              "      <td>2</td>\n",
              "      <td>17882.0</td>\n",
              "      <td>ขอนแก่น</td>\n",
              "      <td>เมืองขอนแก่น</td>\n",
              "      <td>บ้านทุ่ม</td>\n",
              "      <td>Land</td>\n",
              "      <td>0.0</td>\n",
              "      <td>1.0</td>\n",
              "      <td>0.0</td>\n",
              "      <td>2075000.0</td>\n",
              "      <td>0.0</td>\n",
              "      <td>บ้านทุ่ม,เมืองขอนแก่น,ขอนแก่น</td>\n",
              "    </tr>\n",
              "    <tr>\n",
              "      <th>3</th>\n",
              "      <td>3</td>\n",
              "      <td>306P</td>\n",
              "      <td>ขอนแก่น</td>\n",
              "      <td>เมืองขอนแก่น</td>\n",
              "      <td>บ้านทุ่ม</td>\n",
              "      <td>Land</td>\n",
              "      <td>7.0</td>\n",
              "      <td>0.0</td>\n",
              "      <td>100.0</td>\n",
              "      <td>35000000.0</td>\n",
              "      <td>0.0</td>\n",
              "      <td>บ้านทุ่ม,เมืองขอนแก่น,ขอนแก่น</td>\n",
              "    </tr>\n",
              "    <tr>\n",
              "      <th>4</th>\n",
              "      <td>4</td>\n",
              "      <td>2217.0</td>\n",
              "      <td>ขอนแก่น</td>\n",
              "      <td>เมืองขอนแก่น</td>\n",
              "      <td>บ้านทุ่ม</td>\n",
              "      <td>Land</td>\n",
              "      <td>0.0</td>\n",
              "      <td>1.0</td>\n",
              "      <td>80.0</td>\n",
              "      <td>4850000.0</td>\n",
              "      <td>0.0</td>\n",
              "      <td>บ้านทุ่ม,เมืองขอนแก่น,ขอนแก่น</td>\n",
              "    </tr>\n",
              "  </tbody>\n",
              "</table>\n",
              "</div>\n",
              "      <button class=\"colab-df-convert\" onclick=\"convertToInteractive('df-db6e92f8-26d6-4c20-af1c-0df98c6c04ce')\"\n",
              "              title=\"Convert this dataframe to an interactive table.\"\n",
              "              style=\"display:none;\">\n",
              "        \n",
              "  <svg xmlns=\"http://www.w3.org/2000/svg\" height=\"24px\"viewBox=\"0 0 24 24\"\n",
              "       width=\"24px\">\n",
              "    <path d=\"M0 0h24v24H0V0z\" fill=\"none\"/>\n",
              "    <path d=\"M18.56 5.44l.94 2.06.94-2.06 2.06-.94-2.06-.94-.94-2.06-.94 2.06-2.06.94zm-11 1L8.5 8.5l.94-2.06 2.06-.94-2.06-.94L8.5 2.5l-.94 2.06-2.06.94zm10 10l.94 2.06.94-2.06 2.06-.94-2.06-.94-.94-2.06-.94 2.06-2.06.94z\"/><path d=\"M17.41 7.96l-1.37-1.37c-.4-.4-.92-.59-1.43-.59-.52 0-1.04.2-1.43.59L10.3 9.45l-7.72 7.72c-.78.78-.78 2.05 0 2.83L4 21.41c.39.39.9.59 1.41.59.51 0 1.02-.2 1.41-.59l7.78-7.78 2.81-2.81c.8-.78.8-2.07 0-2.86zM5.41 20L4 18.59l7.72-7.72 1.47 1.35L5.41 20z\"/>\n",
              "  </svg>\n",
              "      </button>\n",
              "      \n",
              "  <style>\n",
              "    .colab-df-container {\n",
              "      display:flex;\n",
              "      flex-wrap:wrap;\n",
              "      gap: 12px;\n",
              "    }\n",
              "\n",
              "    .colab-df-convert {\n",
              "      background-color: #E8F0FE;\n",
              "      border: none;\n",
              "      border-radius: 50%;\n",
              "      cursor: pointer;\n",
              "      display: none;\n",
              "      fill: #1967D2;\n",
              "      height: 32px;\n",
              "      padding: 0 0 0 0;\n",
              "      width: 32px;\n",
              "    }\n",
              "\n",
              "    .colab-df-convert:hover {\n",
              "      background-color: #E2EBFA;\n",
              "      box-shadow: 0px 1px 2px rgba(60, 64, 67, 0.3), 0px 1px 3px 1px rgba(60, 64, 67, 0.15);\n",
              "      fill: #174EA6;\n",
              "    }\n",
              "\n",
              "    [theme=dark] .colab-df-convert {\n",
              "      background-color: #3B4455;\n",
              "      fill: #D2E3FC;\n",
              "    }\n",
              "\n",
              "    [theme=dark] .colab-df-convert:hover {\n",
              "      background-color: #434B5C;\n",
              "      box-shadow: 0px 1px 3px 1px rgba(0, 0, 0, 0.15);\n",
              "      filter: drop-shadow(0px 1px 2px rgba(0, 0, 0, 0.3));\n",
              "      fill: #FFFFFF;\n",
              "    }\n",
              "  </style>\n",
              "\n",
              "      <script>\n",
              "        const buttonEl =\n",
              "          document.querySelector('#df-db6e92f8-26d6-4c20-af1c-0df98c6c04ce button.colab-df-convert');\n",
              "        buttonEl.style.display =\n",
              "          google.colab.kernel.accessAllowed ? 'block' : 'none';\n",
              "\n",
              "        async function convertToInteractive(key) {\n",
              "          const element = document.querySelector('#df-db6e92f8-26d6-4c20-af1c-0df98c6c04ce');\n",
              "          const dataTable =\n",
              "            await google.colab.kernel.invokeFunction('convertToInteractive',\n",
              "                                                     [key], {});\n",
              "          if (!dataTable) return;\n",
              "\n",
              "          const docLinkHtml = 'Like what you see? Visit the ' +\n",
              "            '<a target=\"_blank\" href=https://colab.research.google.com/notebooks/data_table.ipynb>data table notebook</a>'\n",
              "            + ' to learn more about interactive tables.';\n",
              "          element.innerHTML = '';\n",
              "          dataTable['output_type'] = 'display_data';\n",
              "          await google.colab.output.renderOutput(dataTable, element);\n",
              "          const docLink = document.createElement('div');\n",
              "          docLink.innerHTML = docLinkHtml;\n",
              "          element.appendChild(docLink);\n",
              "        }\n",
              "      </script>\n",
              "    </div>\n",
              "  </div>\n",
              "  "
            ]
          },
          "metadata": {},
          "execution_count": 2
        }
      ]
    },
    {
      "cell_type": "markdown",
      "source": [
        "## Data Preparation"
      ],
      "metadata": {
        "id": "Zx2Vaaey74AS"
      }
    },
    {
      "cell_type": "markdown",
      "source": [
        "### Dummy variable"
      ],
      "metadata": {
        "id": "vC76117D-eXD"
      }
    },
    {
      "cell_type": "code",
      "source": [
        "#colName_land = ['number_of_rai',\t'number_of_ngan',\t'number_of_va',\t'sell_price',\t'usable_area']\n",
        "colName_land = ['property_type',\t'number_of_rai',\t'number_of_ngan',\t'number_of_va',\t'sell_price',\t'usable_area']\n",
        "df_train = df_train[colName_land]\n",
        "df_train.head()\n",
        "# df_encode = df_train[colName_land]\n",
        "# print(df_encode.shape)\n",
        "# df_encode.head()"
      ],
      "metadata": {
        "colab": {
          "base_uri": "https://localhost:8080/",
          "height": 206
        },
        "id": "YF3QD5c05pdl",
        "outputId": "0152552a-c04a-425c-d452-e3adf77f1362"
      },
      "execution_count": null,
      "outputs": [
        {
          "output_type": "execute_result",
          "data": {
            "text/plain": [
              "  property_type  number_of_rai  number_of_ngan  number_of_va  sell_price  \\\n",
              "0          Land            8.0             1.0          70.0  21000000.0   \n",
              "1          Land            6.0             2.0          78.0   8900000.0   \n",
              "2          Land            0.0             1.0           0.0   2075000.0   \n",
              "3          Land            7.0             0.0         100.0  35000000.0   \n",
              "4          Land            0.0             1.0          80.0   4850000.0   \n",
              "\n",
              "   usable_area  \n",
              "0      10704.0  \n",
              "1      10704.0  \n",
              "2          0.0  \n",
              "3          0.0  \n",
              "4          0.0  "
            ],
            "text/html": [
              "\n",
              "  <div id=\"df-64d2492b-8ae2-4d5f-b0c1-172b107bf7ef\">\n",
              "    <div class=\"colab-df-container\">\n",
              "      <div>\n",
              "<style scoped>\n",
              "    .dataframe tbody tr th:only-of-type {\n",
              "        vertical-align: middle;\n",
              "    }\n",
              "\n",
              "    .dataframe tbody tr th {\n",
              "        vertical-align: top;\n",
              "    }\n",
              "\n",
              "    .dataframe thead th {\n",
              "        text-align: right;\n",
              "    }\n",
              "</style>\n",
              "<table border=\"1\" class=\"dataframe\">\n",
              "  <thead>\n",
              "    <tr style=\"text-align: right;\">\n",
              "      <th></th>\n",
              "      <th>property_type</th>\n",
              "      <th>number_of_rai</th>\n",
              "      <th>number_of_ngan</th>\n",
              "      <th>number_of_va</th>\n",
              "      <th>sell_price</th>\n",
              "      <th>usable_area</th>\n",
              "    </tr>\n",
              "  </thead>\n",
              "  <tbody>\n",
              "    <tr>\n",
              "      <th>0</th>\n",
              "      <td>Land</td>\n",
              "      <td>8.0</td>\n",
              "      <td>1.0</td>\n",
              "      <td>70.0</td>\n",
              "      <td>21000000.0</td>\n",
              "      <td>10704.0</td>\n",
              "    </tr>\n",
              "    <tr>\n",
              "      <th>1</th>\n",
              "      <td>Land</td>\n",
              "      <td>6.0</td>\n",
              "      <td>2.0</td>\n",
              "      <td>78.0</td>\n",
              "      <td>8900000.0</td>\n",
              "      <td>10704.0</td>\n",
              "    </tr>\n",
              "    <tr>\n",
              "      <th>2</th>\n",
              "      <td>Land</td>\n",
              "      <td>0.0</td>\n",
              "      <td>1.0</td>\n",
              "      <td>0.0</td>\n",
              "      <td>2075000.0</td>\n",
              "      <td>0.0</td>\n",
              "    </tr>\n",
              "    <tr>\n",
              "      <th>3</th>\n",
              "      <td>Land</td>\n",
              "      <td>7.0</td>\n",
              "      <td>0.0</td>\n",
              "      <td>100.0</td>\n",
              "      <td>35000000.0</td>\n",
              "      <td>0.0</td>\n",
              "    </tr>\n",
              "    <tr>\n",
              "      <th>4</th>\n",
              "      <td>Land</td>\n",
              "      <td>0.0</td>\n",
              "      <td>1.0</td>\n",
              "      <td>80.0</td>\n",
              "      <td>4850000.0</td>\n",
              "      <td>0.0</td>\n",
              "    </tr>\n",
              "  </tbody>\n",
              "</table>\n",
              "</div>\n",
              "      <button class=\"colab-df-convert\" onclick=\"convertToInteractive('df-64d2492b-8ae2-4d5f-b0c1-172b107bf7ef')\"\n",
              "              title=\"Convert this dataframe to an interactive table.\"\n",
              "              style=\"display:none;\">\n",
              "        \n",
              "  <svg xmlns=\"http://www.w3.org/2000/svg\" height=\"24px\"viewBox=\"0 0 24 24\"\n",
              "       width=\"24px\">\n",
              "    <path d=\"M0 0h24v24H0V0z\" fill=\"none\"/>\n",
              "    <path d=\"M18.56 5.44l.94 2.06.94-2.06 2.06-.94-2.06-.94-.94-2.06-.94 2.06-2.06.94zm-11 1L8.5 8.5l.94-2.06 2.06-.94-2.06-.94L8.5 2.5l-.94 2.06-2.06.94zm10 10l.94 2.06.94-2.06 2.06-.94-2.06-.94-.94-2.06-.94 2.06-2.06.94z\"/><path d=\"M17.41 7.96l-1.37-1.37c-.4-.4-.92-.59-1.43-.59-.52 0-1.04.2-1.43.59L10.3 9.45l-7.72 7.72c-.78.78-.78 2.05 0 2.83L4 21.41c.39.39.9.59 1.41.59.51 0 1.02-.2 1.41-.59l7.78-7.78 2.81-2.81c.8-.78.8-2.07 0-2.86zM5.41 20L4 18.59l7.72-7.72 1.47 1.35L5.41 20z\"/>\n",
              "  </svg>\n",
              "      </button>\n",
              "      \n",
              "  <style>\n",
              "    .colab-df-container {\n",
              "      display:flex;\n",
              "      flex-wrap:wrap;\n",
              "      gap: 12px;\n",
              "    }\n",
              "\n",
              "    .colab-df-convert {\n",
              "      background-color: #E8F0FE;\n",
              "      border: none;\n",
              "      border-radius: 50%;\n",
              "      cursor: pointer;\n",
              "      display: none;\n",
              "      fill: #1967D2;\n",
              "      height: 32px;\n",
              "      padding: 0 0 0 0;\n",
              "      width: 32px;\n",
              "    }\n",
              "\n",
              "    .colab-df-convert:hover {\n",
              "      background-color: #E2EBFA;\n",
              "      box-shadow: 0px 1px 2px rgba(60, 64, 67, 0.3), 0px 1px 3px 1px rgba(60, 64, 67, 0.15);\n",
              "      fill: #174EA6;\n",
              "    }\n",
              "\n",
              "    [theme=dark] .colab-df-convert {\n",
              "      background-color: #3B4455;\n",
              "      fill: #D2E3FC;\n",
              "    }\n",
              "\n",
              "    [theme=dark] .colab-df-convert:hover {\n",
              "      background-color: #434B5C;\n",
              "      box-shadow: 0px 1px 3px 1px rgba(0, 0, 0, 0.15);\n",
              "      filter: drop-shadow(0px 1px 2px rgba(0, 0, 0, 0.3));\n",
              "      fill: #FFFFFF;\n",
              "    }\n",
              "  </style>\n",
              "\n",
              "      <script>\n",
              "        const buttonEl =\n",
              "          document.querySelector('#df-64d2492b-8ae2-4d5f-b0c1-172b107bf7ef button.colab-df-convert');\n",
              "        buttonEl.style.display =\n",
              "          google.colab.kernel.accessAllowed ? 'block' : 'none';\n",
              "\n",
              "        async function convertToInteractive(key) {\n",
              "          const element = document.querySelector('#df-64d2492b-8ae2-4d5f-b0c1-172b107bf7ef');\n",
              "          const dataTable =\n",
              "            await google.colab.kernel.invokeFunction('convertToInteractive',\n",
              "                                                     [key], {});\n",
              "          if (!dataTable) return;\n",
              "\n",
              "          const docLinkHtml = 'Like what you see? Visit the ' +\n",
              "            '<a target=\"_blank\" href=https://colab.research.google.com/notebooks/data_table.ipynb>data table notebook</a>'\n",
              "            + ' to learn more about interactive tables.';\n",
              "          element.innerHTML = '';\n",
              "          dataTable['output_type'] = 'display_data';\n",
              "          await google.colab.output.renderOutput(dataTable, element);\n",
              "          const docLink = document.createElement('div');\n",
              "          docLink.innerHTML = docLinkHtml;\n",
              "          element.appendChild(docLink);\n",
              "        }\n",
              "      </script>\n",
              "    </div>\n",
              "  </div>\n",
              "  "
            ]
          },
          "metadata": {},
          "execution_count": 3
        }
      ]
    },
    {
      "cell_type": "code",
      "source": [
        "# Dummy variable\n",
        "categorical_land = ['property_type']\n",
        "df_encode = pd.get_dummies(data = df_train,  columns = categorical_land, drop_first =True)\n",
        "print(df_encode.shape)\n",
        "df_encode.head()"
      ],
      "metadata": {
        "colab": {
          "base_uri": "https://localhost:8080/",
          "height": 305
        },
        "id": "YkDXH02R-dsW",
        "outputId": "c18503c1-0238-48b8-faf4-9a392705e795"
      },
      "execution_count": null,
      "outputs": [
        {
          "output_type": "stream",
          "name": "stdout",
          "text": [
            "(2715, 10)\n"
          ]
        },
        {
          "output_type": "execute_result",
          "data": {
            "text/plain": [
              "   number_of_rai  number_of_ngan  number_of_va  sell_price  usable_area  \\\n",
              "0            8.0             1.0          70.0  21000000.0      10704.0   \n",
              "1            6.0             2.0          78.0   8900000.0      10704.0   \n",
              "2            0.0             1.0           0.0   2075000.0          0.0   \n",
              "3            7.0             0.0         100.0  35000000.0          0.0   \n",
              "4            0.0             1.0          80.0   4850000.0          0.0   \n",
              "\n",
              "   property_type_House  property_type_Land  property_type_Office  \\\n",
              "0                    0                   1                     0   \n",
              "1                    0                   1                     0   \n",
              "2                    0                   1                     0   \n",
              "3                    0                   1                     0   \n",
              "4                    0                   1                     0   \n",
              "\n",
              "   property_type_Town Home  property_type_TwinHouse  \n",
              "0                        0                        0  \n",
              "1                        0                        0  \n",
              "2                        0                        0  \n",
              "3                        0                        0  \n",
              "4                        0                        0  "
            ],
            "text/html": [
              "\n",
              "  <div id=\"df-cab90909-3b22-4464-b397-b225f52ece13\">\n",
              "    <div class=\"colab-df-container\">\n",
              "      <div>\n",
              "<style scoped>\n",
              "    .dataframe tbody tr th:only-of-type {\n",
              "        vertical-align: middle;\n",
              "    }\n",
              "\n",
              "    .dataframe tbody tr th {\n",
              "        vertical-align: top;\n",
              "    }\n",
              "\n",
              "    .dataframe thead th {\n",
              "        text-align: right;\n",
              "    }\n",
              "</style>\n",
              "<table border=\"1\" class=\"dataframe\">\n",
              "  <thead>\n",
              "    <tr style=\"text-align: right;\">\n",
              "      <th></th>\n",
              "      <th>number_of_rai</th>\n",
              "      <th>number_of_ngan</th>\n",
              "      <th>number_of_va</th>\n",
              "      <th>sell_price</th>\n",
              "      <th>usable_area</th>\n",
              "      <th>property_type_House</th>\n",
              "      <th>property_type_Land</th>\n",
              "      <th>property_type_Office</th>\n",
              "      <th>property_type_Town Home</th>\n",
              "      <th>property_type_TwinHouse</th>\n",
              "    </tr>\n",
              "  </thead>\n",
              "  <tbody>\n",
              "    <tr>\n",
              "      <th>0</th>\n",
              "      <td>8.0</td>\n",
              "      <td>1.0</td>\n",
              "      <td>70.0</td>\n",
              "      <td>21000000.0</td>\n",
              "      <td>10704.0</td>\n",
              "      <td>0</td>\n",
              "      <td>1</td>\n",
              "      <td>0</td>\n",
              "      <td>0</td>\n",
              "      <td>0</td>\n",
              "    </tr>\n",
              "    <tr>\n",
              "      <th>1</th>\n",
              "      <td>6.0</td>\n",
              "      <td>2.0</td>\n",
              "      <td>78.0</td>\n",
              "      <td>8900000.0</td>\n",
              "      <td>10704.0</td>\n",
              "      <td>0</td>\n",
              "      <td>1</td>\n",
              "      <td>0</td>\n",
              "      <td>0</td>\n",
              "      <td>0</td>\n",
              "    </tr>\n",
              "    <tr>\n",
              "      <th>2</th>\n",
              "      <td>0.0</td>\n",
              "      <td>1.0</td>\n",
              "      <td>0.0</td>\n",
              "      <td>2075000.0</td>\n",
              "      <td>0.0</td>\n",
              "      <td>0</td>\n",
              "      <td>1</td>\n",
              "      <td>0</td>\n",
              "      <td>0</td>\n",
              "      <td>0</td>\n",
              "    </tr>\n",
              "    <tr>\n",
              "      <th>3</th>\n",
              "      <td>7.0</td>\n",
              "      <td>0.0</td>\n",
              "      <td>100.0</td>\n",
              "      <td>35000000.0</td>\n",
              "      <td>0.0</td>\n",
              "      <td>0</td>\n",
              "      <td>1</td>\n",
              "      <td>0</td>\n",
              "      <td>0</td>\n",
              "      <td>0</td>\n",
              "    </tr>\n",
              "    <tr>\n",
              "      <th>4</th>\n",
              "      <td>0.0</td>\n",
              "      <td>1.0</td>\n",
              "      <td>80.0</td>\n",
              "      <td>4850000.0</td>\n",
              "      <td>0.0</td>\n",
              "      <td>0</td>\n",
              "      <td>1</td>\n",
              "      <td>0</td>\n",
              "      <td>0</td>\n",
              "      <td>0</td>\n",
              "    </tr>\n",
              "  </tbody>\n",
              "</table>\n",
              "</div>\n",
              "      <button class=\"colab-df-convert\" onclick=\"convertToInteractive('df-cab90909-3b22-4464-b397-b225f52ece13')\"\n",
              "              title=\"Convert this dataframe to an interactive table.\"\n",
              "              style=\"display:none;\">\n",
              "        \n",
              "  <svg xmlns=\"http://www.w3.org/2000/svg\" height=\"24px\"viewBox=\"0 0 24 24\"\n",
              "       width=\"24px\">\n",
              "    <path d=\"M0 0h24v24H0V0z\" fill=\"none\"/>\n",
              "    <path d=\"M18.56 5.44l.94 2.06.94-2.06 2.06-.94-2.06-.94-.94-2.06-.94 2.06-2.06.94zm-11 1L8.5 8.5l.94-2.06 2.06-.94-2.06-.94L8.5 2.5l-.94 2.06-2.06.94zm10 10l.94 2.06.94-2.06 2.06-.94-2.06-.94-.94-2.06-.94 2.06-2.06.94z\"/><path d=\"M17.41 7.96l-1.37-1.37c-.4-.4-.92-.59-1.43-.59-.52 0-1.04.2-1.43.59L10.3 9.45l-7.72 7.72c-.78.78-.78 2.05 0 2.83L4 21.41c.39.39.9.59 1.41.59.51 0 1.02-.2 1.41-.59l7.78-7.78 2.81-2.81c.8-.78.8-2.07 0-2.86zM5.41 20L4 18.59l7.72-7.72 1.47 1.35L5.41 20z\"/>\n",
              "  </svg>\n",
              "      </button>\n",
              "      \n",
              "  <style>\n",
              "    .colab-df-container {\n",
              "      display:flex;\n",
              "      flex-wrap:wrap;\n",
              "      gap: 12px;\n",
              "    }\n",
              "\n",
              "    .colab-df-convert {\n",
              "      background-color: #E8F0FE;\n",
              "      border: none;\n",
              "      border-radius: 50%;\n",
              "      cursor: pointer;\n",
              "      display: none;\n",
              "      fill: #1967D2;\n",
              "      height: 32px;\n",
              "      padding: 0 0 0 0;\n",
              "      width: 32px;\n",
              "    }\n",
              "\n",
              "    .colab-df-convert:hover {\n",
              "      background-color: #E2EBFA;\n",
              "      box-shadow: 0px 1px 2px rgba(60, 64, 67, 0.3), 0px 1px 3px 1px rgba(60, 64, 67, 0.15);\n",
              "      fill: #174EA6;\n",
              "    }\n",
              "\n",
              "    [theme=dark] .colab-df-convert {\n",
              "      background-color: #3B4455;\n",
              "      fill: #D2E3FC;\n",
              "    }\n",
              "\n",
              "    [theme=dark] .colab-df-convert:hover {\n",
              "      background-color: #434B5C;\n",
              "      box-shadow: 0px 1px 3px 1px rgba(0, 0, 0, 0.15);\n",
              "      filter: drop-shadow(0px 1px 2px rgba(0, 0, 0, 0.3));\n",
              "      fill: #FFFFFF;\n",
              "    }\n",
              "  </style>\n",
              "\n",
              "      <script>\n",
              "        const buttonEl =\n",
              "          document.querySelector('#df-cab90909-3b22-4464-b397-b225f52ece13 button.colab-df-convert');\n",
              "        buttonEl.style.display =\n",
              "          google.colab.kernel.accessAllowed ? 'block' : 'none';\n",
              "\n",
              "        async function convertToInteractive(key) {\n",
              "          const element = document.querySelector('#df-cab90909-3b22-4464-b397-b225f52ece13');\n",
              "          const dataTable =\n",
              "            await google.colab.kernel.invokeFunction('convertToInteractive',\n",
              "                                                     [key], {});\n",
              "          if (!dataTable) return;\n",
              "\n",
              "          const docLinkHtml = 'Like what you see? Visit the ' +\n",
              "            '<a target=\"_blank\" href=https://colab.research.google.com/notebooks/data_table.ipynb>data table notebook</a>'\n",
              "            + ' to learn more about interactive tables.';\n",
              "          element.innerHTML = '';\n",
              "          dataTable['output_type'] = 'display_data';\n",
              "          await google.colab.output.renderOutput(dataTable, element);\n",
              "          const docLink = document.createElement('div');\n",
              "          docLink.innerHTML = docLinkHtml;\n",
              "          element.appendChild(docLink);\n",
              "        }\n",
              "      </script>\n",
              "    </div>\n",
              "  </div>\n",
              "  "
            ]
          },
          "metadata": {},
          "execution_count": 4
        }
      ]
    },
    {
      "cell_type": "markdown",
      "source": [
        "## Feature Selection"
      ],
      "metadata": {
        "id": "SchJaxfT_vx-"
      }
    },
    {
      "cell_type": "code",
      "source": [
        "from sklearn.ensemble import RandomForestRegressor\n",
        "from sklearn.model_selection import train_test_split\n",
        "from sklearn.metrics import mean_squared_error as mse\n",
        "from sklearn.metrics import mean_squared_error"
      ],
      "metadata": {
        "id": "Pj1SN0Ym5phb"
      },
      "execution_count": null,
      "outputs": []
    },
    {
      "cell_type": "markdown",
      "source": [
        "## Splitting the data into train and test data sets."
      ],
      "metadata": {
        "id": "9UiQrE2H_9LN"
      }
    },
    {
      "cell_type": "code",
      "source": [
        "X = df_encode.drop('sell_price',axis=1) # Independet variable\n",
        "y = df_encode['sell_price'] # dependent variable\n",
        "\n",
        "X_train, X_test, y_train, y_test = train_test_split(X, y, test_size=0.1,random_state=0)"
      ],
      "metadata": {
        "id": "75Jvbtam5pjZ"
      },
      "execution_count": null,
      "outputs": []
    },
    {
      "cell_type": "code",
      "source": [
        "# size of test data set\n",
        "print(X_train.shape)\n",
        "X_train.head()"
      ],
      "metadata": {
        "id": "ApqIRtCw5pk-",
        "colab": {
          "base_uri": "https://localhost:8080/",
          "height": 305
        },
        "outputId": "c844f9d0-f0fe-4a76-becb-588ec7c26985"
      },
      "execution_count": null,
      "outputs": [
        {
          "output_type": "stream",
          "name": "stdout",
          "text": [
            "(2443, 9)\n"
          ]
        },
        {
          "output_type": "execute_result",
          "data": {
            "text/plain": [
              "      number_of_rai  number_of_ngan  number_of_va  usable_area  \\\n",
              "1620            0.0             0.0          51.0          0.0   \n",
              "654             2.0             0.0          44.0        158.0   \n",
              "935             0.0             0.0          62.5          0.0   \n",
              "977             0.0             0.0          56.0        225.2   \n",
              "2174            0.0             0.0          30.0          0.0   \n",
              "\n",
              "      property_type_House  property_type_Land  property_type_Office  \\\n",
              "1620                    1                   0                     0   \n",
              "654                     0                   1                     0   \n",
              "935                     1                   0                     0   \n",
              "977                     1                   0                     0   \n",
              "2174                    0                   0                     1   \n",
              "\n",
              "      property_type_Town Home  property_type_TwinHouse  \n",
              "1620                        0                        0  \n",
              "654                         0                        0  \n",
              "935                         0                        0  \n",
              "977                         0                        0  \n",
              "2174                        0                        0  "
            ],
            "text/html": [
              "\n",
              "  <div id=\"df-44257d40-933d-408b-a4bc-065c758671c0\">\n",
              "    <div class=\"colab-df-container\">\n",
              "      <div>\n",
              "<style scoped>\n",
              "    .dataframe tbody tr th:only-of-type {\n",
              "        vertical-align: middle;\n",
              "    }\n",
              "\n",
              "    .dataframe tbody tr th {\n",
              "        vertical-align: top;\n",
              "    }\n",
              "\n",
              "    .dataframe thead th {\n",
              "        text-align: right;\n",
              "    }\n",
              "</style>\n",
              "<table border=\"1\" class=\"dataframe\">\n",
              "  <thead>\n",
              "    <tr style=\"text-align: right;\">\n",
              "      <th></th>\n",
              "      <th>number_of_rai</th>\n",
              "      <th>number_of_ngan</th>\n",
              "      <th>number_of_va</th>\n",
              "      <th>usable_area</th>\n",
              "      <th>property_type_House</th>\n",
              "      <th>property_type_Land</th>\n",
              "      <th>property_type_Office</th>\n",
              "      <th>property_type_Town Home</th>\n",
              "      <th>property_type_TwinHouse</th>\n",
              "    </tr>\n",
              "  </thead>\n",
              "  <tbody>\n",
              "    <tr>\n",
              "      <th>1620</th>\n",
              "      <td>0.0</td>\n",
              "      <td>0.0</td>\n",
              "      <td>51.0</td>\n",
              "      <td>0.0</td>\n",
              "      <td>1</td>\n",
              "      <td>0</td>\n",
              "      <td>0</td>\n",
              "      <td>0</td>\n",
              "      <td>0</td>\n",
              "    </tr>\n",
              "    <tr>\n",
              "      <th>654</th>\n",
              "      <td>2.0</td>\n",
              "      <td>0.0</td>\n",
              "      <td>44.0</td>\n",
              "      <td>158.0</td>\n",
              "      <td>0</td>\n",
              "      <td>1</td>\n",
              "      <td>0</td>\n",
              "      <td>0</td>\n",
              "      <td>0</td>\n",
              "    </tr>\n",
              "    <tr>\n",
              "      <th>935</th>\n",
              "      <td>0.0</td>\n",
              "      <td>0.0</td>\n",
              "      <td>62.5</td>\n",
              "      <td>0.0</td>\n",
              "      <td>1</td>\n",
              "      <td>0</td>\n",
              "      <td>0</td>\n",
              "      <td>0</td>\n",
              "      <td>0</td>\n",
              "    </tr>\n",
              "    <tr>\n",
              "      <th>977</th>\n",
              "      <td>0.0</td>\n",
              "      <td>0.0</td>\n",
              "      <td>56.0</td>\n",
              "      <td>225.2</td>\n",
              "      <td>1</td>\n",
              "      <td>0</td>\n",
              "      <td>0</td>\n",
              "      <td>0</td>\n",
              "      <td>0</td>\n",
              "    </tr>\n",
              "    <tr>\n",
              "      <th>2174</th>\n",
              "      <td>0.0</td>\n",
              "      <td>0.0</td>\n",
              "      <td>30.0</td>\n",
              "      <td>0.0</td>\n",
              "      <td>0</td>\n",
              "      <td>0</td>\n",
              "      <td>1</td>\n",
              "      <td>0</td>\n",
              "      <td>0</td>\n",
              "    </tr>\n",
              "  </tbody>\n",
              "</table>\n",
              "</div>\n",
              "      <button class=\"colab-df-convert\" onclick=\"convertToInteractive('df-44257d40-933d-408b-a4bc-065c758671c0')\"\n",
              "              title=\"Convert this dataframe to an interactive table.\"\n",
              "              style=\"display:none;\">\n",
              "        \n",
              "  <svg xmlns=\"http://www.w3.org/2000/svg\" height=\"24px\"viewBox=\"0 0 24 24\"\n",
              "       width=\"24px\">\n",
              "    <path d=\"M0 0h24v24H0V0z\" fill=\"none\"/>\n",
              "    <path d=\"M18.56 5.44l.94 2.06.94-2.06 2.06-.94-2.06-.94-.94-2.06-.94 2.06-2.06.94zm-11 1L8.5 8.5l.94-2.06 2.06-.94-2.06-.94L8.5 2.5l-.94 2.06-2.06.94zm10 10l.94 2.06.94-2.06 2.06-.94-2.06-.94-.94-2.06-.94 2.06-2.06.94z\"/><path d=\"M17.41 7.96l-1.37-1.37c-.4-.4-.92-.59-1.43-.59-.52 0-1.04.2-1.43.59L10.3 9.45l-7.72 7.72c-.78.78-.78 2.05 0 2.83L4 21.41c.39.39.9.59 1.41.59.51 0 1.02-.2 1.41-.59l7.78-7.78 2.81-2.81c.8-.78.8-2.07 0-2.86zM5.41 20L4 18.59l7.72-7.72 1.47 1.35L5.41 20z\"/>\n",
              "  </svg>\n",
              "      </button>\n",
              "      \n",
              "  <style>\n",
              "    .colab-df-container {\n",
              "      display:flex;\n",
              "      flex-wrap:wrap;\n",
              "      gap: 12px;\n",
              "    }\n",
              "\n",
              "    .colab-df-convert {\n",
              "      background-color: #E8F0FE;\n",
              "      border: none;\n",
              "      border-radius: 50%;\n",
              "      cursor: pointer;\n",
              "      display: none;\n",
              "      fill: #1967D2;\n",
              "      height: 32px;\n",
              "      padding: 0 0 0 0;\n",
              "      width: 32px;\n",
              "    }\n",
              "\n",
              "    .colab-df-convert:hover {\n",
              "      background-color: #E2EBFA;\n",
              "      box-shadow: 0px 1px 2px rgba(60, 64, 67, 0.3), 0px 1px 3px 1px rgba(60, 64, 67, 0.15);\n",
              "      fill: #174EA6;\n",
              "    }\n",
              "\n",
              "    [theme=dark] .colab-df-convert {\n",
              "      background-color: #3B4455;\n",
              "      fill: #D2E3FC;\n",
              "    }\n",
              "\n",
              "    [theme=dark] .colab-df-convert:hover {\n",
              "      background-color: #434B5C;\n",
              "      box-shadow: 0px 1px 3px 1px rgba(0, 0, 0, 0.15);\n",
              "      filter: drop-shadow(0px 1px 2px rgba(0, 0, 0, 0.3));\n",
              "      fill: #FFFFFF;\n",
              "    }\n",
              "  </style>\n",
              "\n",
              "      <script>\n",
              "        const buttonEl =\n",
              "          document.querySelector('#df-44257d40-933d-408b-a4bc-065c758671c0 button.colab-df-convert');\n",
              "        buttonEl.style.display =\n",
              "          google.colab.kernel.accessAllowed ? 'block' : 'none';\n",
              "\n",
              "        async function convertToInteractive(key) {\n",
              "          const element = document.querySelector('#df-44257d40-933d-408b-a4bc-065c758671c0');\n",
              "          const dataTable =\n",
              "            await google.colab.kernel.invokeFunction('convertToInteractive',\n",
              "                                                     [key], {});\n",
              "          if (!dataTable) return;\n",
              "\n",
              "          const docLinkHtml = 'Like what you see? Visit the ' +\n",
              "            '<a target=\"_blank\" href=https://colab.research.google.com/notebooks/data_table.ipynb>data table notebook</a>'\n",
              "            + ' to learn more about interactive tables.';\n",
              "          element.innerHTML = '';\n",
              "          dataTable['output_type'] = 'display_data';\n",
              "          await google.colab.output.renderOutput(dataTable, element);\n",
              "          const docLink = document.createElement('div');\n",
              "          docLink.innerHTML = docLinkHtml;\n",
              "          element.appendChild(docLink);\n",
              "        }\n",
              "      </script>\n",
              "    </div>\n",
              "  </div>\n",
              "  "
            ]
          },
          "metadata": {},
          "execution_count": 7
        }
      ]
    },
    {
      "cell_type": "code",
      "source": [
        "# size of test data set\n",
        "print(y_train.shape)\n",
        "y_train.head()"
      ],
      "metadata": {
        "id": "_sTZlzEb5po3",
        "colab": {
          "base_uri": "https://localhost:8080/"
        },
        "outputId": "118618f8-9197-41bf-8e41-36ad9825f077"
      },
      "execution_count": null,
      "outputs": [
        {
          "output_type": "stream",
          "name": "stdout",
          "text": [
            "(2443,)\n"
          ]
        },
        {
          "output_type": "execute_result",
          "data": {
            "text/plain": [
              "1620    1800000.0\n",
              "654     4500000.0\n",
              "935     2464000.0\n",
              "977     2799999.0\n",
              "2174    6500000.0\n",
              "Name: sell_price, dtype: float64"
            ]
          },
          "metadata": {},
          "execution_count": 8
        }
      ]
    },
    {
      "cell_type": "code",
      "source": [
        "# size of test data set\n",
        "print(X_test.shape)\n",
        "X_test.head()"
      ],
      "metadata": {
        "id": "8LlBisH05prw",
        "colab": {
          "base_uri": "https://localhost:8080/",
          "height": 305
        },
        "outputId": "16264950-91c3-4327-db9a-c4ce4f403b3f"
      },
      "execution_count": null,
      "outputs": [
        {
          "output_type": "stream",
          "name": "stdout",
          "text": [
            "(272, 9)\n"
          ]
        },
        {
          "output_type": "execute_result",
          "data": {
            "text/plain": [
              "      number_of_rai  number_of_ngan  number_of_va  usable_area  \\\n",
              "2354            0.0             0.0           0.0         33.0   \n",
              "615             2.0             0.0          44.0        158.0   \n",
              "2489            0.0             0.0           0.0         31.0   \n",
              "674            20.0             0.0          12.0      12305.0   \n",
              "1855            0.0             0.0          25.0         35.0   \n",
              "\n",
              "      property_type_House  property_type_Land  property_type_Office  \\\n",
              "2354                    0                   0                     0   \n",
              "615                     0                   1                     0   \n",
              "2489                    0                   0                     0   \n",
              "674                     0                   1                     0   \n",
              "1855                    1                   0                     0   \n",
              "\n",
              "      property_type_Town Home  property_type_TwinHouse  \n",
              "2354                        0                        0  \n",
              "615                         0                        0  \n",
              "2489                        0                        0  \n",
              "674                         0                        0  \n",
              "1855                        0                        0  "
            ],
            "text/html": [
              "\n",
              "  <div id=\"df-3673b5bb-5305-42ea-b84c-74e4f9a805f9\">\n",
              "    <div class=\"colab-df-container\">\n",
              "      <div>\n",
              "<style scoped>\n",
              "    .dataframe tbody tr th:only-of-type {\n",
              "        vertical-align: middle;\n",
              "    }\n",
              "\n",
              "    .dataframe tbody tr th {\n",
              "        vertical-align: top;\n",
              "    }\n",
              "\n",
              "    .dataframe thead th {\n",
              "        text-align: right;\n",
              "    }\n",
              "</style>\n",
              "<table border=\"1\" class=\"dataframe\">\n",
              "  <thead>\n",
              "    <tr style=\"text-align: right;\">\n",
              "      <th></th>\n",
              "      <th>number_of_rai</th>\n",
              "      <th>number_of_ngan</th>\n",
              "      <th>number_of_va</th>\n",
              "      <th>usable_area</th>\n",
              "      <th>property_type_House</th>\n",
              "      <th>property_type_Land</th>\n",
              "      <th>property_type_Office</th>\n",
              "      <th>property_type_Town Home</th>\n",
              "      <th>property_type_TwinHouse</th>\n",
              "    </tr>\n",
              "  </thead>\n",
              "  <tbody>\n",
              "    <tr>\n",
              "      <th>2354</th>\n",
              "      <td>0.0</td>\n",
              "      <td>0.0</td>\n",
              "      <td>0.0</td>\n",
              "      <td>33.0</td>\n",
              "      <td>0</td>\n",
              "      <td>0</td>\n",
              "      <td>0</td>\n",
              "      <td>0</td>\n",
              "      <td>0</td>\n",
              "    </tr>\n",
              "    <tr>\n",
              "      <th>615</th>\n",
              "      <td>2.0</td>\n",
              "      <td>0.0</td>\n",
              "      <td>44.0</td>\n",
              "      <td>158.0</td>\n",
              "      <td>0</td>\n",
              "      <td>1</td>\n",
              "      <td>0</td>\n",
              "      <td>0</td>\n",
              "      <td>0</td>\n",
              "    </tr>\n",
              "    <tr>\n",
              "      <th>2489</th>\n",
              "      <td>0.0</td>\n",
              "      <td>0.0</td>\n",
              "      <td>0.0</td>\n",
              "      <td>31.0</td>\n",
              "      <td>0</td>\n",
              "      <td>0</td>\n",
              "      <td>0</td>\n",
              "      <td>0</td>\n",
              "      <td>0</td>\n",
              "    </tr>\n",
              "    <tr>\n",
              "      <th>674</th>\n",
              "      <td>20.0</td>\n",
              "      <td>0.0</td>\n",
              "      <td>12.0</td>\n",
              "      <td>12305.0</td>\n",
              "      <td>0</td>\n",
              "      <td>1</td>\n",
              "      <td>0</td>\n",
              "      <td>0</td>\n",
              "      <td>0</td>\n",
              "    </tr>\n",
              "    <tr>\n",
              "      <th>1855</th>\n",
              "      <td>0.0</td>\n",
              "      <td>0.0</td>\n",
              "      <td>25.0</td>\n",
              "      <td>35.0</td>\n",
              "      <td>1</td>\n",
              "      <td>0</td>\n",
              "      <td>0</td>\n",
              "      <td>0</td>\n",
              "      <td>0</td>\n",
              "    </tr>\n",
              "  </tbody>\n",
              "</table>\n",
              "</div>\n",
              "      <button class=\"colab-df-convert\" onclick=\"convertToInteractive('df-3673b5bb-5305-42ea-b84c-74e4f9a805f9')\"\n",
              "              title=\"Convert this dataframe to an interactive table.\"\n",
              "              style=\"display:none;\">\n",
              "        \n",
              "  <svg xmlns=\"http://www.w3.org/2000/svg\" height=\"24px\"viewBox=\"0 0 24 24\"\n",
              "       width=\"24px\">\n",
              "    <path d=\"M0 0h24v24H0V0z\" fill=\"none\"/>\n",
              "    <path d=\"M18.56 5.44l.94 2.06.94-2.06 2.06-.94-2.06-.94-.94-2.06-.94 2.06-2.06.94zm-11 1L8.5 8.5l.94-2.06 2.06-.94-2.06-.94L8.5 2.5l-.94 2.06-2.06.94zm10 10l.94 2.06.94-2.06 2.06-.94-2.06-.94-.94-2.06-.94 2.06-2.06.94z\"/><path d=\"M17.41 7.96l-1.37-1.37c-.4-.4-.92-.59-1.43-.59-.52 0-1.04.2-1.43.59L10.3 9.45l-7.72 7.72c-.78.78-.78 2.05 0 2.83L4 21.41c.39.39.9.59 1.41.59.51 0 1.02-.2 1.41-.59l7.78-7.78 2.81-2.81c.8-.78.8-2.07 0-2.86zM5.41 20L4 18.59l7.72-7.72 1.47 1.35L5.41 20z\"/>\n",
              "  </svg>\n",
              "      </button>\n",
              "      \n",
              "  <style>\n",
              "    .colab-df-container {\n",
              "      display:flex;\n",
              "      flex-wrap:wrap;\n",
              "      gap: 12px;\n",
              "    }\n",
              "\n",
              "    .colab-df-convert {\n",
              "      background-color: #E8F0FE;\n",
              "      border: none;\n",
              "      border-radius: 50%;\n",
              "      cursor: pointer;\n",
              "      display: none;\n",
              "      fill: #1967D2;\n",
              "      height: 32px;\n",
              "      padding: 0 0 0 0;\n",
              "      width: 32px;\n",
              "    }\n",
              "\n",
              "    .colab-df-convert:hover {\n",
              "      background-color: #E2EBFA;\n",
              "      box-shadow: 0px 1px 2px rgba(60, 64, 67, 0.3), 0px 1px 3px 1px rgba(60, 64, 67, 0.15);\n",
              "      fill: #174EA6;\n",
              "    }\n",
              "\n",
              "    [theme=dark] .colab-df-convert {\n",
              "      background-color: #3B4455;\n",
              "      fill: #D2E3FC;\n",
              "    }\n",
              "\n",
              "    [theme=dark] .colab-df-convert:hover {\n",
              "      background-color: #434B5C;\n",
              "      box-shadow: 0px 1px 3px 1px rgba(0, 0, 0, 0.15);\n",
              "      filter: drop-shadow(0px 1px 2px rgba(0, 0, 0, 0.3));\n",
              "      fill: #FFFFFF;\n",
              "    }\n",
              "  </style>\n",
              "\n",
              "      <script>\n",
              "        const buttonEl =\n",
              "          document.querySelector('#df-3673b5bb-5305-42ea-b84c-74e4f9a805f9 button.colab-df-convert');\n",
              "        buttonEl.style.display =\n",
              "          google.colab.kernel.accessAllowed ? 'block' : 'none';\n",
              "\n",
              "        async function convertToInteractive(key) {\n",
              "          const element = document.querySelector('#df-3673b5bb-5305-42ea-b84c-74e4f9a805f9');\n",
              "          const dataTable =\n",
              "            await google.colab.kernel.invokeFunction('convertToInteractive',\n",
              "                                                     [key], {});\n",
              "          if (!dataTable) return;\n",
              "\n",
              "          const docLinkHtml = 'Like what you see? Visit the ' +\n",
              "            '<a target=\"_blank\" href=https://colab.research.google.com/notebooks/data_table.ipynb>data table notebook</a>'\n",
              "            + ' to learn more about interactive tables.';\n",
              "          element.innerHTML = '';\n",
              "          dataTable['output_type'] = 'display_data';\n",
              "          await google.colab.output.renderOutput(dataTable, element);\n",
              "          const docLink = document.createElement('div');\n",
              "          docLink.innerHTML = docLinkHtml;\n",
              "          element.appendChild(docLink);\n",
              "        }\n",
              "      </script>\n",
              "    </div>\n",
              "  </div>\n",
              "  "
            ]
          },
          "metadata": {},
          "execution_count": 9
        }
      ]
    },
    {
      "cell_type": "code",
      "source": [
        "# size of test data set\n",
        "print(y_test.shape)\n",
        "y_test.head()"
      ],
      "metadata": {
        "id": "-TZq_CY25ptg",
        "colab": {
          "base_uri": "https://localhost:8080/"
        },
        "outputId": "39877fb4-ad4e-4508-bc5e-e5eb0d823752"
      },
      "execution_count": null,
      "outputs": [
        {
          "output_type": "stream",
          "name": "stdout",
          "text": [
            "(272,)\n"
          ]
        },
        {
          "output_type": "execute_result",
          "data": {
            "text/plain": [
              "2354     2551000.0\n",
              "615      4500000.0\n",
              "2489     1650000.0\n",
              "674     36000000.0\n",
              "1855     2000000.0\n",
              "Name: sell_price, dtype: float64"
            ]
          },
          "metadata": {},
          "execution_count": 10
        }
      ]
    },
    {
      "cell_type": "markdown",
      "source": [
        "# **Decision Tree Model Training**"
      ],
      "metadata": {
        "id": "DGOjwlLwBNiJ"
      }
    },
    {
      "cell_type": "code",
      "source": [
        "from sklearn.tree import DecisionTreeRegressor"
      ],
      "metadata": {
        "id": "Wfs65Fx4BA4y"
      },
      "execution_count": null,
      "outputs": []
    },
    {
      "cell_type": "markdown",
      "source": [
        "## Define\n"
      ],
      "metadata": {
        "id": "pakealU1B6Vn"
      }
    },
    {
      "cell_type": "code",
      "source": [
        "reg_decisModel = DecisionTreeRegressor()"
      ],
      "metadata": {
        "id": "l-zMSvHGBA9L"
      },
      "execution_count": null,
      "outputs": []
    },
    {
      "cell_type": "markdown",
      "source": [
        "## Build model (fit)"
      ],
      "metadata": {
        "id": "MbPzYQzmB88e"
      }
    },
    {
      "cell_type": "code",
      "source": [
        "reg_decisModel.fit(X_train, y_train)"
      ],
      "metadata": {
        "colab": {
          "base_uri": "https://localhost:8080/"
        },
        "id": "9pDBg0C8BBBO",
        "outputId": "5ac2026b-03eb-4549-a869-8a1e0a346eea"
      },
      "execution_count": null,
      "outputs": [
        {
          "output_type": "execute_result",
          "data": {
            "text/plain": [
              "DecisionTreeRegressor()"
            ]
          },
          "metadata": {},
          "execution_count": 13
        }
      ]
    },
    {
      "cell_type": "code",
      "source": [
        "#reg_decis_LandModel.score(X_train_land, y_train_land)"
      ],
      "metadata": {
        "id": "t5Vl29VrBBDW"
      },
      "execution_count": null,
      "outputs": []
    },
    {
      "cell_type": "code",
      "source": [
        "#reg_decis_LandModel.score(X_test_land, y_test_land)"
      ],
      "metadata": {
        "id": "P8FXfZnJBBFl"
      },
      "execution_count": null,
      "outputs": []
    },
    {
      "cell_type": "markdown",
      "source": [
        "## Parameter tuning with 10-fold cross Validation\n"
      ],
      "metadata": {
        "id": "yrWyMFI_CXn2"
      }
    },
    {
      "cell_type": "code",
      "source": [
        "# Hyper parameters range intialization for tuning \n",
        "parameters={\"splitter\":[\"best\",\"random\"],\n",
        "            \"max_depth\" : [1,3,5,7,9,11,12],\n",
        "           \"min_samples_leaf\":[1,2,3,4,5,6,7,8,9,10],\n",
        "           \"min_weight_fraction_leaf\":[0.1,0.2,0.3,0.4,0.5,0.6,0.7,0.8,0.9],\n",
        "           \"max_features\":[\"auto\",\"log2\",\"sqrt\",None],\n",
        "           \"max_leaf_nodes\":[None,10,20,30,40,50,60,70,80,90] }"
      ],
      "metadata": {
        "id": "1rb3aH0sBBID"
      },
      "execution_count": null,
      "outputs": []
    },
    {
      "cell_type": "code",
      "source": [
        "# calculating different regression metrics\n",
        "from sklearn.model_selection import GridSearchCV\n",
        "\n",
        "tuning_model = GridSearchCV(reg_decisModel ,param_grid=parameters, scoring='neg_mean_squared_error',cv=10,verbose=3,n_jobs=-1)"
      ],
      "metadata": {
        "id": "GHjHcye4BBKC"
      },
      "execution_count": null,
      "outputs": []
    },
    {
      "cell_type": "code",
      "source": [
        "tuning_model.fit(X_train, y_train)"
      ],
      "metadata": {
        "colab": {
          "base_uri": "https://localhost:8080/"
        },
        "id": "UsB7XBaJBBOP",
        "outputId": "4bd69506-32ff-4756-90eb-ef1316f7a2d6"
      },
      "execution_count": null,
      "outputs": [
        {
          "output_type": "stream",
          "name": "stdout",
          "text": [
            "Fitting 10 folds for each of 50400 candidates, totalling 504000 fits\n"
          ]
        },
        {
          "output_type": "stream",
          "name": "stderr",
          "text": [
            "/usr/local/lib/python3.7/dist-packages/sklearn/model_selection/_validation.py:372: FitFailedWarning: \n",
            "224000 fits failed out of a total of 504000.\n",
            "The score on these train-test partitions for these parameters will be set to nan.\n",
            "If these failures are not expected, you can try to debug them by setting error_score='raise'.\n",
            "\n",
            "Below are more details about the failures:\n",
            "--------------------------------------------------------------------------------\n",
            "224000 fits failed with the following error:\n",
            "Traceback (most recent call last):\n",
            "  File \"/usr/local/lib/python3.7/dist-packages/sklearn/model_selection/_validation.py\", line 680, in _fit_and_score\n",
            "    estimator.fit(X_train, y_train, **fit_params)\n",
            "  File \"/usr/local/lib/python3.7/dist-packages/sklearn/tree/_classes.py\", line 1320, in fit\n",
            "    X_idx_sorted=X_idx_sorted,\n",
            "  File \"/usr/local/lib/python3.7/dist-packages/sklearn/tree/_classes.py\", line 304, in fit\n",
            "    raise ValueError(\"min_weight_fraction_leaf must in [0, 0.5]\")\n",
            "ValueError: min_weight_fraction_leaf must in [0, 0.5]\n",
            "\n",
            "  warnings.warn(some_fits_failed_message, FitFailedWarning)\n",
            "/usr/local/lib/python3.7/dist-packages/sklearn/model_selection/_search.py:972: UserWarning: One or more of the test scores are non-finite: [-5.70195177e+15 -5.85668469e+15 -5.74074084e+15 ...             nan\n",
            "             nan             nan]\n",
            "  category=UserWarning,\n"
          ]
        },
        {
          "output_type": "execute_result",
          "data": {
            "text/plain": [
              "GridSearchCV(cv=10, estimator=DecisionTreeRegressor(), n_jobs=-1,\n",
              "             param_grid={'max_depth': [1, 3, 5, 7, 9, 11, 12],\n",
              "                         'max_features': ['auto', 'log2', 'sqrt', None],\n",
              "                         'max_leaf_nodes': [None, 10, 20, 30, 40, 50, 60, 70,\n",
              "                                            80, 90],\n",
              "                         'min_samples_leaf': [1, 2, 3, 4, 5, 6, 7, 8, 9, 10],\n",
              "                         'min_weight_fraction_leaf': [0.1, 0.2, 0.3, 0.4, 0.5,\n",
              "                                                      0.6, 0.7, 0.8, 0.9],\n",
              "                         'splitter': ['best', 'random']},\n",
              "             scoring='neg_mean_squared_error', verbose=3)"
            ]
          },
          "metadata": {},
          "execution_count": 16
        }
      ]
    },
    {
      "cell_type": "code",
      "source": [
        "# best hyperparameters \n",
        "best_hype = tuning_model.best_params_\n",
        "best_hype"
      ],
      "metadata": {
        "colab": {
          "base_uri": "https://localhost:8080/"
        },
        "id": "dgsIu4ohEzoZ",
        "outputId": "1b9d3caf-d8a9-4376-8f02-ce4bba8acf52"
      },
      "execution_count": null,
      "outputs": [
        {
          "output_type": "execute_result",
          "data": {
            "text/plain": [
              "{'max_depth': 3,\n",
              " 'max_features': 'log2',\n",
              " 'max_leaf_nodes': 60,\n",
              " 'min_samples_leaf': 6,\n",
              " 'min_weight_fraction_leaf': 0.1,\n",
              " 'splitter': 'best'}"
            ]
          },
          "metadata": {},
          "execution_count": 17
        }
      ]
    },
    {
      "cell_type": "code",
      "source": [
        "max_depth = best_hype['max_depth']\n",
        "max_features = best_hype['max_features']\n",
        "max_leaf_nodes = best_hype['max_leaf_nodes']\n",
        "min_samples_leaf = best_hype['min_samples_leaf']\n",
        "min_weight_fraction_leaf = best_hype['min_weight_fraction_leaf']\n",
        "splitter = best_hype['splitter']"
      ],
      "metadata": {
        "id": "HYet5gJxEzqu"
      },
      "execution_count": null,
      "outputs": []
    },
    {
      "cell_type": "markdown",
      "source": [
        "- best model score"
      ],
      "metadata": {
        "id": "-QkhzLR4RF_N"
      }
    },
    {
      "cell_type": "code",
      "source": [
        "tuning_model.best_score_"
      ],
      "metadata": {
        "colab": {
          "base_uri": "https://localhost:8080/"
        },
        "id": "zwGu8C3TEzuI",
        "outputId": "df3e11b8-8ced-4b5c-de74-86465b9f68a0"
      },
      "execution_count": null,
      "outputs": [
        {
          "output_type": "execute_result",
          "data": {
            "text/plain": [
              "-5592819996903818.0"
            ]
          },
          "metadata": {},
          "execution_count": 19
        }
      ]
    },
    {
      "cell_type": "markdown",
      "source": [
        "## Retrain model with all training set"
      ],
      "metadata": {
        "id": "jYI1gUC4RP60"
      }
    },
    {
      "cell_type": "code",
      "source": [
        "tuned_hyper_model = DecisionTreeRegressor(max_depth=max_depth, max_features=max_features, max_leaf_nodes=max_leaf_nodes ,\n",
        "                                                min_samples_leaf=min_samples_leaf,  min_weight_fraction_leaf=min_weight_fraction_leaf,\n",
        "                                                splitter=splitter)"
      ],
      "metadata": {
        "id": "Q-88ju2kEzwv"
      },
      "execution_count": null,
      "outputs": []
    },
    {
      "cell_type": "code",
      "source": [
        "# fitting model\n",
        "tuned_hyper_model.fit(X_train, y_train)"
      ],
      "metadata": {
        "colab": {
          "base_uri": "https://localhost:8080/"
        },
        "id": "I8GYXWQNEz0i",
        "outputId": "31c3afcd-5b59-40a4-f5a5-a412379c4774"
      },
      "execution_count": null,
      "outputs": [
        {
          "output_type": "execute_result",
          "data": {
            "text/plain": [
              "DecisionTreeRegressor(max_depth=3, max_features='log2', max_leaf_nodes=60,\n",
              "                      min_samples_leaf=6, min_weight_fraction_leaf=0.1)"
            ]
          },
          "metadata": {},
          "execution_count": 22
        }
      ]
    },
    {
      "cell_type": "markdown",
      "source": [
        "# Prediction "
      ],
      "metadata": {
        "id": "9SvXwAuPRj-O"
      }
    },
    {
      "cell_type": "code",
      "source": [
        "tuned_pred = tuned_hyper_model.predict(X_test)\n",
        "print(len(tuned_pred))\n",
        "print(tuned_pred)"
      ],
      "metadata": {
        "colab": {
          "base_uri": "https://localhost:8080/"
        },
        "id": "MHZjQH84Rg1q",
        "outputId": "73b6c12a-e9c2-4f6c-a60f-77171295b5fb"
      },
      "execution_count": null,
      "outputs": [
        {
          "output_type": "stream",
          "name": "stdout",
          "text": [
            "272\n",
            "[ 3798085.44382802  3798085.44382802  3798085.44382802 69769456.64353313\n",
            "  2922200.17247387  3798085.44382802  3798085.44382802  6156865.86507936\n",
            " 69769456.64353313  6156865.86507936  3798085.44382802  6156865.86507936\n",
            "  3036097.41666667  6156865.86507936 69769456.64353313  6156865.86507936\n",
            "  3036097.41666667 69769456.64353313  3798085.44382802  2922200.17247387\n",
            " 69769456.64353313  3798085.44382802 69769456.64353313  3798085.44382802\n",
            "  2922200.17247387  3798085.44382802  9390206.88990826  3798085.44382802\n",
            "  3798085.44382802  2922200.17247387  6156865.86507936  3798085.44382802\n",
            "  3798085.44382802  3798085.44382802  9390206.88990826  2922200.17247387\n",
            "  3798085.44382802  3036097.41666667  6156865.86507936  9390206.88990826\n",
            "  6156865.86507936 69769456.64353313 69769456.64353313  3798085.44382802\n",
            "  3798085.44382802  2922200.17247387  2922200.17247387  2922200.17247387\n",
            "  3036097.41666667  3798085.44382802  2922200.17247387  3036097.41666667\n",
            "  9390206.88990826  3798085.44382802  9390206.88990826  3798085.44382802\n",
            "  9390206.88990826 69769456.64353313  2922200.17247387  9390206.88990826\n",
            "  2922200.17247387  2922200.17247387  3798085.44382802  2922200.17247387\n",
            "  9390206.88990826  2922200.17247387  3036097.41666667  6156865.86507936\n",
            " 69769456.64353313  2922200.17247387 69769456.64353313  3798085.44382802\n",
            "  6156865.86507936  2922200.17247387  2922200.17247387  3798085.44382802\n",
            "  3798085.44382802  2922200.17247387  2922200.17247387  3798085.44382802\n",
            "  2922200.17247387  2922200.17247387  9390206.88990826 69769456.64353313\n",
            "  3798085.44382802  9390206.88990826  9390206.88990826  3798085.44382802\n",
            "  3798085.44382802  2922200.17247387 69769456.64353313  2922200.17247387\n",
            "  3036097.41666667  2922200.17247387  9390206.88990826  6156865.86507936\n",
            "  6156865.86507936 69769456.64353313  2922200.17247387  2922200.17247387\n",
            "  9390206.88990826  2922200.17247387 69769456.64353313  2922200.17247387\n",
            " 69769456.64353313  9390206.88990826  9390206.88990826  3798085.44382802\n",
            "  3798085.44382802  9390206.88990826  3798085.44382802 69769456.64353313\n",
            "  3036097.41666667  9390206.88990826  6156865.86507936  9390206.88990826\n",
            "  2922200.17247387  3036097.41666667  6156865.86507936  2922200.17247387\n",
            "  3798085.44382802  2922200.17247387  9390206.88990826  6156865.86507936\n",
            "  6156865.86507936  2922200.17247387  6156865.86507936 69769456.64353313\n",
            " 69769456.64353313  9390206.88990826 69769456.64353313  9390206.88990826\n",
            " 69769456.64353313  9390206.88990826 69769456.64353313 69769456.64353313\n",
            "  3798085.44382802  6156865.86507936  2922200.17247387  2922200.17247387\n",
            "  2922200.17247387 69769456.64353313  2922200.17247387  3036097.41666667\n",
            "  2922200.17247387  3798085.44382802 69769456.64353313  3798085.44382802\n",
            "  6156865.86507936  3798085.44382802  2922200.17247387  6156865.86507936\n",
            " 69769456.64353313  3798085.44382802  2922200.17247387  9390206.88990826\n",
            "  3798085.44382802  9390206.88990826  9390206.88990826  3798085.44382802\n",
            "  3798085.44382802  6156865.86507936  2922200.17247387  3798085.44382802\n",
            " 69769456.64353313  9390206.88990826  3798085.44382802  3798085.44382802\n",
            " 69769456.64353313  3798085.44382802  3798085.44382802  3798085.44382802\n",
            "  3798085.44382802  9390206.88990826  2922200.17247387 69769456.64353313\n",
            " 69769456.64353313  2922200.17247387  2922200.17247387  3798085.44382802\n",
            "  6156865.86507936  9390206.88990826  3798085.44382802  3798085.44382802\n",
            "  9390206.88990826  9390206.88990826  3798085.44382802  6156865.86507936\n",
            "  9390206.88990826  3036097.41666667 69769456.64353313  3036097.41666667\n",
            "  3798085.44382802 69769456.64353313  6156865.86507936  2922200.17247387\n",
            "  3036097.41666667 69769456.64353313  2922200.17247387  2922200.17247387\n",
            "  3036097.41666667  3798085.44382802  3798085.44382802  3798085.44382802\n",
            " 69769456.64353313  2922200.17247387  2922200.17247387  3798085.44382802\n",
            "  3798085.44382802  2922200.17247387 69769456.64353313  2922200.17247387\n",
            "  9390206.88990826  3798085.44382802 69769456.64353313  6156865.86507936\n",
            "  2922200.17247387 69769456.64353313  3798085.44382802  3798085.44382802\n",
            "  3798085.44382802  3798085.44382802  2922200.17247387  3036097.41666667\n",
            "  2922200.17247387 69769456.64353313  3798085.44382802  9390206.88990826\n",
            "  6156865.86507936  9390206.88990826  2922200.17247387  2922200.17247387\n",
            "  3798085.44382802  6156865.86507936  3036097.41666667 69769456.64353313\n",
            "  2922200.17247387  3798085.44382802  9390206.88990826  6156865.86507936\n",
            "  2922200.17247387  2922200.17247387  2922200.17247387  9390206.88990826\n",
            "  2922200.17247387  9390206.88990826  3798085.44382802  2922200.17247387\n",
            "  3798085.44382802  3798085.44382802  2922200.17247387  3798085.44382802\n",
            "  3798085.44382802  3036097.41666667  6156865.86507936  2922200.17247387\n",
            "  6156865.86507936  2922200.17247387  3798085.44382802 69769456.64353313\n",
            "  3798085.44382802  3798085.44382802  6156865.86507936 69769456.64353313\n",
            "  9390206.88990826  3798085.44382802  6156865.86507936  2922200.17247387\n",
            "  3798085.44382802  3798085.44382802  2922200.17247387  2922200.17247387]\n"
          ]
        }
      ]
    },
    {
      "cell_type": "markdown",
      "source": [
        "## Error rate of our model with hyper tuning of paramerters "
      ],
      "metadata": {
        "id": "k6ijadkRR5xv"
      }
    },
    {
      "cell_type": "code",
      "source": [
        "# With hyperparameter tuned \n",
        "\n",
        "from sklearn import metrics\n",
        "\n",
        "print('MAE:', metrics.mean_absolute_error(y_test,tuned_pred))\n",
        "print('MSE:', metrics.mean_squared_error(y_test, tuned_pred))\n",
        "print('RMSE:', np.sqrt(metrics.mean_squared_error(y_test, tuned_pred)))"
      ],
      "metadata": {
        "colab": {
          "base_uri": "https://localhost:8080/"
        },
        "id": "oave0PmURg3g",
        "outputId": "7b0d920b-fe90-4862-ea6c-ef9defd0682b"
      },
      "execution_count": null,
      "outputs": [
        {
          "output_type": "stream",
          "name": "stdout",
          "text": [
            "MAE: 167142168.5972468\n",
            "MSE: 5.867287989447623e+18\n",
            "RMSE: 2422248539.982556\n"
          ]
        }
      ]
    },
    {
      "cell_type": "markdown",
      "source": [
        "## Dump the scikit learn models with Python Pickle\n",
        "\n",
        "\n"
      ],
      "metadata": {
        "id": "0tutBolGSMyG"
      }
    },
    {
      "cell_type": "code",
      "source": [
        "import pickle\n",
        "\n",
        "# Dump the trained decision tree classifier with Pickle\n",
        "model_land_filename = '/content/drive/MyDrive/DPDM65/Final/DecisionTreeRegress.pkl'\n",
        "# Open the file to save as pkl file\n",
        "model_pkl = open(model_land_filename, 'wb')\n",
        "pickle.dump(tuned_hyper_model, model_pkl)\n",
        "# Close the pickle instances\n",
        "model_pkl.close()"
      ],
      "metadata": {
        "id": "FtzNSw3qRg5p"
      },
      "execution_count": null,
      "outputs": []
    },
    {
      "cell_type": "code",
      "source": [],
      "metadata": {
        "id": "AxvZAVzISPfh"
      },
      "execution_count": null,
      "outputs": []
    },
    {
      "cell_type": "code",
      "source": [],
      "metadata": {
        "id": "CWqnVczmSPhy"
      },
      "execution_count": null,
      "outputs": []
    },
    {
      "cell_type": "code",
      "source": [],
      "metadata": {
        "id": "wzn4C0D5Rg7q"
      },
      "execution_count": null,
      "outputs": []
    },
    {
      "cell_type": "code",
      "source": [],
      "metadata": {
        "id": "EWOevuIQRg9W"
      },
      "execution_count": null,
      "outputs": []
    },
    {
      "cell_type": "code",
      "source": [],
      "metadata": {
        "id": "5eK6j1A6Rg_M"
      },
      "execution_count": null,
      "outputs": []
    }
  ]
}