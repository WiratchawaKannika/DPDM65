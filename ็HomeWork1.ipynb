{
  "nbformat": 4,
  "nbformat_minor": 0,
  "metadata": {
    "colab": {
      "name": "็HomeWork1.ipynb",
      "provenance": [],
      "collapsed_sections": [],
      "mount_file_id": "1de8VFoJNsM5uDJe9JhMUrWuWFn2W2nQU",
      "authorship_tag": "ABX9TyOcjZf7CldYeBM1rQ29EcXE",
      "include_colab_link": true
    },
    "kernelspec": {
      "name": "python3",
      "display_name": "Python 3"
    },
    "language_info": {
      "name": "python"
    },
    "accelerator": "GPU",
    "gpuClass": "standard"
  },
  "cells": [
    {
      "cell_type": "markdown",
      "metadata": {
        "id": "view-in-github",
        "colab_type": "text"
      },
      "source": [
        "<a href=\"https://colab.research.google.com/github/WiratchawaKannika/DPDM65/blob/main/%E0%B9%87HomeWork1.ipynb\" target=\"_parent\"><img src=\"https://colab.research.google.com/assets/colab-badge.svg\" alt=\"Open In Colab\"/></a>"
      ]
    },
    {
      "cell_type": "code",
      "execution_count": 18,
      "metadata": {
        "id": "h4jgT9t_Vnzo"
      },
      "outputs": [],
      "source": [
        "import pandas as pd\n",
        "import numpy as np\n",
        "import re\n",
        "from matplotlib import pyplot as plt  \n",
        "from collections import OrderedDict"
      ]
    },
    {
      "cell_type": "code",
      "source": [
        "from google.colab import drive\n",
        "drive.mount('/content/drive')"
      ],
      "metadata": {
        "colab": {
          "base_uri": "https://localhost:8080/"
        },
        "id": "geOygL8MVxeq",
        "outputId": "8d09e704-1cc2-4232-ad08-c766f783d702"
      },
      "execution_count": 2,
      "outputs": [
        {
          "output_type": "stream",
          "name": "stdout",
          "text": [
            "Drive already mounted at /content/drive; to attempt to forcibly remount, call drive.mount(\"/content/drive\", force_remount=True).\n"
          ]
        }
      ]
    },
    {
      "cell_type": "markdown",
      "source": [
        "# **HomeWork 1: pandas101**\n",
        "\n",
        "## คำถาม\n",
        "1. ราคาเฉลี่ยของโครงการบ้านที่ขอนแก่น\n",
        "2. โครงการบ้านที่ขอนแก่นมีทั้งหมดกี่โครงการ\n",
        "3. โครงการที่ขอนแก่นกับอุดรอันไหนแพงกว่ากัน\n",
        "4. เปรียบเทียบจำนวนบ้านเฉลี่ยของโครงการบ้านที่ขอนแก่นกับ กทม. \n",
        "5. เปรีบเทียบราคาโครงการบ้าน+คอนโด ในจังหวัดขอนแก่น และจังหวัดโคราช\n",
        "<s>\n",
        "6. (เก็บไว้ก่อน) จังหวัดมีข้อมูลโครงการบ้าน(คอนโด) มากที่สุด</s>\n",
        "7. ราคาเฉลี่ยของโครงการในอุดร ขอนแก่น โคราช **เทียบกับ** เชียงใหม่ เชียงราย \n",
        "8. ให้สร้าง boxplot ของราคาบ้านในจังหวัดขอนแก่น เทียบกับคอนโด\n",
        "9. บ้านในภาคเหนือ ใต้ อีสาน ที่ไหนแพงสุด ถูกสุด (เลือกจังหวัดที่เป็นตัวแทน ภาคละ 2 จังหวัด)\n",
        "10. ความหลากหลายของโครงการในขอนแก่น เทียบกับ ชลบุรี (propertytype_name_th)\n"
      ],
      "metadata": {
        "id": "eqzA4QU_W8Zt"
      }
    },
    {
      "cell_type": "markdown",
      "source": [
        "## DATA\n",
        "\n",
        "\n",
        "\n",
        "```\n",
        "opendata_project.csv\n",
        "```\n",
        "\n"
      ],
      "metadata": {
        "id": "uXqIcLhSajDo"
      }
    },
    {
      "cell_type": "code",
      "source": [
        "project_df = pd.read_csv('/content/drive/MyDrive/DPDM65/opendata_project.csv')\n",
        "print(project_df.shape)  ##บอกขนาดของ DataFrame\n",
        "project_df.head()"
      ],
      "metadata": {
        "colab": {
          "base_uri": "https://localhost:8080/",
          "height": 490
        },
        "id": "T-kecvOeazlX",
        "outputId": "333f2442-e24c-4b09-a746-b5ea7f6eedfc"
      },
      "execution_count": 3,
      "outputs": [
        {
          "output_type": "stream",
          "name": "stdout",
          "text": [
            "(23434, 45)\n"
          ]
        },
        {
          "output_type": "execute_result",
          "data": {
            "text/plain": [
              "   row_number                project_id                             name_en  \\\n",
              "0      7880.0  5ee08d64dda791001299b2a6  Winning Residence Sukhumvit Praksa   \n",
              "1     16689.0             project_11326                    Gift Condominium   \n",
              "2       290.0  62739c4089233e001362b001    Sanrak 9 Sukprayoon Nong Krathum   \n",
              "3     20719.0              project_2010                     Baan Sansabai 1   \n",
              "4       199.0             project_16838          Baanpruksa Ratchapruek-345   \n",
              "\n",
              "                              name_th propertytype_id propertytype_name_en  \\\n",
              "0  วินนิ่ง เรสซิเดนท์ สุขุมวิท แพรกษา               1       Detached House   \n",
              "1                 กิ๊ฟท์ คอนโดมิเนียม               2                Condo   \n",
              "2      แสนรัก 9 ศุขประยูร หนองกระทุ่ม               3             Townhome   \n",
              "3                       บ้านแสนสบาย 1               1       Detached House   \n",
              "4              บ้านพฤกษา ราชพฤกษ์-345               3             Townhome   \n",
              "\n",
              "  propertytype_name_th  price_min     developer_id  \\\n",
              "0                 บ้าน  3790000.0  developer_10678   \n",
              "1                คอนโด  1100000.0   developer_7319   \n",
              "2             ทาวน์โฮม        0.0  developer_10510   \n",
              "3                 บ้าน        0.0  developer_10510   \n",
              "4             ทาวน์โฮม  1930000.0   developer_1026   \n",
              "\n",
              "              developer_name_en  ... facility_meeting  facility_park  \\\n",
              "0  Winning Asset Plus Co., Ltd.  ...              NaN            NaN   \n",
              "1      Gift Asset Land Co.,Ltd.  ...              NaN            1.0   \n",
              "2                           NaN  ...              NaN            NaN   \n",
              "3                           NaN  ...              NaN            NaN   \n",
              "4  Preuksa Real Estate Co.,Ltd.  ...              NaN            1.0   \n",
              "\n",
              "   facility_playground facility_pool facility_security         date_created  \\\n",
              "0                  NaN           1.0               1.0  2020-06-10 14:36:04   \n",
              "1                  NaN           1.0               1.0  2017-10-30 15:38:48   \n",
              "2                  NaN           NaN               NaN  2022-05-05 16:43:28   \n",
              "3                  NaN           NaN               NaN  2016-09-05 15:32:15   \n",
              "4                  NaN           1.0               1.0  2019-09-05 11:49:37   \n",
              "\n",
              "           date_finish         date_updated  source  \\\n",
              "0                  NaN  2020-12-04 10:32:58  baania   \n",
              "1  2013-01-01 07:00:00  2020-12-04 10:49:00  baania   \n",
              "2                  NaN  2022-05-05 17:30:03  baania   \n",
              "3  1970-01-02 07:00:00  2020-12-04 10:45:31  baania   \n",
              "4  1970-01-02 07:00:00  2021-03-17 12:00:04  baania   \n",
              "\n",
              "                                         url_project  \n",
              "0  https://baania.com/th/project/วินนิ่ง-เรสซิเดน...  \n",
              "1  https://baania.com/th/project/กิ๊ฟท์-คอนโดมิเน...  \n",
              "2  https://baania.com/th/project/แสนรัก-9-ศุขประย...  \n",
              "3  https://baania.com/th/project/บ้านแสนสบาย-1-pr...  \n",
              "4  https://baania.com/th/project/บ้านพฤกษา-ราชพฤก...  \n",
              "\n",
              "[5 rows x 45 columns]"
            ],
            "text/html": [
              "\n",
              "  <div id=\"df-aefa7cf7-293c-4562-a1cd-2ed9c94baced\">\n",
              "    <div class=\"colab-df-container\">\n",
              "      <div>\n",
              "<style scoped>\n",
              "    .dataframe tbody tr th:only-of-type {\n",
              "        vertical-align: middle;\n",
              "    }\n",
              "\n",
              "    .dataframe tbody tr th {\n",
              "        vertical-align: top;\n",
              "    }\n",
              "\n",
              "    .dataframe thead th {\n",
              "        text-align: right;\n",
              "    }\n",
              "</style>\n",
              "<table border=\"1\" class=\"dataframe\">\n",
              "  <thead>\n",
              "    <tr style=\"text-align: right;\">\n",
              "      <th></th>\n",
              "      <th>row_number</th>\n",
              "      <th>project_id</th>\n",
              "      <th>name_en</th>\n",
              "      <th>name_th</th>\n",
              "      <th>propertytype_id</th>\n",
              "      <th>propertytype_name_en</th>\n",
              "      <th>propertytype_name_th</th>\n",
              "      <th>price_min</th>\n",
              "      <th>developer_id</th>\n",
              "      <th>developer_name_en</th>\n",
              "      <th>...</th>\n",
              "      <th>facility_meeting</th>\n",
              "      <th>facility_park</th>\n",
              "      <th>facility_playground</th>\n",
              "      <th>facility_pool</th>\n",
              "      <th>facility_security</th>\n",
              "      <th>date_created</th>\n",
              "      <th>date_finish</th>\n",
              "      <th>date_updated</th>\n",
              "      <th>source</th>\n",
              "      <th>url_project</th>\n",
              "    </tr>\n",
              "  </thead>\n",
              "  <tbody>\n",
              "    <tr>\n",
              "      <th>0</th>\n",
              "      <td>7880.0</td>\n",
              "      <td>5ee08d64dda791001299b2a6</td>\n",
              "      <td>Winning Residence Sukhumvit Praksa</td>\n",
              "      <td>วินนิ่ง เรสซิเดนท์ สุขุมวิท แพรกษา</td>\n",
              "      <td>1</td>\n",
              "      <td>Detached House</td>\n",
              "      <td>บ้าน</td>\n",
              "      <td>3790000.0</td>\n",
              "      <td>developer_10678</td>\n",
              "      <td>Winning Asset Plus Co., Ltd.</td>\n",
              "      <td>...</td>\n",
              "      <td>NaN</td>\n",
              "      <td>NaN</td>\n",
              "      <td>NaN</td>\n",
              "      <td>1.0</td>\n",
              "      <td>1.0</td>\n",
              "      <td>2020-06-10 14:36:04</td>\n",
              "      <td>NaN</td>\n",
              "      <td>2020-12-04 10:32:58</td>\n",
              "      <td>baania</td>\n",
              "      <td>https://baania.com/th/project/วินนิ่ง-เรสซิเดน...</td>\n",
              "    </tr>\n",
              "    <tr>\n",
              "      <th>1</th>\n",
              "      <td>16689.0</td>\n",
              "      <td>project_11326</td>\n",
              "      <td>Gift Condominium</td>\n",
              "      <td>กิ๊ฟท์ คอนโดมิเนียม</td>\n",
              "      <td>2</td>\n",
              "      <td>Condo</td>\n",
              "      <td>คอนโด</td>\n",
              "      <td>1100000.0</td>\n",
              "      <td>developer_7319</td>\n",
              "      <td>Gift Asset Land Co.,Ltd.</td>\n",
              "      <td>...</td>\n",
              "      <td>NaN</td>\n",
              "      <td>1.0</td>\n",
              "      <td>NaN</td>\n",
              "      <td>1.0</td>\n",
              "      <td>1.0</td>\n",
              "      <td>2017-10-30 15:38:48</td>\n",
              "      <td>2013-01-01 07:00:00</td>\n",
              "      <td>2020-12-04 10:49:00</td>\n",
              "      <td>baania</td>\n",
              "      <td>https://baania.com/th/project/กิ๊ฟท์-คอนโดมิเน...</td>\n",
              "    </tr>\n",
              "    <tr>\n",
              "      <th>2</th>\n",
              "      <td>290.0</td>\n",
              "      <td>62739c4089233e001362b001</td>\n",
              "      <td>Sanrak 9 Sukprayoon Nong Krathum</td>\n",
              "      <td>แสนรัก 9 ศุขประยูร หนองกระทุ่ม</td>\n",
              "      <td>3</td>\n",
              "      <td>Townhome</td>\n",
              "      <td>ทาวน์โฮม</td>\n",
              "      <td>0.0</td>\n",
              "      <td>developer_10510</td>\n",
              "      <td>NaN</td>\n",
              "      <td>...</td>\n",
              "      <td>NaN</td>\n",
              "      <td>NaN</td>\n",
              "      <td>NaN</td>\n",
              "      <td>NaN</td>\n",
              "      <td>NaN</td>\n",
              "      <td>2022-05-05 16:43:28</td>\n",
              "      <td>NaN</td>\n",
              "      <td>2022-05-05 17:30:03</td>\n",
              "      <td>baania</td>\n",
              "      <td>https://baania.com/th/project/แสนรัก-9-ศุขประย...</td>\n",
              "    </tr>\n",
              "    <tr>\n",
              "      <th>3</th>\n",
              "      <td>20719.0</td>\n",
              "      <td>project_2010</td>\n",
              "      <td>Baan Sansabai 1</td>\n",
              "      <td>บ้านแสนสบาย 1</td>\n",
              "      <td>1</td>\n",
              "      <td>Detached House</td>\n",
              "      <td>บ้าน</td>\n",
              "      <td>0.0</td>\n",
              "      <td>developer_10510</td>\n",
              "      <td>NaN</td>\n",
              "      <td>...</td>\n",
              "      <td>NaN</td>\n",
              "      <td>NaN</td>\n",
              "      <td>NaN</td>\n",
              "      <td>NaN</td>\n",
              "      <td>NaN</td>\n",
              "      <td>2016-09-05 15:32:15</td>\n",
              "      <td>1970-01-02 07:00:00</td>\n",
              "      <td>2020-12-04 10:45:31</td>\n",
              "      <td>baania</td>\n",
              "      <td>https://baania.com/th/project/บ้านแสนสบาย-1-pr...</td>\n",
              "    </tr>\n",
              "    <tr>\n",
              "      <th>4</th>\n",
              "      <td>199.0</td>\n",
              "      <td>project_16838</td>\n",
              "      <td>Baanpruksa Ratchapruek-345</td>\n",
              "      <td>บ้านพฤกษา ราชพฤกษ์-345</td>\n",
              "      <td>3</td>\n",
              "      <td>Townhome</td>\n",
              "      <td>ทาวน์โฮม</td>\n",
              "      <td>1930000.0</td>\n",
              "      <td>developer_1026</td>\n",
              "      <td>Preuksa Real Estate Co.,Ltd.</td>\n",
              "      <td>...</td>\n",
              "      <td>NaN</td>\n",
              "      <td>1.0</td>\n",
              "      <td>NaN</td>\n",
              "      <td>1.0</td>\n",
              "      <td>1.0</td>\n",
              "      <td>2019-09-05 11:49:37</td>\n",
              "      <td>1970-01-02 07:00:00</td>\n",
              "      <td>2021-03-17 12:00:04</td>\n",
              "      <td>baania</td>\n",
              "      <td>https://baania.com/th/project/บ้านพฤกษา-ราชพฤก...</td>\n",
              "    </tr>\n",
              "  </tbody>\n",
              "</table>\n",
              "<p>5 rows × 45 columns</p>\n",
              "</div>\n",
              "      <button class=\"colab-df-convert\" onclick=\"convertToInteractive('df-aefa7cf7-293c-4562-a1cd-2ed9c94baced')\"\n",
              "              title=\"Convert this dataframe to an interactive table.\"\n",
              "              style=\"display:none;\">\n",
              "        \n",
              "  <svg xmlns=\"http://www.w3.org/2000/svg\" height=\"24px\"viewBox=\"0 0 24 24\"\n",
              "       width=\"24px\">\n",
              "    <path d=\"M0 0h24v24H0V0z\" fill=\"none\"/>\n",
              "    <path d=\"M18.56 5.44l.94 2.06.94-2.06 2.06-.94-2.06-.94-.94-2.06-.94 2.06-2.06.94zm-11 1L8.5 8.5l.94-2.06 2.06-.94-2.06-.94L8.5 2.5l-.94 2.06-2.06.94zm10 10l.94 2.06.94-2.06 2.06-.94-2.06-.94-.94-2.06-.94 2.06-2.06.94z\"/><path d=\"M17.41 7.96l-1.37-1.37c-.4-.4-.92-.59-1.43-.59-.52 0-1.04.2-1.43.59L10.3 9.45l-7.72 7.72c-.78.78-.78 2.05 0 2.83L4 21.41c.39.39.9.59 1.41.59.51 0 1.02-.2 1.41-.59l7.78-7.78 2.81-2.81c.8-.78.8-2.07 0-2.86zM5.41 20L4 18.59l7.72-7.72 1.47 1.35L5.41 20z\"/>\n",
              "  </svg>\n",
              "      </button>\n",
              "      \n",
              "  <style>\n",
              "    .colab-df-container {\n",
              "      display:flex;\n",
              "      flex-wrap:wrap;\n",
              "      gap: 12px;\n",
              "    }\n",
              "\n",
              "    .colab-df-convert {\n",
              "      background-color: #E8F0FE;\n",
              "      border: none;\n",
              "      border-radius: 50%;\n",
              "      cursor: pointer;\n",
              "      display: none;\n",
              "      fill: #1967D2;\n",
              "      height: 32px;\n",
              "      padding: 0 0 0 0;\n",
              "      width: 32px;\n",
              "    }\n",
              "\n",
              "    .colab-df-convert:hover {\n",
              "      background-color: #E2EBFA;\n",
              "      box-shadow: 0px 1px 2px rgba(60, 64, 67, 0.3), 0px 1px 3px 1px rgba(60, 64, 67, 0.15);\n",
              "      fill: #174EA6;\n",
              "    }\n",
              "\n",
              "    [theme=dark] .colab-df-convert {\n",
              "      background-color: #3B4455;\n",
              "      fill: #D2E3FC;\n",
              "    }\n",
              "\n",
              "    [theme=dark] .colab-df-convert:hover {\n",
              "      background-color: #434B5C;\n",
              "      box-shadow: 0px 1px 3px 1px rgba(0, 0, 0, 0.15);\n",
              "      filter: drop-shadow(0px 1px 2px rgba(0, 0, 0, 0.3));\n",
              "      fill: #FFFFFF;\n",
              "    }\n",
              "  </style>\n",
              "\n",
              "      <script>\n",
              "        const buttonEl =\n",
              "          document.querySelector('#df-aefa7cf7-293c-4562-a1cd-2ed9c94baced button.colab-df-convert');\n",
              "        buttonEl.style.display =\n",
              "          google.colab.kernel.accessAllowed ? 'block' : 'none';\n",
              "\n",
              "        async function convertToInteractive(key) {\n",
              "          const element = document.querySelector('#df-aefa7cf7-293c-4562-a1cd-2ed9c94baced');\n",
              "          const dataTable =\n",
              "            await google.colab.kernel.invokeFunction('convertToInteractive',\n",
              "                                                     [key], {});\n",
              "          if (!dataTable) return;\n",
              "\n",
              "          const docLinkHtml = 'Like what you see? Visit the ' +\n",
              "            '<a target=\"_blank\" href=https://colab.research.google.com/notebooks/data_table.ipynb>data table notebook</a>'\n",
              "            + ' to learn more about interactive tables.';\n",
              "          element.innerHTML = '';\n",
              "          dataTable['output_type'] = 'display_data';\n",
              "          await google.colab.output.renderOutput(dataTable, element);\n",
              "          const docLink = document.createElement('div');\n",
              "          docLink.innerHTML = docLinkHtml;\n",
              "          element.appendChild(docLink);\n",
              "        }\n",
              "      </script>\n",
              "    </div>\n",
              "  </div>\n",
              "  "
            ]
          },
          "metadata": {},
          "execution_count": 3
        }
      ]
    },
    {
      "cell_type": "markdown",
      "source": [
        "- วน Loop เพื่อ Check ค่าใน Columns ชื่อ `'price_min' ที่ไม่ใช่ตัวเลข "
      ],
      "metadata": {
        "id": "NrfJphLxpmI9"
      }
    },
    {
      "cell_type": "code",
      "source": [
        "xx=list()\n",
        "x_index = list()\n",
        "for k in range(len(project_df)):\n",
        "    if type(project_df['price_min'][k]) != float:\n",
        "        p1 = project_df['price_min'][k]\n",
        "        x = re.findall(\"[ก-๙]\", p1)\n",
        "        if len(x) > 0:\n",
        "            xx.append(k)\n",
        "            x_index.append(p1)\n",
        "            print(p1, k)"
      ],
      "metadata": {
        "colab": {
          "base_uri": "https://localhost:8080/"
        },
        "id": "OM05OhZHcYbG",
        "outputId": "f0ab363f-2f39-4034-fec9-c9d568d38377"
      },
      "execution_count": 4,
      "outputs": [
        {
          "output_type": "stream",
          "name": "stdout",
          "text": [
            "สามโคก 5839\n",
            "สามโคก 8866\n",
            "เมืองปทุมธานี 14130\n",
            "ลาดหลุมแก้ว 21895\n",
            "สามโคก 23353\n"
          ]
        }
      ]
    },
    {
      "cell_type": "markdown",
      "source": [
        "- Check ดูตำแหน่งของ index ที่ค่าใน Columns `'price_min' ไม่ใช่ตัวเลข\n",
        "> มีจำนวน 5 Rows"
      ],
      "metadata": {
        "id": "FCnjJ-dZpWMt"
      }
    },
    {
      "cell_type": "code",
      "source": [
        "print(len(xx))\n",
        "xx"
      ],
      "metadata": {
        "colab": {
          "base_uri": "https://localhost:8080/"
        },
        "id": "RfbGaAWcdNwE",
        "outputId": "4d8f1f8d-a697-4f59-bba2-310be0d3b4c0"
      },
      "execution_count": 5,
      "outputs": [
        {
          "output_type": "stream",
          "name": "stdout",
          "text": [
            "5\n"
          ]
        },
        {
          "output_type": "execute_result",
          "data": {
            "text/plain": [
              "[5839, 8866, 14130, 21895, 23353]"
            ]
          },
          "metadata": {},
          "execution_count": 5
        }
      ]
    },
    {
      "cell_type": "markdown",
      "source": [
        "- Check ดูค่าใน Columns `'price_min' ที่ไม่ใช่ตัวเลข"
      ],
      "metadata": {
        "id": "j80A-zWRpOm1"
      }
    },
    {
      "cell_type": "code",
      "source": [
        "list(set(x_index))"
      ],
      "metadata": {
        "colab": {
          "base_uri": "https://localhost:8080/"
        },
        "id": "Qn6TH6e0dNx2",
        "outputId": "a3b69ad0-cd2c-42ad-efd2-180d0fd5189f"
      },
      "execution_count": 6,
      "outputs": [
        {
          "output_type": "execute_result",
          "data": {
            "text/plain": [
              "['ลาดหลุมแก้ว', 'เมืองปทุมธานี', 'สามโคก']"
            ]
          },
          "metadata": {},
          "execution_count": 6
        }
      ]
    },
    {
      "cell_type": "markdown",
      "source": [
        "- Drop ค่าใน Columns `'price_min' ที่ไม่ใช่ตัวเลขออกไปจาก dataframe"
      ],
      "metadata": {
        "id": "A--vB6d0o5nD"
      }
    },
    {
      "cell_type": "code",
      "source": [
        "project_df_ = project_df.drop(project_df.index[xx])\n",
        "project_df_ = project_df_.reset_index(drop=True)\n",
        "print(project_df_.shape)\n",
        "project_df_.head(3)"
      ],
      "metadata": {
        "colab": {
          "base_uri": "https://localhost:8080/",
          "height": 376
        },
        "id": "pAv1WjODe5oY",
        "outputId": "d56c6eb4-81ad-42fe-b5ea-b12f52795c9e"
      },
      "execution_count": 7,
      "outputs": [
        {
          "output_type": "stream",
          "name": "stdout",
          "text": [
            "(23429, 45)\n"
          ]
        },
        {
          "output_type": "execute_result",
          "data": {
            "text/plain": [
              "   row_number                project_id                             name_en  \\\n",
              "0      7880.0  5ee08d64dda791001299b2a6  Winning Residence Sukhumvit Praksa   \n",
              "1     16689.0             project_11326                    Gift Condominium   \n",
              "2       290.0  62739c4089233e001362b001    Sanrak 9 Sukprayoon Nong Krathum   \n",
              "\n",
              "                              name_th propertytype_id propertytype_name_en  \\\n",
              "0  วินนิ่ง เรสซิเดนท์ สุขุมวิท แพรกษา               1       Detached House   \n",
              "1                 กิ๊ฟท์ คอนโดมิเนียม               2                Condo   \n",
              "2      แสนรัก 9 ศุขประยูร หนองกระทุ่ม               3             Townhome   \n",
              "\n",
              "  propertytype_name_th  price_min     developer_id  \\\n",
              "0                 บ้าน  3790000.0  developer_10678   \n",
              "1                คอนโด  1100000.0   developer_7319   \n",
              "2             ทาวน์โฮม        0.0  developer_10510   \n",
              "\n",
              "              developer_name_en  ... facility_meeting  facility_park  \\\n",
              "0  Winning Asset Plus Co., Ltd.  ...              NaN            NaN   \n",
              "1      Gift Asset Land Co.,Ltd.  ...              NaN            1.0   \n",
              "2                           NaN  ...              NaN            NaN   \n",
              "\n",
              "   facility_playground facility_pool facility_security         date_created  \\\n",
              "0                  NaN           1.0               1.0  2020-06-10 14:36:04   \n",
              "1                  NaN           1.0               1.0  2017-10-30 15:38:48   \n",
              "2                  NaN           NaN               NaN  2022-05-05 16:43:28   \n",
              "\n",
              "           date_finish         date_updated  source  \\\n",
              "0                  NaN  2020-12-04 10:32:58  baania   \n",
              "1  2013-01-01 07:00:00  2020-12-04 10:49:00  baania   \n",
              "2                  NaN  2022-05-05 17:30:03  baania   \n",
              "\n",
              "                                         url_project  \n",
              "0  https://baania.com/th/project/วินนิ่ง-เรสซิเดน...  \n",
              "1  https://baania.com/th/project/กิ๊ฟท์-คอนโดมิเน...  \n",
              "2  https://baania.com/th/project/แสนรัก-9-ศุขประย...  \n",
              "\n",
              "[3 rows x 45 columns]"
            ],
            "text/html": [
              "\n",
              "  <div id=\"df-7b81415c-f6df-4c3d-9088-178f2374acdf\">\n",
              "    <div class=\"colab-df-container\">\n",
              "      <div>\n",
              "<style scoped>\n",
              "    .dataframe tbody tr th:only-of-type {\n",
              "        vertical-align: middle;\n",
              "    }\n",
              "\n",
              "    .dataframe tbody tr th {\n",
              "        vertical-align: top;\n",
              "    }\n",
              "\n",
              "    .dataframe thead th {\n",
              "        text-align: right;\n",
              "    }\n",
              "</style>\n",
              "<table border=\"1\" class=\"dataframe\">\n",
              "  <thead>\n",
              "    <tr style=\"text-align: right;\">\n",
              "      <th></th>\n",
              "      <th>row_number</th>\n",
              "      <th>project_id</th>\n",
              "      <th>name_en</th>\n",
              "      <th>name_th</th>\n",
              "      <th>propertytype_id</th>\n",
              "      <th>propertytype_name_en</th>\n",
              "      <th>propertytype_name_th</th>\n",
              "      <th>price_min</th>\n",
              "      <th>developer_id</th>\n",
              "      <th>developer_name_en</th>\n",
              "      <th>...</th>\n",
              "      <th>facility_meeting</th>\n",
              "      <th>facility_park</th>\n",
              "      <th>facility_playground</th>\n",
              "      <th>facility_pool</th>\n",
              "      <th>facility_security</th>\n",
              "      <th>date_created</th>\n",
              "      <th>date_finish</th>\n",
              "      <th>date_updated</th>\n",
              "      <th>source</th>\n",
              "      <th>url_project</th>\n",
              "    </tr>\n",
              "  </thead>\n",
              "  <tbody>\n",
              "    <tr>\n",
              "      <th>0</th>\n",
              "      <td>7880.0</td>\n",
              "      <td>5ee08d64dda791001299b2a6</td>\n",
              "      <td>Winning Residence Sukhumvit Praksa</td>\n",
              "      <td>วินนิ่ง เรสซิเดนท์ สุขุมวิท แพรกษา</td>\n",
              "      <td>1</td>\n",
              "      <td>Detached House</td>\n",
              "      <td>บ้าน</td>\n",
              "      <td>3790000.0</td>\n",
              "      <td>developer_10678</td>\n",
              "      <td>Winning Asset Plus Co., Ltd.</td>\n",
              "      <td>...</td>\n",
              "      <td>NaN</td>\n",
              "      <td>NaN</td>\n",
              "      <td>NaN</td>\n",
              "      <td>1.0</td>\n",
              "      <td>1.0</td>\n",
              "      <td>2020-06-10 14:36:04</td>\n",
              "      <td>NaN</td>\n",
              "      <td>2020-12-04 10:32:58</td>\n",
              "      <td>baania</td>\n",
              "      <td>https://baania.com/th/project/วินนิ่ง-เรสซิเดน...</td>\n",
              "    </tr>\n",
              "    <tr>\n",
              "      <th>1</th>\n",
              "      <td>16689.0</td>\n",
              "      <td>project_11326</td>\n",
              "      <td>Gift Condominium</td>\n",
              "      <td>กิ๊ฟท์ คอนโดมิเนียม</td>\n",
              "      <td>2</td>\n",
              "      <td>Condo</td>\n",
              "      <td>คอนโด</td>\n",
              "      <td>1100000.0</td>\n",
              "      <td>developer_7319</td>\n",
              "      <td>Gift Asset Land Co.,Ltd.</td>\n",
              "      <td>...</td>\n",
              "      <td>NaN</td>\n",
              "      <td>1.0</td>\n",
              "      <td>NaN</td>\n",
              "      <td>1.0</td>\n",
              "      <td>1.0</td>\n",
              "      <td>2017-10-30 15:38:48</td>\n",
              "      <td>2013-01-01 07:00:00</td>\n",
              "      <td>2020-12-04 10:49:00</td>\n",
              "      <td>baania</td>\n",
              "      <td>https://baania.com/th/project/กิ๊ฟท์-คอนโดมิเน...</td>\n",
              "    </tr>\n",
              "    <tr>\n",
              "      <th>2</th>\n",
              "      <td>290.0</td>\n",
              "      <td>62739c4089233e001362b001</td>\n",
              "      <td>Sanrak 9 Sukprayoon Nong Krathum</td>\n",
              "      <td>แสนรัก 9 ศุขประยูร หนองกระทุ่ม</td>\n",
              "      <td>3</td>\n",
              "      <td>Townhome</td>\n",
              "      <td>ทาวน์โฮม</td>\n",
              "      <td>0.0</td>\n",
              "      <td>developer_10510</td>\n",
              "      <td>NaN</td>\n",
              "      <td>...</td>\n",
              "      <td>NaN</td>\n",
              "      <td>NaN</td>\n",
              "      <td>NaN</td>\n",
              "      <td>NaN</td>\n",
              "      <td>NaN</td>\n",
              "      <td>2022-05-05 16:43:28</td>\n",
              "      <td>NaN</td>\n",
              "      <td>2022-05-05 17:30:03</td>\n",
              "      <td>baania</td>\n",
              "      <td>https://baania.com/th/project/แสนรัก-9-ศุขประย...</td>\n",
              "    </tr>\n",
              "  </tbody>\n",
              "</table>\n",
              "<p>3 rows × 45 columns</p>\n",
              "</div>\n",
              "      <button class=\"colab-df-convert\" onclick=\"convertToInteractive('df-7b81415c-f6df-4c3d-9088-178f2374acdf')\"\n",
              "              title=\"Convert this dataframe to an interactive table.\"\n",
              "              style=\"display:none;\">\n",
              "        \n",
              "  <svg xmlns=\"http://www.w3.org/2000/svg\" height=\"24px\"viewBox=\"0 0 24 24\"\n",
              "       width=\"24px\">\n",
              "    <path d=\"M0 0h24v24H0V0z\" fill=\"none\"/>\n",
              "    <path d=\"M18.56 5.44l.94 2.06.94-2.06 2.06-.94-2.06-.94-.94-2.06-.94 2.06-2.06.94zm-11 1L8.5 8.5l.94-2.06 2.06-.94-2.06-.94L8.5 2.5l-.94 2.06-2.06.94zm10 10l.94 2.06.94-2.06 2.06-.94-2.06-.94-.94-2.06-.94 2.06-2.06.94z\"/><path d=\"M17.41 7.96l-1.37-1.37c-.4-.4-.92-.59-1.43-.59-.52 0-1.04.2-1.43.59L10.3 9.45l-7.72 7.72c-.78.78-.78 2.05 0 2.83L4 21.41c.39.39.9.59 1.41.59.51 0 1.02-.2 1.41-.59l7.78-7.78 2.81-2.81c.8-.78.8-2.07 0-2.86zM5.41 20L4 18.59l7.72-7.72 1.47 1.35L5.41 20z\"/>\n",
              "  </svg>\n",
              "      </button>\n",
              "      \n",
              "  <style>\n",
              "    .colab-df-container {\n",
              "      display:flex;\n",
              "      flex-wrap:wrap;\n",
              "      gap: 12px;\n",
              "    }\n",
              "\n",
              "    .colab-df-convert {\n",
              "      background-color: #E8F0FE;\n",
              "      border: none;\n",
              "      border-radius: 50%;\n",
              "      cursor: pointer;\n",
              "      display: none;\n",
              "      fill: #1967D2;\n",
              "      height: 32px;\n",
              "      padding: 0 0 0 0;\n",
              "      width: 32px;\n",
              "    }\n",
              "\n",
              "    .colab-df-convert:hover {\n",
              "      background-color: #E2EBFA;\n",
              "      box-shadow: 0px 1px 2px rgba(60, 64, 67, 0.3), 0px 1px 3px 1px rgba(60, 64, 67, 0.15);\n",
              "      fill: #174EA6;\n",
              "    }\n",
              "\n",
              "    [theme=dark] .colab-df-convert {\n",
              "      background-color: #3B4455;\n",
              "      fill: #D2E3FC;\n",
              "    }\n",
              "\n",
              "    [theme=dark] .colab-df-convert:hover {\n",
              "      background-color: #434B5C;\n",
              "      box-shadow: 0px 1px 3px 1px rgba(0, 0, 0, 0.15);\n",
              "      filter: drop-shadow(0px 1px 2px rgba(0, 0, 0, 0.3));\n",
              "      fill: #FFFFFF;\n",
              "    }\n",
              "  </style>\n",
              "\n",
              "      <script>\n",
              "        const buttonEl =\n",
              "          document.querySelector('#df-7b81415c-f6df-4c3d-9088-178f2374acdf button.colab-df-convert');\n",
              "        buttonEl.style.display =\n",
              "          google.colab.kernel.accessAllowed ? 'block' : 'none';\n",
              "\n",
              "        async function convertToInteractive(key) {\n",
              "          const element = document.querySelector('#df-7b81415c-f6df-4c3d-9088-178f2374acdf');\n",
              "          const dataTable =\n",
              "            await google.colab.kernel.invokeFunction('convertToInteractive',\n",
              "                                                     [key], {});\n",
              "          if (!dataTable) return;\n",
              "\n",
              "          const docLinkHtml = 'Like what you see? Visit the ' +\n",
              "            '<a target=\"_blank\" href=https://colab.research.google.com/notebooks/data_table.ipynb>data table notebook</a>'\n",
              "            + ' to learn more about interactive tables.';\n",
              "          element.innerHTML = '';\n",
              "          dataTable['output_type'] = 'display_data';\n",
              "          await google.colab.output.renderOutput(dataTable, element);\n",
              "          const docLink = document.createElement('div');\n",
              "          docLink.innerHTML = docLinkHtml;\n",
              "          element.appendChild(docLink);\n",
              "        }\n",
              "      </script>\n",
              "    </div>\n",
              "  </div>\n",
              "  "
            ]
          },
          "metadata": {},
          "execution_count": 7
        }
      ]
    },
    {
      "cell_type": "code",
      "source": [
        "#len(project_df)-len(project_df_)"
      ],
      "metadata": {
        "id": "ZRu21cIae5uB"
      },
      "execution_count": 45,
      "outputs": []
    },
    {
      "cell_type": "markdown",
      "source": [
        "- Check Type ของแต่ละ Columns\n",
        "> `price_min มี type เป็น float64` เรียบร้อยแล้ว\n",
        "\n",
        "![image.png](data:image/png;base64,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)"
      ],
      "metadata": {
        "id": "EeqePj0Zoolb"
      }
    },
    {
      "cell_type": "code",
      "source": [
        "project_df2 = project_df_.astype({'price_min':np.float64})\n",
        "project_df2.dtypes"
      ],
      "metadata": {
        "colab": {
          "base_uri": "https://localhost:8080/"
        },
        "id": "-MJ3kRWse5wF",
        "outputId": "9252535a-8f31-4455-aa81-d2ba68b5f748"
      },
      "execution_count": 10,
      "outputs": [
        {
          "output_type": "execute_result",
          "data": {
            "text/plain": [
              "row_number                float64\n",
              "project_id                 object\n",
              "name_en                    object\n",
              "name_th                    object\n",
              "propertytype_id            object\n",
              "propertytype_name_en       object\n",
              "propertytype_name_th       object\n",
              "price_min                 float64\n",
              "developer_id               object\n",
              "developer_name_en          object\n",
              "developer_name_th          object\n",
              "latitude                  float64\n",
              "longitude                 float64\n",
              "neighborhood_id            object\n",
              "neighborhood_name_en       object\n",
              "neighborhood_name_th       object\n",
              "subdistrict_id            float64\n",
              "subdistrict_name_en        object\n",
              "subdistrict_name_th        object\n",
              "district_id               float64\n",
              "district_name_en           object\n",
              "district_name_th           object\n",
              "province_id               float64\n",
              "province_name_en           object\n",
              "province_name_th           object\n",
              "zipcode                   float64\n",
              "count_elevator             object\n",
              "count_elevator_service     object\n",
              "count_floor                object\n",
              "count_parking              object\n",
              "count_tower                object\n",
              "count_unit                float64\n",
              "count_unittype            float64\n",
              "facility_clubhouse        float64\n",
              "facility_fitness          float64\n",
              "facility_meeting          float64\n",
              "facility_park             float64\n",
              "facility_playground       float64\n",
              "facility_pool             float64\n",
              "facility_security         float64\n",
              "date_created               object\n",
              "date_finish                object\n",
              "date_updated               object\n",
              "source                     object\n",
              "url_project                object\n",
              "dtype: object"
            ]
          },
          "metadata": {},
          "execution_count": 10
        }
      ]
    },
    {
      "cell_type": "markdown",
      "source": [
        "### **1. ราคาเฉลี่ยของโครงการบ้านที่ขอนแก่น**\n",
        "\n",
        "\n"
      ],
      "metadata": {
        "id": "6PkRvvCfaemg"
      }
    },
    {
      "cell_type": "code",
      "source": [
        "project_kk_home = project_df2[(project_df2['province_name_th'] == 'ขอนแก่น') & (project_df2['propertytype_name_th'] == 'บ้าน')]\n",
        "print(project_kk_home.shape)\n",
        "#project_kk_home.head()\n",
        "desc_projkkhom = project_kk_home.describe()\n",
        "avg_price_kk = desc_projkkhom['price_min']['mean']\n",
        "print('*'*80)\n",
        "print(f'ราคาเฉลี่ยของโครงการบ้านที่ขอนแก่น **{avg_price_kk:,}** บาท')"
      ],
      "metadata": {
        "colab": {
          "base_uri": "https://localhost:8080/"
        },
        "id": "zBC_2GwOVyQQ",
        "outputId": "5ae256ba-d298-4ea5-9457-5ce64c5e0961"
      },
      "execution_count": 11,
      "outputs": [
        {
          "output_type": "stream",
          "name": "stdout",
          "text": [
            "(413, 45)\n",
            "********************************************************************************\n",
            "ราคาเฉลี่ยของโครงการบ้านที่ขอนแก่น **2,600,565.372881356** บาท\n"
          ]
        }
      ]
    },
    {
      "cell_type": "markdown",
      "source": [
        "> ### ✨**ตอบ**\n",
        "**ราคาเฉลี่ยของโครงการบ้านที่ขอนแก่น เท่ากับ 2,600,565.40 บาท**"
      ],
      "metadata": {
        "id": "Owy6BUxyhZqQ"
      }
    },
    {
      "cell_type": "markdown",
      "source": [
        "\n",
        "\n",
        "---\n",
        "\n",
        "\n",
        "\n",
        "---\n",
        "\n"
      ],
      "metadata": {
        "id": "etFi28rXZuG1"
      }
    },
    {
      "cell_type": "markdown",
      "source": [
        "### **2. โครงการบ้านที่ขอนแก่นมีทั้งหมดกี่โครงการ**\n",
        "\n",
        "\n"
      ],
      "metadata": {
        "id": "I2j4KqeNiFFq"
      }
    },
    {
      "cell_type": "code",
      "source": [
        "len_Project_kk = len(project_kk_home['project_id'])\n",
        "print(f'จำนวนโครงการบ้านทั้งหมดในจังหวัดขอนแก่น **{len_Project_kk}** โครงการ')\n",
        "ProjectID_kk = len(list(set(project_kk_home['project_id'])))\n",
        "print('-'*80)\n",
        "print(f'จำนวน Project ID ของโครงการบ้านที่จังหวัดขอนแก่นทั้งหมด จำนวน **{ProjectID_kk}** รหัสโครงการ')"
      ],
      "metadata": {
        "colab": {
          "base_uri": "https://localhost:8080/"
        },
        "id": "-LAhq_rvaaZp",
        "outputId": "c98d4236-b9de-4218-857b-b1d9f477bbc1"
      },
      "execution_count": 30,
      "outputs": [
        {
          "output_type": "stream",
          "name": "stdout",
          "text": [
            "จำนวนโครงการบ้านทั้งหมดในจังหวัดขอนแก่น **413** โครงการ\n",
            "--------------------------------------------------------------------------------\n",
            "จำนวน Project ID ของโครงการบ้านที่จังหวัดขอนแก่นทั้งหมด จำนวน **413** รหัสโครงการ\n"
          ]
        }
      ]
    },
    {
      "cell_type": "markdown",
      "source": [
        "> ### ✨**ตอบ**\n",
        "**โครงการบ้านที่ขอนแก่นมีทั้งหมด 413 โครงการ**"
      ],
      "metadata": {
        "id": "ufIqiNe0jfgu"
      }
    },
    {
      "cell_type": "markdown",
      "source": [
        "\n",
        "\n",
        "---\n",
        "\n",
        "\n",
        "\n",
        "---\n",
        "\n"
      ],
      "metadata": {
        "id": "gQ28w05-ZwTi"
      }
    },
    {
      "cell_type": "markdown",
      "source": [
        "### **3. โครงการที่ขอนแก่นกับอุดรอันไหนแพงกว่ากัน**"
      ],
      "metadata": {
        "id": "nx8yxjWojoEM"
      }
    },
    {
      "cell_type": "markdown",
      "source": [
        "- Check ว่ามีจังหวัดไหนบ้างใน DataFrame"
      ],
      "metadata": {
        "id": "wcNASW-EjwKp"
      }
    },
    {
      "cell_type": "code",
      "source": [
        "set_prov = len(list(set(project_df2['province_name_th'])))\n",
        "print(f'โครงการอยู่ในพื้นที่ {set_prov} จังหวัด', )\n",
        "print(list(set(project_df2['province_name_th'])))"
      ],
      "metadata": {
        "colab": {
          "base_uri": "https://localhost:8080/"
        },
        "id": "gUa8cAuKaaby",
        "outputId": "2558c34a-fd16-4871-b6ad-a0c7f3db60e9"
      },
      "execution_count": 12,
      "outputs": [
        {
          "output_type": "stream",
          "name": "stdout",
          "text": [
            "โครงการอยู่ในพื้นที่ 73 จังหวัด\n",
            "['ภูเก็ต', nan, 'เพชรบุรี', 'มุกดาหาร', 'พิษณุโลก', 'ตรัง', 'ระยอง', 'พิจิตร', 'ปัตตานี', 'น่าน', 'พังงา', 'ขอนแก่น', 'เชียงใหม่', 'ราชบุรี', 'สุรินทร์', 'นครศรีธรรมราช', 'อุดรธานี', 'สระบุรี', 'สุราษฎร์ธานี', 'กาญจนบุรี', 'ปทุมธานี', 'แม่ฮ่องสอน', 'ชลบุรี', 'ฉะเชิงเทรา', 'นนทบุรี', 'พระนครศรีอยุธยา', 'หนองคาย', 'นครสวรรค์', 'อุตรดิตถ์', 'เชียงราย', 'มหาสารคาม', 'แพร่', 'สมุทรสงคราม', 'ปราจีนบุรี', 'กรุงเทพมหานคร', 'สมุทรปราการ', 'เพชรบูรณ์', 'อุบลราชธานี', 'เลย', 'ลำปาง', 'ระนอง', 'อ่างทอง', 'ลพบุรี', 'นครพนม', 'สระแก้ว', 'สุโขทัย', 'กำแพงเพชร', 'นครราชสีมา', 'ลำพูน', 'พัทลุง', 'สกลนคร', 'ตาก', 'ชัยภูมิ', 'บุรีรัมย์', 'กระบี่', 'จันทบุรี', 'สมุทรสาคร', 'ศรีสะเกษ', 'อำนาจเจริญ', 'สุพรรณบุรี', 'สงขลา', 'ตราด', 'พะเยา', 'สิงห์บุรี', 'ประจวบคีรีขันธ์', 'บึงกาฬ', 'ยโสธร', 'นครนายก', 'นครปฐม', 'ร้อยเอ็ด', 'ชุมพร', 'กาฬสินธุ์', 'หนองบัวลำภู']\n"
          ]
        }
      ]
    },
    {
      "cell_type": "code",
      "source": [
        "# โครงการที่ขอนแก่น\n",
        "project_kk = project_df2[project_df2['province_name_th'] == 'ขอนแก่น']\n",
        "print(project_kk.shape)\n",
        "desc_projkk = project_kk.describe()\n",
        "avg_projkk = desc_projkk['price_min']['mean']\n",
        "print(f'ราคาเฉลี่ยของโครงการที่จังหวัดขอนแก่น **{avg_projkk:,}** บาท')\n",
        "print('-'*80)\n",
        "# โครงการที่อุดร\n",
        "project_udon = project_df2[project_df2['province_name_th'] == 'อุดรธานี']\n",
        "print(project_udon.shape)\n",
        "desc_projudon = project_udon.describe()\n",
        "avg_projudon= desc_projudon['price_min']['mean']\n",
        "print(f'ราคาเฉลี่ยของโครงการที่จังหวัดอุดรธานี **{avg_projudon:,}** บาท')\n",
        "print('-'*80)"
      ],
      "metadata": {
        "colab": {
          "base_uri": "https://localhost:8080/"
        },
        "id": "_MQ9VN-Iaad7",
        "outputId": "55179eee-0312-4d65-859f-013a49c61d13"
      },
      "execution_count": 42,
      "outputs": [
        {
          "output_type": "stream",
          "name": "stdout",
          "text": [
            "(617, 45)\n",
            "ราคาเฉลี่ยของโครงการที่จังหวัดขอนแก่น **2,428,410.045380875** บาท\n",
            "--------------------------------------------------------------------------------\n",
            "(213, 45)\n",
            "ราคาเฉลี่ยของโครงการที่จังหวัดอุดรธานี **2,639,429.9516908214** บาท\n",
            "--------------------------------------------------------------------------------\n"
          ]
        }
      ]
    },
    {
      "cell_type": "code",
      "source": [
        "if avg_projkk > avg_projudon :\n",
        "  print('----- **โครงการที่จังหวัดขอนแก่นแพงกว่าจังหวัดอุดร** -----')\n",
        "else:\n",
        "  print('---- **โครงการที่จังหวัดอุดรแพงกว่าจังหวัดขอนแก่น** ----- ')"
      ],
      "metadata": {
        "colab": {
          "base_uri": "https://localhost:8080/"
        },
        "id": "5AZw4-qBaaf6",
        "outputId": "c223d069-e407-4ce6-bb26-ee5677ddbd7d"
      },
      "execution_count": 44,
      "outputs": [
        {
          "output_type": "stream",
          "name": "stdout",
          "text": [
            "---- **โครงการที่จังหวัดอุดรแพงกว่าจังหวัดขอนแก่น** ----- \n"
          ]
        }
      ]
    },
    {
      "cell_type": "markdown",
      "source": [
        "> ### ✨**ตอบ**\n",
        "**โครงการที่จังหวัดอุดรแพงกว่าจังหวัดขอนแก่น**"
      ],
      "metadata": {
        "id": "9DqP-FlMn47d"
      }
    },
    {
      "cell_type": "markdown",
      "source": [
        "\n",
        "\n",
        "---\n",
        "\n",
        "\n",
        "\n",
        "---\n",
        "\n"
      ],
      "metadata": {
        "id": "fwa0n0giZ2AG"
      }
    },
    {
      "cell_type": "markdown",
      "source": [
        "### **4. เปรียบเทียบจำนวนบ้านเฉลี่ยของโครงการบ้านที่ขอนแก่นกับ กทม.**  \n",
        "\n",
        "`count_unit\tจำนวนยูนิตในโครงการ`"
      ],
      "metadata": {
        "id": "rvxs8L19oFiC"
      }
    },
    {
      "cell_type": "code",
      "source": [
        "#จำนวนบ้านเฉลี่ยของโครงการที่ขอนแก่น\n",
        "desc_projkkhom = project_kk_home.describe()\n",
        "avg_unit_kkhom = desc_projkkhom['count_unit']['mean']\n",
        "print('*'*80)\n",
        "print(f'จำนวนบ้านเฉลี่ยของโครงการบ้านที่ขอนแก่น **{avg_unit_kkhom:,}** หลัง\\n')\n",
        "print('*'*80)"
      ],
      "metadata": {
        "colab": {
          "base_uri": "https://localhost:8080/"
        },
        "id": "vSoLbjnaaaju",
        "outputId": "004cf024-1250-49f5-92ab-8b8099b0743a"
      },
      "execution_count": 48,
      "outputs": [
        {
          "output_type": "stream",
          "name": "stdout",
          "text": [
            "********************************************************************************\n",
            "จำนวนบ้านเฉลี่ยของโครงการบ้านที่ขอนแก่น **58.946996466431095** หลัง\n",
            "\n",
            "********************************************************************************\n"
          ]
        }
      ]
    },
    {
      "cell_type": "code",
      "source": [
        "#จำนวนบ้านเฉลี่ยของโครงการที่ กทม.\n",
        "bangkok_home = project_df2[(project_df2['province_name_th'] == 'กรุงเทพมหานคร') & (project_df2['propertytype_name_th'] == 'บ้าน')]\n",
        "print(bangkok_home.shape)\n",
        "desc_bkhome = bangkok_home.describe()\n",
        "avg_unit_bkhom = desc_bkhome['count_unit']['mean']\n",
        "print('*'*80)\n",
        "print(f'จำนวนบ้านเฉลี่ยของโครงการบ้านที่ กทม. **{avg_unit_bkhom:,}** หลัง\\n')\n",
        "print('*'*80)"
      ],
      "metadata": {
        "colab": {
          "base_uri": "https://localhost:8080/"
        },
        "id": "kK8coCLboKaK",
        "outputId": "e4492bf7-0189-4721-e0cc-383c11c68f3b"
      },
      "execution_count": 49,
      "outputs": [
        {
          "output_type": "stream",
          "name": "stdout",
          "text": [
            "(1712, 45)\n",
            "********************************************************************************\n",
            "จำนวนบ้านเฉลี่ยของโครงการบ้านที่ กทม. **144.13577863577865** หลัง\n",
            "\n",
            "********************************************************************************\n"
          ]
        }
      ]
    },
    {
      "cell_type": "code",
      "source": [
        "if avg_unit_kkhom > avg_unit_bkhom :\n",
        "  print('----- **จำนวนบ้านเฉลี่ยของโครงการบ้านที่ขอนแก่น มากกว่า กทม.** -----')\n",
        "else:\n",
        "  print('---- **จำนวนบ้านเฉลี่ยของโครงการบ้านที่ กทม. มากกว่า ขอนแก่น** ----- ')"
      ],
      "metadata": {
        "colab": {
          "base_uri": "https://localhost:8080/"
        },
        "id": "yCTh15xLoKcZ",
        "outputId": "6c6b9e6d-baee-4508-e013-7d93b0445894"
      },
      "execution_count": 50,
      "outputs": [
        {
          "output_type": "stream",
          "name": "stdout",
          "text": [
            "---- **จำนวนบ้านเฉลี่ยของโครงการบ้านที่ กทม. มากกว่า ขอนแก่น** ----- \n"
          ]
        }
      ]
    },
    {
      "cell_type": "markdown",
      "source": [
        "> ### ✨**ตอบ**\n",
        "**จำนวนบ้านเฉลี่ยของโครงการบ้านที่ กทม. มากกว่า ขอนแก่น**"
      ],
      "metadata": {
        "id": "6vSqFD9lsJbB"
      }
    },
    {
      "cell_type": "markdown",
      "source": [
        "\n",
        "\n",
        "---\n",
        "\n",
        "\n",
        "\n",
        "---\n",
        "\n"
      ],
      "metadata": {
        "id": "5Sr0czOzZ7s8"
      }
    },
    {
      "cell_type": "markdown",
      "source": [
        "### **5. เปรีบเทียบราคาโครงการบ้าน+คอนโด ในจังหวัดขอนแก่น และจังหวัดโคราช**"
      ],
      "metadata": {
        "id": "Hn6NmNeesel3"
      }
    },
    {
      "cell_type": "code",
      "source": [
        "# โครงการบ้าน+คอนโด ในจังหวัดขอนแก่น \n",
        "project_kk = project_df2[project_df2['province_name_th']=='ขอนแก่น'] ##เลือกโครงการที่ขอนแก้น\n",
        "home_condo_kk = project_kk[(project_kk['propertytype_name_th'] == 'คอนโด') | (project_kk['propertytype_name_th'] == 'บ้าน')] ##เลือกประเภทบ้าน+คอนโด\n",
        "print(home_condo_kk.shape)\n",
        "print(f'ประเภทโครงการ {list(set(home_condo_kk.propertytype_name_th))}')\n",
        "descr_home_condo_kk = home_condo_kk.describe()\n",
        "price_home_condo_kk =  descr_home_condo_kk['price_min']['mean']\n",
        "print('*'*80)\n",
        "print(f'ราคาโครงการบ้าน+คอนโดในจังหวัดขอนแก่นโดยเฉลี่ย **{price_home_condo_kk:,}** บาท\\n')\n",
        "print('*'*80)"
      ],
      "metadata": {
        "colab": {
          "base_uri": "https://localhost:8080/"
        },
        "id": "qOMCoJLLaalh",
        "outputId": "a981511d-9820-4341-ccff-84d9ac6ff8be"
      },
      "execution_count": 54,
      "outputs": [
        {
          "output_type": "stream",
          "name": "stdout",
          "text": [
            "(459, 45)\n",
            "ประเภทโครงการ ['คอนโด', 'บ้าน']\n",
            "********************************************************************************\n",
            "ราคาโครงการบ้าน+คอนโดในจังหวัดขอนแก่นโดยเฉลี่ย **2,484,993.4618736384** บาท\n",
            "\n",
            "********************************************************************************\n"
          ]
        }
      ]
    },
    {
      "cell_type": "code",
      "source": [
        "# โครงการบ้าน+คอนโด ในจังหวัดโคราช\n",
        "project_Ratchasima = project_df2[project_df2['province_name_th']=='นครราชสีมา']\n",
        "home_condo_Ratchasima = project_Ratchasima[(project_Ratchasima['propertytype_name_th'] == 'คอนโด') | (project_Ratchasima['propertytype_name_th'] == 'บ้าน')]\n",
        "print(home_condo_Ratchasima.shape)\n",
        "print(f'ประเภทโครงการ {list(set(home_condo_Ratchasima.propertytype_name_th))}')\n",
        "descr_home_condo_Ratchasima = home_condo_Ratchasima.describe()\n",
        "price_home_condo_sima =  descr_home_condo_Ratchasima['price_min']['mean']\n",
        "print('*'*80)\n",
        "print(f'ราคาโครงการบ้าน+คอนโดในจังหวัดโคราชโดยเฉลี่ย **{price_home_condo_sima:,}** บาท\\n')\n",
        "print('*'*80)"
      ],
      "metadata": {
        "colab": {
          "base_uri": "https://localhost:8080/"
        },
        "id": "N_YqpAsFaapD",
        "outputId": "9512e800-77c4-42ec-871a-a66132d23b94"
      },
      "execution_count": 55,
      "outputs": [
        {
          "output_type": "stream",
          "name": "stdout",
          "text": [
            "(580, 45)\n",
            "ประเภทโครงการ ['คอนโด', 'บ้าน']\n",
            "********************************************************************************\n",
            "ราคาโครงการบ้าน+คอนโดในจังหวัดโคราชโดยเฉลี่ย **2,831,322.357019064** บาท\n",
            "\n",
            "********************************************************************************\n"
          ]
        }
      ]
    },
    {
      "cell_type": "code",
      "source": [
        "if price_home_condo_kk > price_home_condo_sima :\n",
        "  print('----- ราคาเฉลี่ยของโครงการบ้าน+คอนโด ในจังหวัดขอนแก่นแพงกว่าจังหวัดโคราช-----')\n",
        "else:\n",
        "  print('----  **ราคาเฉลี่ยของโครงการบ้าน+คอนโด ในจังหวัดโคราชแพงกว่าจังหวัดขอนแก่น ----- ')"
      ],
      "metadata": {
        "colab": {
          "base_uri": "https://localhost:8080/"
        },
        "id": "TS0fRA1gaarm",
        "outputId": "f321f2d3-cebe-4c13-8ba8-0351e2e4c076"
      },
      "execution_count": 57,
      "outputs": [
        {
          "output_type": "stream",
          "name": "stdout",
          "text": [
            "----  **ราคาเฉลี่ยของโครงการบ้าน+คอนโด ในจังหวัดโคราชแพงกว่าจังหวัดขอนแก่น ----- \n"
          ]
        }
      ]
    },
    {
      "cell_type": "markdown",
      "source": [
        "> ### ✨**ตอบ**\n",
        "**ราคาเฉลี่ยของโครงการบ้าน+คอนโด ในจังหวัดโคราชแพงกว่าจังหวัดขอนแก่น**"
      ],
      "metadata": {
        "id": "y5bSHvEmuqOU"
      }
    },
    {
      "cell_type": "markdown",
      "source": [
        "\n",
        "\n",
        "---\n",
        "\n",
        "\n",
        "\n",
        "---\n",
        "\n"
      ],
      "metadata": {
        "id": "CCJFf8FhaBqL"
      }
    },
    {
      "cell_type": "markdown",
      "source": [
        "### **6. ราคาเฉลี่ยของโครงการในอุดร ขอนแก่น โคราช ***เทียบกับ*** เชียงใหม่ เชียงราย**"
      ],
      "metadata": {
        "id": "rijOEDazuvoK"
      }
    },
    {
      "cell_type": "code",
      "source": [
        "# โครงการในอุดร ขอนแก่น โคราช\n",
        "project_A = project_df2[(project_df2['province_name_th'] == 'ขอนแก่น') | (project_df2['province_name_th'] == 'อุดรธานี') | (project_df2['province_name_th'] == 'นครราชสีมา') ]\n",
        "print(project_A.shape)\n",
        "print(f'โครงการในอุดร ขอนแก่น โคราชมีทั้งหมด {len(project_A):,} โครงการ')\n",
        "#print(list(set(project_A.propertytype_name_th)))\n",
        "descr_project_A = project_A.describe()\n",
        "avg_price_A  = descr_project_A['price_min']['mean']\n",
        "print('*'*80)\n",
        "print(f'ราคาเฉลี่ยของโครงการในอุดร ขอนแก่น โคราช **{avg_price_A:,}** บาท\\n')\n",
        "print('*'*80)"
      ],
      "metadata": {
        "colab": {
          "base_uri": "https://localhost:8080/"
        },
        "id": "G7_PoHRsumqf",
        "outputId": "d7dc9c67-d87d-4cc3-864d-d3c3f08be78c"
      },
      "execution_count": 64,
      "outputs": [
        {
          "output_type": "stream",
          "name": "stdout",
          "text": [
            "(1642, 45)\n",
            "โครงการในอุดร ขอนแก่น โคราชมีทั้งหมด 1,642 โครงการ\n",
            "********************************************************************************\n",
            "ราคาเฉลี่ยของโครงการในอุดร ขอนแก่น โคราช **2,578,077.3272058824** บาท\n",
            "\n",
            "********************************************************************************\n"
          ]
        }
      ]
    },
    {
      "cell_type": "code",
      "source": [
        "## โครงการในเชียงใหม่ เชียงราย\n",
        "project_B = project_df2[(project_df2['province_name_th'] == 'เชียงใหม่') | (project_df2['province_name_th'] == 'เชียงราย')]\n",
        "print(project_B.shape)\n",
        "print(f'โครงการในเชียงใหม่ เชียงรายมีทั้งหมด {len(project_B):,} โครงการ')\n",
        "#print(list(set(project_A.propertytype_name_th)))\n",
        "descr_project_B = project_B.describe()\n",
        "avg_price_B = descr_project_B['price_min']['mean']\n",
        "print('*'*80)\n",
        "print(f'ราคาเฉลี่ยของโครงการในเชียงใหม่ เชียงราย **{avg_price_B:,}** บาท\\n')\n",
        "print('*'*80)"
      ],
      "metadata": {
        "colab": {
          "base_uri": "https://localhost:8080/"
        },
        "id": "2NEROaiJu2J0",
        "outputId": "d93b3ea8-15cc-40ec-e898-94c6d9727d45"
      },
      "execution_count": 65,
      "outputs": [
        {
          "output_type": "stream",
          "name": "stdout",
          "text": [
            "(1711, 45)\n",
            "โครงการในเชียงใหม่ เชียงรายมีทั้งหมด 1,711 โครงการ\n",
            "********************************************************************************\n",
            "ราคาเฉลี่ยของโครงการในเชียงใหม่ เชียงราย **2,919,366.1607038123** บาท\n",
            "\n",
            "********************************************************************************\n"
          ]
        }
      ]
    },
    {
      "cell_type": "code",
      "source": [
        "if avg_price_A > avg_price_B :\n",
        "  print('----- **ราคาเฉลี่ยของโครงการในอุดร ขอนแก่น โคราช แพงกว่า เชียงใหม่ เชียงราย -----')\n",
        "else:\n",
        "  print('----  **ราคาเฉลี่ยของโครงการในเชียงใหม่ เชียงราย แพงกว่า อุดร ขอนแก่น โคราช ----- ')"
      ],
      "metadata": {
        "colab": {
          "base_uri": "https://localhost:8080/"
        },
        "id": "u4ryw-ZJu2Nk",
        "outputId": "e4f45e98-83ec-4ad6-f7c2-bb24977cc11d"
      },
      "execution_count": 66,
      "outputs": [
        {
          "output_type": "stream",
          "name": "stdout",
          "text": [
            "----  **ราคาเฉลี่ยของโครงการในเชียงใหม่ เชียงราย แพงกว่า อุดร ขอนแก่น โคราช ----- \n"
          ]
        }
      ]
    },
    {
      "cell_type": "markdown",
      "source": [
        "> ### ✨**ตอบ**\n",
        "**ราคาเฉลี่ยของโครงการในจังหวัดเชียงใหม่และเชียงราย แพงกว่า ในจังหวัดอุดร ขอนแก่นและโคราช**"
      ],
      "metadata": {
        "id": "rmY0V6TtwnZx"
      }
    },
    {
      "cell_type": "markdown",
      "source": [
        "\n",
        "\n",
        "---\n",
        "\n",
        "\n",
        "\n",
        "---\n",
        "\n"
      ],
      "metadata": {
        "id": "Efn6JIYbaGCl"
      }
    },
    {
      "cell_type": "markdown",
      "source": [
        "## **7. ให้สร้าง boxplot ของราคาบ้านในจังหวัดขอนแก่น เทียบกับคอนโด**"
      ],
      "metadata": {
        "id": "mw2z9aPFw7Mh"
      }
    },
    {
      "cell_type": "code",
      "source": [
        "# โครงการบ้านในขอนแก่น\n",
        "project_kk_home = project_df2[(project_df2['province_name_th'] == 'ขอนแก่น') & (project_df2['propertytype_name_th'] == 'บ้าน')]\n",
        "print(project_kk_home.shape)\n",
        "#project_kk_home.head()\n",
        "desc_projkkhom = project_kk_home.describe()\n",
        "avg_price_kk = desc_projkkhom['price_min']['mean']\n",
        "print('*'*80)\n",
        "print(f'ราคาบ้านเฉลี่ยในโครงการที่จังหวัดขอนแก่น **{avg_price_kk:,}** บาท')"
      ],
      "metadata": {
        "colab": {
          "base_uri": "https://localhost:8080/"
        },
        "id": "2--3AlESu2Pc",
        "outputId": "d644d175-5cfb-4a75-9be8-e6883ee9ba18"
      },
      "execution_count": 70,
      "outputs": [
        {
          "output_type": "stream",
          "name": "stdout",
          "text": [
            "(413, 45)\n",
            "********************************************************************************\n",
            "ราคาบ้านเฉลี่ยในโครงการที่จังหวัดขอนแก่น **2,600,565.372881356** บาท\n"
          ]
        }
      ]
    },
    {
      "cell_type": "code",
      "source": [
        "#set(project_kk_home.propertytype_name_th)"
      ],
      "metadata": {
        "id": "j4nTizdvu2Rh"
      },
      "execution_count": 69,
      "outputs": []
    },
    {
      "cell_type": "code",
      "source": [
        "# โครงการคอนโดในขอนแก่น\n",
        "kk_codo = project_df2[(project_df2['province_name_th'] == 'ขอนแก่น') & (project_df2['propertytype_name_th'] == 'คอนโด')]\n",
        "print(kk_codo.shape)\n",
        "desc_projkkcon = kk_codo.describe()\n",
        "price_kkcon = desc_projkkcon['price_min']['mean']\n",
        "print('*'*80)\n",
        "print(f'ราคาคอนโดเฉลี่ยในโครงการที่จังหวัดขอนแก่น **{price_kkcon:,}** บาท')"
      ],
      "metadata": {
        "colab": {
          "base_uri": "https://localhost:8080/"
        },
        "id": "ObutFXY9u2To",
        "outputId": "a46c18c2-4f40-4220-f542-56e9c4ad220d"
      },
      "execution_count": 71,
      "outputs": [
        {
          "output_type": "stream",
          "name": "stdout",
          "text": [
            "(46, 45)\n",
            "********************************************************************************\n",
            "ราคาคอนโดเฉลี่ยในโครงการที่จังหวัดขอนแก่น **1,447,358.6956521738** บาท\n"
          ]
        }
      ]
    },
    {
      "cell_type": "markdown",
      "source": [
        "**ใช้ Font ไทยใน matplotlib**"
      ],
      "metadata": {
        "id": "l8rqxjsQ0JEK"
      }
    },
    {
      "cell_type": "code",
      "source": [
        "import matplotlib as mpl\n",
        "mpl.__version__"
      ],
      "metadata": {
        "colab": {
          "base_uri": "https://localhost:8080/",
          "height": 36
        },
        "id": "xoKwWEN90NJK",
        "outputId": "9ad33891-3972-433e-ee46-19c87cc3e208"
      },
      "execution_count": 75,
      "outputs": [
        {
          "output_type": "execute_result",
          "data": {
            "text/plain": [
              "'3.2.2'"
            ],
            "application/vnd.google.colaboratory.intrinsic+json": {
              "type": "string"
            }
          },
          "metadata": {},
          "execution_count": 75
        }
      ]
    },
    {
      "cell_type": "code",
      "source": [
        "!wget -q https://github.com/Phonbopit/sarabun-webfont/raw/master/fonts/thsarabunnew-webfont.ttf"
      ],
      "metadata": {
        "id": "ehAQDa040O6c"
      },
      "execution_count": 76,
      "outputs": []
    },
    {
      "cell_type": "code",
      "source": [
        "# !pip install -U --pre matplotlib  \n",
        "import matplotlib as mpl\n",
        "mpl.font_manager.fontManager.addfont('thsarabunnew-webfont.ttf')\n",
        "mpl.rc('font', family='TH Sarabun New')"
      ],
      "metadata": {
        "id": "34ZvYPdr0O8r"
      },
      "execution_count": 77,
      "outputs": []
    },
    {
      "cell_type": "code",
      "source": [
        "# สร้าง boxplot\n",
        "import matplotlib.pyplot as plt\n",
        "\n",
        "kk_home_ = project_kk_home[project_kk_home['price_min'].notna()]\n",
        "kk_condo_ = kk_codo[kk_codo['price_min'].notna()]\n",
        "Lst_kk_home_ = kk_home_['price_min'].tolist()\n",
        "Lst_kk_condo_ = kk_condo_['price_min'].tolist()\n",
        "arr_kk_home  = np.array(Lst_kk_home_)\n",
        "arr_kk_condo = np.array(Lst_kk_condo_)\n",
        "data = [arr_kk_home,arr_kk_condo]\n",
        "my_labels = ['Home', 'Condo']\n",
        "fig = plt.figure(figsize =(10, 7))\n",
        "# Creating axes instance\n",
        "ax = fig.add_axes([0, 0, 1, 1])\n",
        " # Creating plot\n",
        "bp = ax.boxplot(data, labels=my_labels, )\n",
        "ax.set_xticklabels(labels=my_labels, Fontsize=15)\n",
        "\n",
        "# show plot\n",
        "ax.set_title('Box plot เปรียบเทียบราคาบ้านกับราคาคอนโดในโครงการจังหวัดขอนแก่น', Fontsize=18)\n",
        "plt.show()"
      ],
      "metadata": {
        "colab": {
          "base_uri": "https://localhost:8080/",
          "height": 641
        },
        "id": "0tFy3qVlu2VV",
        "outputId": "91a97629-acf7-49e1-d52f-ec0b70935b32"
      },
      "execution_count": 90,
      "outputs": [
        {
          "output_type": "stream",
          "name": "stderr",
          "text": [
            "/usr/local/lib/python3.7/dist-packages/matplotlib/cbook/__init__.py:1376: VisibleDeprecationWarning: Creating an ndarray from ragged nested sequences (which is a list-or-tuple of lists-or-tuples-or ndarrays with different lengths or shapes) is deprecated. If you meant to do this, you must specify 'dtype=object' when creating the ndarray.\n",
            "  X = np.atleast_1d(X.T if isinstance(X, np.ndarray) else np.asarray(X))\n"
          ]
        },
        {
          "output_type": "display_data",
          "data": {
            "text/plain": [
              "<Figure size 720x504 with 1 Axes>"
            ],
            "image/png": "[encoded data removed]"
          },
          "metadata": {
            "needs_background": "light"
          }
        }
      ]
    },
    {
      "cell_type": "markdown",
      "source": [
        "\n",
        "\n",
        "---\n",
        "\n",
        "\n",
        "\n",
        "---\n",
        "\n"
      ],
      "metadata": {
        "id": "TwTrnyYyaKDD"
      }
    },
    {
      "cell_type": "markdown",
      "source": [
        "### **8. บ้านในภาคเหนือ ใต้ อีสาน ที่ไหนแพงสุด ถูกสุด (เลือกจังหวัดที่เป็นตัวแทน ภาคละ 2 จังหวัด)**"
      ],
      "metadata": {
        "id": "nGbf5v1e270d"
      }
    },
    {
      "cell_type": "markdown",
      "source": [
        "##### **เลือกจังหวัดที่เป็นตัวแทน ภาคละ 2 จังหวัด** \n",
        "\n",
        "จะเลือกจากจังหวัดที่มีประชากรเยอะมากที่สุดเป็นอันดับ 1 และ 2 ของภาคนั้น \n",
        "- โครงการบ้านในภาคเหนือ \n",
        "> เลือกจังหวัด เชียงใหม่ และ เชียงราย \n",
        "- โครงการบ้านในภาคใต้ \n",
        "> เลือกจังหวัด นครศรีธรรมราช และ สงขลา \n",
        "- โครงการบ้านในภาคอีสาน \n",
        "> เลือกจังหวัด นครราชสีมา และ อุบลราชธานี \n",
        "\n",
        "\n"
      ],
      "metadata": {
        "id": "oy1j_kzVIsXU"
      }
    },
    {
      "cell_type": "code",
      "source": [
        "# โครงการบ้านในภาคเหนือ\n",
        "North = project_df2[(project_df2['province_name_th'] == 'เชียงใหม่') | (project_df2['province_name_th'] == 'เชียงราย')]\n",
        "NortHome = North[North['propertytype_name_th']=='บ้าน']\n",
        "print(NortHome.shape)\n",
        "desc_NortHome = NortHome.describe()\n",
        "avg_priceNortHome = desc_NortHome['price_min']['mean']\n",
        "print('*'*80)\n",
        "print(f'ราคาบ้านเฉลี่ยในโครงการพื้นที่ภาคเหนือ **{avg_priceNortHome:,}** บาท')"
      ],
      "metadata": {
        "colab": {
          "base_uri": "https://localhost:8080/"
        },
        "id": "CojzI-Ys0e0U",
        "outputId": "ae82fdef-13fb-4e44-d13d-b4c51a19ba46"
      },
      "execution_count": 15,
      "outputs": [
        {
          "output_type": "stream",
          "name": "stdout",
          "text": [
            "(1067, 45)\n",
            "********************************************************************************\n",
            "ราคาบ้านเฉลี่ยในโครงการพื้นที่ภาคเหนือ **3,225,139.4566854993** บาท\n"
          ]
        }
      ]
    },
    {
      "cell_type": "code",
      "source": [
        "# โครงการบ้านในภาคใต้\n",
        "South = project_df2[(project_df2['province_name_th'] == 'นครศรีธรรมราช') | (project_df2['province_name_th'] == 'สงขลา')]\n",
        "SouthHome = South[South['propertytype_name_th']=='บ้าน']\n",
        "print(SouthHome.shape)\n",
        "desc_SouthHome = SouthHome.describe()\n",
        "avg_priceSouthHome= desc_SouthHome['price_min']['mean']\n",
        "print('*'*80)\n",
        "print(f'ราคาบ้านเฉลี่ยในโครงการพื้นที่ภาคใต้ **{avg_priceSouthHome:,}** บาท')"
      ],
      "metadata": {
        "colab": {
          "base_uri": "https://localhost:8080/"
        },
        "id": "t9h4IWj43Mp4",
        "outputId": "0e7ef6a5-6b84-4f36-d447-2a8bfd0e1522"
      },
      "execution_count": 16,
      "outputs": [
        {
          "output_type": "stream",
          "name": "stdout",
          "text": [
            "(266, 45)\n",
            "********************************************************************************\n",
            "ราคาบ้านเฉลี่ยในโครงการพื้นที่ภาคใต้ **3,434,315.785714286** บาท\n"
          ]
        }
      ]
    },
    {
      "cell_type": "code",
      "source": [
        "# โครงการบ้านในภาคอีสาน\n",
        "Northeast = project_df2[(project_df2['province_name_th'] == 'นครราชสีมา') | (project_df2['province_name_th'] == 'อุบลราชธานี')]\n",
        "NortheastHome = Northeast[Northeast['propertytype_name_th']=='บ้าน']\n",
        "print(NortheastHome.shape)\n",
        "desc_NortheastHome = NortheastHome.describe()\n",
        "avg_priceNortheastHome = desc_NortheastHome['price_min']['mean']\n",
        "print('*'*80)\n",
        "print(f'ราคาบ้านเฉลี่ยในโครงการพื้นที่ภาคอีสาน **{avg_priceNortheastHome:,}** บาท')"
      ],
      "metadata": {
        "colab": {
          "base_uri": "https://localhost:8080/"
        },
        "id": "qJUvX8MvMu_e",
        "outputId": "3e4e5dd5-b64f-44d5-b53f-d182ad055807"
      },
      "execution_count": 17,
      "outputs": [
        {
          "output_type": "stream",
          "name": "stdout",
          "text": [
            "(583, 45)\n",
            "********************************************************************************\n",
            "ราคาบ้านเฉลี่ยในโครงการพื้นที่ภาคอีสาน **2,815,397.7280550776** บาท\n"
          ]
        }
      ]
    },
    {
      "cell_type": "markdown",
      "source": [
        "- เรียงลำดับราคาเฉลี่ยของบ้านจากถูกสุดไปแพงที่สุด"
      ],
      "metadata": {
        "id": "KbS1aLnAVOLk"
      }
    },
    {
      "cell_type": "code",
      "source": [
        "# Create dictionary\n",
        "dict_price = {'North': avg_priceNortHome, 'South':avg_priceSouthHome, 'Northeast': avg_priceNortheastHome}\n",
        "#dict_price\n",
        "# dictionary sorted by value\n",
        "sorted_price = OrderedDict(sorted(dict_price.items(), key=lambda t: t[1]))\n",
        "price_item = list(sorted_price.items())\n",
        "print(price_item)\n",
        "print('*'*80)\n",
        "print('ราคาบ้านในภาคเหนือ ใต้ และ อีสานเรียงลำดับจาก *ถูกที่สุด* ไป *แพงที่สุด*')\n",
        "for i in range(len(price_item)):\n",
        "    ph = price_item[i]\n",
        "    print('-'*50)\n",
        "    print(f'ภาค {ph[0]} ราคา {ph[1]:,} บาท')"
      ],
      "metadata": {
        "colab": {
          "base_uri": "https://localhost:8080/"
        },
        "id": "6uK3iy3BMvBq",
        "outputId": "8d11e9ce-16e4-4830-8ad8-dba8864dc65f"
      },
      "execution_count": 44,
      "outputs": [
        {
          "output_type": "stream",
          "name": "stdout",
          "text": [
            "[('Northeast', 2815397.7280550776), ('North', 3225139.4566854993), ('South', 3434315.785714286)]\n",
            "********************************************************************************\n",
            "ราคาบ้านในภาคเหนือ ใต้ และ อีสานเรียงลำดับจาก *ถูกที่สุด* ไป *แพงที่สุด*\n",
            "--------------------------------------------------\n",
            "ภาค Northeast ราคา 2,815,397.7280550776 บาท\n",
            "--------------------------------------------------\n",
            "ภาค North ราคา 3,225,139.4566854993 บาท\n",
            "--------------------------------------------------\n",
            "ภาค South ราคา 3,434,315.785714286 บาท\n"
          ]
        }
      ]
    },
    {
      "cell_type": "markdown",
      "source": [
        "> ### ✨**ตอบ**\n",
        "**บ้านในภาคใต้แพงที่สุด รองลงมาคือภาคเหนือ และถูกที่สุดคือภาคอีสาน**"
      ],
      "metadata": {
        "id": "uZ4JBDwuU3yM"
      }
    },
    {
      "cell_type": "markdown",
      "source": [
        "\n",
        "\n",
        "---\n",
        "\n",
        "\n",
        "\n",
        "---\n",
        "\n"
      ],
      "metadata": {
        "id": "CQKJsAPqaT6h"
      }
    },
    {
      "cell_type": "markdown",
      "source": [
        "### **9. ความหลากหลายของโครงการในขอนแก่น เทียบกับ ชลบุรี (propertytype_name_th)**"
      ],
      "metadata": {
        "id": "Bs90pr7a3aBP"
      }
    },
    {
      "cell_type": "code",
      "source": [
        "# โครงการในขอนแก่น\n",
        "project_kk = project_df2[project_df2['province_name_th'] == 'ขอนแก่น']\n",
        "print(project_kk.shape)\n",
        "print('*'*80)\n",
        "# แสดงประเภทของโครงการที่มีทั้งหมดในจังหวัดขอนแก่น\n",
        "type_name_kk = project_kk['propertytype_name_th']\n",
        "print(f'จำนวนประเภทของโครงการที่มีทั้งหมดในขอนแก่น **{len(list(set(type_name_kk)))}** ประเภท')\n",
        "print(f'ประเภทโครงการในขอนแก่นประกอบด้วย {list(set(type_name_kk))}')\n",
        "print('-'*80)\n",
        "print('\\n')\n",
        "# โครงการในชลบุรี\n",
        "project_Chon = project_df2[project_df2['province_name_th'] == 'ชลบุรี']\n",
        "print(project_Chon.shape)\n",
        "print('*'*80)\n",
        "# แสดงประเภทของโครงการที่มีทั้งหมดในจังหวัดชลบุรี\n",
        "type_name_Chon = project_Chon['propertytype_name_th']\n",
        "print(f'จำนวนประเภทของโครงการที่มีทั้งหมดในชลบุรี **{len(list(set(type_name_Chon)))}** ประเภท')\n",
        "print(f'ประเภทโครงการในชลบุรีประกอบด้วย {list(set(type_name_Chon))}')\n",
        "print('-'*80)"
      ],
      "metadata": {
        "colab": {
          "base_uri": "https://localhost:8080/"
        },
        "id": "H4z6cEgz3Mr4",
        "outputId": "975d980b-6db1-414a-b460-47c61c52e169"
      },
      "execution_count": 50,
      "outputs": [
        {
          "output_type": "stream",
          "name": "stdout",
          "text": [
            "(617, 45)\n",
            "********************************************************************************\n",
            "จำนวนประเภทของโครงการที่มีทั้งหมดในขอนแก่น **6** ประเภท\n",
            "ประเภทโครงการในขอนแก่นประกอบด้วย ['คอนโด', 'บ้านแฝด', 'ทาวน์โฮม', 'บ้าน', 'โฮมออฟฟิศ', 'อาคารพาณิชย์']\n",
            "--------------------------------------------------------------------------------\n",
            "\n",
            "\n",
            "(2863, 45)\n",
            "********************************************************************************\n",
            "จำนวนประเภทของโครงการที่มีทั้งหมดในชลบุรี **8** ประเภท\n",
            "ประเภทโครงการในชลบุรีประกอบด้วย ['โรงแรม', 'คอนโด', 'บ้านแฝด', 'ทาวน์โฮม', 'อพาตเมนต์', 'บ้าน', 'โฮมออฟฟิศ', 'อาคารพาณิชย์']\n",
            "--------------------------------------------------------------------------------\n"
          ]
        }
      ]
    },
    {
      "cell_type": "code",
      "source": [
        "set_ytpe = set(type_name_Chon) - set(type_name_kk)\n",
        "print(f'----- ประเภทของโครงการที่ขอนแก่นไม่มีเหมือนชลบุรี คือ *{set_ytpe}* -----')"
      ],
      "metadata": {
        "colab": {
          "base_uri": "https://localhost:8080/"
        },
        "id": "8zxUIQehZEDJ",
        "outputId": "e97f49e6-65ef-4227-aaf8-abe77e12bfba"
      },
      "execution_count": 52,
      "outputs": [
        {
          "output_type": "stream",
          "name": "stdout",
          "text": [
            "----- ประเภทของโครงการที่ขอนแก่นไม่มีเหมือนชลบุรี คือ *{'โรงแรม', 'อพาตเมนต์'}* -----\n"
          ]
        }
      ]
    },
    {
      "cell_type": "markdown",
      "source": [
        "> ### ✨**ตอบ**\n",
        "- **ความหลากหลายของโครงการในขอนแก่น เทียบกับ ชลบุรี พบว่าความหลากหลายของโครงการในชลบุรี มากกว่า ขอนแก่น โดยชลบุรีมีโครงการทั้งหมด 8 ประเภท ในขณะที่ขอนแก่นมีโครงการ 6 ประเภท**\n",
        "- **ประเภทของโครงการที่ขอนแก่นไม่มีเหมือนชลบุรี คือ \"โรงแรม\" และ \"อพาตเมนต์\"**"
      ],
      "metadata": {
        "id": "Ju88w697XxwC"
      }
    },
    {
      "cell_type": "markdown",
      "source": [
        "\n",
        "\n",
        "---\n",
        "\n",
        "\n",
        "\n",
        "---\n",
        "\n"
      ],
      "metadata": {
        "id": "P8NU9bhZYt-N"
      }
    },
    {
      "cell_type": "code",
      "source": [
        ""
      ],
      "metadata": {
        "id": "clq_22x83NPh"
      },
      "execution_count": null,
      "outputs": []
    }
  ]
}