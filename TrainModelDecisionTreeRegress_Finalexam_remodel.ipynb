{
  "nbformat": 4,
  "nbformat_minor": 0,
  "metadata": {
    "colab": {
      "provenance": [],
      "collapsed_sections": [],
      "machine_shape": "hm",
      "include_colab_link": true
    },
    "kernelspec": {
      "name": "python3",
      "display_name": "Python 3"
    },
    "language_info": {
      "name": "python"
    },
    "accelerator": "GPU",
    "gpuClass": "standard"
  },
  "cells": [
    {
      "cell_type": "markdown",
      "metadata": {
        "id": "view-in-github",
        "colab_type": "text"
      },
      "source": [
        "<a href=\"https://colab.research.google.com/github/WiratchawaKannika/DPDM65/blob/main/TrainModelDecisionTreeRegress_Finalexam_remodel.ipynb\" target=\"_parent\"><img src=\"https://colab.research.google.com/assets/colab-badge.svg\" alt=\"Open In Colab\"/></a>"
      ]
    },
    {
      "cell_type": "code",
      "source": [
        "from google.colab import drive\n",
        "drive.mount('/content/drive')"
      ],
      "metadata": {
        "colab": {
          "base_uri": "https://localhost:8080/"
        },
        "id": "Fz__4D9vs6W4",
        "outputId": "5a38c46a-7727-41b2-94ea-227e4b5b1156"
      },
      "execution_count": null,
      "outputs": [
        {
          "output_type": "stream",
          "name": "stdout",
          "text": [
            "Mounted at /content/drive\n"
          ]
        }
      ]
    },
    {
      "cell_type": "code",
      "execution_count": null,
      "metadata": {
        "id": "MaRhwv8q5c5l"
      },
      "outputs": [],
      "source": [
        "import pandas as pd\n",
        "import numpy as np"
      ]
    },
    {
      "cell_type": "markdown",
      "source": [
        "# Train Model เพื่อทำนายราคาที่อยู่อาศัย"
      ],
      "metadata": {
        "id": "3BmmCe0c57pz"
      }
    },
    {
      "cell_type": "markdown",
      "source": [
        "## Import data set"
      ],
      "metadata": {
        "id": "Yw_6alTw6C0C"
      }
    },
    {
      "cell_type": "code",
      "source": [
        "df_train = pd.read_csv('/content/drive/MyDrive/DPDM65/Final/MyDataSet_Finalexam.csv')\n",
        "df_train = df_train.iloc[:,1:]\n",
        "print(df_train.shape)\n",
        "df_train.head()"
      ],
      "metadata": {
        "colab": {
          "base_uri": "https://localhost:8080/",
          "height": 392
        },
        "id": "dFAKsM2z5pbm",
        "outputId": "78129960-b6a6-46a4-bf88-238e22bef6d4"
      },
      "execution_count": null,
      "outputs": [
        {
          "output_type": "stream",
          "name": "stdout",
          "text": [
            "(2715, 19)\n"
          ]
        },
        {
          "output_type": "execute_result",
          "data": {
            "text/plain": [
              "        id province    district sub_district property_type  number_of_story  \\\n",
              "0  17441.0  ขอนแก่น          พล      เมืองพล        Office              0.0   \n",
              "1    536.0  ขอนแก่น          พล      เมืองพล        Office              0.0   \n",
              "2     11.0  ขอนแก่น          พล      เมืองพล        Office              0.0   \n",
              "3  18706.0  ขอนแก่น          พล      เมืองพล        Office              0.0   \n",
              "4   20342P  ขอนแก่น  เขาสวนกวาง   เขาสวนกวาง        Office              0.0   \n",
              "\n",
              "   number_of_bedroom  number_of_bathroom  number_of_parking  central_cost  \\\n",
              "0                0.0                 0.0                0.0           0.0   \n",
              "1                0.0                 0.0                0.0           0.0   \n",
              "2                0.0                 0.0                0.0           0.0   \n",
              "3                0.0                 0.0                0.0           0.0   \n",
              "4                0.0                 0.0                0.0           0.0   \n",
              "\n",
              "   parking_percentage furniture  number_of_rai  number_of_ngan  number_of_va  \\\n",
              "0                 0.0        no            0.0             0.0          17.2   \n",
              "1                 0.0        no            0.0             0.0          17.8   \n",
              "2                 0.0       yes            0.0             0.0          50.6   \n",
              "3                 0.0        no            0.0             0.0          38.7   \n",
              "4                 0.0       yes            2.0             2.0          96.0   \n",
              "\n",
              "   usable_area  sell_price                         G_area   area  \n",
              "0          0.0   2100000.0             เมืองพล,พล,ขอนแก่น  0.172  \n",
              "1          0.0   2901000.0             เมืองพล,พล,ขอนแก่น  0.178  \n",
              "2        504.0  17000000.0             เมืองพล,พล,ขอนแก่น  0.506  \n",
              "3          0.0   3880000.0             เมืองพล,พล,ขอนแก่น  0.387  \n",
              "4        136.0  30000000.0  เขาสวนกวาง,เขาสวนกวาง,ขอนแก่น  3.460  "
            ],
            "text/html": [
              "\n",
              "  <div id=\"df-7a9832cf-29a9-43b6-80c8-1d48a3d5dd18\">\n",
              "    <div class=\"colab-df-container\">\n",
              "      <div>\n",
              "<style scoped>\n",
              "    .dataframe tbody tr th:only-of-type {\n",
              "        vertical-align: middle;\n",
              "    }\n",
              "\n",
              "    .dataframe tbody tr th {\n",
              "        vertical-align: top;\n",
              "    }\n",
              "\n",
              "    .dataframe thead th {\n",
              "        text-align: right;\n",
              "    }\n",
              "</style>\n",
              "<table border=\"1\" class=\"dataframe\">\n",
              "  <thead>\n",
              "    <tr style=\"text-align: right;\">\n",
              "      <th></th>\n",
              "      <th>id</th>\n",
              "      <th>province</th>\n",
              "      <th>district</th>\n",
              "      <th>sub_district</th>\n",
              "      <th>property_type</th>\n",
              "      <th>number_of_story</th>\n",
              "      <th>number_of_bedroom</th>\n",
              "      <th>number_of_bathroom</th>\n",
              "      <th>number_of_parking</th>\n",
              "      <th>central_cost</th>\n",
              "      <th>parking_percentage</th>\n",
              "      <th>furniture</th>\n",
              "      <th>number_of_rai</th>\n",
              "      <th>number_of_ngan</th>\n",
              "      <th>number_of_va</th>\n",
              "      <th>usable_area</th>\n",
              "      <th>sell_price</th>\n",
              "      <th>G_area</th>\n",
              "      <th>area</th>\n",
              "    </tr>\n",
              "  </thead>\n",
              "  <tbody>\n",
              "    <tr>\n",
              "      <th>0</th>\n",
              "      <td>17441.0</td>\n",
              "      <td>ขอนแก่น</td>\n",
              "      <td>พล</td>\n",
              "      <td>เมืองพล</td>\n",
              "      <td>Office</td>\n",
              "      <td>0.0</td>\n",
              "      <td>0.0</td>\n",
              "      <td>0.0</td>\n",
              "      <td>0.0</td>\n",
              "      <td>0.0</td>\n",
              "      <td>0.0</td>\n",
              "      <td>no</td>\n",
              "      <td>0.0</td>\n",
              "      <td>0.0</td>\n",
              "      <td>17.2</td>\n",
              "      <td>0.0</td>\n",
              "      <td>2100000.0</td>\n",
              "      <td>เมืองพล,พล,ขอนแก่น</td>\n",
              "      <td>0.172</td>\n",
              "    </tr>\n",
              "    <tr>\n",
              "      <th>1</th>\n",
              "      <td>536.0</td>\n",
              "      <td>ขอนแก่น</td>\n",
              "      <td>พล</td>\n",
              "      <td>เมืองพล</td>\n",
              "      <td>Office</td>\n",
              "      <td>0.0</td>\n",
              "      <td>0.0</td>\n",
              "      <td>0.0</td>\n",
              "      <td>0.0</td>\n",
              "      <td>0.0</td>\n",
              "      <td>0.0</td>\n",
              "      <td>no</td>\n",
              "      <td>0.0</td>\n",
              "      <td>0.0</td>\n",
              "      <td>17.8</td>\n",
              "      <td>0.0</td>\n",
              "      <td>2901000.0</td>\n",
              "      <td>เมืองพล,พล,ขอนแก่น</td>\n",
              "      <td>0.178</td>\n",
              "    </tr>\n",
              "    <tr>\n",
              "      <th>2</th>\n",
              "      <td>11.0</td>\n",
              "      <td>ขอนแก่น</td>\n",
              "      <td>พล</td>\n",
              "      <td>เมืองพล</td>\n",
              "      <td>Office</td>\n",
              "      <td>0.0</td>\n",
              "      <td>0.0</td>\n",
              "      <td>0.0</td>\n",
              "      <td>0.0</td>\n",
              "      <td>0.0</td>\n",
              "      <td>0.0</td>\n",
              "      <td>yes</td>\n",
              "      <td>0.0</td>\n",
              "      <td>0.0</td>\n",
              "      <td>50.6</td>\n",
              "      <td>504.0</td>\n",
              "      <td>17000000.0</td>\n",
              "      <td>เมืองพล,พล,ขอนแก่น</td>\n",
              "      <td>0.506</td>\n",
              "    </tr>\n",
              "    <tr>\n",
              "      <th>3</th>\n",
              "      <td>18706.0</td>\n",
              "      <td>ขอนแก่น</td>\n",
              "      <td>พล</td>\n",
              "      <td>เมืองพล</td>\n",
              "      <td>Office</td>\n",
              "      <td>0.0</td>\n",
              "      <td>0.0</td>\n",
              "      <td>0.0</td>\n",
              "      <td>0.0</td>\n",
              "      <td>0.0</td>\n",
              "      <td>0.0</td>\n",
              "      <td>no</td>\n",
              "      <td>0.0</td>\n",
              "      <td>0.0</td>\n",
              "      <td>38.7</td>\n",
              "      <td>0.0</td>\n",
              "      <td>3880000.0</td>\n",
              "      <td>เมืองพล,พล,ขอนแก่น</td>\n",
              "      <td>0.387</td>\n",
              "    </tr>\n",
              "    <tr>\n",
              "      <th>4</th>\n",
              "      <td>20342P</td>\n",
              "      <td>ขอนแก่น</td>\n",
              "      <td>เขาสวนกวาง</td>\n",
              "      <td>เขาสวนกวาง</td>\n",
              "      <td>Office</td>\n",
              "      <td>0.0</td>\n",
              "      <td>0.0</td>\n",
              "      <td>0.0</td>\n",
              "      <td>0.0</td>\n",
              "      <td>0.0</td>\n",
              "      <td>0.0</td>\n",
              "      <td>yes</td>\n",
              "      <td>2.0</td>\n",
              "      <td>2.0</td>\n",
              "      <td>96.0</td>\n",
              "      <td>136.0</td>\n",
              "      <td>30000000.0</td>\n",
              "      <td>เขาสวนกวาง,เขาสวนกวาง,ขอนแก่น</td>\n",
              "      <td>3.460</td>\n",
              "    </tr>\n",
              "  </tbody>\n",
              "</table>\n",
              "</div>\n",
              "      <button class=\"colab-df-convert\" onclick=\"convertToInteractive('df-7a9832cf-29a9-43b6-80c8-1d48a3d5dd18')\"\n",
              "              title=\"Convert this dataframe to an interactive table.\"\n",
              "              style=\"display:none;\">\n",
              "        \n",
              "  <svg xmlns=\"http://www.w3.org/2000/svg\" height=\"24px\"viewBox=\"0 0 24 24\"\n",
              "       width=\"24px\">\n",
              "    <path d=\"M0 0h24v24H0V0z\" fill=\"none\"/>\n",
              "    <path d=\"M18.56 5.44l.94 2.06.94-2.06 2.06-.94-2.06-.94-.94-2.06-.94 2.06-2.06.94zm-11 1L8.5 8.5l.94-2.06 2.06-.94-2.06-.94L8.5 2.5l-.94 2.06-2.06.94zm10 10l.94 2.06.94-2.06 2.06-.94-2.06-.94-.94-2.06-.94 2.06-2.06.94z\"/><path d=\"M17.41 7.96l-1.37-1.37c-.4-.4-.92-.59-1.43-.59-.52 0-1.04.2-1.43.59L10.3 9.45l-7.72 7.72c-.78.78-.78 2.05 0 2.83L4 21.41c.39.39.9.59 1.41.59.51 0 1.02-.2 1.41-.59l7.78-7.78 2.81-2.81c.8-.78.8-2.07 0-2.86zM5.41 20L4 18.59l7.72-7.72 1.47 1.35L5.41 20z\"/>\n",
              "  </svg>\n",
              "      </button>\n",
              "      \n",
              "  <style>\n",
              "    .colab-df-container {\n",
              "      display:flex;\n",
              "      flex-wrap:wrap;\n",
              "      gap: 12px;\n",
              "    }\n",
              "\n",
              "    .colab-df-convert {\n",
              "      background-color: #E8F0FE;\n",
              "      border: none;\n",
              "      border-radius: 50%;\n",
              "      cursor: pointer;\n",
              "      display: none;\n",
              "      fill: #1967D2;\n",
              "      height: 32px;\n",
              "      padding: 0 0 0 0;\n",
              "      width: 32px;\n",
              "    }\n",
              "\n",
              "    .colab-df-convert:hover {\n",
              "      background-color: #E2EBFA;\n",
              "      box-shadow: 0px 1px 2px rgba(60, 64, 67, 0.3), 0px 1px 3px 1px rgba(60, 64, 67, 0.15);\n",
              "      fill: #174EA6;\n",
              "    }\n",
              "\n",
              "    [theme=dark] .colab-df-convert {\n",
              "      background-color: #3B4455;\n",
              "      fill: #D2E3FC;\n",
              "    }\n",
              "\n",
              "    [theme=dark] .colab-df-convert:hover {\n",
              "      background-color: #434B5C;\n",
              "      box-shadow: 0px 1px 3px 1px rgba(0, 0, 0, 0.15);\n",
              "      filter: drop-shadow(0px 1px 2px rgba(0, 0, 0, 0.3));\n",
              "      fill: #FFFFFF;\n",
              "    }\n",
              "  </style>\n",
              "\n",
              "      <script>\n",
              "        const buttonEl =\n",
              "          document.querySelector('#df-7a9832cf-29a9-43b6-80c8-1d48a3d5dd18 button.colab-df-convert');\n",
              "        buttonEl.style.display =\n",
              "          google.colab.kernel.accessAllowed ? 'block' : 'none';\n",
              "\n",
              "        async function convertToInteractive(key) {\n",
              "          const element = document.querySelector('#df-7a9832cf-29a9-43b6-80c8-1d48a3d5dd18');\n",
              "          const dataTable =\n",
              "            await google.colab.kernel.invokeFunction('convertToInteractive',\n",
              "                                                     [key], {});\n",
              "          if (!dataTable) return;\n",
              "\n",
              "          const docLinkHtml = 'Like what you see? Visit the ' +\n",
              "            '<a target=\"_blank\" href=https://colab.research.google.com/notebooks/data_table.ipynb>data table notebook</a>'\n",
              "            + ' to learn more about interactive tables.';\n",
              "          element.innerHTML = '';\n",
              "          dataTable['output_type'] = 'display_data';\n",
              "          await google.colab.output.renderOutput(dataTable, element);\n",
              "          const docLink = document.createElement('div');\n",
              "          docLink.innerHTML = docLinkHtml;\n",
              "          element.appendChild(docLink);\n",
              "        }\n",
              "      </script>\n",
              "    </div>\n",
              "  </div>\n",
              "  "
            ]
          },
          "metadata": {},
          "execution_count": 27
        }
      ]
    },
    {
      "cell_type": "markdown",
      "source": [
        "## Data Preparation"
      ],
      "metadata": {
        "id": "Zx2Vaaey74AS"
      }
    },
    {
      "cell_type": "markdown",
      "source": [
        "### Dummy variable"
      ],
      "metadata": {
        "id": "vC76117D-eXD"
      }
    },
    {
      "cell_type": "code",
      "source": [
        "colName = ['property_type',\t'furniture', 'number_of_story',\t'number_of_bedroom',\t'number_of_bathroom',\n",
        "              \t'number_of_parking',\t'central_cost',\t'parking_percentage',\t'area',\t'usable_area','sell_price']\n",
        "df_train = df_train[colName]\n",
        "df_train.head()"
      ],
      "metadata": {
        "colab": {
          "base_uri": "https://localhost:8080/",
          "height": 270
        },
        "id": "YF3QD5c05pdl",
        "outputId": "ee42ecee-1a34-4443-e2da-177eb05cfff0"
      },
      "execution_count": null,
      "outputs": [
        {
          "output_type": "execute_result",
          "data": {
            "text/plain": [
              "  property_type furniture  number_of_story  number_of_bedroom  \\\n",
              "0        Office        no              0.0                0.0   \n",
              "1        Office        no              0.0                0.0   \n",
              "2        Office       yes              0.0                0.0   \n",
              "3        Office        no              0.0                0.0   \n",
              "4        Office       yes              0.0                0.0   \n",
              "\n",
              "   number_of_bathroom  number_of_parking  central_cost  parking_percentage  \\\n",
              "0                 0.0                0.0           0.0                 0.0   \n",
              "1                 0.0                0.0           0.0                 0.0   \n",
              "2                 0.0                0.0           0.0                 0.0   \n",
              "3                 0.0                0.0           0.0                 0.0   \n",
              "4                 0.0                0.0           0.0                 0.0   \n",
              "\n",
              "    area  usable_area  sell_price  \n",
              "0  0.172          0.0   2100000.0  \n",
              "1  0.178          0.0   2901000.0  \n",
              "2  0.506        504.0  17000000.0  \n",
              "3  0.387          0.0   3880000.0  \n",
              "4  3.460        136.0  30000000.0  "
            ],
            "text/html": [
              "\n",
              "  <div id=\"df-6304172a-787f-4058-897e-ec42b6940544\">\n",
              "    <div class=\"colab-df-container\">\n",
              "      <div>\n",
              "<style scoped>\n",
              "    .dataframe tbody tr th:only-of-type {\n",
              "        vertical-align: middle;\n",
              "    }\n",
              "\n",
              "    .dataframe tbody tr th {\n",
              "        vertical-align: top;\n",
              "    }\n",
              "\n",
              "    .dataframe thead th {\n",
              "        text-align: right;\n",
              "    }\n",
              "</style>\n",
              "<table border=\"1\" class=\"dataframe\">\n",
              "  <thead>\n",
              "    <tr style=\"text-align: right;\">\n",
              "      <th></th>\n",
              "      <th>property_type</th>\n",
              "      <th>furniture</th>\n",
              "      <th>number_of_story</th>\n",
              "      <th>number_of_bedroom</th>\n",
              "      <th>number_of_bathroom</th>\n",
              "      <th>number_of_parking</th>\n",
              "      <th>central_cost</th>\n",
              "      <th>parking_percentage</th>\n",
              "      <th>area</th>\n",
              "      <th>usable_area</th>\n",
              "      <th>sell_price</th>\n",
              "    </tr>\n",
              "  </thead>\n",
              "  <tbody>\n",
              "    <tr>\n",
              "      <th>0</th>\n",
              "      <td>Office</td>\n",
              "      <td>no</td>\n",
              "      <td>0.0</td>\n",
              "      <td>0.0</td>\n",
              "      <td>0.0</td>\n",
              "      <td>0.0</td>\n",
              "      <td>0.0</td>\n",
              "      <td>0.0</td>\n",
              "      <td>0.172</td>\n",
              "      <td>0.0</td>\n",
              "      <td>2100000.0</td>\n",
              "    </tr>\n",
              "    <tr>\n",
              "      <th>1</th>\n",
              "      <td>Office</td>\n",
              "      <td>no</td>\n",
              "      <td>0.0</td>\n",
              "      <td>0.0</td>\n",
              "      <td>0.0</td>\n",
              "      <td>0.0</td>\n",
              "      <td>0.0</td>\n",
              "      <td>0.0</td>\n",
              "      <td>0.178</td>\n",
              "      <td>0.0</td>\n",
              "      <td>2901000.0</td>\n",
              "    </tr>\n",
              "    <tr>\n",
              "      <th>2</th>\n",
              "      <td>Office</td>\n",
              "      <td>yes</td>\n",
              "      <td>0.0</td>\n",
              "      <td>0.0</td>\n",
              "      <td>0.0</td>\n",
              "      <td>0.0</td>\n",
              "      <td>0.0</td>\n",
              "      <td>0.0</td>\n",
              "      <td>0.506</td>\n",
              "      <td>504.0</td>\n",
              "      <td>17000000.0</td>\n",
              "    </tr>\n",
              "    <tr>\n",
              "      <th>3</th>\n",
              "      <td>Office</td>\n",
              "      <td>no</td>\n",
              "      <td>0.0</td>\n",
              "      <td>0.0</td>\n",
              "      <td>0.0</td>\n",
              "      <td>0.0</td>\n",
              "      <td>0.0</td>\n",
              "      <td>0.0</td>\n",
              "      <td>0.387</td>\n",
              "      <td>0.0</td>\n",
              "      <td>3880000.0</td>\n",
              "    </tr>\n",
              "    <tr>\n",
              "      <th>4</th>\n",
              "      <td>Office</td>\n",
              "      <td>yes</td>\n",
              "      <td>0.0</td>\n",
              "      <td>0.0</td>\n",
              "      <td>0.0</td>\n",
              "      <td>0.0</td>\n",
              "      <td>0.0</td>\n",
              "      <td>0.0</td>\n",
              "      <td>3.460</td>\n",
              "      <td>136.0</td>\n",
              "      <td>30000000.0</td>\n",
              "    </tr>\n",
              "  </tbody>\n",
              "</table>\n",
              "</div>\n",
              "      <button class=\"colab-df-convert\" onclick=\"convertToInteractive('df-6304172a-787f-4058-897e-ec42b6940544')\"\n",
              "              title=\"Convert this dataframe to an interactive table.\"\n",
              "              style=\"display:none;\">\n",
              "        \n",
              "  <svg xmlns=\"http://www.w3.org/2000/svg\" height=\"24px\"viewBox=\"0 0 24 24\"\n",
              "       width=\"24px\">\n",
              "    <path d=\"M0 0h24v24H0V0z\" fill=\"none\"/>\n",
              "    <path d=\"M18.56 5.44l.94 2.06.94-2.06 2.06-.94-2.06-.94-.94-2.06-.94 2.06-2.06.94zm-11 1L8.5 8.5l.94-2.06 2.06-.94-2.06-.94L8.5 2.5l-.94 2.06-2.06.94zm10 10l.94 2.06.94-2.06 2.06-.94-2.06-.94-.94-2.06-.94 2.06-2.06.94z\"/><path d=\"M17.41 7.96l-1.37-1.37c-.4-.4-.92-.59-1.43-.59-.52 0-1.04.2-1.43.59L10.3 9.45l-7.72 7.72c-.78.78-.78 2.05 0 2.83L4 21.41c.39.39.9.59 1.41.59.51 0 1.02-.2 1.41-.59l7.78-7.78 2.81-2.81c.8-.78.8-2.07 0-2.86zM5.41 20L4 18.59l7.72-7.72 1.47 1.35L5.41 20z\"/>\n",
              "  </svg>\n",
              "      </button>\n",
              "      \n",
              "  <style>\n",
              "    .colab-df-container {\n",
              "      display:flex;\n",
              "      flex-wrap:wrap;\n",
              "      gap: 12px;\n",
              "    }\n",
              "\n",
              "    .colab-df-convert {\n",
              "      background-color: #E8F0FE;\n",
              "      border: none;\n",
              "      border-radius: 50%;\n",
              "      cursor: pointer;\n",
              "      display: none;\n",
              "      fill: #1967D2;\n",
              "      height: 32px;\n",
              "      padding: 0 0 0 0;\n",
              "      width: 32px;\n",
              "    }\n",
              "\n",
              "    .colab-df-convert:hover {\n",
              "      background-color: #E2EBFA;\n",
              "      box-shadow: 0px 1px 2px rgba(60, 64, 67, 0.3), 0px 1px 3px 1px rgba(60, 64, 67, 0.15);\n",
              "      fill: #174EA6;\n",
              "    }\n",
              "\n",
              "    [theme=dark] .colab-df-convert {\n",
              "      background-color: #3B4455;\n",
              "      fill: #D2E3FC;\n",
              "    }\n",
              "\n",
              "    [theme=dark] .colab-df-convert:hover {\n",
              "      background-color: #434B5C;\n",
              "      box-shadow: 0px 1px 3px 1px rgba(0, 0, 0, 0.15);\n",
              "      filter: drop-shadow(0px 1px 2px rgba(0, 0, 0, 0.3));\n",
              "      fill: #FFFFFF;\n",
              "    }\n",
              "  </style>\n",
              "\n",
              "      <script>\n",
              "        const buttonEl =\n",
              "          document.querySelector('#df-6304172a-787f-4058-897e-ec42b6940544 button.colab-df-convert');\n",
              "        buttonEl.style.display =\n",
              "          google.colab.kernel.accessAllowed ? 'block' : 'none';\n",
              "\n",
              "        async function convertToInteractive(key) {\n",
              "          const element = document.querySelector('#df-6304172a-787f-4058-897e-ec42b6940544');\n",
              "          const dataTable =\n",
              "            await google.colab.kernel.invokeFunction('convertToInteractive',\n",
              "                                                     [key], {});\n",
              "          if (!dataTable) return;\n",
              "\n",
              "          const docLinkHtml = 'Like what you see? Visit the ' +\n",
              "            '<a target=\"_blank\" href=https://colab.research.google.com/notebooks/data_table.ipynb>data table notebook</a>'\n",
              "            + ' to learn more about interactive tables.';\n",
              "          element.innerHTML = '';\n",
              "          dataTable['output_type'] = 'display_data';\n",
              "          await google.colab.output.renderOutput(dataTable, element);\n",
              "          const docLink = document.createElement('div');\n",
              "          docLink.innerHTML = docLinkHtml;\n",
              "          element.appendChild(docLink);\n",
              "        }\n",
              "      </script>\n",
              "    </div>\n",
              "  </div>\n",
              "  "
            ]
          },
          "metadata": {},
          "execution_count": 28
        }
      ]
    },
    {
      "cell_type": "code",
      "source": [
        "# Dummy variable\n",
        "categorical = ['property_type', 'furniture']\n",
        "df_encode = pd.get_dummies(data = df_train,  columns = categorical, drop_first =True)\n",
        "print(df_encode.shape)\n",
        "df_encode.head()"
      ],
      "metadata": {
        "colab": {
          "base_uri": "https://localhost:8080/",
          "height": 287
        },
        "id": "YkDXH02R-dsW",
        "outputId": "0f9d4f4d-b0c0-4339-bf67-a259a28f137b"
      },
      "execution_count": null,
      "outputs": [
        {
          "output_type": "stream",
          "name": "stdout",
          "text": [
            "(2715, 15)\n"
          ]
        },
        {
          "output_type": "execute_result",
          "data": {
            "text/plain": [
              "   number_of_story  number_of_bedroom  number_of_bathroom  number_of_parking  \\\n",
              "0              0.0                0.0                 0.0                0.0   \n",
              "1              0.0                0.0                 0.0                0.0   \n",
              "2              0.0                0.0                 0.0                0.0   \n",
              "3              0.0                0.0                 0.0                0.0   \n",
              "4              0.0                0.0                 0.0                0.0   \n",
              "\n",
              "   central_cost  parking_percentage   area  usable_area  sell_price  \\\n",
              "0           0.0                 0.0  0.172          0.0   2100000.0   \n",
              "1           0.0                 0.0  0.178          0.0   2901000.0   \n",
              "2           0.0                 0.0  0.506        504.0  17000000.0   \n",
              "3           0.0                 0.0  0.387          0.0   3880000.0   \n",
              "4           0.0                 0.0  3.460        136.0  30000000.0   \n",
              "\n",
              "   property_type_House  property_type_Land  property_type_Office  \\\n",
              "0                    0                   0                     1   \n",
              "1                    0                   0                     1   \n",
              "2                    0                   0                     1   \n",
              "3                    0                   0                     1   \n",
              "4                    0                   0                     1   \n",
              "\n",
              "   property_type_TownHome  property_type_TwinHouse  furniture_yes  \n",
              "0                       0                        0              0  \n",
              "1                       0                        0              0  \n",
              "2                       0                        0              1  \n",
              "3                       0                        0              0  \n",
              "4                       0                        0              1  "
            ],
            "text/html": [
              "\n",
              "  <div id=\"df-093fc152-b53a-4064-a45a-de0ca2d019d2\">\n",
              "    <div class=\"colab-df-container\">\n",
              "      <div>\n",
              "<style scoped>\n",
              "    .dataframe tbody tr th:only-of-type {\n",
              "        vertical-align: middle;\n",
              "    }\n",
              "\n",
              "    .dataframe tbody tr th {\n",
              "        vertical-align: top;\n",
              "    }\n",
              "\n",
              "    .dataframe thead th {\n",
              "        text-align: right;\n",
              "    }\n",
              "</style>\n",
              "<table border=\"1\" class=\"dataframe\">\n",
              "  <thead>\n",
              "    <tr style=\"text-align: right;\">\n",
              "      <th></th>\n",
              "      <th>number_of_story</th>\n",
              "      <th>number_of_bedroom</th>\n",
              "      <th>number_of_bathroom</th>\n",
              "      <th>number_of_parking</th>\n",
              "      <th>central_cost</th>\n",
              "      <th>parking_percentage</th>\n",
              "      <th>area</th>\n",
              "      <th>usable_area</th>\n",
              "      <th>sell_price</th>\n",
              "      <th>property_type_House</th>\n",
              "      <th>property_type_Land</th>\n",
              "      <th>property_type_Office</th>\n",
              "      <th>property_type_TownHome</th>\n",
              "      <th>property_type_TwinHouse</th>\n",
              "      <th>furniture_yes</th>\n",
              "    </tr>\n",
              "  </thead>\n",
              "  <tbody>\n",
              "    <tr>\n",
              "      <th>0</th>\n",
              "      <td>0.0</td>\n",
              "      <td>0.0</td>\n",
              "      <td>0.0</td>\n",
              "      <td>0.0</td>\n",
              "      <td>0.0</td>\n",
              "      <td>0.0</td>\n",
              "      <td>0.172</td>\n",
              "      <td>0.0</td>\n",
              "      <td>2100000.0</td>\n",
              "      <td>0</td>\n",
              "      <td>0</td>\n",
              "      <td>1</td>\n",
              "      <td>0</td>\n",
              "      <td>0</td>\n",
              "      <td>0</td>\n",
              "    </tr>\n",
              "    <tr>\n",
              "      <th>1</th>\n",
              "      <td>0.0</td>\n",
              "      <td>0.0</td>\n",
              "      <td>0.0</td>\n",
              "      <td>0.0</td>\n",
              "      <td>0.0</td>\n",
              "      <td>0.0</td>\n",
              "      <td>0.178</td>\n",
              "      <td>0.0</td>\n",
              "      <td>2901000.0</td>\n",
              "      <td>0</td>\n",
              "      <td>0</td>\n",
              "      <td>1</td>\n",
              "      <td>0</td>\n",
              "      <td>0</td>\n",
              "      <td>0</td>\n",
              "    </tr>\n",
              "    <tr>\n",
              "      <th>2</th>\n",
              "      <td>0.0</td>\n",
              "      <td>0.0</td>\n",
              "      <td>0.0</td>\n",
              "      <td>0.0</td>\n",
              "      <td>0.0</td>\n",
              "      <td>0.0</td>\n",
              "      <td>0.506</td>\n",
              "      <td>504.0</td>\n",
              "      <td>17000000.0</td>\n",
              "      <td>0</td>\n",
              "      <td>0</td>\n",
              "      <td>1</td>\n",
              "      <td>0</td>\n",
              "      <td>0</td>\n",
              "      <td>1</td>\n",
              "    </tr>\n",
              "    <tr>\n",
              "      <th>3</th>\n",
              "      <td>0.0</td>\n",
              "      <td>0.0</td>\n",
              "      <td>0.0</td>\n",
              "      <td>0.0</td>\n",
              "      <td>0.0</td>\n",
              "      <td>0.0</td>\n",
              "      <td>0.387</td>\n",
              "      <td>0.0</td>\n",
              "      <td>3880000.0</td>\n",
              "      <td>0</td>\n",
              "      <td>0</td>\n",
              "      <td>1</td>\n",
              "      <td>0</td>\n",
              "      <td>0</td>\n",
              "      <td>0</td>\n",
              "    </tr>\n",
              "    <tr>\n",
              "      <th>4</th>\n",
              "      <td>0.0</td>\n",
              "      <td>0.0</td>\n",
              "      <td>0.0</td>\n",
              "      <td>0.0</td>\n",
              "      <td>0.0</td>\n",
              "      <td>0.0</td>\n",
              "      <td>3.460</td>\n",
              "      <td>136.0</td>\n",
              "      <td>30000000.0</td>\n",
              "      <td>0</td>\n",
              "      <td>0</td>\n",
              "      <td>1</td>\n",
              "      <td>0</td>\n",
              "      <td>0</td>\n",
              "      <td>1</td>\n",
              "    </tr>\n",
              "  </tbody>\n",
              "</table>\n",
              "</div>\n",
              "      <button class=\"colab-df-convert\" onclick=\"convertToInteractive('df-093fc152-b53a-4064-a45a-de0ca2d019d2')\"\n",
              "              title=\"Convert this dataframe to an interactive table.\"\n",
              "              style=\"display:none;\">\n",
              "        \n",
              "  <svg xmlns=\"http://www.w3.org/2000/svg\" height=\"24px\"viewBox=\"0 0 24 24\"\n",
              "       width=\"24px\">\n",
              "    <path d=\"M0 0h24v24H0V0z\" fill=\"none\"/>\n",
              "    <path d=\"M18.56 5.44l.94 2.06.94-2.06 2.06-.94-2.06-.94-.94-2.06-.94 2.06-2.06.94zm-11 1L8.5 8.5l.94-2.06 2.06-.94-2.06-.94L8.5 2.5l-.94 2.06-2.06.94zm10 10l.94 2.06.94-2.06 2.06-.94-2.06-.94-.94-2.06-.94 2.06-2.06.94z\"/><path d=\"M17.41 7.96l-1.37-1.37c-.4-.4-.92-.59-1.43-.59-.52 0-1.04.2-1.43.59L10.3 9.45l-7.72 7.72c-.78.78-.78 2.05 0 2.83L4 21.41c.39.39.9.59 1.41.59.51 0 1.02-.2 1.41-.59l7.78-7.78 2.81-2.81c.8-.78.8-2.07 0-2.86zM5.41 20L4 18.59l7.72-7.72 1.47 1.35L5.41 20z\"/>\n",
              "  </svg>\n",
              "      </button>\n",
              "      \n",
              "  <style>\n",
              "    .colab-df-container {\n",
              "      display:flex;\n",
              "      flex-wrap:wrap;\n",
              "      gap: 12px;\n",
              "    }\n",
              "\n",
              "    .colab-df-convert {\n",
              "      background-color: #E8F0FE;\n",
              "      border: none;\n",
              "      border-radius: 50%;\n",
              "      cursor: pointer;\n",
              "      display: none;\n",
              "      fill: #1967D2;\n",
              "      height: 32px;\n",
              "      padding: 0 0 0 0;\n",
              "      width: 32px;\n",
              "    }\n",
              "\n",
              "    .colab-df-convert:hover {\n",
              "      background-color: #E2EBFA;\n",
              "      box-shadow: 0px 1px 2px rgba(60, 64, 67, 0.3), 0px 1px 3px 1px rgba(60, 64, 67, 0.15);\n",
              "      fill: #174EA6;\n",
              "    }\n",
              "\n",
              "    [theme=dark] .colab-df-convert {\n",
              "      background-color: #3B4455;\n",
              "      fill: #D2E3FC;\n",
              "    }\n",
              "\n",
              "    [theme=dark] .colab-df-convert:hover {\n",
              "      background-color: #434B5C;\n",
              "      box-shadow: 0px 1px 3px 1px rgba(0, 0, 0, 0.15);\n",
              "      filter: drop-shadow(0px 1px 2px rgba(0, 0, 0, 0.3));\n",
              "      fill: #FFFFFF;\n",
              "    }\n",
              "  </style>\n",
              "\n",
              "      <script>\n",
              "        const buttonEl =\n",
              "          document.querySelector('#df-093fc152-b53a-4064-a45a-de0ca2d019d2 button.colab-df-convert');\n",
              "        buttonEl.style.display =\n",
              "          google.colab.kernel.accessAllowed ? 'block' : 'none';\n",
              "\n",
              "        async function convertToInteractive(key) {\n",
              "          const element = document.querySelector('#df-093fc152-b53a-4064-a45a-de0ca2d019d2');\n",
              "          const dataTable =\n",
              "            await google.colab.kernel.invokeFunction('convertToInteractive',\n",
              "                                                     [key], {});\n",
              "          if (!dataTable) return;\n",
              "\n",
              "          const docLinkHtml = 'Like what you see? Visit the ' +\n",
              "            '<a target=\"_blank\" href=https://colab.research.google.com/notebooks/data_table.ipynb>data table notebook</a>'\n",
              "            + ' to learn more about interactive tables.';\n",
              "          element.innerHTML = '';\n",
              "          dataTable['output_type'] = 'display_data';\n",
              "          await google.colab.output.renderOutput(dataTable, element);\n",
              "          const docLink = document.createElement('div');\n",
              "          docLink.innerHTML = docLinkHtml;\n",
              "          element.appendChild(docLink);\n",
              "        }\n",
              "      </script>\n",
              "    </div>\n",
              "  </div>\n",
              "  "
            ]
          },
          "metadata": {},
          "execution_count": 30
        }
      ]
    },
    {
      "cell_type": "markdown",
      "source": [
        "## Feature Selection"
      ],
      "metadata": {
        "id": "SchJaxfT_vx-"
      }
    },
    {
      "cell_type": "code",
      "source": [
        "from sklearn.ensemble import RandomForestRegressor\n",
        "from sklearn.model_selection import train_test_split\n",
        "from sklearn.metrics import mean_squared_error as mse\n",
        "from sklearn.metrics import mean_squared_error"
      ],
      "metadata": {
        "id": "Pj1SN0Ym5phb"
      },
      "execution_count": null,
      "outputs": []
    },
    {
      "cell_type": "markdown",
      "source": [
        "## Splitting the data into train and test data sets."
      ],
      "metadata": {
        "id": "9UiQrE2H_9LN"
      }
    },
    {
      "cell_type": "code",
      "source": [
        "X = df_encode.drop('sell_price',axis=1) # Independet variable\n",
        "y = df_encode['sell_price'] # dependent variable\n",
        "\n",
        "X_train, X_test, y_train, y_test = train_test_split(X, y, test_size=0.1,random_state=0)"
      ],
      "metadata": {
        "id": "75Jvbtam5pjZ"
      },
      "execution_count": null,
      "outputs": []
    },
    {
      "cell_type": "code",
      "source": [
        "# size of test data set\n",
        "print(X_train.shape)\n",
        "X_train.head()"
      ],
      "metadata": {
        "id": "ApqIRtCw5pk-",
        "colab": {
          "base_uri": "https://localhost:8080/",
          "height": 287
        },
        "outputId": "04baa90d-1f4a-4bad-86b9-236439a16d4b"
      },
      "execution_count": null,
      "outputs": [
        {
          "output_type": "stream",
          "name": "stdout",
          "text": [
            "(2443, 14)\n"
          ]
        },
        {
          "output_type": "execute_result",
          "data": {
            "text/plain": [
              "      number_of_story  number_of_bedroom  number_of_bathroom  \\\n",
              "1620              0.0                0.0                 0.0   \n",
              "654               0.0                0.0                 0.0   \n",
              "935               0.0                0.0                 0.0   \n",
              "977               0.0                0.0                 0.0   \n",
              "2174              0.0                0.0                 0.0   \n",
              "\n",
              "      number_of_parking  central_cost  parking_percentage    area  \\\n",
              "1620                0.0           0.0                 0.0   0.175   \n",
              "654                 0.0           0.0                 0.0   0.500   \n",
              "935                 0.0           0.0                 0.0   1.490   \n",
              "977                 0.0           0.0                 0.0   0.500   \n",
              "2174                0.0           0.0                 0.0  14.350   \n",
              "\n",
              "      usable_area  property_type_House  property_type_Land  \\\n",
              "1620          0.0                    0                   0   \n",
              "654          99.0                    1                   0   \n",
              "935           0.0                    1                   0   \n",
              "977          83.0                    1                   0   \n",
              "2174          0.0                    0                   1   \n",
              "\n",
              "      property_type_Office  property_type_TownHome  property_type_TwinHouse  \\\n",
              "1620                     0                       1                        0   \n",
              "654                      0                       0                        0   \n",
              "935                      0                       0                        0   \n",
              "977                      0                       0                        0   \n",
              "2174                     0                       0                        0   \n",
              "\n",
              "      furniture_yes  \n",
              "1620              0  \n",
              "654               1  \n",
              "935               0  \n",
              "977               0  \n",
              "2174              0  "
            ],
            "text/html": [
              "\n",
              "  <div id=\"df-4945da5d-ab16-4a63-87d2-0866eecbb286\">\n",
              "    <div class=\"colab-df-container\">\n",
              "      <div>\n",
              "<style scoped>\n",
              "    .dataframe tbody tr th:only-of-type {\n",
              "        vertical-align: middle;\n",
              "    }\n",
              "\n",
              "    .dataframe tbody tr th {\n",
              "        vertical-align: top;\n",
              "    }\n",
              "\n",
              "    .dataframe thead th {\n",
              "        text-align: right;\n",
              "    }\n",
              "</style>\n",
              "<table border=\"1\" class=\"dataframe\">\n",
              "  <thead>\n",
              "    <tr style=\"text-align: right;\">\n",
              "      <th></th>\n",
              "      <th>number_of_story</th>\n",
              "      <th>number_of_bedroom</th>\n",
              "      <th>number_of_bathroom</th>\n",
              "      <th>number_of_parking</th>\n",
              "      <th>central_cost</th>\n",
              "      <th>parking_percentage</th>\n",
              "      <th>area</th>\n",
              "      <th>usable_area</th>\n",
              "      <th>property_type_House</th>\n",
              "      <th>property_type_Land</th>\n",
              "      <th>property_type_Office</th>\n",
              "      <th>property_type_TownHome</th>\n",
              "      <th>property_type_TwinHouse</th>\n",
              "      <th>furniture_yes</th>\n",
              "    </tr>\n",
              "  </thead>\n",
              "  <tbody>\n",
              "    <tr>\n",
              "      <th>1620</th>\n",
              "      <td>0.0</td>\n",
              "      <td>0.0</td>\n",
              "      <td>0.0</td>\n",
              "      <td>0.0</td>\n",
              "      <td>0.0</td>\n",
              "      <td>0.0</td>\n",
              "      <td>0.175</td>\n",
              "      <td>0.0</td>\n",
              "      <td>0</td>\n",
              "      <td>0</td>\n",
              "      <td>0</td>\n",
              "      <td>1</td>\n",
              "      <td>0</td>\n",
              "      <td>0</td>\n",
              "    </tr>\n",
              "    <tr>\n",
              "      <th>654</th>\n",
              "      <td>0.0</td>\n",
              "      <td>0.0</td>\n",
              "      <td>0.0</td>\n",
              "      <td>0.0</td>\n",
              "      <td>0.0</td>\n",
              "      <td>0.0</td>\n",
              "      <td>0.500</td>\n",
              "      <td>99.0</td>\n",
              "      <td>1</td>\n",
              "      <td>0</td>\n",
              "      <td>0</td>\n",
              "      <td>0</td>\n",
              "      <td>0</td>\n",
              "      <td>1</td>\n",
              "    </tr>\n",
              "    <tr>\n",
              "      <th>935</th>\n",
              "      <td>0.0</td>\n",
              "      <td>0.0</td>\n",
              "      <td>0.0</td>\n",
              "      <td>0.0</td>\n",
              "      <td>0.0</td>\n",
              "      <td>0.0</td>\n",
              "      <td>1.490</td>\n",
              "      <td>0.0</td>\n",
              "      <td>1</td>\n",
              "      <td>0</td>\n",
              "      <td>0</td>\n",
              "      <td>0</td>\n",
              "      <td>0</td>\n",
              "      <td>0</td>\n",
              "    </tr>\n",
              "    <tr>\n",
              "      <th>977</th>\n",
              "      <td>0.0</td>\n",
              "      <td>0.0</td>\n",
              "      <td>0.0</td>\n",
              "      <td>0.0</td>\n",
              "      <td>0.0</td>\n",
              "      <td>0.0</td>\n",
              "      <td>0.500</td>\n",
              "      <td>83.0</td>\n",
              "      <td>1</td>\n",
              "      <td>0</td>\n",
              "      <td>0</td>\n",
              "      <td>0</td>\n",
              "      <td>0</td>\n",
              "      <td>0</td>\n",
              "    </tr>\n",
              "    <tr>\n",
              "      <th>2174</th>\n",
              "      <td>0.0</td>\n",
              "      <td>0.0</td>\n",
              "      <td>0.0</td>\n",
              "      <td>0.0</td>\n",
              "      <td>0.0</td>\n",
              "      <td>0.0</td>\n",
              "      <td>14.350</td>\n",
              "      <td>0.0</td>\n",
              "      <td>0</td>\n",
              "      <td>1</td>\n",
              "      <td>0</td>\n",
              "      <td>0</td>\n",
              "      <td>0</td>\n",
              "      <td>0</td>\n",
              "    </tr>\n",
              "  </tbody>\n",
              "</table>\n",
              "</div>\n",
              "      <button class=\"colab-df-convert\" onclick=\"convertToInteractive('df-4945da5d-ab16-4a63-87d2-0866eecbb286')\"\n",
              "              title=\"Convert this dataframe to an interactive table.\"\n",
              "              style=\"display:none;\">\n",
              "        \n",
              "  <svg xmlns=\"http://www.w3.org/2000/svg\" height=\"24px\"viewBox=\"0 0 24 24\"\n",
              "       width=\"24px\">\n",
              "    <path d=\"M0 0h24v24H0V0z\" fill=\"none\"/>\n",
              "    <path d=\"M18.56 5.44l.94 2.06.94-2.06 2.06-.94-2.06-.94-.94-2.06-.94 2.06-2.06.94zm-11 1L8.5 8.5l.94-2.06 2.06-.94-2.06-.94L8.5 2.5l-.94 2.06-2.06.94zm10 10l.94 2.06.94-2.06 2.06-.94-2.06-.94-.94-2.06-.94 2.06-2.06.94z\"/><path d=\"M17.41 7.96l-1.37-1.37c-.4-.4-.92-.59-1.43-.59-.52 0-1.04.2-1.43.59L10.3 9.45l-7.72 7.72c-.78.78-.78 2.05 0 2.83L4 21.41c.39.39.9.59 1.41.59.51 0 1.02-.2 1.41-.59l7.78-7.78 2.81-2.81c.8-.78.8-2.07 0-2.86zM5.41 20L4 18.59l7.72-7.72 1.47 1.35L5.41 20z\"/>\n",
              "  </svg>\n",
              "      </button>\n",
              "      \n",
              "  <style>\n",
              "    .colab-df-container {\n",
              "      display:flex;\n",
              "      flex-wrap:wrap;\n",
              "      gap: 12px;\n",
              "    }\n",
              "\n",
              "    .colab-df-convert {\n",
              "      background-color: #E8F0FE;\n",
              "      border: none;\n",
              "      border-radius: 50%;\n",
              "      cursor: pointer;\n",
              "      display: none;\n",
              "      fill: #1967D2;\n",
              "      height: 32px;\n",
              "      padding: 0 0 0 0;\n",
              "      width: 32px;\n",
              "    }\n",
              "\n",
              "    .colab-df-convert:hover {\n",
              "      background-color: #E2EBFA;\n",
              "      box-shadow: 0px 1px 2px rgba(60, 64, 67, 0.3), 0px 1px 3px 1px rgba(60, 64, 67, 0.15);\n",
              "      fill: #174EA6;\n",
              "    }\n",
              "\n",
              "    [theme=dark] .colab-df-convert {\n",
              "      background-color: #3B4455;\n",
              "      fill: #D2E3FC;\n",
              "    }\n",
              "\n",
              "    [theme=dark] .colab-df-convert:hover {\n",
              "      background-color: #434B5C;\n",
              "      box-shadow: 0px 1px 3px 1px rgba(0, 0, 0, 0.15);\n",
              "      filter: drop-shadow(0px 1px 2px rgba(0, 0, 0, 0.3));\n",
              "      fill: #FFFFFF;\n",
              "    }\n",
              "  </style>\n",
              "\n",
              "      <script>\n",
              "        const buttonEl =\n",
              "          document.querySelector('#df-4945da5d-ab16-4a63-87d2-0866eecbb286 button.colab-df-convert');\n",
              "        buttonEl.style.display =\n",
              "          google.colab.kernel.accessAllowed ? 'block' : 'none';\n",
              "\n",
              "        async function convertToInteractive(key) {\n",
              "          const element = document.querySelector('#df-4945da5d-ab16-4a63-87d2-0866eecbb286');\n",
              "          const dataTable =\n",
              "            await google.colab.kernel.invokeFunction('convertToInteractive',\n",
              "                                                     [key], {});\n",
              "          if (!dataTable) return;\n",
              "\n",
              "          const docLinkHtml = 'Like what you see? Visit the ' +\n",
              "            '<a target=\"_blank\" href=https://colab.research.google.com/notebooks/data_table.ipynb>data table notebook</a>'\n",
              "            + ' to learn more about interactive tables.';\n",
              "          element.innerHTML = '';\n",
              "          dataTable['output_type'] = 'display_data';\n",
              "          await google.colab.output.renderOutput(dataTable, element);\n",
              "          const docLink = document.createElement('div');\n",
              "          docLink.innerHTML = docLinkHtml;\n",
              "          element.appendChild(docLink);\n",
              "        }\n",
              "      </script>\n",
              "    </div>\n",
              "  </div>\n",
              "  "
            ]
          },
          "metadata": {},
          "execution_count": 32
        }
      ]
    },
    {
      "cell_type": "code",
      "source": [
        "# size of test data set\n",
        "print(y_train.shape)\n",
        "y_train.head()"
      ],
      "metadata": {
        "id": "_sTZlzEb5po3",
        "colab": {
          "base_uri": "https://localhost:8080/"
        },
        "outputId": "f0eaba4f-6f11-4990-8cf4-e7c3999c5de5"
      },
      "execution_count": null,
      "outputs": [
        {
          "output_type": "stream",
          "name": "stdout",
          "text": [
            "(2443,)\n"
          ]
        },
        {
          "output_type": "execute_result",
          "data": {
            "text/plain": [
              "1620    1300000.0\n",
              "654     3800000.0\n",
              "935      560000.0\n",
              "977     1890000.0\n",
              "2174    5100000.0\n",
              "Name: sell_price, dtype: float64"
            ]
          },
          "metadata": {},
          "execution_count": 33
        }
      ]
    },
    {
      "cell_type": "code",
      "source": [
        "# size of test data set\n",
        "print(X_test.shape)\n",
        "X_test.head()"
      ],
      "metadata": {
        "id": "8LlBisH05prw",
        "colab": {
          "base_uri": "https://localhost:8080/",
          "height": 287
        },
        "outputId": "55e91e98-286a-4c0b-f588-0448d3c2b989"
      },
      "execution_count": null,
      "outputs": [
        {
          "output_type": "stream",
          "name": "stdout",
          "text": [
            "(272, 14)\n"
          ]
        },
        {
          "output_type": "execute_result",
          "data": {
            "text/plain": [
              "      number_of_story  number_of_bedroom  number_of_bathroom  \\\n",
              "2354              0.0                0.0                 0.0   \n",
              "615               0.0                0.0                 0.0   \n",
              "2489              0.0                0.0                 0.0   \n",
              "674               0.0                0.0                 0.0   \n",
              "1855              0.0                0.0                 0.0   \n",
              "\n",
              "      number_of_parking  central_cost  parking_percentage  area  usable_area  \\\n",
              "2354                0.0           0.0                 0.0  0.00      12933.0   \n",
              "615                 0.0           0.0                 0.0  0.25         35.0   \n",
              "2489                0.0           0.0                 0.0  7.21      12305.0   \n",
              "674                 0.0           0.0                 0.0  0.34        234.0   \n",
              "1855                0.0           0.0                 0.0  1.27       7177.0   \n",
              "\n",
              "      property_type_House  property_type_Land  property_type_Office  \\\n",
              "2354                    0                   1                     0   \n",
              "615                     1                   0                     0   \n",
              "2489                    0                   1                     0   \n",
              "674                     1                   0                     0   \n",
              "1855                    0                   1                     0   \n",
              "\n",
              "      property_type_TownHome  property_type_TwinHouse  furniture_yes  \n",
              "2354                       0                        0              0  \n",
              "615                        0                        0              0  \n",
              "2489                       0                        0              1  \n",
              "674                        0                        0              0  \n",
              "1855                       0                        0              0  "
            ],
            "text/html": [
              "\n",
              "  <div id=\"df-9494e93f-8e1a-4cf0-a31e-20e386128234\">\n",
              "    <div class=\"colab-df-container\">\n",
              "      <div>\n",
              "<style scoped>\n",
              "    .dataframe tbody tr th:only-of-type {\n",
              "        vertical-align: middle;\n",
              "    }\n",
              "\n",
              "    .dataframe tbody tr th {\n",
              "        vertical-align: top;\n",
              "    }\n",
              "\n",
              "    .dataframe thead th {\n",
              "        text-align: right;\n",
              "    }\n",
              "</style>\n",
              "<table border=\"1\" class=\"dataframe\">\n",
              "  <thead>\n",
              "    <tr style=\"text-align: right;\">\n",
              "      <th></th>\n",
              "      <th>number_of_story</th>\n",
              "      <th>number_of_bedroom</th>\n",
              "      <th>number_of_bathroom</th>\n",
              "      <th>number_of_parking</th>\n",
              "      <th>central_cost</th>\n",
              "      <th>parking_percentage</th>\n",
              "      <th>area</th>\n",
              "      <th>usable_area</th>\n",
              "      <th>property_type_House</th>\n",
              "      <th>property_type_Land</th>\n",
              "      <th>property_type_Office</th>\n",
              "      <th>property_type_TownHome</th>\n",
              "      <th>property_type_TwinHouse</th>\n",
              "      <th>furniture_yes</th>\n",
              "    </tr>\n",
              "  </thead>\n",
              "  <tbody>\n",
              "    <tr>\n",
              "      <th>2354</th>\n",
              "      <td>0.0</td>\n",
              "      <td>0.0</td>\n",
              "      <td>0.0</td>\n",
              "      <td>0.0</td>\n",
              "      <td>0.0</td>\n",
              "      <td>0.0</td>\n",
              "      <td>0.00</td>\n",
              "      <td>12933.0</td>\n",
              "      <td>0</td>\n",
              "      <td>1</td>\n",
              "      <td>0</td>\n",
              "      <td>0</td>\n",
              "      <td>0</td>\n",
              "      <td>0</td>\n",
              "    </tr>\n",
              "    <tr>\n",
              "      <th>615</th>\n",
              "      <td>0.0</td>\n",
              "      <td>0.0</td>\n",
              "      <td>0.0</td>\n",
              "      <td>0.0</td>\n",
              "      <td>0.0</td>\n",
              "      <td>0.0</td>\n",
              "      <td>0.25</td>\n",
              "      <td>35.0</td>\n",
              "      <td>1</td>\n",
              "      <td>0</td>\n",
              "      <td>0</td>\n",
              "      <td>0</td>\n",
              "      <td>0</td>\n",
              "      <td>0</td>\n",
              "    </tr>\n",
              "    <tr>\n",
              "      <th>2489</th>\n",
              "      <td>0.0</td>\n",
              "      <td>0.0</td>\n",
              "      <td>0.0</td>\n",
              "      <td>0.0</td>\n",
              "      <td>0.0</td>\n",
              "      <td>0.0</td>\n",
              "      <td>7.21</td>\n",
              "      <td>12305.0</td>\n",
              "      <td>0</td>\n",
              "      <td>1</td>\n",
              "      <td>0</td>\n",
              "      <td>0</td>\n",
              "      <td>0</td>\n",
              "      <td>1</td>\n",
              "    </tr>\n",
              "    <tr>\n",
              "      <th>674</th>\n",
              "      <td>0.0</td>\n",
              "      <td>0.0</td>\n",
              "      <td>0.0</td>\n",
              "      <td>0.0</td>\n",
              "      <td>0.0</td>\n",
              "      <td>0.0</td>\n",
              "      <td>0.34</td>\n",
              "      <td>234.0</td>\n",
              "      <td>1</td>\n",
              "      <td>0</td>\n",
              "      <td>0</td>\n",
              "      <td>0</td>\n",
              "      <td>0</td>\n",
              "      <td>0</td>\n",
              "    </tr>\n",
              "    <tr>\n",
              "      <th>1855</th>\n",
              "      <td>0.0</td>\n",
              "      <td>0.0</td>\n",
              "      <td>0.0</td>\n",
              "      <td>0.0</td>\n",
              "      <td>0.0</td>\n",
              "      <td>0.0</td>\n",
              "      <td>1.27</td>\n",
              "      <td>7177.0</td>\n",
              "      <td>0</td>\n",
              "      <td>1</td>\n",
              "      <td>0</td>\n",
              "      <td>0</td>\n",
              "      <td>0</td>\n",
              "      <td>0</td>\n",
              "    </tr>\n",
              "  </tbody>\n",
              "</table>\n",
              "</div>\n",
              "      <button class=\"colab-df-convert\" onclick=\"convertToInteractive('df-9494e93f-8e1a-4cf0-a31e-20e386128234')\"\n",
              "              title=\"Convert this dataframe to an interactive table.\"\n",
              "              style=\"display:none;\">\n",
              "        \n",
              "  <svg xmlns=\"http://www.w3.org/2000/svg\" height=\"24px\"viewBox=\"0 0 24 24\"\n",
              "       width=\"24px\">\n",
              "    <path d=\"M0 0h24v24H0V0z\" fill=\"none\"/>\n",
              "    <path d=\"M18.56 5.44l.94 2.06.94-2.06 2.06-.94-2.06-.94-.94-2.06-.94 2.06-2.06.94zm-11 1L8.5 8.5l.94-2.06 2.06-.94-2.06-.94L8.5 2.5l-.94 2.06-2.06.94zm10 10l.94 2.06.94-2.06 2.06-.94-2.06-.94-.94-2.06-.94 2.06-2.06.94z\"/><path d=\"M17.41 7.96l-1.37-1.37c-.4-.4-.92-.59-1.43-.59-.52 0-1.04.2-1.43.59L10.3 9.45l-7.72 7.72c-.78.78-.78 2.05 0 2.83L4 21.41c.39.39.9.59 1.41.59.51 0 1.02-.2 1.41-.59l7.78-7.78 2.81-2.81c.8-.78.8-2.07 0-2.86zM5.41 20L4 18.59l7.72-7.72 1.47 1.35L5.41 20z\"/>\n",
              "  </svg>\n",
              "      </button>\n",
              "      \n",
              "  <style>\n",
              "    .colab-df-container {\n",
              "      display:flex;\n",
              "      flex-wrap:wrap;\n",
              "      gap: 12px;\n",
              "    }\n",
              "\n",
              "    .colab-df-convert {\n",
              "      background-color: #E8F0FE;\n",
              "      border: none;\n",
              "      border-radius: 50%;\n",
              "      cursor: pointer;\n",
              "      display: none;\n",
              "      fill: #1967D2;\n",
              "      height: 32px;\n",
              "      padding: 0 0 0 0;\n",
              "      width: 32px;\n",
              "    }\n",
              "\n",
              "    .colab-df-convert:hover {\n",
              "      background-color: #E2EBFA;\n",
              "      box-shadow: 0px 1px 2px rgba(60, 64, 67, 0.3), 0px 1px 3px 1px rgba(60, 64, 67, 0.15);\n",
              "      fill: #174EA6;\n",
              "    }\n",
              "\n",
              "    [theme=dark] .colab-df-convert {\n",
              "      background-color: #3B4455;\n",
              "      fill: #D2E3FC;\n",
              "    }\n",
              "\n",
              "    [theme=dark] .colab-df-convert:hover {\n",
              "      background-color: #434B5C;\n",
              "      box-shadow: 0px 1px 3px 1px rgba(0, 0, 0, 0.15);\n",
              "      filter: drop-shadow(0px 1px 2px rgba(0, 0, 0, 0.3));\n",
              "      fill: #FFFFFF;\n",
              "    }\n",
              "  </style>\n",
              "\n",
              "      <script>\n",
              "        const buttonEl =\n",
              "          document.querySelector('#df-9494e93f-8e1a-4cf0-a31e-20e386128234 button.colab-df-convert');\n",
              "        buttonEl.style.display =\n",
              "          google.colab.kernel.accessAllowed ? 'block' : 'none';\n",
              "\n",
              "        async function convertToInteractive(key) {\n",
              "          const element = document.querySelector('#df-9494e93f-8e1a-4cf0-a31e-20e386128234');\n",
              "          const dataTable =\n",
              "            await google.colab.kernel.invokeFunction('convertToInteractive',\n",
              "                                                     [key], {});\n",
              "          if (!dataTable) return;\n",
              "\n",
              "          const docLinkHtml = 'Like what you see? Visit the ' +\n",
              "            '<a target=\"_blank\" href=https://colab.research.google.com/notebooks/data_table.ipynb>data table notebook</a>'\n",
              "            + ' to learn more about interactive tables.';\n",
              "          element.innerHTML = '';\n",
              "          dataTable['output_type'] = 'display_data';\n",
              "          await google.colab.output.renderOutput(dataTable, element);\n",
              "          const docLink = document.createElement('div');\n",
              "          docLink.innerHTML = docLinkHtml;\n",
              "          element.appendChild(docLink);\n",
              "        }\n",
              "      </script>\n",
              "    </div>\n",
              "  </div>\n",
              "  "
            ]
          },
          "metadata": {},
          "execution_count": 34
        }
      ]
    },
    {
      "cell_type": "code",
      "source": [
        "# size of test data set\n",
        "print(y_test.shape)\n",
        "y_test.head()"
      ],
      "metadata": {
        "id": "-TZq_CY25ptg",
        "colab": {
          "base_uri": "https://localhost:8080/"
        },
        "outputId": "481a9656-904b-4f74-8fb7-abad48245961"
      },
      "execution_count": null,
      "outputs": [
        {
          "output_type": "stream",
          "name": "stdout",
          "text": [
            "(272,)\n"
          ]
        },
        {
          "output_type": "execute_result",
          "data": {
            "text/plain": [
              "2354      950000.0\n",
              "615      2000000.0\n",
              "2489    30000000.0\n",
              "674       800000.0\n",
              "1855     2500000.0\n",
              "Name: sell_price, dtype: float64"
            ]
          },
          "metadata": {},
          "execution_count": 35
        }
      ]
    },
    {
      "cell_type": "markdown",
      "source": [
        "# **Decision Tree Model Training**"
      ],
      "metadata": {
        "id": "DGOjwlLwBNiJ"
      }
    },
    {
      "cell_type": "code",
      "source": [
        "from sklearn.tree import DecisionTreeRegressor"
      ],
      "metadata": {
        "id": "Wfs65Fx4BA4y"
      },
      "execution_count": null,
      "outputs": []
    },
    {
      "cell_type": "markdown",
      "source": [
        "## Define\n"
      ],
      "metadata": {
        "id": "pakealU1B6Vn"
      }
    },
    {
      "cell_type": "code",
      "source": [
        "reg_decisModel = DecisionTreeRegressor()"
      ],
      "metadata": {
        "id": "l-zMSvHGBA9L"
      },
      "execution_count": null,
      "outputs": []
    },
    {
      "cell_type": "markdown",
      "source": [
        "## Build model (fit)"
      ],
      "metadata": {
        "id": "MbPzYQzmB88e"
      }
    },
    {
      "cell_type": "code",
      "source": [
        "reg_decisModel.fit(X_train, y_train)"
      ],
      "metadata": {
        "colab": {
          "base_uri": "https://localhost:8080/"
        },
        "id": "9pDBg0C8BBBO",
        "outputId": "ab37b784-8aff-43c4-d051-208b8c4baaf5"
      },
      "execution_count": null,
      "outputs": [
        {
          "output_type": "execute_result",
          "data": {
            "text/plain": [
              "DecisionTreeRegressor()"
            ]
          },
          "metadata": {},
          "execution_count": 37
        }
      ]
    },
    {
      "cell_type": "markdown",
      "source": [
        "## Parameter tuning with 10-fold cross Validation\n"
      ],
      "metadata": {
        "id": "yrWyMFI_CXn2"
      }
    },
    {
      "cell_type": "code",
      "source": [
        "# Hyper parameters range intialization for tuning \n",
        "parameters={\"splitter\":[\"best\",\"random\"],\n",
        "            \"max_depth\" : [1,3,5,7,9,11,12],\n",
        "           \"min_samples_leaf\":[1,2,3,4,5,6,7,8,9,10],\n",
        "           \"min_weight_fraction_leaf\":[0.1,0.2,0.3,0.4,0.5,0.6,0.7,0.8,0.9],\n",
        "           \"max_features\":[\"auto\",\"log2\",\"sqrt\",None],\n",
        "           \"max_leaf_nodes\":[None,10,20,30,40,50,60,70,80,90] }"
      ],
      "metadata": {
        "id": "1rb3aH0sBBID"
      },
      "execution_count": null,
      "outputs": []
    },
    {
      "cell_type": "code",
      "source": [
        "# calculating different regression metrics\n",
        "from sklearn.model_selection import GridSearchCV\n",
        "\n",
        "tuning_model = GridSearchCV(reg_decisModel ,param_grid=parameters, scoring='neg_mean_absolute_error',cv=10, verbose=3, n_jobs=-1)  ##neg_mean_absolute_error  ##neg_mean_squared_error"
      ],
      "metadata": {
        "id": "GHjHcye4BBKC"
      },
      "execution_count": null,
      "outputs": []
    },
    {
      "cell_type": "code",
      "source": [
        "tuning_model.fit(X_train, y_train)"
      ],
      "metadata": {
        "colab": {
          "base_uri": "https://localhost:8080/"
        },
        "id": "UsB7XBaJBBOP",
        "outputId": "d4c57c23-c29f-4989-90a9-a459c86c4cd9"
      },
      "execution_count": null,
      "outputs": [
        {
          "output_type": "stream",
          "name": "stdout",
          "text": [
            "Fitting 10 folds for each of 50400 candidates, totalling 504000 fits\n"
          ]
        },
        {
          "output_type": "stream",
          "name": "stderr",
          "text": [
            "/usr/local/lib/python3.7/dist-packages/sklearn/model_selection/_validation.py:372: FitFailedWarning: \n",
            "224000 fits failed out of a total of 504000.\n",
            "The score on these train-test partitions for these parameters will be set to nan.\n",
            "If these failures are not expected, you can try to debug them by setting error_score='raise'.\n",
            "\n",
            "Below are more details about the failures:\n",
            "--------------------------------------------------------------------------------\n",
            "224000 fits failed with the following error:\n",
            "Traceback (most recent call last):\n",
            "  File \"/usr/local/lib/python3.7/dist-packages/sklearn/model_selection/_validation.py\", line 680, in _fit_and_score\n",
            "    estimator.fit(X_train, y_train, **fit_params)\n",
            "  File \"/usr/local/lib/python3.7/dist-packages/sklearn/tree/_classes.py\", line 1320, in fit\n",
            "    X_idx_sorted=X_idx_sorted,\n",
            "  File \"/usr/local/lib/python3.7/dist-packages/sklearn/tree/_classes.py\", line 304, in fit\n",
            "    raise ValueError(\"min_weight_fraction_leaf must in [0, 0.5]\")\n",
            "ValueError: min_weight_fraction_leaf must in [0, 0.5]\n",
            "\n",
            "  warnings.warn(some_fits_failed_message, FitFailedWarning)\n",
            "/usr/local/lib/python3.7/dist-packages/sklearn/model_selection/_search.py:972: UserWarning: One or more of the test scores are non-finite: [-43139052.28201264 -46268344.51568401 -44439497.44410659 ...\n",
            "                nan                nan                nan]\n",
            "  category=UserWarning,\n"
          ]
        },
        {
          "output_type": "execute_result",
          "data": {
            "text/plain": [
              "GridSearchCV(cv=10, estimator=DecisionTreeRegressor(), n_jobs=-1,\n",
              "             param_grid={'max_depth': [1, 3, 5, 7, 9, 11, 12],\n",
              "                         'max_features': ['auto', 'log2', 'sqrt', None],\n",
              "                         'max_leaf_nodes': [None, 10, 20, 30, 40, 50, 60, 70,\n",
              "                                            80, 90],\n",
              "                         'min_samples_leaf': [1, 2, 3, 4, 5, 6, 7, 8, 9, 10],\n",
              "                         'min_weight_fraction_leaf': [0.1, 0.2, 0.3, 0.4, 0.5,\n",
              "                                                      0.6, 0.7, 0.8, 0.9],\n",
              "                         'splitter': ['best', 'random']},\n",
              "             scoring='neg_mean_absolute_error', verbose=3)"
            ]
          },
          "metadata": {},
          "execution_count": 40
        }
      ]
    },
    {
      "cell_type": "code",
      "source": [
        "# best hyperparameters \n",
        "best_hype = tuning_model.best_params_\n",
        "best_hype"
      ],
      "metadata": {
        "colab": {
          "base_uri": "https://localhost:8080/"
        },
        "id": "dgsIu4ohEzoZ",
        "outputId": "7ec95313-e76a-4190-f90d-3cb52cb7d988"
      },
      "execution_count": null,
      "outputs": [
        {
          "output_type": "execute_result",
          "data": {
            "text/plain": [
              "{'max_depth': 5,\n",
              " 'max_features': 'auto',\n",
              " 'max_leaf_nodes': None,\n",
              " 'min_samples_leaf': 1,\n",
              " 'min_weight_fraction_leaf': 0.1,\n",
              " 'splitter': 'best'}"
            ]
          },
          "metadata": {},
          "execution_count": 41
        }
      ]
    },
    {
      "cell_type": "code",
      "source": [
        "max_depth = best_hype['max_depth']\n",
        "max_features = best_hype['max_features']\n",
        "max_leaf_nodes = best_hype['max_leaf_nodes']\n",
        "min_samples_leaf = best_hype['min_samples_leaf']\n",
        "min_weight_fraction_leaf = best_hype['min_weight_fraction_leaf']\n",
        "splitter = best_hype['splitter']"
      ],
      "metadata": {
        "id": "HYet5gJxEzqu"
      },
      "execution_count": null,
      "outputs": []
    },
    {
      "cell_type": "markdown",
      "source": [
        "- best model score"
      ],
      "metadata": {
        "id": "-QkhzLR4RF_N"
      }
    },
    {
      "cell_type": "code",
      "source": [
        "tuning_model.best_score_"
      ],
      "metadata": {
        "colab": {
          "base_uri": "https://localhost:8080/"
        },
        "id": "ACT47yzIQgTv",
        "outputId": "44b9b597-6343-4c0d-8d63-f1421a58c357"
      },
      "execution_count": null,
      "outputs": [
        {
          "output_type": "execute_result",
          "data": {
            "text/plain": [
              "-42839185.95808354"
            ]
          },
          "metadata": {},
          "execution_count": 43
        }
      ]
    },
    {
      "cell_type": "markdown",
      "source": [
        "## Retrain model with all training set"
      ],
      "metadata": {
        "id": "jYI1gUC4RP60"
      }
    },
    {
      "cell_type": "code",
      "source": [
        "tuned_hyper_model = DecisionTreeRegressor(max_depth=max_depth, max_features=max_features, max_leaf_nodes=max_leaf_nodes ,\n",
        "                                                min_samples_leaf=min_samples_leaf,  min_weight_fraction_leaf=min_weight_fraction_leaf,\n",
        "                                                splitter=splitter)"
      ],
      "metadata": {
        "id": "Q-88ju2kEzwv"
      },
      "execution_count": null,
      "outputs": []
    },
    {
      "cell_type": "code",
      "source": [
        "# fitting model\n",
        "tuned_hyper_model.fit(X_train, y_train)"
      ],
      "metadata": {
        "colab": {
          "base_uri": "https://localhost:8080/"
        },
        "id": "I8GYXWQNEz0i",
        "outputId": "3e98533a-21e7-4923-b62d-8118b9286f1d"
      },
      "execution_count": null,
      "outputs": [
        {
          "output_type": "execute_result",
          "data": {
            "text/plain": [
              "DecisionTreeRegressor(max_depth=5, max_features='auto',\n",
              "                      min_weight_fraction_leaf=0.1)"
            ]
          },
          "metadata": {},
          "execution_count": 45
        }
      ]
    },
    {
      "cell_type": "markdown",
      "source": [
        "# Prediction "
      ],
      "metadata": {
        "id": "9SvXwAuPRj-O"
      }
    },
    {
      "cell_type": "code",
      "source": [
        "tuned_pred = tuned_hyper_model.predict(X_test)\n",
        "print(len(tuned_pred))\n",
        "print(tuned_pred)"
      ],
      "metadata": {
        "colab": {
          "base_uri": "https://localhost:8080/"
        },
        "id": "MHZjQH84Rg1q",
        "outputId": "1ee90d33-b8e0-41cc-c96a-2c78d7a46dda"
      },
      "execution_count": null,
      "outputs": [
        {
          "output_type": "stream",
          "name": "stdout",
          "text": [
            "272\n",
            "[3.14835601e+06 2.28739291e+06 1.31514979e+07 5.48317946e+06\n",
            " 3.14835601e+06 3.16275462e+06 3.16275462e+06 3.16275462e+06\n",
            " 2.68713012e+06 3.14835601e+06 2.68713012e+06 2.28739291e+06\n",
            " 3.16275462e+06 3.14835601e+06 2.68713012e+06 3.16275462e+06\n",
            " 3.16275462e+06 2.68713012e+06 2.68713012e+06 3.16275462e+06\n",
            " 2.28739291e+06 1.31514979e+07 2.68713012e+06 2.42503243e+08\n",
            " 2.68713012e+06 3.14835601e+06 2.68713012e+06 1.31514979e+07\n",
            " 3.16275462e+06 3.14835601e+06 2.42503243e+08 2.42503243e+08\n",
            " 2.28739291e+06 2.68713012e+06 2.28739291e+06 2.28739291e+06\n",
            " 2.42503243e+08 3.14835601e+06 2.68713012e+06 2.42503243e+08\n",
            " 2.28739291e+06 5.48317946e+06 3.16275462e+06 3.16275462e+06\n",
            " 2.28739291e+06 3.14835601e+06 2.28739291e+06 5.48317946e+06\n",
            " 2.68713012e+06 3.16275462e+06 3.16275462e+06 2.68713012e+06\n",
            " 2.68713012e+06 2.42503243e+08 3.16275462e+06 1.31514979e+07\n",
            " 3.16275462e+06 3.16275462e+06 2.68713012e+06 3.16275462e+06\n",
            " 2.28739291e+06 2.28739291e+06 2.68713012e+06 5.48317946e+06\n",
            " 3.14835601e+06 3.16275462e+06 1.31514979e+07 2.28739291e+06\n",
            " 3.16275462e+06 3.16275462e+06 3.16275462e+06 2.28739291e+06\n",
            " 2.42503243e+08 3.14835601e+06 5.48317946e+06 2.28739291e+06\n",
            " 1.31514979e+07 3.14835601e+06 1.31514979e+07 2.42503243e+08\n",
            " 2.28739291e+06 2.68713012e+06 3.16275462e+06 3.16275462e+06\n",
            " 2.28739291e+06 5.48317946e+06 5.48317946e+06 3.16275462e+06\n",
            " 1.31514979e+07 2.42503243e+08 3.16275462e+06 2.42503243e+08\n",
            " 3.16275462e+06 2.68713012e+06 2.68713012e+06 3.14835601e+06\n",
            " 5.48317946e+06 3.14835601e+06 2.42503243e+08 2.42503243e+08\n",
            " 5.48317946e+06 1.31514979e+07 2.68713012e+06 1.31514979e+07\n",
            " 3.16275462e+06 3.14835601e+06 3.16275462e+06 2.42503243e+08\n",
            " 2.68713012e+06 5.48317946e+06 2.28739291e+06 3.16275462e+06\n",
            " 5.48317946e+06 5.48317946e+06 1.31514979e+07 2.68713012e+06\n",
            " 3.16275462e+06 1.31514979e+07 3.16275462e+06 3.16275462e+06\n",
            " 2.42503243e+08 1.31514979e+07 5.48317946e+06 2.68713012e+06\n",
            " 3.14835601e+06 3.16275462e+06 2.68713012e+06 5.48317946e+06\n",
            " 2.28739291e+06 2.28739291e+06 3.16275462e+06 3.16275462e+06\n",
            " 3.16275462e+06 2.68713012e+06 2.28739291e+06 2.68713012e+06\n",
            " 1.31514979e+07 3.16275462e+06 5.48317946e+06 3.16275462e+06\n",
            " 2.42503243e+08 3.16275462e+06 1.31514979e+07 2.28739291e+06\n",
            " 2.68713012e+06 1.31514979e+07 3.16275462e+06 5.48317946e+06\n",
            " 5.48317946e+06 2.42503243e+08 1.31514979e+07 2.42503243e+08\n",
            " 3.16275462e+06 2.42503243e+08 2.28739291e+06 3.14835601e+06\n",
            " 2.68713012e+06 3.16275462e+06 3.16275462e+06 2.42503243e+08\n",
            " 1.31514979e+07 2.68713012e+06 3.16275462e+06 2.42503243e+08\n",
            " 5.48317946e+06 2.42503243e+08 2.68713012e+06 2.28739291e+06\n",
            " 3.16275462e+06 2.28739291e+06 3.16275462e+06 2.28739291e+06\n",
            " 2.28739291e+06 2.28739291e+06 1.31514979e+07 2.68713012e+06\n",
            " 2.68713012e+06 1.31514979e+07 2.42503243e+08 2.68713012e+06\n",
            " 2.68713012e+06 2.28739291e+06 3.14835601e+06 2.68713012e+06\n",
            " 3.16275462e+06 2.68713012e+06 1.31514979e+07 3.14835601e+06\n",
            " 2.68713012e+06 1.31514979e+07 2.68713012e+06 3.14835601e+06\n",
            " 2.28739291e+06 2.68713012e+06 2.68713012e+06 3.14835601e+06\n",
            " 3.16275462e+06 2.68713012e+06 5.48317946e+06 2.68713012e+06\n",
            " 3.16275462e+06 2.28739291e+06 1.31514979e+07 2.42503243e+08\n",
            " 2.28739291e+06 3.16275462e+06 2.68713012e+06 1.31514979e+07\n",
            " 3.16275462e+06 2.28739291e+06 2.28739291e+06 3.14835601e+06\n",
            " 5.48317946e+06 2.28739291e+06 3.16275462e+06 2.42503243e+08\n",
            " 3.14835601e+06 5.48317946e+06 1.31514979e+07 2.28739291e+06\n",
            " 1.31514979e+07 2.42503243e+08 3.16275462e+06 2.28739291e+06\n",
            " 3.16275462e+06 3.16275462e+06 1.31514979e+07 5.48317946e+06\n",
            " 2.42503243e+08 2.28739291e+06 2.68713012e+06 5.48317946e+06\n",
            " 2.28739291e+06 2.68713012e+06 2.28739291e+06 5.48317946e+06\n",
            " 5.48317946e+06 3.16275462e+06 3.14835601e+06 5.48317946e+06\n",
            " 1.31514979e+07 3.16275462e+06 2.42503243e+08 2.68713012e+06\n",
            " 2.42503243e+08 2.28739291e+06 2.42503243e+08 1.31514979e+07\n",
            " 3.16275462e+06 2.28739291e+06 2.68713012e+06 2.68713012e+06\n",
            " 2.68713012e+06 5.48317946e+06 3.14835601e+06 2.42503243e+08\n",
            " 2.42503243e+08 5.48317946e+06 1.31514979e+07 5.48317946e+06\n",
            " 1.31514979e+07 2.68713012e+06 5.48317946e+06 5.48317946e+06\n",
            " 1.31514979e+07 2.42503243e+08 2.42503243e+08 1.31514979e+07\n",
            " 3.16275462e+06 2.42503243e+08 3.14835601e+06 3.14835601e+06]\n"
          ]
        }
      ]
    },
    {
      "cell_type": "markdown",
      "source": [
        "## Error rate of our model with hyper tuning of paramerters "
      ],
      "metadata": {
        "id": "k6ijadkRR5xv"
      }
    },
    {
      "cell_type": "code",
      "source": [
        "# With hyperparameter tuned \n",
        "\n",
        "from sklearn import metrics\n",
        "\n",
        "print('MAE:', metrics.mean_absolute_error(y_test,tuned_pred))\n",
        "print('MSE:', metrics.mean_squared_error(y_test, tuned_pred))\n",
        "print('RMSE:', np.sqrt(metrics.mean_squared_error(y_test, tuned_pred)))"
      ],
      "metadata": {
        "colab": {
          "base_uri": "https://localhost:8080/"
        },
        "id": "u2zAIo5t4Kb3",
        "outputId": "c8cd6bf4-3cea-4fd4-8a7b-d1941b2d7f05"
      },
      "execution_count": null,
      "outputs": [
        {
          "output_type": "stream",
          "name": "stdout",
          "text": [
            "MAE: 27824039.15528781\n",
            "MSE: 5560151908585489.0\n",
            "RMSE: 74566426.1486729\n"
          ]
        }
      ]
    },
    {
      "cell_type": "markdown",
      "source": [
        "## Dump the scikit learn models with Python Pickle\n",
        "\n",
        "\n"
      ],
      "metadata": {
        "id": "0tutBolGSMyG"
      }
    },
    {
      "cell_type": "code",
      "source": [
        "import pickle\n",
        "\n",
        "# Dump the trained decision tree classifier with Pickle\n",
        "model_land_filename = '/content/drive/MyDrive/DPDM65/DecisionTreeRegress_final.pkl'\n",
        "# Open the file to save as pkl file\n",
        "model_pkl = open(model_land_filename, 'wb')\n",
        "pickle.dump(tuned_hyper_model, model_pkl)\n",
        "# Close the pickle instances\n",
        "model_pkl.close()"
      ],
      "metadata": {
        "id": "FtzNSw3qRg5p"
      },
      "execution_count": null,
      "outputs": []
    },
    {
      "cell_type": "code",
      "source": [],
      "metadata": {
        "id": "AxvZAVzISPfh"
      },
      "execution_count": null,
      "outputs": []
    },
    {
      "cell_type": "code",
      "source": [],
      "metadata": {
        "id": "CWqnVczmSPhy"
      },
      "execution_count": null,
      "outputs": []
    },
    {
      "cell_type": "code",
      "source": [],
      "metadata": {
        "id": "wzn4C0D5Rg7q"
      },
      "execution_count": null,
      "outputs": []
    },
    {
      "cell_type": "code",
      "source": [],
      "metadata": {
        "id": "EWOevuIQRg9W"
      },
      "execution_count": null,
      "outputs": []
    },
    {
      "cell_type": "code",
      "source": [],
      "metadata": {
        "id": "5eK6j1A6Rg_M"
      },
      "execution_count": null,
      "outputs": []
    }
  ]
}