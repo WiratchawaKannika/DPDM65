{
  "nbformat": 4,
  "nbformat_minor": 0,
  "metadata": {
    "colab": {
      "provenance": [],
      "collapsed_sections": [],
      "machine_shape": "hm",
      "mount_file_id": "16YyZBfYptiR_ymgQCeQ060un8dgdPAoB",
      "authorship_tag": "ABX9TyM7fSEgAFshALZre6x/nYRr",
      "include_colab_link": true
    },
    "kernelspec": {
      "name": "python3",
      "display_name": "Python 3"
    },
    "language_info": {
      "name": "python"
    },
    "accelerator": "GPU",
    "gpuClass": "premium"
  },
  "cells": [
    {
      "cell_type": "markdown",
      "metadata": {
        "id": "view-in-github",
        "colab_type": "text"
      },
      "source": [
        "<a href=\"https://colab.research.google.com/github/WiratchawaKannika/DPDM65/blob/main/Classification.ipynb\" target=\"_parent\"><img src=\"https://colab.research.google.com/assets/colab-badge.svg\" alt=\"Open In Colab\"/></a>"
      ]
    },
    {
      "cell_type": "code",
      "source": [
        "from google.colab import drive\n",
        "drive.mount('/content/drive')"
      ],
      "metadata": {
        "colab": {
          "base_uri": "https://localhost:8080/"
        },
        "id": "l7Y3RU-bOgwU",
        "outputId": "1a6ff514-59f3-41ff-a57b-173e40874d42"
      },
      "execution_count": 1,
      "outputs": [
        {
          "output_type": "stream",
          "name": "stdout",
          "text": [
            "Drive already mounted at /content/drive; to attempt to forcibly remount, call drive.mount(\"/content/drive\", force_remount=True).\n"
          ]
        }
      ]
    },
    {
      "cell_type": "markdown",
      "source": [
        "# **Data Preparatiion**"
      ],
      "metadata": {
        "id": "_5m8Xo6QOxZY"
      }
    },
    {
      "cell_type": "code",
      "execution_count": 2,
      "metadata": {
        "id": "oVGHHIOMLiC-"
      },
      "outputs": [],
      "source": [
        "import pandas as pd\n",
        "import numpy as np"
      ]
    },
    {
      "cell_type": "markdown",
      "source": [
        "Name\t\tData Type\tMeas.\tDescription\n",
        "\n",
        "\t----\t\t---------\t-----\t-----------\n",
        "\tSex\t\tnominal\t\t\tM, F, and I (infant)\n",
        "\tLength\t\tcontinuous\tmm\tLongest shell measurement\n",
        "\tDiameter\tcontinuous\tmm\tperpendicular to length\n",
        "\tHeight\t\tcontinuous\tmm\twith meat in shell\n",
        "\tWhole weight\tcontinuous\tgrams\twhole abalone\n",
        "\tShucked weight\tcontinuous\tgrams\tweight of meat\n",
        "\tViscera weight\tcontinuous\tgrams\tgut weight (after bleeding)\n",
        "\tShell weight\tcontinuous\tgrams\tafter being dried\n",
        "\tRings\t\tinteger\t\t\t+1.5 gives the age in years"
      ],
      "metadata": {
        "id": "xs-odxg6PzMa"
      }
    },
    {
      "cell_type": "markdown",
      "source": [
        "- ✔️ (1) Set header = None and Set Columns names"
      ],
      "metadata": {
        "id": "6GYeGbb4QQe1"
      }
    },
    {
      "cell_type": "code",
      "source": [
        "col_name = ['Sex', 'Length',\t'Diam',\t'Height',\t'Whole',\t'Shucked',\t'Viscera',\t'Shell',\t'Rings']"
      ],
      "metadata": {
        "id": "1ob0JvxKVRSJ"
      },
      "execution_count": 3,
      "outputs": []
    },
    {
      "cell_type": "code",
      "source": [
        "Abalone = pd.read_csv('/content/drive/MyDrive/DPDM65/abalone.data', header = None, names=col_name) # (1) Set header = None  ### ไม่มีชื่อ Cloums / หัวตาราง \n",
        "print(Abalone.shape)\n",
        "Abalone.head()"
      ],
      "metadata": {
        "colab": {
          "base_uri": "https://localhost:8080/",
          "height": 224
        },
        "id": "5_JqcyelL-1q",
        "outputId": "712b12b1-4e33-4725-d812-aa15419b0e63"
      },
      "execution_count": 4,
      "outputs": [
        {
          "output_type": "stream",
          "name": "stdout",
          "text": [
            "(4177, 9)\n"
          ]
        },
        {
          "output_type": "execute_result",
          "data": {
            "text/plain": [
              "  Sex  Length   Diam  Height   Whole  Shucked  Viscera  Shell  Rings\n",
              "0   M   0.455  0.365   0.095  0.5140   0.2245   0.1010  0.150     15\n",
              "1   M   0.350  0.265   0.090  0.2255   0.0995   0.0485  0.070      7\n",
              "2   F   0.530  0.420   0.135  0.6770   0.2565   0.1415  0.210      9\n",
              "3   M   0.440  0.365   0.125  0.5160   0.2155   0.1140  0.155     10\n",
              "4   I   0.330  0.255   0.080  0.2050   0.0895   0.0395  0.055      7"
            ],
            "text/html": [
              "\n",
              "  <div id=\"df-dd174489-2bbb-4b9b-a973-bca9a3aef312\">\n",
              "    <div class=\"colab-df-container\">\n",
              "      <div>\n",
              "<style scoped>\n",
              "    .dataframe tbody tr th:only-of-type {\n",
              "        vertical-align: middle;\n",
              "    }\n",
              "\n",
              "    .dataframe tbody tr th {\n",
              "        vertical-align: top;\n",
              "    }\n",
              "\n",
              "    .dataframe thead th {\n",
              "        text-align: right;\n",
              "    }\n",
              "</style>\n",
              "<table border=\"1\" class=\"dataframe\">\n",
              "  <thead>\n",
              "    <tr style=\"text-align: right;\">\n",
              "      <th></th>\n",
              "      <th>Sex</th>\n",
              "      <th>Length</th>\n",
              "      <th>Diam</th>\n",
              "      <th>Height</th>\n",
              "      <th>Whole</th>\n",
              "      <th>Shucked</th>\n",
              "      <th>Viscera</th>\n",
              "      <th>Shell</th>\n",
              "      <th>Rings</th>\n",
              "    </tr>\n",
              "  </thead>\n",
              "  <tbody>\n",
              "    <tr>\n",
              "      <th>0</th>\n",
              "      <td>M</td>\n",
              "      <td>0.455</td>\n",
              "      <td>0.365</td>\n",
              "      <td>0.095</td>\n",
              "      <td>0.5140</td>\n",
              "      <td>0.2245</td>\n",
              "      <td>0.1010</td>\n",
              "      <td>0.150</td>\n",
              "      <td>15</td>\n",
              "    </tr>\n",
              "    <tr>\n",
              "      <th>1</th>\n",
              "      <td>M</td>\n",
              "      <td>0.350</td>\n",
              "      <td>0.265</td>\n",
              "      <td>0.090</td>\n",
              "      <td>0.2255</td>\n",
              "      <td>0.0995</td>\n",
              "      <td>0.0485</td>\n",
              "      <td>0.070</td>\n",
              "      <td>7</td>\n",
              "    </tr>\n",
              "    <tr>\n",
              "      <th>2</th>\n",
              "      <td>F</td>\n",
              "      <td>0.530</td>\n",
              "      <td>0.420</td>\n",
              "      <td>0.135</td>\n",
              "      <td>0.6770</td>\n",
              "      <td>0.2565</td>\n",
              "      <td>0.1415</td>\n",
              "      <td>0.210</td>\n",
              "      <td>9</td>\n",
              "    </tr>\n",
              "    <tr>\n",
              "      <th>3</th>\n",
              "      <td>M</td>\n",
              "      <td>0.440</td>\n",
              "      <td>0.365</td>\n",
              "      <td>0.125</td>\n",
              "      <td>0.5160</td>\n",
              "      <td>0.2155</td>\n",
              "      <td>0.1140</td>\n",
              "      <td>0.155</td>\n",
              "      <td>10</td>\n",
              "    </tr>\n",
              "    <tr>\n",
              "      <th>4</th>\n",
              "      <td>I</td>\n",
              "      <td>0.330</td>\n",
              "      <td>0.255</td>\n",
              "      <td>0.080</td>\n",
              "      <td>0.2050</td>\n",
              "      <td>0.0895</td>\n",
              "      <td>0.0395</td>\n",
              "      <td>0.055</td>\n",
              "      <td>7</td>\n",
              "    </tr>\n",
              "  </tbody>\n",
              "</table>\n",
              "</div>\n",
              "      <button class=\"colab-df-convert\" onclick=\"convertToInteractive('df-dd174489-2bbb-4b9b-a973-bca9a3aef312')\"\n",
              "              title=\"Convert this dataframe to an interactive table.\"\n",
              "              style=\"display:none;\">\n",
              "        \n",
              "  <svg xmlns=\"http://www.w3.org/2000/svg\" height=\"24px\"viewBox=\"0 0 24 24\"\n",
              "       width=\"24px\">\n",
              "    <path d=\"M0 0h24v24H0V0z\" fill=\"none\"/>\n",
              "    <path d=\"M18.56 5.44l.94 2.06.94-2.06 2.06-.94-2.06-.94-.94-2.06-.94 2.06-2.06.94zm-11 1L8.5 8.5l.94-2.06 2.06-.94-2.06-.94L8.5 2.5l-.94 2.06-2.06.94zm10 10l.94 2.06.94-2.06 2.06-.94-2.06-.94-.94-2.06-.94 2.06-2.06.94z\"/><path d=\"M17.41 7.96l-1.37-1.37c-.4-.4-.92-.59-1.43-.59-.52 0-1.04.2-1.43.59L10.3 9.45l-7.72 7.72c-.78.78-.78 2.05 0 2.83L4 21.41c.39.39.9.59 1.41.59.51 0 1.02-.2 1.41-.59l7.78-7.78 2.81-2.81c.8-.78.8-2.07 0-2.86zM5.41 20L4 18.59l7.72-7.72 1.47 1.35L5.41 20z\"/>\n",
              "  </svg>\n",
              "      </button>\n",
              "      \n",
              "  <style>\n",
              "    .colab-df-container {\n",
              "      display:flex;\n",
              "      flex-wrap:wrap;\n",
              "      gap: 12px;\n",
              "    }\n",
              "\n",
              "    .colab-df-convert {\n",
              "      background-color: #E8F0FE;\n",
              "      border: none;\n",
              "      border-radius: 50%;\n",
              "      cursor: pointer;\n",
              "      display: none;\n",
              "      fill: #1967D2;\n",
              "      height: 32px;\n",
              "      padding: 0 0 0 0;\n",
              "      width: 32px;\n",
              "    }\n",
              "\n",
              "    .colab-df-convert:hover {\n",
              "      background-color: #E2EBFA;\n",
              "      box-shadow: 0px 1px 2px rgba(60, 64, 67, 0.3), 0px 1px 3px 1px rgba(60, 64, 67, 0.15);\n",
              "      fill: #174EA6;\n",
              "    }\n",
              "\n",
              "    [theme=dark] .colab-df-convert {\n",
              "      background-color: #3B4455;\n",
              "      fill: #D2E3FC;\n",
              "    }\n",
              "\n",
              "    [theme=dark] .colab-df-convert:hover {\n",
              "      background-color: #434B5C;\n",
              "      box-shadow: 0px 1px 3px 1px rgba(0, 0, 0, 0.15);\n",
              "      filter: drop-shadow(0px 1px 2px rgba(0, 0, 0, 0.3));\n",
              "      fill: #FFFFFF;\n",
              "    }\n",
              "  </style>\n",
              "\n",
              "      <script>\n",
              "        const buttonEl =\n",
              "          document.querySelector('#df-dd174489-2bbb-4b9b-a973-bca9a3aef312 button.colab-df-convert');\n",
              "        buttonEl.style.display =\n",
              "          google.colab.kernel.accessAllowed ? 'block' : 'none';\n",
              "\n",
              "        async function convertToInteractive(key) {\n",
              "          const element = document.querySelector('#df-dd174489-2bbb-4b9b-a973-bca9a3aef312');\n",
              "          const dataTable =\n",
              "            await google.colab.kernel.invokeFunction('convertToInteractive',\n",
              "                                                     [key], {});\n",
              "          if (!dataTable) return;\n",
              "\n",
              "          const docLinkHtml = 'Like what you see? Visit the ' +\n",
              "            '<a target=\"_blank\" href=https://colab.research.google.com/notebooks/data_table.ipynb>data table notebook</a>'\n",
              "            + ' to learn more about interactive tables.';\n",
              "          element.innerHTML = '';\n",
              "          dataTable['output_type'] = 'display_data';\n",
              "          await google.colab.output.renderOutput(dataTable, element);\n",
              "          const docLink = document.createElement('div');\n",
              "          docLink.innerHTML = docLinkHtml;\n",
              "          element.appendChild(docLink);\n",
              "        }\n",
              "      </script>\n",
              "    </div>\n",
              "  </div>\n",
              "  "
            ]
          },
          "metadata": {},
          "execution_count": 4
        }
      ]
    },
    {
      "cell_type": "markdown",
      "source": [
        "## Get Dummy"
      ],
      "metadata": {
        "id": "UVMVKmq2aj48"
      }
    },
    {
      "cell_type": "code",
      "source": [
        "Abalone_pre = pd.get_dummies(Abalone, columns=['Sex'])\n",
        "Abalone_pre"
      ],
      "metadata": {
        "colab": {
          "base_uri": "https://localhost:8080/",
          "height": 424
        },
        "id": "7czK6Oz-aZVM",
        "outputId": "95a49284-7489-4d41-adfe-704b179de4d6"
      },
      "execution_count": 5,
      "outputs": [
        {
          "output_type": "execute_result",
          "data": {
            "text/plain": [
              "      Length   Diam  Height   Whole  Shucked  Viscera   Shell  Rings  Sex_F  \\\n",
              "0      0.455  0.365   0.095  0.5140   0.2245   0.1010  0.1500     15      0   \n",
              "1      0.350  0.265   0.090  0.2255   0.0995   0.0485  0.0700      7      0   \n",
              "2      0.530  0.420   0.135  0.6770   0.2565   0.1415  0.2100      9      1   \n",
              "3      0.440  0.365   0.125  0.5160   0.2155   0.1140  0.1550     10      0   \n",
              "4      0.330  0.255   0.080  0.2050   0.0895   0.0395  0.0550      7      0   \n",
              "...      ...    ...     ...     ...      ...      ...     ...    ...    ...   \n",
              "4172   0.565  0.450   0.165  0.8870   0.3700   0.2390  0.2490     11      1   \n",
              "4173   0.590  0.440   0.135  0.9660   0.4390   0.2145  0.2605     10      0   \n",
              "4174   0.600  0.475   0.205  1.1760   0.5255   0.2875  0.3080      9      0   \n",
              "4175   0.625  0.485   0.150  1.0945   0.5310   0.2610  0.2960     10      1   \n",
              "4176   0.710  0.555   0.195  1.9485   0.9455   0.3765  0.4950     12      0   \n",
              "\n",
              "      Sex_I  Sex_M  \n",
              "0         0      1  \n",
              "1         0      1  \n",
              "2         0      0  \n",
              "3         0      1  \n",
              "4         1      0  \n",
              "...     ...    ...  \n",
              "4172      0      0  \n",
              "4173      0      1  \n",
              "4174      0      1  \n",
              "4175      0      0  \n",
              "4176      0      1  \n",
              "\n",
              "[4177 rows x 11 columns]"
            ],
            "text/html": [
              "\n",
              "  <div id=\"df-f39523af-bbab-45e2-b790-4c4c2fd056cb\">\n",
              "    <div class=\"colab-df-container\">\n",
              "      <div>\n",
              "<style scoped>\n",
              "    .dataframe tbody tr th:only-of-type {\n",
              "        vertical-align: middle;\n",
              "    }\n",
              "\n",
              "    .dataframe tbody tr th {\n",
              "        vertical-align: top;\n",
              "    }\n",
              "\n",
              "    .dataframe thead th {\n",
              "        text-align: right;\n",
              "    }\n",
              "</style>\n",
              "<table border=\"1\" class=\"dataframe\">\n",
              "  <thead>\n",
              "    <tr style=\"text-align: right;\">\n",
              "      <th></th>\n",
              "      <th>Length</th>\n",
              "      <th>Diam</th>\n",
              "      <th>Height</th>\n",
              "      <th>Whole</th>\n",
              "      <th>Shucked</th>\n",
              "      <th>Viscera</th>\n",
              "      <th>Shell</th>\n",
              "      <th>Rings</th>\n",
              "      <th>Sex_F</th>\n",
              "      <th>Sex_I</th>\n",
              "      <th>Sex_M</th>\n",
              "    </tr>\n",
              "  </thead>\n",
              "  <tbody>\n",
              "    <tr>\n",
              "      <th>0</th>\n",
              "      <td>0.455</td>\n",
              "      <td>0.365</td>\n",
              "      <td>0.095</td>\n",
              "      <td>0.5140</td>\n",
              "      <td>0.2245</td>\n",
              "      <td>0.1010</td>\n",
              "      <td>0.1500</td>\n",
              "      <td>15</td>\n",
              "      <td>0</td>\n",
              "      <td>0</td>\n",
              "      <td>1</td>\n",
              "    </tr>\n",
              "    <tr>\n",
              "      <th>1</th>\n",
              "      <td>0.350</td>\n",
              "      <td>0.265</td>\n",
              "      <td>0.090</td>\n",
              "      <td>0.2255</td>\n",
              "      <td>0.0995</td>\n",
              "      <td>0.0485</td>\n",
              "      <td>0.0700</td>\n",
              "      <td>7</td>\n",
              "      <td>0</td>\n",
              "      <td>0</td>\n",
              "      <td>1</td>\n",
              "    </tr>\n",
              "    <tr>\n",
              "      <th>2</th>\n",
              "      <td>0.530</td>\n",
              "      <td>0.420</td>\n",
              "      <td>0.135</td>\n",
              "      <td>0.6770</td>\n",
              "      <td>0.2565</td>\n",
              "      <td>0.1415</td>\n",
              "      <td>0.2100</td>\n",
              "      <td>9</td>\n",
              "      <td>1</td>\n",
              "      <td>0</td>\n",
              "      <td>0</td>\n",
              "    </tr>\n",
              "    <tr>\n",
              "      <th>3</th>\n",
              "      <td>0.440</td>\n",
              "      <td>0.365</td>\n",
              "      <td>0.125</td>\n",
              "      <td>0.5160</td>\n",
              "      <td>0.2155</td>\n",
              "      <td>0.1140</td>\n",
              "      <td>0.1550</td>\n",
              "      <td>10</td>\n",
              "      <td>0</td>\n",
              "      <td>0</td>\n",
              "      <td>1</td>\n",
              "    </tr>\n",
              "    <tr>\n",
              "      <th>4</th>\n",
              "      <td>0.330</td>\n",
              "      <td>0.255</td>\n",
              "      <td>0.080</td>\n",
              "      <td>0.2050</td>\n",
              "      <td>0.0895</td>\n",
              "      <td>0.0395</td>\n",
              "      <td>0.0550</td>\n",
              "      <td>7</td>\n",
              "      <td>0</td>\n",
              "      <td>1</td>\n",
              "      <td>0</td>\n",
              "    </tr>\n",
              "    <tr>\n",
              "      <th>...</th>\n",
              "      <td>...</td>\n",
              "      <td>...</td>\n",
              "      <td>...</td>\n",
              "      <td>...</td>\n",
              "      <td>...</td>\n",
              "      <td>...</td>\n",
              "      <td>...</td>\n",
              "      <td>...</td>\n",
              "      <td>...</td>\n",
              "      <td>...</td>\n",
              "      <td>...</td>\n",
              "    </tr>\n",
              "    <tr>\n",
              "      <th>4172</th>\n",
              "      <td>0.565</td>\n",
              "      <td>0.450</td>\n",
              "      <td>0.165</td>\n",
              "      <td>0.8870</td>\n",
              "      <td>0.3700</td>\n",
              "      <td>0.2390</td>\n",
              "      <td>0.2490</td>\n",
              "      <td>11</td>\n",
              "      <td>1</td>\n",
              "      <td>0</td>\n",
              "      <td>0</td>\n",
              "    </tr>\n",
              "    <tr>\n",
              "      <th>4173</th>\n",
              "      <td>0.590</td>\n",
              "      <td>0.440</td>\n",
              "      <td>0.135</td>\n",
              "      <td>0.9660</td>\n",
              "      <td>0.4390</td>\n",
              "      <td>0.2145</td>\n",
              "      <td>0.2605</td>\n",
              "      <td>10</td>\n",
              "      <td>0</td>\n",
              "      <td>0</td>\n",
              "      <td>1</td>\n",
              "    </tr>\n",
              "    <tr>\n",
              "      <th>4174</th>\n",
              "      <td>0.600</td>\n",
              "      <td>0.475</td>\n",
              "      <td>0.205</td>\n",
              "      <td>1.1760</td>\n",
              "      <td>0.5255</td>\n",
              "      <td>0.2875</td>\n",
              "      <td>0.3080</td>\n",
              "      <td>9</td>\n",
              "      <td>0</td>\n",
              "      <td>0</td>\n",
              "      <td>1</td>\n",
              "    </tr>\n",
              "    <tr>\n",
              "      <th>4175</th>\n",
              "      <td>0.625</td>\n",
              "      <td>0.485</td>\n",
              "      <td>0.150</td>\n",
              "      <td>1.0945</td>\n",
              "      <td>0.5310</td>\n",
              "      <td>0.2610</td>\n",
              "      <td>0.2960</td>\n",
              "      <td>10</td>\n",
              "      <td>1</td>\n",
              "      <td>0</td>\n",
              "      <td>0</td>\n",
              "    </tr>\n",
              "    <tr>\n",
              "      <th>4176</th>\n",
              "      <td>0.710</td>\n",
              "      <td>0.555</td>\n",
              "      <td>0.195</td>\n",
              "      <td>1.9485</td>\n",
              "      <td>0.9455</td>\n",
              "      <td>0.3765</td>\n",
              "      <td>0.4950</td>\n",
              "      <td>12</td>\n",
              "      <td>0</td>\n",
              "      <td>0</td>\n",
              "      <td>1</td>\n",
              "    </tr>\n",
              "  </tbody>\n",
              "</table>\n",
              "<p>4177 rows × 11 columns</p>\n",
              "</div>\n",
              "      <button class=\"colab-df-convert\" onclick=\"convertToInteractive('df-f39523af-bbab-45e2-b790-4c4c2fd056cb')\"\n",
              "              title=\"Convert this dataframe to an interactive table.\"\n",
              "              style=\"display:none;\">\n",
              "        \n",
              "  <svg xmlns=\"http://www.w3.org/2000/svg\" height=\"24px\"viewBox=\"0 0 24 24\"\n",
              "       width=\"24px\">\n",
              "    <path d=\"M0 0h24v24H0V0z\" fill=\"none\"/>\n",
              "    <path d=\"M18.56 5.44l.94 2.06.94-2.06 2.06-.94-2.06-.94-.94-2.06-.94 2.06-2.06.94zm-11 1L8.5 8.5l.94-2.06 2.06-.94-2.06-.94L8.5 2.5l-.94 2.06-2.06.94zm10 10l.94 2.06.94-2.06 2.06-.94-2.06-.94-.94-2.06-.94 2.06-2.06.94z\"/><path d=\"M17.41 7.96l-1.37-1.37c-.4-.4-.92-.59-1.43-.59-.52 0-1.04.2-1.43.59L10.3 9.45l-7.72 7.72c-.78.78-.78 2.05 0 2.83L4 21.41c.39.39.9.59 1.41.59.51 0 1.02-.2 1.41-.59l7.78-7.78 2.81-2.81c.8-.78.8-2.07 0-2.86zM5.41 20L4 18.59l7.72-7.72 1.47 1.35L5.41 20z\"/>\n",
              "  </svg>\n",
              "      </button>\n",
              "      \n",
              "  <style>\n",
              "    .colab-df-container {\n",
              "      display:flex;\n",
              "      flex-wrap:wrap;\n",
              "      gap: 12px;\n",
              "    }\n",
              "\n",
              "    .colab-df-convert {\n",
              "      background-color: #E8F0FE;\n",
              "      border: none;\n",
              "      border-radius: 50%;\n",
              "      cursor: pointer;\n",
              "      display: none;\n",
              "      fill: #1967D2;\n",
              "      height: 32px;\n",
              "      padding: 0 0 0 0;\n",
              "      width: 32px;\n",
              "    }\n",
              "\n",
              "    .colab-df-convert:hover {\n",
              "      background-color: #E2EBFA;\n",
              "      box-shadow: 0px 1px 2px rgba(60, 64, 67, 0.3), 0px 1px 3px 1px rgba(60, 64, 67, 0.15);\n",
              "      fill: #174EA6;\n",
              "    }\n",
              "\n",
              "    [theme=dark] .colab-df-convert {\n",
              "      background-color: #3B4455;\n",
              "      fill: #D2E3FC;\n",
              "    }\n",
              "\n",
              "    [theme=dark] .colab-df-convert:hover {\n",
              "      background-color: #434B5C;\n",
              "      box-shadow: 0px 1px 3px 1px rgba(0, 0, 0, 0.15);\n",
              "      filter: drop-shadow(0px 1px 2px rgba(0, 0, 0, 0.3));\n",
              "      fill: #FFFFFF;\n",
              "    }\n",
              "  </style>\n",
              "\n",
              "      <script>\n",
              "        const buttonEl =\n",
              "          document.querySelector('#df-f39523af-bbab-45e2-b790-4c4c2fd056cb button.colab-df-convert');\n",
              "        buttonEl.style.display =\n",
              "          google.colab.kernel.accessAllowed ? 'block' : 'none';\n",
              "\n",
              "        async function convertToInteractive(key) {\n",
              "          const element = document.querySelector('#df-f39523af-bbab-45e2-b790-4c4c2fd056cb');\n",
              "          const dataTable =\n",
              "            await google.colab.kernel.invokeFunction('convertToInteractive',\n",
              "                                                     [key], {});\n",
              "          if (!dataTable) return;\n",
              "\n",
              "          const docLinkHtml = 'Like what you see? Visit the ' +\n",
              "            '<a target=\"_blank\" href=https://colab.research.google.com/notebooks/data_table.ipynb>data table notebook</a>'\n",
              "            + ' to learn more about interactive tables.';\n",
              "          element.innerHTML = '';\n",
              "          dataTable['output_type'] = 'display_data';\n",
              "          await google.colab.output.renderOutput(dataTable, element);\n",
              "          const docLink = document.createElement('div');\n",
              "          docLink.innerHTML = docLinkHtml;\n",
              "          element.appendChild(docLink);\n",
              "        }\n",
              "      </script>\n",
              "    </div>\n",
              "  </div>\n",
              "  "
            ]
          },
          "metadata": {},
          "execution_count": 5
        }
      ]
    },
    {
      "cell_type": "markdown",
      "source": [
        "## (2) Set header = 0 "
      ],
      "metadata": {
        "id": "hLfsebrjQT0F"
      }
    },
    {
      "cell_type": "code",
      "source": [
        "col_name = ['Sex', 'Length',\t'Diam',\t'Height',\t'Whole',\t'Shucked',\t'Viscera',\t'Shell',\t'Rings']"
      ],
      "metadata": {
        "id": "1p0ODKHOQdIF"
      },
      "execution_count": 6,
      "outputs": []
    },
    {
      "cell_type": "code",
      "source": [
        "Abalone = pd.read_csv('/content/drive/MyDrive/DPDM65/abalone.data', header = 0, names=col_name)   \n",
        "print(Abalone.shape)\n",
        "Abalone.head()"
      ],
      "metadata": {
        "colab": {
          "base_uri": "https://localhost:8080/",
          "height": 223
        },
        "id": "NzVuMDxYL-4I",
        "outputId": "0050f696-d9ba-4dd9-ca5f-88b0a1eb643f"
      },
      "execution_count": null,
      "outputs": [
        {
          "output_type": "stream",
          "name": "stdout",
          "text": [
            "(4176, 9)\n"
          ]
        },
        {
          "output_type": "execute_result",
          "data": {
            "text/plain": [
              "  Sex  Length   Diam  Height   Whole  Shucked  Viscera  Shell  Rings\n",
              "0   M   0.350  0.265   0.090  0.2255   0.0995   0.0485  0.070      7\n",
              "1   F   0.530  0.420   0.135  0.6770   0.2565   0.1415  0.210      9\n",
              "2   M   0.440  0.365   0.125  0.5160   0.2155   0.1140  0.155     10\n",
              "3   I   0.330  0.255   0.080  0.2050   0.0895   0.0395  0.055      7\n",
              "4   I   0.425  0.300   0.095  0.3515   0.1410   0.0775  0.120      8"
            ],
            "text/html": [
              "\n",
              "  <div id=\"df-fd11320c-b11f-4cdf-a868-504684276ac0\">\n",
              "    <div class=\"colab-df-container\">\n",
              "      <div>\n",
              "<style scoped>\n",
              "    .dataframe tbody tr th:only-of-type {\n",
              "        vertical-align: middle;\n",
              "    }\n",
              "\n",
              "    .dataframe tbody tr th {\n",
              "        vertical-align: top;\n",
              "    }\n",
              "\n",
              "    .dataframe thead th {\n",
              "        text-align: right;\n",
              "    }\n",
              "</style>\n",
              "<table border=\"1\" class=\"dataframe\">\n",
              "  <thead>\n",
              "    <tr style=\"text-align: right;\">\n",
              "      <th></th>\n",
              "      <th>Sex</th>\n",
              "      <th>Length</th>\n",
              "      <th>Diam</th>\n",
              "      <th>Height</th>\n",
              "      <th>Whole</th>\n",
              "      <th>Shucked</th>\n",
              "      <th>Viscera</th>\n",
              "      <th>Shell</th>\n",
              "      <th>Rings</th>\n",
              "    </tr>\n",
              "  </thead>\n",
              "  <tbody>\n",
              "    <tr>\n",
              "      <th>0</th>\n",
              "      <td>M</td>\n",
              "      <td>0.350</td>\n",
              "      <td>0.265</td>\n",
              "      <td>0.090</td>\n",
              "      <td>0.2255</td>\n",
              "      <td>0.0995</td>\n",
              "      <td>0.0485</td>\n",
              "      <td>0.070</td>\n",
              "      <td>7</td>\n",
              "    </tr>\n",
              "    <tr>\n",
              "      <th>1</th>\n",
              "      <td>F</td>\n",
              "      <td>0.530</td>\n",
              "      <td>0.420</td>\n",
              "      <td>0.135</td>\n",
              "      <td>0.6770</td>\n",
              "      <td>0.2565</td>\n",
              "      <td>0.1415</td>\n",
              "      <td>0.210</td>\n",
              "      <td>9</td>\n",
              "    </tr>\n",
              "    <tr>\n",
              "      <th>2</th>\n",
              "      <td>M</td>\n",
              "      <td>0.440</td>\n",
              "      <td>0.365</td>\n",
              "      <td>0.125</td>\n",
              "      <td>0.5160</td>\n",
              "      <td>0.2155</td>\n",
              "      <td>0.1140</td>\n",
              "      <td>0.155</td>\n",
              "      <td>10</td>\n",
              "    </tr>\n",
              "    <tr>\n",
              "      <th>3</th>\n",
              "      <td>I</td>\n",
              "      <td>0.330</td>\n",
              "      <td>0.255</td>\n",
              "      <td>0.080</td>\n",
              "      <td>0.2050</td>\n",
              "      <td>0.0895</td>\n",
              "      <td>0.0395</td>\n",
              "      <td>0.055</td>\n",
              "      <td>7</td>\n",
              "    </tr>\n",
              "    <tr>\n",
              "      <th>4</th>\n",
              "      <td>I</td>\n",
              "      <td>0.425</td>\n",
              "      <td>0.300</td>\n",
              "      <td>0.095</td>\n",
              "      <td>0.3515</td>\n",
              "      <td>0.1410</td>\n",
              "      <td>0.0775</td>\n",
              "      <td>0.120</td>\n",
              "      <td>8</td>\n",
              "    </tr>\n",
              "  </tbody>\n",
              "</table>\n",
              "</div>\n",
              "      <button class=\"colab-df-convert\" onclick=\"convertToInteractive('df-fd11320c-b11f-4cdf-a868-504684276ac0')\"\n",
              "              title=\"Convert this dataframe to an interactive table.\"\n",
              "              style=\"display:none;\">\n",
              "        \n",
              "  <svg xmlns=\"http://www.w3.org/2000/svg\" height=\"24px\"viewBox=\"0 0 24 24\"\n",
              "       width=\"24px\">\n",
              "    <path d=\"M0 0h24v24H0V0z\" fill=\"none\"/>\n",
              "    <path d=\"M18.56 5.44l.94 2.06.94-2.06 2.06-.94-2.06-.94-.94-2.06-.94 2.06-2.06.94zm-11 1L8.5 8.5l.94-2.06 2.06-.94-2.06-.94L8.5 2.5l-.94 2.06-2.06.94zm10 10l.94 2.06.94-2.06 2.06-.94-2.06-.94-.94-2.06-.94 2.06-2.06.94z\"/><path d=\"M17.41 7.96l-1.37-1.37c-.4-.4-.92-.59-1.43-.59-.52 0-1.04.2-1.43.59L10.3 9.45l-7.72 7.72c-.78.78-.78 2.05 0 2.83L4 21.41c.39.39.9.59 1.41.59.51 0 1.02-.2 1.41-.59l7.78-7.78 2.81-2.81c.8-.78.8-2.07 0-2.86zM5.41 20L4 18.59l7.72-7.72 1.47 1.35L5.41 20z\"/>\n",
              "  </svg>\n",
              "      </button>\n",
              "      \n",
              "  <style>\n",
              "    .colab-df-container {\n",
              "      display:flex;\n",
              "      flex-wrap:wrap;\n",
              "      gap: 12px;\n",
              "    }\n",
              "\n",
              "    .colab-df-convert {\n",
              "      background-color: #E8F0FE;\n",
              "      border: none;\n",
              "      border-radius: 50%;\n",
              "      cursor: pointer;\n",
              "      display: none;\n",
              "      fill: #1967D2;\n",
              "      height: 32px;\n",
              "      padding: 0 0 0 0;\n",
              "      width: 32px;\n",
              "    }\n",
              "\n",
              "    .colab-df-convert:hover {\n",
              "      background-color: #E2EBFA;\n",
              "      box-shadow: 0px 1px 2px rgba(60, 64, 67, 0.3), 0px 1px 3px 1px rgba(60, 64, 67, 0.15);\n",
              "      fill: #174EA6;\n",
              "    }\n",
              "\n",
              "    [theme=dark] .colab-df-convert {\n",
              "      background-color: #3B4455;\n",
              "      fill: #D2E3FC;\n",
              "    }\n",
              "\n",
              "    [theme=dark] .colab-df-convert:hover {\n",
              "      background-color: #434B5C;\n",
              "      box-shadow: 0px 1px 3px 1px rgba(0, 0, 0, 0.15);\n",
              "      filter: drop-shadow(0px 1px 2px rgba(0, 0, 0, 0.3));\n",
              "      fill: #FFFFFF;\n",
              "    }\n",
              "  </style>\n",
              "\n",
              "      <script>\n",
              "        const buttonEl =\n",
              "          document.querySelector('#df-fd11320c-b11f-4cdf-a868-504684276ac0 button.colab-df-convert');\n",
              "        buttonEl.style.display =\n",
              "          google.colab.kernel.accessAllowed ? 'block' : 'none';\n",
              "\n",
              "        async function convertToInteractive(key) {\n",
              "          const element = document.querySelector('#df-fd11320c-b11f-4cdf-a868-504684276ac0');\n",
              "          const dataTable =\n",
              "            await google.colab.kernel.invokeFunction('convertToInteractive',\n",
              "                                                     [key], {});\n",
              "          if (!dataTable) return;\n",
              "\n",
              "          const docLinkHtml = 'Like what you see? Visit the ' +\n",
              "            '<a target=\"_blank\" href=https://colab.research.google.com/notebooks/data_table.ipynb>data table notebook</a>'\n",
              "            + ' to learn more about interactive tables.';\n",
              "          element.innerHTML = '';\n",
              "          dataTable['output_type'] = 'display_data';\n",
              "          await google.colab.output.renderOutput(dataTable, element);\n",
              "          const docLink = document.createElement('div');\n",
              "          docLink.innerHTML = docLinkHtml;\n",
              "          element.appendChild(docLink);\n",
              "        }\n",
              "      </script>\n",
              "    </div>\n",
              "  </div>\n",
              "  "
            ]
          },
          "metadata": {},
          "execution_count": 7
        }
      ]
    },
    {
      "cell_type": "code",
      "source": [
        "from matplotlib import pyplot as plt"
      ],
      "metadata": {
        "id": "vSpduZ-kL-7I"
      },
      "execution_count": 7,
      "outputs": []
    },
    {
      "cell_type": "code",
      "source": [
        "fig = plt.figure(figsize =(12, 8))\n",
        "\n",
        "plt.hist(Abalone_pre['Rings'], bins=len(set(Abalone_pre['Rings']))); ##Explore ดูว่าอายุกระจายไปในทิศทางไหน"
      ],
      "metadata": {
        "colab": {
          "base_uri": "https://localhost:8080/",
          "height": 483
        },
        "id": "fuBtE1qUL-9l",
        "outputId": "1d184438-df9d-4bb3-ab67-110853420e64"
      },
      "execution_count": null,
      "outputs": [
        {
          "output_type": "display_data",
          "data": {
            "text/plain": [
              "<Figure size 864x576 with 1 Axes>"
            ],
            "image/png": "[encoded data removed]"
          },
          "metadata": {
            "needs_background": "light"
          }
        }
      ]
    },
    {
      "cell_type": "markdown",
      "source": [
        "## Create New Class \n",
        "\n",
        "- กำหนดให้อายุ เป็น 2 ช่วง คือ\n",
        ">- (1) <10 (False)\n",
        ">- (2) >= 10 (True)"
      ],
      "metadata": {
        "id": "CpuH6kztSxju"
      }
    },
    {
      "cell_type": "code",
      "source": [
        "Abalone_pre['Age_CLASS'] = Abalone_pre['Rings'] >= 10\n",
        "Abalone_pre"
      ],
      "metadata": {
        "colab": {
          "base_uri": "https://localhost:8080/",
          "height": 424
        },
        "id": "qAG3DHX-L-_T",
        "outputId": "fe40ed13-4c1b-4d62-a0c2-2e7de48aef2c"
      },
      "execution_count": 8,
      "outputs": [
        {
          "output_type": "execute_result",
          "data": {
            "text/plain": [
              "      Length   Diam  Height   Whole  Shucked  Viscera   Shell  Rings  Sex_F  \\\n",
              "0      0.455  0.365   0.095  0.5140   0.2245   0.1010  0.1500     15      0   \n",
              "1      0.350  0.265   0.090  0.2255   0.0995   0.0485  0.0700      7      0   \n",
              "2      0.530  0.420   0.135  0.6770   0.2565   0.1415  0.2100      9      1   \n",
              "3      0.440  0.365   0.125  0.5160   0.2155   0.1140  0.1550     10      0   \n",
              "4      0.330  0.255   0.080  0.2050   0.0895   0.0395  0.0550      7      0   \n",
              "...      ...    ...     ...     ...      ...      ...     ...    ...    ...   \n",
              "4172   0.565  0.450   0.165  0.8870   0.3700   0.2390  0.2490     11      1   \n",
              "4173   0.590  0.440   0.135  0.9660   0.4390   0.2145  0.2605     10      0   \n",
              "4174   0.600  0.475   0.205  1.1760   0.5255   0.2875  0.3080      9      0   \n",
              "4175   0.625  0.485   0.150  1.0945   0.5310   0.2610  0.2960     10      1   \n",
              "4176   0.710  0.555   0.195  1.9485   0.9455   0.3765  0.4950     12      0   \n",
              "\n",
              "      Sex_I  Sex_M  Age_CLASS  \n",
              "0         0      1       True  \n",
              "1         0      1      False  \n",
              "2         0      0      False  \n",
              "3         0      1       True  \n",
              "4         1      0      False  \n",
              "...     ...    ...        ...  \n",
              "4172      0      0       True  \n",
              "4173      0      1       True  \n",
              "4174      0      1      False  \n",
              "4175      0      0       True  \n",
              "4176      0      1       True  \n",
              "\n",
              "[4177 rows x 12 columns]"
            ],
            "text/html": [
              "\n",
              "  <div id=\"df-e46e093c-4d03-4003-87a3-ba5f91d53afe\">\n",
              "    <div class=\"colab-df-container\">\n",
              "      <div>\n",
              "<style scoped>\n",
              "    .dataframe tbody tr th:only-of-type {\n",
              "        vertical-align: middle;\n",
              "    }\n",
              "\n",
              "    .dataframe tbody tr th {\n",
              "        vertical-align: top;\n",
              "    }\n",
              "\n",
              "    .dataframe thead th {\n",
              "        text-align: right;\n",
              "    }\n",
              "</style>\n",
              "<table border=\"1\" class=\"dataframe\">\n",
              "  <thead>\n",
              "    <tr style=\"text-align: right;\">\n",
              "      <th></th>\n",
              "      <th>Length</th>\n",
              "      <th>Diam</th>\n",
              "      <th>Height</th>\n",
              "      <th>Whole</th>\n",
              "      <th>Shucked</th>\n",
              "      <th>Viscera</th>\n",
              "      <th>Shell</th>\n",
              "      <th>Rings</th>\n",
              "      <th>Sex_F</th>\n",
              "      <th>Sex_I</th>\n",
              "      <th>Sex_M</th>\n",
              "      <th>Age_CLASS</th>\n",
              "    </tr>\n",
              "  </thead>\n",
              "  <tbody>\n",
              "    <tr>\n",
              "      <th>0</th>\n",
              "      <td>0.455</td>\n",
              "      <td>0.365</td>\n",
              "      <td>0.095</td>\n",
              "      <td>0.5140</td>\n",
              "      <td>0.2245</td>\n",
              "      <td>0.1010</td>\n",
              "      <td>0.1500</td>\n",
              "      <td>15</td>\n",
              "      <td>0</td>\n",
              "      <td>0</td>\n",
              "      <td>1</td>\n",
              "      <td>True</td>\n",
              "    </tr>\n",
              "    <tr>\n",
              "      <th>1</th>\n",
              "      <td>0.350</td>\n",
              "      <td>0.265</td>\n",
              "      <td>0.090</td>\n",
              "      <td>0.2255</td>\n",
              "      <td>0.0995</td>\n",
              "      <td>0.0485</td>\n",
              "      <td>0.0700</td>\n",
              "      <td>7</td>\n",
              "      <td>0</td>\n",
              "      <td>0</td>\n",
              "      <td>1</td>\n",
              "      <td>False</td>\n",
              "    </tr>\n",
              "    <tr>\n",
              "      <th>2</th>\n",
              "      <td>0.530</td>\n",
              "      <td>0.420</td>\n",
              "      <td>0.135</td>\n",
              "      <td>0.6770</td>\n",
              "      <td>0.2565</td>\n",
              "      <td>0.1415</td>\n",
              "      <td>0.2100</td>\n",
              "      <td>9</td>\n",
              "      <td>1</td>\n",
              "      <td>0</td>\n",
              "      <td>0</td>\n",
              "      <td>False</td>\n",
              "    </tr>\n",
              "    <tr>\n",
              "      <th>3</th>\n",
              "      <td>0.440</td>\n",
              "      <td>0.365</td>\n",
              "      <td>0.125</td>\n",
              "      <td>0.5160</td>\n",
              "      <td>0.2155</td>\n",
              "      <td>0.1140</td>\n",
              "      <td>0.1550</td>\n",
              "      <td>10</td>\n",
              "      <td>0</td>\n",
              "      <td>0</td>\n",
              "      <td>1</td>\n",
              "      <td>True</td>\n",
              "    </tr>\n",
              "    <tr>\n",
              "      <th>4</th>\n",
              "      <td>0.330</td>\n",
              "      <td>0.255</td>\n",
              "      <td>0.080</td>\n",
              "      <td>0.2050</td>\n",
              "      <td>0.0895</td>\n",
              "      <td>0.0395</td>\n",
              "      <td>0.0550</td>\n",
              "      <td>7</td>\n",
              "      <td>0</td>\n",
              "      <td>1</td>\n",
              "      <td>0</td>\n",
              "      <td>False</td>\n",
              "    </tr>\n",
              "    <tr>\n",
              "      <th>...</th>\n",
              "      <td>...</td>\n",
              "      <td>...</td>\n",
              "      <td>...</td>\n",
              "      <td>...</td>\n",
              "      <td>...</td>\n",
              "      <td>...</td>\n",
              "      <td>...</td>\n",
              "      <td>...</td>\n",
              "      <td>...</td>\n",
              "      <td>...</td>\n",
              "      <td>...</td>\n",
              "      <td>...</td>\n",
              "    </tr>\n",
              "    <tr>\n",
              "      <th>4172</th>\n",
              "      <td>0.565</td>\n",
              "      <td>0.450</td>\n",
              "      <td>0.165</td>\n",
              "      <td>0.8870</td>\n",
              "      <td>0.3700</td>\n",
              "      <td>0.2390</td>\n",
              "      <td>0.2490</td>\n",
              "      <td>11</td>\n",
              "      <td>1</td>\n",
              "      <td>0</td>\n",
              "      <td>0</td>\n",
              "      <td>True</td>\n",
              "    </tr>\n",
              "    <tr>\n",
              "      <th>4173</th>\n",
              "      <td>0.590</td>\n",
              "      <td>0.440</td>\n",
              "      <td>0.135</td>\n",
              "      <td>0.9660</td>\n",
              "      <td>0.4390</td>\n",
              "      <td>0.2145</td>\n",
              "      <td>0.2605</td>\n",
              "      <td>10</td>\n",
              "      <td>0</td>\n",
              "      <td>0</td>\n",
              "      <td>1</td>\n",
              "      <td>True</td>\n",
              "    </tr>\n",
              "    <tr>\n",
              "      <th>4174</th>\n",
              "      <td>0.600</td>\n",
              "      <td>0.475</td>\n",
              "      <td>0.205</td>\n",
              "      <td>1.1760</td>\n",
              "      <td>0.5255</td>\n",
              "      <td>0.2875</td>\n",
              "      <td>0.3080</td>\n",
              "      <td>9</td>\n",
              "      <td>0</td>\n",
              "      <td>0</td>\n",
              "      <td>1</td>\n",
              "      <td>False</td>\n",
              "    </tr>\n",
              "    <tr>\n",
              "      <th>4175</th>\n",
              "      <td>0.625</td>\n",
              "      <td>0.485</td>\n",
              "      <td>0.150</td>\n",
              "      <td>1.0945</td>\n",
              "      <td>0.5310</td>\n",
              "      <td>0.2610</td>\n",
              "      <td>0.2960</td>\n",
              "      <td>10</td>\n",
              "      <td>1</td>\n",
              "      <td>0</td>\n",
              "      <td>0</td>\n",
              "      <td>True</td>\n",
              "    </tr>\n",
              "    <tr>\n",
              "      <th>4176</th>\n",
              "      <td>0.710</td>\n",
              "      <td>0.555</td>\n",
              "      <td>0.195</td>\n",
              "      <td>1.9485</td>\n",
              "      <td>0.9455</td>\n",
              "      <td>0.3765</td>\n",
              "      <td>0.4950</td>\n",
              "      <td>12</td>\n",
              "      <td>0</td>\n",
              "      <td>0</td>\n",
              "      <td>1</td>\n",
              "      <td>True</td>\n",
              "    </tr>\n",
              "  </tbody>\n",
              "</table>\n",
              "<p>4177 rows × 12 columns</p>\n",
              "</div>\n",
              "      <button class=\"colab-df-convert\" onclick=\"convertToInteractive('df-e46e093c-4d03-4003-87a3-ba5f91d53afe')\"\n",
              "              title=\"Convert this dataframe to an interactive table.\"\n",
              "              style=\"display:none;\">\n",
              "        \n",
              "  <svg xmlns=\"http://www.w3.org/2000/svg\" height=\"24px\"viewBox=\"0 0 24 24\"\n",
              "       width=\"24px\">\n",
              "    <path d=\"M0 0h24v24H0V0z\" fill=\"none\"/>\n",
              "    <path d=\"M18.56 5.44l.94 2.06.94-2.06 2.06-.94-2.06-.94-.94-2.06-.94 2.06-2.06.94zm-11 1L8.5 8.5l.94-2.06 2.06-.94-2.06-.94L8.5 2.5l-.94 2.06-2.06.94zm10 10l.94 2.06.94-2.06 2.06-.94-2.06-.94-.94-2.06-.94 2.06-2.06.94z\"/><path d=\"M17.41 7.96l-1.37-1.37c-.4-.4-.92-.59-1.43-.59-.52 0-1.04.2-1.43.59L10.3 9.45l-7.72 7.72c-.78.78-.78 2.05 0 2.83L4 21.41c.39.39.9.59 1.41.59.51 0 1.02-.2 1.41-.59l7.78-7.78 2.81-2.81c.8-.78.8-2.07 0-2.86zM5.41 20L4 18.59l7.72-7.72 1.47 1.35L5.41 20z\"/>\n",
              "  </svg>\n",
              "      </button>\n",
              "      \n",
              "  <style>\n",
              "    .colab-df-container {\n",
              "      display:flex;\n",
              "      flex-wrap:wrap;\n",
              "      gap: 12px;\n",
              "    }\n",
              "\n",
              "    .colab-df-convert {\n",
              "      background-color: #E8F0FE;\n",
              "      border: none;\n",
              "      border-radius: 50%;\n",
              "      cursor: pointer;\n",
              "      display: none;\n",
              "      fill: #1967D2;\n",
              "      height: 32px;\n",
              "      padding: 0 0 0 0;\n",
              "      width: 32px;\n",
              "    }\n",
              "\n",
              "    .colab-df-convert:hover {\n",
              "      background-color: #E2EBFA;\n",
              "      box-shadow: 0px 1px 2px rgba(60, 64, 67, 0.3), 0px 1px 3px 1px rgba(60, 64, 67, 0.15);\n",
              "      fill: #174EA6;\n",
              "    }\n",
              "\n",
              "    [theme=dark] .colab-df-convert {\n",
              "      background-color: #3B4455;\n",
              "      fill: #D2E3FC;\n",
              "    }\n",
              "\n",
              "    [theme=dark] .colab-df-convert:hover {\n",
              "      background-color: #434B5C;\n",
              "      box-shadow: 0px 1px 3px 1px rgba(0, 0, 0, 0.15);\n",
              "      filter: drop-shadow(0px 1px 2px rgba(0, 0, 0, 0.3));\n",
              "      fill: #FFFFFF;\n",
              "    }\n",
              "  </style>\n",
              "\n",
              "      <script>\n",
              "        const buttonEl =\n",
              "          document.querySelector('#df-e46e093c-4d03-4003-87a3-ba5f91d53afe button.colab-df-convert');\n",
              "        buttonEl.style.display =\n",
              "          google.colab.kernel.accessAllowed ? 'block' : 'none';\n",
              "\n",
              "        async function convertToInteractive(key) {\n",
              "          const element = document.querySelector('#df-e46e093c-4d03-4003-87a3-ba5f91d53afe');\n",
              "          const dataTable =\n",
              "            await google.colab.kernel.invokeFunction('convertToInteractive',\n",
              "                                                     [key], {});\n",
              "          if (!dataTable) return;\n",
              "\n",
              "          const docLinkHtml = 'Like what you see? Visit the ' +\n",
              "            '<a target=\"_blank\" href=https://colab.research.google.com/notebooks/data_table.ipynb>data table notebook</a>'\n",
              "            + ' to learn more about interactive tables.';\n",
              "          element.innerHTML = '';\n",
              "          dataTable['output_type'] = 'display_data';\n",
              "          await google.colab.output.renderOutput(dataTable, element);\n",
              "          const docLink = document.createElement('div');\n",
              "          docLink.innerHTML = docLinkHtml;\n",
              "          element.appendChild(docLink);\n",
              "        }\n",
              "      </script>\n",
              "    </div>\n",
              "  </div>\n",
              "  "
            ]
          },
          "metadata": {},
          "execution_count": 8
        }
      ]
    },
    {
      "cell_type": "code",
      "source": [],
      "metadata": {
        "id": "qK5hsHRTcjXI"
      },
      "execution_count": null,
      "outputs": []
    },
    {
      "cell_type": "markdown",
      "source": [
        "# **เริ่มทำ Data Mining**"
      ],
      "metadata": {
        "id": "chwgD29jTvwV"
      }
    },
    {
      "cell_type": "code",
      "source": [
        "import numpy as np\n",
        "from sklearn.model_selection import train_test_split"
      ],
      "metadata": {
        "id": "rxgh1KMiR27I"
      },
      "execution_count": 9,
      "outputs": []
    },
    {
      "cell_type": "code",
      "source": [
        "TRAIN = Abalone_pre.iloc[:3133,:]\n",
        "TEST = Abalone_pre.iloc[3133:,:] \n",
        "print(f'train = {TRAIN.shape[0]}, test = {TEST.shape[0]}')"
      ],
      "metadata": {
        "colab": {
          "base_uri": "https://localhost:8080/"
        },
        "id": "IkSgHyq-c03B",
        "outputId": "afc00519-e1e7-4cf3-f895-243d65060290"
      },
      "execution_count": 10,
      "outputs": [
        {
          "output_type": "stream",
          "name": "stdout",
          "text": [
            "train = 3133, test = 1044\n"
          ]
        }
      ]
    },
    {
      "cell_type": "code",
      "source": [
        "TRAIN"
      ],
      "metadata": {
        "colab": {
          "base_uri": "https://localhost:8080/",
          "height": 424
        },
        "id": "FGpCpVPbeIm_",
        "outputId": "cbd68286-2767-4b31-b79f-7c18a49a9cd5"
      },
      "execution_count": 11,
      "outputs": [
        {
          "output_type": "execute_result",
          "data": {
            "text/plain": [
              "      Length   Diam  Height   Whole  Shucked  Viscera   Shell  Rings  Sex_F  \\\n",
              "0      0.455  0.365   0.095  0.5140   0.2245   0.1010  0.1500     15      0   \n",
              "1      0.350  0.265   0.090  0.2255   0.0995   0.0485  0.0700      7      0   \n",
              "2      0.530  0.420   0.135  0.6770   0.2565   0.1415  0.2100      9      1   \n",
              "3      0.440  0.365   0.125  0.5160   0.2155   0.1140  0.1550     10      0   \n",
              "4      0.330  0.255   0.080  0.2050   0.0895   0.0395  0.0550      7      0   \n",
              "...      ...    ...     ...     ...      ...      ...     ...    ...    ...   \n",
              "3128   0.630  0.495   0.190  1.1655   0.5360   0.2115  0.1625     10      1   \n",
              "3129   0.630  0.490   0.170  1.2155   0.4625   0.2045  0.3105     10      1   \n",
              "3130   0.670  0.515   0.165  1.1735   0.5260   0.2850  0.3160     11      0   \n",
              "3131   0.675  0.505   0.160  1.5320   0.7400   0.3570  0.3815     11      0   \n",
              "3132   0.685  0.530   0.170  1.5105   0.7385   0.3525  0.3725     10      1   \n",
              "\n",
              "      Sex_I  Sex_M  Age_CLASS  \n",
              "0         0      1       True  \n",
              "1         0      1      False  \n",
              "2         0      0      False  \n",
              "3         0      1       True  \n",
              "4         1      0      False  \n",
              "...     ...    ...        ...  \n",
              "3128      0      0       True  \n",
              "3129      0      0       True  \n",
              "3130      0      1       True  \n",
              "3131      0      1       True  \n",
              "3132      0      0       True  \n",
              "\n",
              "[3133 rows x 12 columns]"
            ],
            "text/html": [
              "\n",
              "  <div id=\"df-ab91d250-9896-488b-8061-379405752937\">\n",
              "    <div class=\"colab-df-container\">\n",
              "      <div>\n",
              "<style scoped>\n",
              "    .dataframe tbody tr th:only-of-type {\n",
              "        vertical-align: middle;\n",
              "    }\n",
              "\n",
              "    .dataframe tbody tr th {\n",
              "        vertical-align: top;\n",
              "    }\n",
              "\n",
              "    .dataframe thead th {\n",
              "        text-align: right;\n",
              "    }\n",
              "</style>\n",
              "<table border=\"1\" class=\"dataframe\">\n",
              "  <thead>\n",
              "    <tr style=\"text-align: right;\">\n",
              "      <th></th>\n",
              "      <th>Length</th>\n",
              "      <th>Diam</th>\n",
              "      <th>Height</th>\n",
              "      <th>Whole</th>\n",
              "      <th>Shucked</th>\n",
              "      <th>Viscera</th>\n",
              "      <th>Shell</th>\n",
              "      <th>Rings</th>\n",
              "      <th>Sex_F</th>\n",
              "      <th>Sex_I</th>\n",
              "      <th>Sex_M</th>\n",
              "      <th>Age_CLASS</th>\n",
              "    </tr>\n",
              "  </thead>\n",
              "  <tbody>\n",
              "    <tr>\n",
              "      <th>0</th>\n",
              "      <td>0.455</td>\n",
              "      <td>0.365</td>\n",
              "      <td>0.095</td>\n",
              "      <td>0.5140</td>\n",
              "      <td>0.2245</td>\n",
              "      <td>0.1010</td>\n",
              "      <td>0.1500</td>\n",
              "      <td>15</td>\n",
              "      <td>0</td>\n",
              "      <td>0</td>\n",
              "      <td>1</td>\n",
              "      <td>True</td>\n",
              "    </tr>\n",
              "    <tr>\n",
              "      <th>1</th>\n",
              "      <td>0.350</td>\n",
              "      <td>0.265</td>\n",
              "      <td>0.090</td>\n",
              "      <td>0.2255</td>\n",
              "      <td>0.0995</td>\n",
              "      <td>0.0485</td>\n",
              "      <td>0.0700</td>\n",
              "      <td>7</td>\n",
              "      <td>0</td>\n",
              "      <td>0</td>\n",
              "      <td>1</td>\n",
              "      <td>False</td>\n",
              "    </tr>\n",
              "    <tr>\n",
              "      <th>2</th>\n",
              "      <td>0.530</td>\n",
              "      <td>0.420</td>\n",
              "      <td>0.135</td>\n",
              "      <td>0.6770</td>\n",
              "      <td>0.2565</td>\n",
              "      <td>0.1415</td>\n",
              "      <td>0.2100</td>\n",
              "      <td>9</td>\n",
              "      <td>1</td>\n",
              "      <td>0</td>\n",
              "      <td>0</td>\n",
              "      <td>False</td>\n",
              "    </tr>\n",
              "    <tr>\n",
              "      <th>3</th>\n",
              "      <td>0.440</td>\n",
              "      <td>0.365</td>\n",
              "      <td>0.125</td>\n",
              "      <td>0.5160</td>\n",
              "      <td>0.2155</td>\n",
              "      <td>0.1140</td>\n",
              "      <td>0.1550</td>\n",
              "      <td>10</td>\n",
              "      <td>0</td>\n",
              "      <td>0</td>\n",
              "      <td>1</td>\n",
              "      <td>True</td>\n",
              "    </tr>\n",
              "    <tr>\n",
              "      <th>4</th>\n",
              "      <td>0.330</td>\n",
              "      <td>0.255</td>\n",
              "      <td>0.080</td>\n",
              "      <td>0.2050</td>\n",
              "      <td>0.0895</td>\n",
              "      <td>0.0395</td>\n",
              "      <td>0.0550</td>\n",
              "      <td>7</td>\n",
              "      <td>0</td>\n",
              "      <td>1</td>\n",
              "      <td>0</td>\n",
              "      <td>False</td>\n",
              "    </tr>\n",
              "    <tr>\n",
              "      <th>...</th>\n",
              "      <td>...</td>\n",
              "      <td>...</td>\n",
              "      <td>...</td>\n",
              "      <td>...</td>\n",
              "      <td>...</td>\n",
              "      <td>...</td>\n",
              "      <td>...</td>\n",
              "      <td>...</td>\n",
              "      <td>...</td>\n",
              "      <td>...</td>\n",
              "      <td>...</td>\n",
              "      <td>...</td>\n",
              "    </tr>\n",
              "    <tr>\n",
              "      <th>3128</th>\n",
              "      <td>0.630</td>\n",
              "      <td>0.495</td>\n",
              "      <td>0.190</td>\n",
              "      <td>1.1655</td>\n",
              "      <td>0.5360</td>\n",
              "      <td>0.2115</td>\n",
              "      <td>0.1625</td>\n",
              "      <td>10</td>\n",
              "      <td>1</td>\n",
              "      <td>0</td>\n",
              "      <td>0</td>\n",
              "      <td>True</td>\n",
              "    </tr>\n",
              "    <tr>\n",
              "      <th>3129</th>\n",
              "      <td>0.630</td>\n",
              "      <td>0.490</td>\n",
              "      <td>0.170</td>\n",
              "      <td>1.2155</td>\n",
              "      <td>0.4625</td>\n",
              "      <td>0.2045</td>\n",
              "      <td>0.3105</td>\n",
              "      <td>10</td>\n",
              "      <td>1</td>\n",
              "      <td>0</td>\n",
              "      <td>0</td>\n",
              "      <td>True</td>\n",
              "    </tr>\n",
              "    <tr>\n",
              "      <th>3130</th>\n",
              "      <td>0.670</td>\n",
              "      <td>0.515</td>\n",
              "      <td>0.165</td>\n",
              "      <td>1.1735</td>\n",
              "      <td>0.5260</td>\n",
              "      <td>0.2850</td>\n",
              "      <td>0.3160</td>\n",
              "      <td>11</td>\n",
              "      <td>0</td>\n",
              "      <td>0</td>\n",
              "      <td>1</td>\n",
              "      <td>True</td>\n",
              "    </tr>\n",
              "    <tr>\n",
              "      <th>3131</th>\n",
              "      <td>0.675</td>\n",
              "      <td>0.505</td>\n",
              "      <td>0.160</td>\n",
              "      <td>1.5320</td>\n",
              "      <td>0.7400</td>\n",
              "      <td>0.3570</td>\n",
              "      <td>0.3815</td>\n",
              "      <td>11</td>\n",
              "      <td>0</td>\n",
              "      <td>0</td>\n",
              "      <td>1</td>\n",
              "      <td>True</td>\n",
              "    </tr>\n",
              "    <tr>\n",
              "      <th>3132</th>\n",
              "      <td>0.685</td>\n",
              "      <td>0.530</td>\n",
              "      <td>0.170</td>\n",
              "      <td>1.5105</td>\n",
              "      <td>0.7385</td>\n",
              "      <td>0.3525</td>\n",
              "      <td>0.3725</td>\n",
              "      <td>10</td>\n",
              "      <td>1</td>\n",
              "      <td>0</td>\n",
              "      <td>0</td>\n",
              "      <td>True</td>\n",
              "    </tr>\n",
              "  </tbody>\n",
              "</table>\n",
              "<p>3133 rows × 12 columns</p>\n",
              "</div>\n",
              "      <button class=\"colab-df-convert\" onclick=\"convertToInteractive('df-ab91d250-9896-488b-8061-379405752937')\"\n",
              "              title=\"Convert this dataframe to an interactive table.\"\n",
              "              style=\"display:none;\">\n",
              "        \n",
              "  <svg xmlns=\"http://www.w3.org/2000/svg\" height=\"24px\"viewBox=\"0 0 24 24\"\n",
              "       width=\"24px\">\n",
              "    <path d=\"M0 0h24v24H0V0z\" fill=\"none\"/>\n",
              "    <path d=\"M18.56 5.44l.94 2.06.94-2.06 2.06-.94-2.06-.94-.94-2.06-.94 2.06-2.06.94zm-11 1L8.5 8.5l.94-2.06 2.06-.94-2.06-.94L8.5 2.5l-.94 2.06-2.06.94zm10 10l.94 2.06.94-2.06 2.06-.94-2.06-.94-.94-2.06-.94 2.06-2.06.94z\"/><path d=\"M17.41 7.96l-1.37-1.37c-.4-.4-.92-.59-1.43-.59-.52 0-1.04.2-1.43.59L10.3 9.45l-7.72 7.72c-.78.78-.78 2.05 0 2.83L4 21.41c.39.39.9.59 1.41.59.51 0 1.02-.2 1.41-.59l7.78-7.78 2.81-2.81c.8-.78.8-2.07 0-2.86zM5.41 20L4 18.59l7.72-7.72 1.47 1.35L5.41 20z\"/>\n",
              "  </svg>\n",
              "      </button>\n",
              "      \n",
              "  <style>\n",
              "    .colab-df-container {\n",
              "      display:flex;\n",
              "      flex-wrap:wrap;\n",
              "      gap: 12px;\n",
              "    }\n",
              "\n",
              "    .colab-df-convert {\n",
              "      background-color: #E8F0FE;\n",
              "      border: none;\n",
              "      border-radius: 50%;\n",
              "      cursor: pointer;\n",
              "      display: none;\n",
              "      fill: #1967D2;\n",
              "      height: 32px;\n",
              "      padding: 0 0 0 0;\n",
              "      width: 32px;\n",
              "    }\n",
              "\n",
              "    .colab-df-convert:hover {\n",
              "      background-color: #E2EBFA;\n",
              "      box-shadow: 0px 1px 2px rgba(60, 64, 67, 0.3), 0px 1px 3px 1px rgba(60, 64, 67, 0.15);\n",
              "      fill: #174EA6;\n",
              "    }\n",
              "\n",
              "    [theme=dark] .colab-df-convert {\n",
              "      background-color: #3B4455;\n",
              "      fill: #D2E3FC;\n",
              "    }\n",
              "\n",
              "    [theme=dark] .colab-df-convert:hover {\n",
              "      background-color: #434B5C;\n",
              "      box-shadow: 0px 1px 3px 1px rgba(0, 0, 0, 0.15);\n",
              "      filter: drop-shadow(0px 1px 2px rgba(0, 0, 0, 0.3));\n",
              "      fill: #FFFFFF;\n",
              "    }\n",
              "  </style>\n",
              "\n",
              "      <script>\n",
              "        const buttonEl =\n",
              "          document.querySelector('#df-ab91d250-9896-488b-8061-379405752937 button.colab-df-convert');\n",
              "        buttonEl.style.display =\n",
              "          google.colab.kernel.accessAllowed ? 'block' : 'none';\n",
              "\n",
              "        async function convertToInteractive(key) {\n",
              "          const element = document.querySelector('#df-ab91d250-9896-488b-8061-379405752937');\n",
              "          const dataTable =\n",
              "            await google.colab.kernel.invokeFunction('convertToInteractive',\n",
              "                                                     [key], {});\n",
              "          if (!dataTable) return;\n",
              "\n",
              "          const docLinkHtml = 'Like what you see? Visit the ' +\n",
              "            '<a target=\"_blank\" href=https://colab.research.google.com/notebooks/data_table.ipynb>data table notebook</a>'\n",
              "            + ' to learn more about interactive tables.';\n",
              "          element.innerHTML = '';\n",
              "          dataTable['output_type'] = 'display_data';\n",
              "          await google.colab.output.renderOutput(dataTable, element);\n",
              "          const docLink = document.createElement('div');\n",
              "          docLink.innerHTML = docLinkHtml;\n",
              "          element.appendChild(docLink);\n",
              "        }\n",
              "      </script>\n",
              "    </div>\n",
              "  </div>\n",
              "  "
            ]
          },
          "metadata": {},
          "execution_count": 11
        }
      ]
    },
    {
      "cell_type": "code",
      "source": [
        "TEST"
      ],
      "metadata": {
        "colab": {
          "base_uri": "https://localhost:8080/",
          "height": 424
        },
        "id": "j86VJqZcR2-s",
        "outputId": "3fe7d784-0d26-46fd-a472-06d2e10d1e1a"
      },
      "execution_count": 12,
      "outputs": [
        {
          "output_type": "execute_result",
          "data": {
            "text/plain": [
              "      Length   Diam  Height   Whole  Shucked  Viscera   Shell  Rings  Sex_F  \\\n",
              "3133   0.485  0.390   0.100  0.5565   0.2215   0.1155  0.1850      9      1   \n",
              "3134   0.460  0.360   0.125  0.5470   0.2165   0.1105  0.1900      8      0   \n",
              "3135   0.460  0.350   0.125  0.5165   0.1885   0.1145  0.1850      9      0   \n",
              "3136   0.535  0.420   0.125  0.7640   0.3120   0.1505  0.2650     11      0   \n",
              "3137   0.465  0.360   0.105  0.4880   0.1880   0.0845  0.1900     10      0   \n",
              "...      ...    ...     ...     ...      ...      ...     ...    ...    ...   \n",
              "4172   0.565  0.450   0.165  0.8870   0.3700   0.2390  0.2490     11      1   \n",
              "4173   0.590  0.440   0.135  0.9660   0.4390   0.2145  0.2605     10      0   \n",
              "4174   0.600  0.475   0.205  1.1760   0.5255   0.2875  0.3080      9      0   \n",
              "4175   0.625  0.485   0.150  1.0945   0.5310   0.2610  0.2960     10      1   \n",
              "4176   0.710  0.555   0.195  1.9485   0.9455   0.3765  0.4950     12      0   \n",
              "\n",
              "      Sex_I  Sex_M  Age_CLASS  \n",
              "3133      0      0      False  \n",
              "3134      0      1      False  \n",
              "3135      0      1      False  \n",
              "3136      0      1       True  \n",
              "3137      0      1       True  \n",
              "...     ...    ...        ...  \n",
              "4172      0      0       True  \n",
              "4173      0      1       True  \n",
              "4174      0      1      False  \n",
              "4175      0      0       True  \n",
              "4176      0      1       True  \n",
              "\n",
              "[1044 rows x 12 columns]"
            ],
            "text/html": [
              "\n",
              "  <div id=\"df-27bc559e-9b7a-4796-b31b-09eebf4c5b8f\">\n",
              "    <div class=\"colab-df-container\">\n",
              "      <div>\n",
              "<style scoped>\n",
              "    .dataframe tbody tr th:only-of-type {\n",
              "        vertical-align: middle;\n",
              "    }\n",
              "\n",
              "    .dataframe tbody tr th {\n",
              "        vertical-align: top;\n",
              "    }\n",
              "\n",
              "    .dataframe thead th {\n",
              "        text-align: right;\n",
              "    }\n",
              "</style>\n",
              "<table border=\"1\" class=\"dataframe\">\n",
              "  <thead>\n",
              "    <tr style=\"text-align: right;\">\n",
              "      <th></th>\n",
              "      <th>Length</th>\n",
              "      <th>Diam</th>\n",
              "      <th>Height</th>\n",
              "      <th>Whole</th>\n",
              "      <th>Shucked</th>\n",
              "      <th>Viscera</th>\n",
              "      <th>Shell</th>\n",
              "      <th>Rings</th>\n",
              "      <th>Sex_F</th>\n",
              "      <th>Sex_I</th>\n",
              "      <th>Sex_M</th>\n",
              "      <th>Age_CLASS</th>\n",
              "    </tr>\n",
              "  </thead>\n",
              "  <tbody>\n",
              "    <tr>\n",
              "      <th>3133</th>\n",
              "      <td>0.485</td>\n",
              "      <td>0.390</td>\n",
              "      <td>0.100</td>\n",
              "      <td>0.5565</td>\n",
              "      <td>0.2215</td>\n",
              "      <td>0.1155</td>\n",
              "      <td>0.1850</td>\n",
              "      <td>9</td>\n",
              "      <td>1</td>\n",
              "      <td>0</td>\n",
              "      <td>0</td>\n",
              "      <td>False</td>\n",
              "    </tr>\n",
              "    <tr>\n",
              "      <th>3134</th>\n",
              "      <td>0.460</td>\n",
              "      <td>0.360</td>\n",
              "      <td>0.125</td>\n",
              "      <td>0.5470</td>\n",
              "      <td>0.2165</td>\n",
              "      <td>0.1105</td>\n",
              "      <td>0.1900</td>\n",
              "      <td>8</td>\n",
              "      <td>0</td>\n",
              "      <td>0</td>\n",
              "      <td>1</td>\n",
              "      <td>False</td>\n",
              "    </tr>\n",
              "    <tr>\n",
              "      <th>3135</th>\n",
              "      <td>0.460</td>\n",
              "      <td>0.350</td>\n",
              "      <td>0.125</td>\n",
              "      <td>0.5165</td>\n",
              "      <td>0.1885</td>\n",
              "      <td>0.1145</td>\n",
              "      <td>0.1850</td>\n",
              "      <td>9</td>\n",
              "      <td>0</td>\n",
              "      <td>0</td>\n",
              "      <td>1</td>\n",
              "      <td>False</td>\n",
              "    </tr>\n",
              "    <tr>\n",
              "      <th>3136</th>\n",
              "      <td>0.535</td>\n",
              "      <td>0.420</td>\n",
              "      <td>0.125</td>\n",
              "      <td>0.7640</td>\n",
              "      <td>0.3120</td>\n",
              "      <td>0.1505</td>\n",
              "      <td>0.2650</td>\n",
              "      <td>11</td>\n",
              "      <td>0</td>\n",
              "      <td>0</td>\n",
              "      <td>1</td>\n",
              "      <td>True</td>\n",
              "    </tr>\n",
              "    <tr>\n",
              "      <th>3137</th>\n",
              "      <td>0.465</td>\n",
              "      <td>0.360</td>\n",
              "      <td>0.105</td>\n",
              "      <td>0.4880</td>\n",
              "      <td>0.1880</td>\n",
              "      <td>0.0845</td>\n",
              "      <td>0.1900</td>\n",
              "      <td>10</td>\n",
              "      <td>0</td>\n",
              "      <td>0</td>\n",
              "      <td>1</td>\n",
              "      <td>True</td>\n",
              "    </tr>\n",
              "    <tr>\n",
              "      <th>...</th>\n",
              "      <td>...</td>\n",
              "      <td>...</td>\n",
              "      <td>...</td>\n",
              "      <td>...</td>\n",
              "      <td>...</td>\n",
              "      <td>...</td>\n",
              "      <td>...</td>\n",
              "      <td>...</td>\n",
              "      <td>...</td>\n",
              "      <td>...</td>\n",
              "      <td>...</td>\n",
              "      <td>...</td>\n",
              "    </tr>\n",
              "    <tr>\n",
              "      <th>4172</th>\n",
              "      <td>0.565</td>\n",
              "      <td>0.450</td>\n",
              "      <td>0.165</td>\n",
              "      <td>0.8870</td>\n",
              "      <td>0.3700</td>\n",
              "      <td>0.2390</td>\n",
              "      <td>0.2490</td>\n",
              "      <td>11</td>\n",
              "      <td>1</td>\n",
              "      <td>0</td>\n",
              "      <td>0</td>\n",
              "      <td>True</td>\n",
              "    </tr>\n",
              "    <tr>\n",
              "      <th>4173</th>\n",
              "      <td>0.590</td>\n",
              "      <td>0.440</td>\n",
              "      <td>0.135</td>\n",
              "      <td>0.9660</td>\n",
              "      <td>0.4390</td>\n",
              "      <td>0.2145</td>\n",
              "      <td>0.2605</td>\n",
              "      <td>10</td>\n",
              "      <td>0</td>\n",
              "      <td>0</td>\n",
              "      <td>1</td>\n",
              "      <td>True</td>\n",
              "    </tr>\n",
              "    <tr>\n",
              "      <th>4174</th>\n",
              "      <td>0.600</td>\n",
              "      <td>0.475</td>\n",
              "      <td>0.205</td>\n",
              "      <td>1.1760</td>\n",
              "      <td>0.5255</td>\n",
              "      <td>0.2875</td>\n",
              "      <td>0.3080</td>\n",
              "      <td>9</td>\n",
              "      <td>0</td>\n",
              "      <td>0</td>\n",
              "      <td>1</td>\n",
              "      <td>False</td>\n",
              "    </tr>\n",
              "    <tr>\n",
              "      <th>4175</th>\n",
              "      <td>0.625</td>\n",
              "      <td>0.485</td>\n",
              "      <td>0.150</td>\n",
              "      <td>1.0945</td>\n",
              "      <td>0.5310</td>\n",
              "      <td>0.2610</td>\n",
              "      <td>0.2960</td>\n",
              "      <td>10</td>\n",
              "      <td>1</td>\n",
              "      <td>0</td>\n",
              "      <td>0</td>\n",
              "      <td>True</td>\n",
              "    </tr>\n",
              "    <tr>\n",
              "      <th>4176</th>\n",
              "      <td>0.710</td>\n",
              "      <td>0.555</td>\n",
              "      <td>0.195</td>\n",
              "      <td>1.9485</td>\n",
              "      <td>0.9455</td>\n",
              "      <td>0.3765</td>\n",
              "      <td>0.4950</td>\n",
              "      <td>12</td>\n",
              "      <td>0</td>\n",
              "      <td>0</td>\n",
              "      <td>1</td>\n",
              "      <td>True</td>\n",
              "    </tr>\n",
              "  </tbody>\n",
              "</table>\n",
              "<p>1044 rows × 12 columns</p>\n",
              "</div>\n",
              "      <button class=\"colab-df-convert\" onclick=\"convertToInteractive('df-27bc559e-9b7a-4796-b31b-09eebf4c5b8f')\"\n",
              "              title=\"Convert this dataframe to an interactive table.\"\n",
              "              style=\"display:none;\">\n",
              "        \n",
              "  <svg xmlns=\"http://www.w3.org/2000/svg\" height=\"24px\"viewBox=\"0 0 24 24\"\n",
              "       width=\"24px\">\n",
              "    <path d=\"M0 0h24v24H0V0z\" fill=\"none\"/>\n",
              "    <path d=\"M18.56 5.44l.94 2.06.94-2.06 2.06-.94-2.06-.94-.94-2.06-.94 2.06-2.06.94zm-11 1L8.5 8.5l.94-2.06 2.06-.94-2.06-.94L8.5 2.5l-.94 2.06-2.06.94zm10 10l.94 2.06.94-2.06 2.06-.94-2.06-.94-.94-2.06-.94 2.06-2.06.94z\"/><path d=\"M17.41 7.96l-1.37-1.37c-.4-.4-.92-.59-1.43-.59-.52 0-1.04.2-1.43.59L10.3 9.45l-7.72 7.72c-.78.78-.78 2.05 0 2.83L4 21.41c.39.39.9.59 1.41.59.51 0 1.02-.2 1.41-.59l7.78-7.78 2.81-2.81c.8-.78.8-2.07 0-2.86zM5.41 20L4 18.59l7.72-7.72 1.47 1.35L5.41 20z\"/>\n",
              "  </svg>\n",
              "      </button>\n",
              "      \n",
              "  <style>\n",
              "    .colab-df-container {\n",
              "      display:flex;\n",
              "      flex-wrap:wrap;\n",
              "      gap: 12px;\n",
              "    }\n",
              "\n",
              "    .colab-df-convert {\n",
              "      background-color: #E8F0FE;\n",
              "      border: none;\n",
              "      border-radius: 50%;\n",
              "      cursor: pointer;\n",
              "      display: none;\n",
              "      fill: #1967D2;\n",
              "      height: 32px;\n",
              "      padding: 0 0 0 0;\n",
              "      width: 32px;\n",
              "    }\n",
              "\n",
              "    .colab-df-convert:hover {\n",
              "      background-color: #E2EBFA;\n",
              "      box-shadow: 0px 1px 2px rgba(60, 64, 67, 0.3), 0px 1px 3px 1px rgba(60, 64, 67, 0.15);\n",
              "      fill: #174EA6;\n",
              "    }\n",
              "\n",
              "    [theme=dark] .colab-df-convert {\n",
              "      background-color: #3B4455;\n",
              "      fill: #D2E3FC;\n",
              "    }\n",
              "\n",
              "    [theme=dark] .colab-df-convert:hover {\n",
              "      background-color: #434B5C;\n",
              "      box-shadow: 0px 1px 3px 1px rgba(0, 0, 0, 0.15);\n",
              "      filter: drop-shadow(0px 1px 2px rgba(0, 0, 0, 0.3));\n",
              "      fill: #FFFFFF;\n",
              "    }\n",
              "  </style>\n",
              "\n",
              "      <script>\n",
              "        const buttonEl =\n",
              "          document.querySelector('#df-27bc559e-9b7a-4796-b31b-09eebf4c5b8f button.colab-df-convert');\n",
              "        buttonEl.style.display =\n",
              "          google.colab.kernel.accessAllowed ? 'block' : 'none';\n",
              "\n",
              "        async function convertToInteractive(key) {\n",
              "          const element = document.querySelector('#df-27bc559e-9b7a-4796-b31b-09eebf4c5b8f');\n",
              "          const dataTable =\n",
              "            await google.colab.kernel.invokeFunction('convertToInteractive',\n",
              "                                                     [key], {});\n",
              "          if (!dataTable) return;\n",
              "\n",
              "          const docLinkHtml = 'Like what you see? Visit the ' +\n",
              "            '<a target=\"_blank\" href=https://colab.research.google.com/notebooks/data_table.ipynb>data table notebook</a>'\n",
              "            + ' to learn more about interactive tables.';\n",
              "          element.innerHTML = '';\n",
              "          dataTable['output_type'] = 'display_data';\n",
              "          await google.colab.output.renderOutput(dataTable, element);\n",
              "          const docLink = document.createElement('div');\n",
              "          docLink.innerHTML = docLinkHtml;\n",
              "          element.appendChild(docLink);\n",
              "        }\n",
              "      </script>\n",
              "    </div>\n",
              "  </div>\n",
              "  "
            ]
          },
          "metadata": {},
          "execution_count": 12
        }
      ]
    },
    {
      "cell_type": "code",
      "source": [
        "#X_train = Abalone_pre.iloc[:,:8]\n",
        "X_train = TRAIN.drop(columns=['Age_CLASS', 'Rings'])\n",
        "X_train"
      ],
      "metadata": {
        "colab": {
          "base_uri": "https://localhost:8080/",
          "height": 424
        },
        "id": "5Qtb_dObVzX8",
        "outputId": "7f5af762-f31a-4e6a-b328-a8be932a7698"
      },
      "execution_count": 13,
      "outputs": [
        {
          "output_type": "execute_result",
          "data": {
            "text/plain": [
              "      Length   Diam  Height   Whole  Shucked  Viscera   Shell  Sex_F  Sex_I  \\\n",
              "0      0.455  0.365   0.095  0.5140   0.2245   0.1010  0.1500      0      0   \n",
              "1      0.350  0.265   0.090  0.2255   0.0995   0.0485  0.0700      0      0   \n",
              "2      0.530  0.420   0.135  0.6770   0.2565   0.1415  0.2100      1      0   \n",
              "3      0.440  0.365   0.125  0.5160   0.2155   0.1140  0.1550      0      0   \n",
              "4      0.330  0.255   0.080  0.2050   0.0895   0.0395  0.0550      0      1   \n",
              "...      ...    ...     ...     ...      ...      ...     ...    ...    ...   \n",
              "3128   0.630  0.495   0.190  1.1655   0.5360   0.2115  0.1625      1      0   \n",
              "3129   0.630  0.490   0.170  1.2155   0.4625   0.2045  0.3105      1      0   \n",
              "3130   0.670  0.515   0.165  1.1735   0.5260   0.2850  0.3160      0      0   \n",
              "3131   0.675  0.505   0.160  1.5320   0.7400   0.3570  0.3815      0      0   \n",
              "3132   0.685  0.530   0.170  1.5105   0.7385   0.3525  0.3725      1      0   \n",
              "\n",
              "      Sex_M  \n",
              "0         1  \n",
              "1         1  \n",
              "2         0  \n",
              "3         1  \n",
              "4         0  \n",
              "...     ...  \n",
              "3128      0  \n",
              "3129      0  \n",
              "3130      1  \n",
              "3131      1  \n",
              "3132      0  \n",
              "\n",
              "[3133 rows x 10 columns]"
            ],
            "text/html": [
              "\n",
              "  <div id=\"df-3fb27b88-a459-4a3d-9cd7-9caaf435d887\">\n",
              "    <div class=\"colab-df-container\">\n",
              "      <div>\n",
              "<style scoped>\n",
              "    .dataframe tbody tr th:only-of-type {\n",
              "        vertical-align: middle;\n",
              "    }\n",
              "\n",
              "    .dataframe tbody tr th {\n",
              "        vertical-align: top;\n",
              "    }\n",
              "\n",
              "    .dataframe thead th {\n",
              "        text-align: right;\n",
              "    }\n",
              "</style>\n",
              "<table border=\"1\" class=\"dataframe\">\n",
              "  <thead>\n",
              "    <tr style=\"text-align: right;\">\n",
              "      <th></th>\n",
              "      <th>Length</th>\n",
              "      <th>Diam</th>\n",
              "      <th>Height</th>\n",
              "      <th>Whole</th>\n",
              "      <th>Shucked</th>\n",
              "      <th>Viscera</th>\n",
              "      <th>Shell</th>\n",
              "      <th>Sex_F</th>\n",
              "      <th>Sex_I</th>\n",
              "      <th>Sex_M</th>\n",
              "    </tr>\n",
              "  </thead>\n",
              "  <tbody>\n",
              "    <tr>\n",
              "      <th>0</th>\n",
              "      <td>0.455</td>\n",
              "      <td>0.365</td>\n",
              "      <td>0.095</td>\n",
              "      <td>0.5140</td>\n",
              "      <td>0.2245</td>\n",
              "      <td>0.1010</td>\n",
              "      <td>0.1500</td>\n",
              "      <td>0</td>\n",
              "      <td>0</td>\n",
              "      <td>1</td>\n",
              "    </tr>\n",
              "    <tr>\n",
              "      <th>1</th>\n",
              "      <td>0.350</td>\n",
              "      <td>0.265</td>\n",
              "      <td>0.090</td>\n",
              "      <td>0.2255</td>\n",
              "      <td>0.0995</td>\n",
              "      <td>0.0485</td>\n",
              "      <td>0.0700</td>\n",
              "      <td>0</td>\n",
              "      <td>0</td>\n",
              "      <td>1</td>\n",
              "    </tr>\n",
              "    <tr>\n",
              "      <th>2</th>\n",
              "      <td>0.530</td>\n",
              "      <td>0.420</td>\n",
              "      <td>0.135</td>\n",
              "      <td>0.6770</td>\n",
              "      <td>0.2565</td>\n",
              "      <td>0.1415</td>\n",
              "      <td>0.2100</td>\n",
              "      <td>1</td>\n",
              "      <td>0</td>\n",
              "      <td>0</td>\n",
              "    </tr>\n",
              "    <tr>\n",
              "      <th>3</th>\n",
              "      <td>0.440</td>\n",
              "      <td>0.365</td>\n",
              "      <td>0.125</td>\n",
              "      <td>0.5160</td>\n",
              "      <td>0.2155</td>\n",
              "      <td>0.1140</td>\n",
              "      <td>0.1550</td>\n",
              "      <td>0</td>\n",
              "      <td>0</td>\n",
              "      <td>1</td>\n",
              "    </tr>\n",
              "    <tr>\n",
              "      <th>4</th>\n",
              "      <td>0.330</td>\n",
              "      <td>0.255</td>\n",
              "      <td>0.080</td>\n",
              "      <td>0.2050</td>\n",
              "      <td>0.0895</td>\n",
              "      <td>0.0395</td>\n",
              "      <td>0.0550</td>\n",
              "      <td>0</td>\n",
              "      <td>1</td>\n",
              "      <td>0</td>\n",
              "    </tr>\n",
              "    <tr>\n",
              "      <th>...</th>\n",
              "      <td>...</td>\n",
              "      <td>...</td>\n",
              "      <td>...</td>\n",
              "      <td>...</td>\n",
              "      <td>...</td>\n",
              "      <td>...</td>\n",
              "      <td>...</td>\n",
              "      <td>...</td>\n",
              "      <td>...</td>\n",
              "      <td>...</td>\n",
              "    </tr>\n",
              "    <tr>\n",
              "      <th>3128</th>\n",
              "      <td>0.630</td>\n",
              "      <td>0.495</td>\n",
              "      <td>0.190</td>\n",
              "      <td>1.1655</td>\n",
              "      <td>0.5360</td>\n",
              "      <td>0.2115</td>\n",
              "      <td>0.1625</td>\n",
              "      <td>1</td>\n",
              "      <td>0</td>\n",
              "      <td>0</td>\n",
              "    </tr>\n",
              "    <tr>\n",
              "      <th>3129</th>\n",
              "      <td>0.630</td>\n",
              "      <td>0.490</td>\n",
              "      <td>0.170</td>\n",
              "      <td>1.2155</td>\n",
              "      <td>0.4625</td>\n",
              "      <td>0.2045</td>\n",
              "      <td>0.3105</td>\n",
              "      <td>1</td>\n",
              "      <td>0</td>\n",
              "      <td>0</td>\n",
              "    </tr>\n",
              "    <tr>\n",
              "      <th>3130</th>\n",
              "      <td>0.670</td>\n",
              "      <td>0.515</td>\n",
              "      <td>0.165</td>\n",
              "      <td>1.1735</td>\n",
              "      <td>0.5260</td>\n",
              "      <td>0.2850</td>\n",
              "      <td>0.3160</td>\n",
              "      <td>0</td>\n",
              "      <td>0</td>\n",
              "      <td>1</td>\n",
              "    </tr>\n",
              "    <tr>\n",
              "      <th>3131</th>\n",
              "      <td>0.675</td>\n",
              "      <td>0.505</td>\n",
              "      <td>0.160</td>\n",
              "      <td>1.5320</td>\n",
              "      <td>0.7400</td>\n",
              "      <td>0.3570</td>\n",
              "      <td>0.3815</td>\n",
              "      <td>0</td>\n",
              "      <td>0</td>\n",
              "      <td>1</td>\n",
              "    </tr>\n",
              "    <tr>\n",
              "      <th>3132</th>\n",
              "      <td>0.685</td>\n",
              "      <td>0.530</td>\n",
              "      <td>0.170</td>\n",
              "      <td>1.5105</td>\n",
              "      <td>0.7385</td>\n",
              "      <td>0.3525</td>\n",
              "      <td>0.3725</td>\n",
              "      <td>1</td>\n",
              "      <td>0</td>\n",
              "      <td>0</td>\n",
              "    </tr>\n",
              "  </tbody>\n",
              "</table>\n",
              "<p>3133 rows × 10 columns</p>\n",
              "</div>\n",
              "      <button class=\"colab-df-convert\" onclick=\"convertToInteractive('df-3fb27b88-a459-4a3d-9cd7-9caaf435d887')\"\n",
              "              title=\"Convert this dataframe to an interactive table.\"\n",
              "              style=\"display:none;\">\n",
              "        \n",
              "  <svg xmlns=\"http://www.w3.org/2000/svg\" height=\"24px\"viewBox=\"0 0 24 24\"\n",
              "       width=\"24px\">\n",
              "    <path d=\"M0 0h24v24H0V0z\" fill=\"none\"/>\n",
              "    <path d=\"M18.56 5.44l.94 2.06.94-2.06 2.06-.94-2.06-.94-.94-2.06-.94 2.06-2.06.94zm-11 1L8.5 8.5l.94-2.06 2.06-.94-2.06-.94L8.5 2.5l-.94 2.06-2.06.94zm10 10l.94 2.06.94-2.06 2.06-.94-2.06-.94-.94-2.06-.94 2.06-2.06.94z\"/><path d=\"M17.41 7.96l-1.37-1.37c-.4-.4-.92-.59-1.43-.59-.52 0-1.04.2-1.43.59L10.3 9.45l-7.72 7.72c-.78.78-.78 2.05 0 2.83L4 21.41c.39.39.9.59 1.41.59.51 0 1.02-.2 1.41-.59l7.78-7.78 2.81-2.81c.8-.78.8-2.07 0-2.86zM5.41 20L4 18.59l7.72-7.72 1.47 1.35L5.41 20z\"/>\n",
              "  </svg>\n",
              "      </button>\n",
              "      \n",
              "  <style>\n",
              "    .colab-df-container {\n",
              "      display:flex;\n",
              "      flex-wrap:wrap;\n",
              "      gap: 12px;\n",
              "    }\n",
              "\n",
              "    .colab-df-convert {\n",
              "      background-color: #E8F0FE;\n",
              "      border: none;\n",
              "      border-radius: 50%;\n",
              "      cursor: pointer;\n",
              "      display: none;\n",
              "      fill: #1967D2;\n",
              "      height: 32px;\n",
              "      padding: 0 0 0 0;\n",
              "      width: 32px;\n",
              "    }\n",
              "\n",
              "    .colab-df-convert:hover {\n",
              "      background-color: #E2EBFA;\n",
              "      box-shadow: 0px 1px 2px rgba(60, 64, 67, 0.3), 0px 1px 3px 1px rgba(60, 64, 67, 0.15);\n",
              "      fill: #174EA6;\n",
              "    }\n",
              "\n",
              "    [theme=dark] .colab-df-convert {\n",
              "      background-color: #3B4455;\n",
              "      fill: #D2E3FC;\n",
              "    }\n",
              "\n",
              "    [theme=dark] .colab-df-convert:hover {\n",
              "      background-color: #434B5C;\n",
              "      box-shadow: 0px 1px 3px 1px rgba(0, 0, 0, 0.15);\n",
              "      filter: drop-shadow(0px 1px 2px rgba(0, 0, 0, 0.3));\n",
              "      fill: #FFFFFF;\n",
              "    }\n",
              "  </style>\n",
              "\n",
              "      <script>\n",
              "        const buttonEl =\n",
              "          document.querySelector('#df-3fb27b88-a459-4a3d-9cd7-9caaf435d887 button.colab-df-convert');\n",
              "        buttonEl.style.display =\n",
              "          google.colab.kernel.accessAllowed ? 'block' : 'none';\n",
              "\n",
              "        async function convertToInteractive(key) {\n",
              "          const element = document.querySelector('#df-3fb27b88-a459-4a3d-9cd7-9caaf435d887');\n",
              "          const dataTable =\n",
              "            await google.colab.kernel.invokeFunction('convertToInteractive',\n",
              "                                                     [key], {});\n",
              "          if (!dataTable) return;\n",
              "\n",
              "          const docLinkHtml = 'Like what you see? Visit the ' +\n",
              "            '<a target=\"_blank\" href=https://colab.research.google.com/notebooks/data_table.ipynb>data table notebook</a>'\n",
              "            + ' to learn more about interactive tables.';\n",
              "          element.innerHTML = '';\n",
              "          dataTable['output_type'] = 'display_data';\n",
              "          await google.colab.output.renderOutput(dataTable, element);\n",
              "          const docLink = document.createElement('div');\n",
              "          docLink.innerHTML = docLinkHtml;\n",
              "          element.appendChild(docLink);\n",
              "        }\n",
              "      </script>\n",
              "    </div>\n",
              "  </div>\n",
              "  "
            ]
          },
          "metadata": {},
          "execution_count": 13
        }
      ]
    },
    {
      "cell_type": "code",
      "source": [
        "#y_train = TRAIN.iloc[:,9:]\n",
        "y_train = TRAIN['Age_CLASS']\n",
        "y_train"
      ],
      "metadata": {
        "colab": {
          "base_uri": "https://localhost:8080/"
        },
        "id": "PdcK_blFV-Sg",
        "outputId": "07380d06-52e4-473e-f462-e08d46096185"
      },
      "execution_count": 15,
      "outputs": [
        {
          "output_type": "execute_result",
          "data": {
            "text/plain": [
              "0        True\n",
              "1       False\n",
              "2       False\n",
              "3        True\n",
              "4       False\n",
              "        ...  \n",
              "3128     True\n",
              "3129     True\n",
              "3130     True\n",
              "3131     True\n",
              "3132     True\n",
              "Name: Age_CLASS, Length: 3133, dtype: bool"
            ]
          },
          "metadata": {},
          "execution_count": 15
        }
      ]
    },
    {
      "cell_type": "code",
      "source": [
        "#X_test = TEST.iloc[:,:8]\n",
        "X_test = TEST.drop(columns=['Age_CLASS', 'Rings'])\n",
        "#y_test = TEST.iloc[:,9:]\n",
        "y_test = TEST['Age_CLASS']"
      ],
      "metadata": {
        "id": "Mg6C3iU6Wdn9"
      },
      "execution_count": 16,
      "outputs": []
    },
    {
      "cell_type": "code",
      "source": [
        "X_test"
      ],
      "metadata": {
        "colab": {
          "base_uri": "https://localhost:8080/",
          "height": 424
        },
        "id": "pkQSgHCKWngl",
        "outputId": "b89d3ef1-df2d-4495-8a4e-cb4ef52cdcaf"
      },
      "execution_count": 17,
      "outputs": [
        {
          "output_type": "execute_result",
          "data": {
            "text/plain": [
              "      Length   Diam  Height   Whole  Shucked  Viscera   Shell  Sex_F  Sex_I  \\\n",
              "3133   0.485  0.390   0.100  0.5565   0.2215   0.1155  0.1850      1      0   \n",
              "3134   0.460  0.360   0.125  0.5470   0.2165   0.1105  0.1900      0      0   \n",
              "3135   0.460  0.350   0.125  0.5165   0.1885   0.1145  0.1850      0      0   \n",
              "3136   0.535  0.420   0.125  0.7640   0.3120   0.1505  0.2650      0      0   \n",
              "3137   0.465  0.360   0.105  0.4880   0.1880   0.0845  0.1900      0      0   \n",
              "...      ...    ...     ...     ...      ...      ...     ...    ...    ...   \n",
              "4172   0.565  0.450   0.165  0.8870   0.3700   0.2390  0.2490      1      0   \n",
              "4173   0.590  0.440   0.135  0.9660   0.4390   0.2145  0.2605      0      0   \n",
              "4174   0.600  0.475   0.205  1.1760   0.5255   0.2875  0.3080      0      0   \n",
              "4175   0.625  0.485   0.150  1.0945   0.5310   0.2610  0.2960      1      0   \n",
              "4176   0.710  0.555   0.195  1.9485   0.9455   0.3765  0.4950      0      0   \n",
              "\n",
              "      Sex_M  \n",
              "3133      0  \n",
              "3134      1  \n",
              "3135      1  \n",
              "3136      1  \n",
              "3137      1  \n",
              "...     ...  \n",
              "4172      0  \n",
              "4173      1  \n",
              "4174      1  \n",
              "4175      0  \n",
              "4176      1  \n",
              "\n",
              "[1044 rows x 10 columns]"
            ],
            "text/html": [
              "\n",
              "  <div id=\"df-4711f07c-6308-46f7-b45a-69ef52a4d881\">\n",
              "    <div class=\"colab-df-container\">\n",
              "      <div>\n",
              "<style scoped>\n",
              "    .dataframe tbody tr th:only-of-type {\n",
              "        vertical-align: middle;\n",
              "    }\n",
              "\n",
              "    .dataframe tbody tr th {\n",
              "        vertical-align: top;\n",
              "    }\n",
              "\n",
              "    .dataframe thead th {\n",
              "        text-align: right;\n",
              "    }\n",
              "</style>\n",
              "<table border=\"1\" class=\"dataframe\">\n",
              "  <thead>\n",
              "    <tr style=\"text-align: right;\">\n",
              "      <th></th>\n",
              "      <th>Length</th>\n",
              "      <th>Diam</th>\n",
              "      <th>Height</th>\n",
              "      <th>Whole</th>\n",
              "      <th>Shucked</th>\n",
              "      <th>Viscera</th>\n",
              "      <th>Shell</th>\n",
              "      <th>Sex_F</th>\n",
              "      <th>Sex_I</th>\n",
              "      <th>Sex_M</th>\n",
              "    </tr>\n",
              "  </thead>\n",
              "  <tbody>\n",
              "    <tr>\n",
              "      <th>3133</th>\n",
              "      <td>0.485</td>\n",
              "      <td>0.390</td>\n",
              "      <td>0.100</td>\n",
              "      <td>0.5565</td>\n",
              "      <td>0.2215</td>\n",
              "      <td>0.1155</td>\n",
              "      <td>0.1850</td>\n",
              "      <td>1</td>\n",
              "      <td>0</td>\n",
              "      <td>0</td>\n",
              "    </tr>\n",
              "    <tr>\n",
              "      <th>3134</th>\n",
              "      <td>0.460</td>\n",
              "      <td>0.360</td>\n",
              "      <td>0.125</td>\n",
              "      <td>0.5470</td>\n",
              "      <td>0.2165</td>\n",
              "      <td>0.1105</td>\n",
              "      <td>0.1900</td>\n",
              "      <td>0</td>\n",
              "      <td>0</td>\n",
              "      <td>1</td>\n",
              "    </tr>\n",
              "    <tr>\n",
              "      <th>3135</th>\n",
              "      <td>0.460</td>\n",
              "      <td>0.350</td>\n",
              "      <td>0.125</td>\n",
              "      <td>0.5165</td>\n",
              "      <td>0.1885</td>\n",
              "      <td>0.1145</td>\n",
              "      <td>0.1850</td>\n",
              "      <td>0</td>\n",
              "      <td>0</td>\n",
              "      <td>1</td>\n",
              "    </tr>\n",
              "    <tr>\n",
              "      <th>3136</th>\n",
              "      <td>0.535</td>\n",
              "      <td>0.420</td>\n",
              "      <td>0.125</td>\n",
              "      <td>0.7640</td>\n",
              "      <td>0.3120</td>\n",
              "      <td>0.1505</td>\n",
              "      <td>0.2650</td>\n",
              "      <td>0</td>\n",
              "      <td>0</td>\n",
              "      <td>1</td>\n",
              "    </tr>\n",
              "    <tr>\n",
              "      <th>3137</th>\n",
              "      <td>0.465</td>\n",
              "      <td>0.360</td>\n",
              "      <td>0.105</td>\n",
              "      <td>0.4880</td>\n",
              "      <td>0.1880</td>\n",
              "      <td>0.0845</td>\n",
              "      <td>0.1900</td>\n",
              "      <td>0</td>\n",
              "      <td>0</td>\n",
              "      <td>1</td>\n",
              "    </tr>\n",
              "    <tr>\n",
              "      <th>...</th>\n",
              "      <td>...</td>\n",
              "      <td>...</td>\n",
              "      <td>...</td>\n",
              "      <td>...</td>\n",
              "      <td>...</td>\n",
              "      <td>...</td>\n",
              "      <td>...</td>\n",
              "      <td>...</td>\n",
              "      <td>...</td>\n",
              "      <td>...</td>\n",
              "    </tr>\n",
              "    <tr>\n",
              "      <th>4172</th>\n",
              "      <td>0.565</td>\n",
              "      <td>0.450</td>\n",
              "      <td>0.165</td>\n",
              "      <td>0.8870</td>\n",
              "      <td>0.3700</td>\n",
              "      <td>0.2390</td>\n",
              "      <td>0.2490</td>\n",
              "      <td>1</td>\n",
              "      <td>0</td>\n",
              "      <td>0</td>\n",
              "    </tr>\n",
              "    <tr>\n",
              "      <th>4173</th>\n",
              "      <td>0.590</td>\n",
              "      <td>0.440</td>\n",
              "      <td>0.135</td>\n",
              "      <td>0.9660</td>\n",
              "      <td>0.4390</td>\n",
              "      <td>0.2145</td>\n",
              "      <td>0.2605</td>\n",
              "      <td>0</td>\n",
              "      <td>0</td>\n",
              "      <td>1</td>\n",
              "    </tr>\n",
              "    <tr>\n",
              "      <th>4174</th>\n",
              "      <td>0.600</td>\n",
              "      <td>0.475</td>\n",
              "      <td>0.205</td>\n",
              "      <td>1.1760</td>\n",
              "      <td>0.5255</td>\n",
              "      <td>0.2875</td>\n",
              "      <td>0.3080</td>\n",
              "      <td>0</td>\n",
              "      <td>0</td>\n",
              "      <td>1</td>\n",
              "    </tr>\n",
              "    <tr>\n",
              "      <th>4175</th>\n",
              "      <td>0.625</td>\n",
              "      <td>0.485</td>\n",
              "      <td>0.150</td>\n",
              "      <td>1.0945</td>\n",
              "      <td>0.5310</td>\n",
              "      <td>0.2610</td>\n",
              "      <td>0.2960</td>\n",
              "      <td>1</td>\n",
              "      <td>0</td>\n",
              "      <td>0</td>\n",
              "    </tr>\n",
              "    <tr>\n",
              "      <th>4176</th>\n",
              "      <td>0.710</td>\n",
              "      <td>0.555</td>\n",
              "      <td>0.195</td>\n",
              "      <td>1.9485</td>\n",
              "      <td>0.9455</td>\n",
              "      <td>0.3765</td>\n",
              "      <td>0.4950</td>\n",
              "      <td>0</td>\n",
              "      <td>0</td>\n",
              "      <td>1</td>\n",
              "    </tr>\n",
              "  </tbody>\n",
              "</table>\n",
              "<p>1044 rows × 10 columns</p>\n",
              "</div>\n",
              "      <button class=\"colab-df-convert\" onclick=\"convertToInteractive('df-4711f07c-6308-46f7-b45a-69ef52a4d881')\"\n",
              "              title=\"Convert this dataframe to an interactive table.\"\n",
              "              style=\"display:none;\">\n",
              "        \n",
              "  <svg xmlns=\"http://www.w3.org/2000/svg\" height=\"24px\"viewBox=\"0 0 24 24\"\n",
              "       width=\"24px\">\n",
              "    <path d=\"M0 0h24v24H0V0z\" fill=\"none\"/>\n",
              "    <path d=\"M18.56 5.44l.94 2.06.94-2.06 2.06-.94-2.06-.94-.94-2.06-.94 2.06-2.06.94zm-11 1L8.5 8.5l.94-2.06 2.06-.94-2.06-.94L8.5 2.5l-.94 2.06-2.06.94zm10 10l.94 2.06.94-2.06 2.06-.94-2.06-.94-.94-2.06-.94 2.06-2.06.94z\"/><path d=\"M17.41 7.96l-1.37-1.37c-.4-.4-.92-.59-1.43-.59-.52 0-1.04.2-1.43.59L10.3 9.45l-7.72 7.72c-.78.78-.78 2.05 0 2.83L4 21.41c.39.39.9.59 1.41.59.51 0 1.02-.2 1.41-.59l7.78-7.78 2.81-2.81c.8-.78.8-2.07 0-2.86zM5.41 20L4 18.59l7.72-7.72 1.47 1.35L5.41 20z\"/>\n",
              "  </svg>\n",
              "      </button>\n",
              "      \n",
              "  <style>\n",
              "    .colab-df-container {\n",
              "      display:flex;\n",
              "      flex-wrap:wrap;\n",
              "      gap: 12px;\n",
              "    }\n",
              "\n",
              "    .colab-df-convert {\n",
              "      background-color: #E8F0FE;\n",
              "      border: none;\n",
              "      border-radius: 50%;\n",
              "      cursor: pointer;\n",
              "      display: none;\n",
              "      fill: #1967D2;\n",
              "      height: 32px;\n",
              "      padding: 0 0 0 0;\n",
              "      width: 32px;\n",
              "    }\n",
              "\n",
              "    .colab-df-convert:hover {\n",
              "      background-color: #E2EBFA;\n",
              "      box-shadow: 0px 1px 2px rgba(60, 64, 67, 0.3), 0px 1px 3px 1px rgba(60, 64, 67, 0.15);\n",
              "      fill: #174EA6;\n",
              "    }\n",
              "\n",
              "    [theme=dark] .colab-df-convert {\n",
              "      background-color: #3B4455;\n",
              "      fill: #D2E3FC;\n",
              "    }\n",
              "\n",
              "    [theme=dark] .colab-df-convert:hover {\n",
              "      background-color: #434B5C;\n",
              "      box-shadow: 0px 1px 3px 1px rgba(0, 0, 0, 0.15);\n",
              "      filter: drop-shadow(0px 1px 2px rgba(0, 0, 0, 0.3));\n",
              "      fill: #FFFFFF;\n",
              "    }\n",
              "  </style>\n",
              "\n",
              "      <script>\n",
              "        const buttonEl =\n",
              "          document.querySelector('#df-4711f07c-6308-46f7-b45a-69ef52a4d881 button.colab-df-convert');\n",
              "        buttonEl.style.display =\n",
              "          google.colab.kernel.accessAllowed ? 'block' : 'none';\n",
              "\n",
              "        async function convertToInteractive(key) {\n",
              "          const element = document.querySelector('#df-4711f07c-6308-46f7-b45a-69ef52a4d881');\n",
              "          const dataTable =\n",
              "            await google.colab.kernel.invokeFunction('convertToInteractive',\n",
              "                                                     [key], {});\n",
              "          if (!dataTable) return;\n",
              "\n",
              "          const docLinkHtml = 'Like what you see? Visit the ' +\n",
              "            '<a target=\"_blank\" href=https://colab.research.google.com/notebooks/data_table.ipynb>data table notebook</a>'\n",
              "            + ' to learn more about interactive tables.';\n",
              "          element.innerHTML = '';\n",
              "          dataTable['output_type'] = 'display_data';\n",
              "          await google.colab.output.renderOutput(dataTable, element);\n",
              "          const docLink = document.createElement('div');\n",
              "          docLink.innerHTML = docLinkHtml;\n",
              "          element.appendChild(docLink);\n",
              "        }\n",
              "      </script>\n",
              "    </div>\n",
              "  </div>\n",
              "  "
            ]
          },
          "metadata": {},
          "execution_count": 17
        }
      ]
    },
    {
      "cell_type": "code",
      "source": [
        "y_test"
      ],
      "metadata": {
        "colab": {
          "base_uri": "https://localhost:8080/"
        },
        "id": "O_lCgUHZWnkG",
        "outputId": "b0d2eb25-1850-4497-cda2-9fc3bcd956e8"
      },
      "execution_count": 18,
      "outputs": [
        {
          "output_type": "execute_result",
          "data": {
            "text/plain": [
              "3133    False\n",
              "3134    False\n",
              "3135    False\n",
              "3136     True\n",
              "3137     True\n",
              "        ...  \n",
              "4172     True\n",
              "4173     True\n",
              "4174    False\n",
              "4175     True\n",
              "4176     True\n",
              "Name: Age_CLASS, Length: 1044, dtype: bool"
            ]
          },
          "metadata": {},
          "execution_count": 18
        }
      ]
    },
    {
      "cell_type": "markdown",
      "source": [
        "## 1. Decision Tree (General)"
      ],
      "metadata": {
        "id": "I6zik4CpVmX4"
      }
    },
    {
      "cell_type": "markdown",
      "source": [
        "### Import"
      ],
      "metadata": {
        "id": "3k-LuANOW3kd"
      }
    },
    {
      "cell_type": "code",
      "source": [
        "from sklearn.tree import DecisionTreeClassifier"
      ],
      "metadata": {
        "id": "_9DVlxmEXFuj"
      },
      "execution_count": 19,
      "outputs": []
    },
    {
      "cell_type": "markdown",
      "source": [
        "### Define"
      ],
      "metadata": {
        "id": "vwrJo0oEW5u8"
      }
    },
    {
      "cell_type": "code",
      "source": [
        "Dtree1 = DecisionTreeClassifier(random_state=0)"
      ],
      "metadata": {
        "id": "gk5v_so8XXZG"
      },
      "execution_count": null,
      "outputs": []
    },
    {
      "cell_type": "markdown",
      "source": [
        "### Build model (fit)"
      ],
      "metadata": {
        "id": "b2S3A-CtW8bl"
      }
    },
    {
      "cell_type": "code",
      "source": [
        "Dtree1.fit(X_train,y_train)"
      ],
      "metadata": {
        "colab": {
          "base_uri": "https://localhost:8080/"
        },
        "id": "fR7VuRukR3At",
        "outputId": "ae1bc30c-0839-4330-97d9-6e045c260ad7"
      },
      "execution_count": null,
      "outputs": [
        {
          "output_type": "execute_result",
          "data": {
            "text/plain": [
              "DecisionTreeClassifier(random_state=0)"
            ]
          },
          "metadata": {},
          "execution_count": 72
        }
      ]
    },
    {
      "cell_type": "markdown",
      "source": [
        "### Test"
      ],
      "metadata": {
        "id": "yybla6vPXAy4"
      }
    },
    {
      "cell_type": "code",
      "source": [
        "from sklearn import tree\n",
        "tree.plot_tree(Dtree1);"
      ],
      "metadata": {
        "colab": {
          "base_uri": "https://localhost:8080/",
          "height": 248
        },
        "id": "cbieU78xR3Ci",
        "outputId": "4d2ce539-8b57-46cd-f340-3a03fb3b6c7e"
      },
      "execution_count": null,
      "outputs": [
        {
          "output_type": "display_data",
          "data": {
            "text/plain": [
              "<Figure size 432x288 with 1 Axes>"
            ],
            "image/png": "[encoded data removed]"
          },
          "metadata": {
            "needs_background": "light"
          }
        }
      ]
    },
    {
      "cell_type": "code",
      "source": [
        "Dtree1.predict(X_test)"
      ],
      "metadata": {
        "colab": {
          "base_uri": "https://localhost:8080/"
        },
        "id": "r-DaxJJyR3Eu",
        "outputId": "69911635-9bce-445b-c6f1-1ba4677e2e4d"
      },
      "execution_count": null,
      "outputs": [
        {
          "output_type": "execute_result",
          "data": {
            "text/plain": [
              "array([ True,  True,  True, ...,  True, False,  True])"
            ]
          },
          "metadata": {},
          "execution_count": 76
        }
      ]
    },
    {
      "cell_type": "code",
      "source": [
        " from sklearn.metrics import accuracy_score\n",
        "\n",
        "accuracy_score(y_test, Dtree1.predict(X_test))"
      ],
      "metadata": {
        "colab": {
          "base_uri": "https://localhost:8080/"
        },
        "id": "FQoIgM-hL_BH",
        "outputId": "79a79fc3-07f5-4b77-8535-54d3ea36d549"
      },
      "execution_count": null,
      "outputs": [
        {
          "output_type": "execute_result",
          "data": {
            "text/plain": [
              "0.7097701149425287"
            ]
          },
          "metadata": {},
          "execution_count": 77
        }
      ]
    },
    {
      "cell_type": "markdown",
      "source": [
        "## ลองสร้างต้นไม้แบบคนมีความรู้"
      ],
      "metadata": {
        "id": "s-WcMVJ7hjZn"
      }
    },
    {
      "cell_type": "markdown",
      "source": [
        "`class sklearn.tree.DecisionTreeClassifier(*, criterion='gini', splitter='best', max_depth=None, min_samples_split=2, min_samples_leaf=1, min_weight_fraction_leaf=0.0, max_features=None, random_state=None, max_leaf_nodes=None, min_impurity_decrease=0.0, class_weight=None, ccp_alpha=0.0)`"
      ],
      "metadata": {
        "id": "X3X25HCoiG2_"
      }
    },
    {
      "cell_type": "code",
      "source": [
        "#inport\n",
        "from sklearn.tree import DecisionTreeClassifier\n",
        "#Define  ##ให้ต้นไม้โตได้แค่ 6 ชั้น , max_depth = 6\n",
        "Dtree2 = DecisionTreeClassifier(random_state=0, max_depth=6)\n",
        "#fit \n",
        "Dtree2.fit(X_train,y_train)"
      ],
      "metadata": {
        "colab": {
          "base_uri": "https://localhost:8080/"
        },
        "id": "N5yqfH0WL_De",
        "outputId": "e1d05b24-e601-4357-a032-8a8310c9ef7c"
      },
      "execution_count": null,
      "outputs": [
        {
          "output_type": "execute_result",
          "data": {
            "text/plain": [
              "DecisionTreeClassifier(max_depth=6, random_state=0)"
            ]
          },
          "metadata": {},
          "execution_count": 80
        }
      ]
    },
    {
      "cell_type": "code",
      "source": [
        "from sklearn import tree\n",
        "\n",
        "##Explore\n",
        "tree.plot_tree(Dtree2);"
      ],
      "metadata": {
        "colab": {
          "base_uri": "https://localhost:8080/",
          "height": 248
        },
        "id": "GQrb4ny8geZo",
        "outputId": "9cd2068e-eeed-45f2-98bc-ab0cd53f66d6"
      },
      "execution_count": null,
      "outputs": [
        {
          "output_type": "display_data",
          "data": {
            "text/plain": [
              "<Figure size 432x288 with 1 Axes>"
            ],
            "image/png": "[encoded data removed]"
          },
          "metadata": {
            "needs_background": "light"
          }
        }
      ]
    },
    {
      "cell_type": "code",
      "source": [
        " from sklearn.metrics import accuracy_score\n",
        "\n",
        "accuracy_score(y_test, Dtree2.predict(X_test))"
      ],
      "metadata": {
        "colab": {
          "base_uri": "https://localhost:8080/"
        },
        "id": "WGiqIAKugecH",
        "outputId": "8377471b-79fd-4f62-d0a9-3cfd66f74b55"
      },
      "execution_count": null,
      "outputs": [
        {
          "output_type": "execute_result",
          "data": {
            "text/plain": [
              "0.7710727969348659"
            ]
          },
          "metadata": {},
          "execution_count": 82
        }
      ]
    },
    {
      "cell_type": "markdown",
      "source": [
        "## HW 3 \n",
        "\n",
        "- สร้าง Tree model แข่งกัน ให้แม่นที่สุด (แม่นกว่าแบบนี้) คนนั้นจะได้คะแนนเต็ม \n"
      ],
      "metadata": {
        "id": "SuoXFi2WjDVM"
      }
    },
    {
      "cell_type": "markdown",
      "source": [
        "### Hyper-parameter tuning"
      ],
      "metadata": {
        "id": "v38o2clg_OlZ"
      }
    },
    {
      "cell_type": "code",
      "source": [
        "from sklearn.metrics import confusion_matrix, accuracy_score\n",
        "\n",
        "def evaluate_model(dt_classifier):\n",
        "    print(\"Train Accuracy :\", accuracy_score(y_train, dt_classifier.predict(X_train)))\n",
        "    print(\"Train Confusion Matrix:\")\n",
        "    print(confusion_matrix(y_train, dt_classifier.predict(X_train)))\n",
        "    print(\"-\"*50)\n",
        "    print(\"Test Accuracy :\", accuracy_score(y_test, dt_classifier.predict(X_test)))\n",
        "    print(\"Test Confusion Matrix:\")\n",
        "    print(confusion_matrix(y_test, dt_classifier.predict(X_test)))"
      ],
      "metadata": {
        "id": "2qYquBjMakki"
      },
      "execution_count": 158,
      "outputs": []
    },
    {
      "cell_type": "code",
      "source": [
        "Dtree3 = DecisionTreeClassifier(random_state=0)"
      ],
      "metadata": {
        "id": "nZHCf9BIgeeZ"
      },
      "execution_count": 20,
      "outputs": []
    },
    {
      "cell_type": "markdown",
      "source": [
        "### Tuning Parameters ที่มีใน  `sklearn.tree.DecisionTreeClassifier`"
      ],
      "metadata": {
        "id": "OjA3ptl1aQf0"
      }
    },
    {
      "cell_type": "code",
      "source": [
        "from sklearn.model_selection import GridSearchCV\n",
        "\n",
        "params = {\"splitter\":[\"best\",\"random\"],\n",
        "          'max_depth': np.linspace(1, 7, 7, endpoint=True),\n",
        "          'min_samples_leaf':  np.linspace(0.1, 0.5, 5, endpoint=True),\n",
        "          'min_samples_split': np.linspace(0.1, 1.0, 10, endpoint=True),\n",
        "          'criterion': [\"gini\", \"entropy\"]}"
      ],
      "metadata": {
        "id": "Wy9IyUKPgegm"
      },
      "execution_count": 149,
      "outputs": []
    },
    {
      "cell_type": "code",
      "source": [
        "tuning_model1 =  GridSearchCV(estimator=Dtree3, \n",
        "                           param_grid=params, \n",
        "                           cv=5, n_jobs=-1, verbose=3, scoring = \"accuracy\")"
      ],
      "metadata": {
        "id": "-jKnrN88CLDz"
      },
      "execution_count": 151,
      "outputs": []
    },
    {
      "cell_type": "code",
      "source": [
        "#tuning_model"
      ],
      "metadata": {
        "id": "4pY7l66KCiBL"
      },
      "execution_count": 148,
      "outputs": []
    },
    {
      "cell_type": "code",
      "source": [
        "%%time\n",
        "tuning_model1.fit(X_train,y_train)"
      ],
      "metadata": {
        "id": "YOmWeOgjgeiw",
        "colab": {
          "base_uri": "https://localhost:8080/"
        },
        "outputId": "ee324aef-02f2-469d-b77e-b7a1bcd71ea6"
      },
      "execution_count": 152,
      "outputs": [
        {
          "output_type": "stream",
          "name": "stdout",
          "text": [
            "Fitting 5 folds for each of 1400 candidates, totalling 7000 fits\n",
            "CPU times: user 5.17 s, sys: 87.3 ms, total: 5.26 s\n",
            "Wall time: 15.4 s\n"
          ]
        },
        {
          "output_type": "execute_result",
          "data": {
            "text/plain": [
              "GridSearchCV(cv=5, estimator=DecisionTreeClassifier(random_state=0), n_jobs=-1,\n",
              "             param_grid={'criterion': ['gini', 'entropy'],\n",
              "                         'max_depth': array([1., 2., 3., 4., 5., 6., 7.]),\n",
              "                         'min_samples_leaf': array([0.1, 0.2, 0.3, 0.4, 0.5]),\n",
              "                         'min_samples_split': array([0.1, 0.2, 0.3, 0.4, 0.5, 0.6, 0.7, 0.8, 0.9, 1. ]),\n",
              "                         'splitter': ['best', 'random']},\n",
              "             scoring='accuracy', verbose=3)"
            ]
          },
          "metadata": {},
          "execution_count": 152
        }
      ]
    },
    {
      "cell_type": "code",
      "source": [
        "score_df = pd.DataFrame(tuning_model.cv_results_)\n",
        "#score_df.head()\n",
        "score_df.nlargest(5,\"mean_test_score\")"
      ],
      "metadata": {
        "id": "MRpHb610genN",
        "colab": {
          "base_uri": "https://localhost:8080/",
          "height": 531
        },
        "outputId": "2f3b4108-039b-45ba-b4e9-6c32ac2d303b"
      },
      "execution_count": 153,
      "outputs": [
        {
          "output_type": "execute_result",
          "data": {
            "text/plain": [
              "    mean_fit_time  std_fit_time  mean_score_time  std_score_time  \\\n",
              "46       0.008415      0.000142         0.002110        0.000103   \n",
              "47       0.008837      0.000168         0.002056        0.000086   \n",
              "39       0.008582      0.000099         0.001898        0.000077   \n",
              "45       0.007428      0.000122         0.001889        0.000097   \n",
              "38       0.008228      0.000175         0.001956        0.000116   \n",
              "\n",
              "   param_max_depth param_max_features  \\\n",
              "46             5.0                  7   \n",
              "47             5.0                  8   \n",
              "39             4.0               None   \n",
              "45             5.0                  6   \n",
              "38             4.0                  9   \n",
              "\n",
              "                                      params  split0_test_score  \\\n",
              "46     {'max_depth': 5.0, 'max_features': 7}           0.830941   \n",
              "47     {'max_depth': 5.0, 'max_features': 8}           0.845295   \n",
              "39  {'max_depth': 4.0, 'max_features': None}           0.827751   \n",
              "45     {'max_depth': 5.0, 'max_features': 6}           0.824561   \n",
              "38     {'max_depth': 4.0, 'max_features': 9}           0.827751   \n",
              "\n",
              "    split1_test_score  split2_test_score  split3_test_score  \\\n",
              "46           0.768740           0.724083           0.773163   \n",
              "47           0.730463           0.724083           0.790735   \n",
              "39           0.763955           0.727273           0.787540   \n",
              "45           0.752791           0.720893           0.789137   \n",
              "38           0.735247           0.732057           0.787540   \n",
              "\n",
              "    split4_test_score  mean_test_score  std_test_score  rank_test_score  \n",
              "46           0.758786         0.771143        0.034505                1  \n",
              "47           0.760383         0.770192        0.044414                2  \n",
              "39           0.736422         0.768588        0.036394                3  \n",
              "45           0.744409         0.766358        0.036440                4  \n",
              "38           0.742812         0.765081        0.037171                5  "
            ],
            "text/html": [
              "\n",
              "  <div id=\"df-71ad01e5-1f45-49d7-b261-47a287a0afd7\">\n",
              "    <div class=\"colab-df-container\">\n",
              "      <div>\n",
              "<style scoped>\n",
              "    .dataframe tbody tr th:only-of-type {\n",
              "        vertical-align: middle;\n",
              "    }\n",
              "\n",
              "    .dataframe tbody tr th {\n",
              "        vertical-align: top;\n",
              "    }\n",
              "\n",
              "    .dataframe thead th {\n",
              "        text-align: right;\n",
              "    }\n",
              "</style>\n",
              "<table border=\"1\" class=\"dataframe\">\n",
              "  <thead>\n",
              "    <tr style=\"text-align: right;\">\n",
              "      <th></th>\n",
              "      <th>mean_fit_time</th>\n",
              "      <th>std_fit_time</th>\n",
              "      <th>mean_score_time</th>\n",
              "      <th>std_score_time</th>\n",
              "      <th>param_max_depth</th>\n",
              "      <th>param_max_features</th>\n",
              "      <th>params</th>\n",
              "      <th>split0_test_score</th>\n",
              "      <th>split1_test_score</th>\n",
              "      <th>split2_test_score</th>\n",
              "      <th>split3_test_score</th>\n",
              "      <th>split4_test_score</th>\n",
              "      <th>mean_test_score</th>\n",
              "      <th>std_test_score</th>\n",
              "      <th>rank_test_score</th>\n",
              "    </tr>\n",
              "  </thead>\n",
              "  <tbody>\n",
              "    <tr>\n",
              "      <th>46</th>\n",
              "      <td>0.008415</td>\n",
              "      <td>0.000142</td>\n",
              "      <td>0.002110</td>\n",
              "      <td>0.000103</td>\n",
              "      <td>5.0</td>\n",
              "      <td>7</td>\n",
              "      <td>{'max_depth': 5.0, 'max_features': 7}</td>\n",
              "      <td>0.830941</td>\n",
              "      <td>0.768740</td>\n",
              "      <td>0.724083</td>\n",
              "      <td>0.773163</td>\n",
              "      <td>0.758786</td>\n",
              "      <td>0.771143</td>\n",
              "      <td>0.034505</td>\n",
              "      <td>1</td>\n",
              "    </tr>\n",
              "    <tr>\n",
              "      <th>47</th>\n",
              "      <td>0.008837</td>\n",
              "      <td>0.000168</td>\n",
              "      <td>0.002056</td>\n",
              "      <td>0.000086</td>\n",
              "      <td>5.0</td>\n",
              "      <td>8</td>\n",
              "      <td>{'max_depth': 5.0, 'max_features': 8}</td>\n",
              "      <td>0.845295</td>\n",
              "      <td>0.730463</td>\n",
              "      <td>0.724083</td>\n",
              "      <td>0.790735</td>\n",
              "      <td>0.760383</td>\n",
              "      <td>0.770192</td>\n",
              "      <td>0.044414</td>\n",
              "      <td>2</td>\n",
              "    </tr>\n",
              "    <tr>\n",
              "      <th>39</th>\n",
              "      <td>0.008582</td>\n",
              "      <td>0.000099</td>\n",
              "      <td>0.001898</td>\n",
              "      <td>0.000077</td>\n",
              "      <td>4.0</td>\n",
              "      <td>None</td>\n",
              "      <td>{'max_depth': 4.0, 'max_features': None}</td>\n",
              "      <td>0.827751</td>\n",
              "      <td>0.763955</td>\n",
              "      <td>0.727273</td>\n",
              "      <td>0.787540</td>\n",
              "      <td>0.736422</td>\n",
              "      <td>0.768588</td>\n",
              "      <td>0.036394</td>\n",
              "      <td>3</td>\n",
              "    </tr>\n",
              "    <tr>\n",
              "      <th>45</th>\n",
              "      <td>0.007428</td>\n",
              "      <td>0.000122</td>\n",
              "      <td>0.001889</td>\n",
              "      <td>0.000097</td>\n",
              "      <td>5.0</td>\n",
              "      <td>6</td>\n",
              "      <td>{'max_depth': 5.0, 'max_features': 6}</td>\n",
              "      <td>0.824561</td>\n",
              "      <td>0.752791</td>\n",
              "      <td>0.720893</td>\n",
              "      <td>0.789137</td>\n",
              "      <td>0.744409</td>\n",
              "      <td>0.766358</td>\n",
              "      <td>0.036440</td>\n",
              "      <td>4</td>\n",
              "    </tr>\n",
              "    <tr>\n",
              "      <th>38</th>\n",
              "      <td>0.008228</td>\n",
              "      <td>0.000175</td>\n",
              "      <td>0.001956</td>\n",
              "      <td>0.000116</td>\n",
              "      <td>4.0</td>\n",
              "      <td>9</td>\n",
              "      <td>{'max_depth': 4.0, 'max_features': 9}</td>\n",
              "      <td>0.827751</td>\n",
              "      <td>0.735247</td>\n",
              "      <td>0.732057</td>\n",
              "      <td>0.787540</td>\n",
              "      <td>0.742812</td>\n",
              "      <td>0.765081</td>\n",
              "      <td>0.037171</td>\n",
              "      <td>5</td>\n",
              "    </tr>\n",
              "  </tbody>\n",
              "</table>\n",
              "</div>\n",
              "      <button class=\"colab-df-convert\" onclick=\"convertToInteractive('df-71ad01e5-1f45-49d7-b261-47a287a0afd7')\"\n",
              "              title=\"Convert this dataframe to an interactive table.\"\n",
              "              style=\"display:none;\">\n",
              "        \n",
              "  <svg xmlns=\"http://www.w3.org/2000/svg\" height=\"24px\"viewBox=\"0 0 24 24\"\n",
              "       width=\"24px\">\n",
              "    <path d=\"M0 0h24v24H0V0z\" fill=\"none\"/>\n",
              "    <path d=\"M18.56 5.44l.94 2.06.94-2.06 2.06-.94-2.06-.94-.94-2.06-.94 2.06-2.06.94zm-11 1L8.5 8.5l.94-2.06 2.06-.94-2.06-.94L8.5 2.5l-.94 2.06-2.06.94zm10 10l.94 2.06.94-2.06 2.06-.94-2.06-.94-.94-2.06-.94 2.06-2.06.94z\"/><path d=\"M17.41 7.96l-1.37-1.37c-.4-.4-.92-.59-1.43-.59-.52 0-1.04.2-1.43.59L10.3 9.45l-7.72 7.72c-.78.78-.78 2.05 0 2.83L4 21.41c.39.39.9.59 1.41.59.51 0 1.02-.2 1.41-.59l7.78-7.78 2.81-2.81c.8-.78.8-2.07 0-2.86zM5.41 20L4 18.59l7.72-7.72 1.47 1.35L5.41 20z\"/>\n",
              "  </svg>\n",
              "      </button>\n",
              "      \n",
              "  <style>\n",
              "    .colab-df-container {\n",
              "      display:flex;\n",
              "      flex-wrap:wrap;\n",
              "      gap: 12px;\n",
              "    }\n",
              "\n",
              "    .colab-df-convert {\n",
              "      background-color: #E8F0FE;\n",
              "      border: none;\n",
              "      border-radius: 50%;\n",
              "      cursor: pointer;\n",
              "      display: none;\n",
              "      fill: #1967D2;\n",
              "      height: 32px;\n",
              "      padding: 0 0 0 0;\n",
              "      width: 32px;\n",
              "    }\n",
              "\n",
              "    .colab-df-convert:hover {\n",
              "      background-color: #E2EBFA;\n",
              "      box-shadow: 0px 1px 2px rgba(60, 64, 67, 0.3), 0px 1px 3px 1px rgba(60, 64, 67, 0.15);\n",
              "      fill: #174EA6;\n",
              "    }\n",
              "\n",
              "    [theme=dark] .colab-df-convert {\n",
              "      background-color: #3B4455;\n",
              "      fill: #D2E3FC;\n",
              "    }\n",
              "\n",
              "    [theme=dark] .colab-df-convert:hover {\n",
              "      background-color: #434B5C;\n",
              "      box-shadow: 0px 1px 3px 1px rgba(0, 0, 0, 0.15);\n",
              "      filter: drop-shadow(0px 1px 2px rgba(0, 0, 0, 0.3));\n",
              "      fill: #FFFFFF;\n",
              "    }\n",
              "  </style>\n",
              "\n",
              "      <script>\n",
              "        const buttonEl =\n",
              "          document.querySelector('#df-71ad01e5-1f45-49d7-b261-47a287a0afd7 button.colab-df-convert');\n",
              "        buttonEl.style.display =\n",
              "          google.colab.kernel.accessAllowed ? 'block' : 'none';\n",
              "\n",
              "        async function convertToInteractive(key) {\n",
              "          const element = document.querySelector('#df-71ad01e5-1f45-49d7-b261-47a287a0afd7');\n",
              "          const dataTable =\n",
              "            await google.colab.kernel.invokeFunction('convertToInteractive',\n",
              "                                                     [key], {});\n",
              "          if (!dataTable) return;\n",
              "\n",
              "          const docLinkHtml = 'Like what you see? Visit the ' +\n",
              "            '<a target=\"_blank\" href=https://colab.research.google.com/notebooks/data_table.ipynb>data table notebook</a>'\n",
              "            + ' to learn more about interactive tables.';\n",
              "          element.innerHTML = '';\n",
              "          dataTable['output_type'] = 'display_data';\n",
              "          await google.colab.output.renderOutput(dataTable, element);\n",
              "          const docLink = document.createElement('div');\n",
              "          docLink.innerHTML = docLinkHtml;\n",
              "          element.appendChild(docLink);\n",
              "        }\n",
              "      </script>\n",
              "    </div>\n",
              "  </div>\n",
              "  "
            ]
          },
          "metadata": {},
          "execution_count": 153
        }
      ]
    },
    {
      "cell_type": "code",
      "source": [
        "from sklearn.metrics import roc_curve, auc"
      ],
      "metadata": {
        "id": "KLFuVtI7gez_"
      },
      "execution_count": 47,
      "outputs": []
    },
    {
      "cell_type": "code",
      "source": [
        "tuning_model1.best_estimator_"
      ],
      "metadata": {
        "colab": {
          "base_uri": "https://localhost:8080/"
        },
        "id": "FviQVPT7astJ",
        "outputId": "8f205164-1430-45a4-f951-2e9553d5e44f"
      },
      "execution_count": 154,
      "outputs": [
        {
          "output_type": "execute_result",
          "data": {
            "text/plain": [
              "DecisionTreeClassifier(max_depth=1.0, min_samples_leaf=0.1,\n",
              "                       min_samples_split=0.1, random_state=0,\n",
              "                       splitter='random')"
            ]
          },
          "metadata": {},
          "execution_count": 154
        }
      ]
    },
    {
      "cell_type": "code",
      "source": [
        "dt_best1 = tuning_model1.best_estimator_"
      ],
      "metadata": {
        "id": "2XkcaDT_bDD5"
      },
      "execution_count": 156,
      "outputs": []
    },
    {
      "cell_type": "code",
      "source": [
        "evaluate_model(dt_best1)"
      ],
      "metadata": {
        "colab": {
          "base_uri": "https://localhost:8080/"
        },
        "id": "zTw8Pxelb49I",
        "outputId": "868d3eea-7c0c-4cdc-f510-a291ae855fc6"
      },
      "execution_count": 160,
      "outputs": [
        {
          "output_type": "stream",
          "name": "stdout",
          "text": [
            "Train Accuracy : 0.7612511969358442\n",
            "Train Confusion Matrix:\n",
            "[[1257  341]\n",
            " [ 407 1128]]\n",
            "--------------------------------------------------\n",
            "Test Accuracy : 0.7452107279693486\n",
            "Test Confusion Matrix:\n",
            "[[382 116]\n",
            " [150 396]]\n"
          ]
        }
      ]
    },
    {
      "cell_type": "code",
      "source": [
        "# tuned_hyper_model1 = DecisionTreeClassifier(random_state=0, max_depth=1.0, min_samples_leaf=0.1,\n",
        "#                                                min_samples_split=0.1, splitter='random')"
      ],
      "metadata": {
        "id": "tzHeyf3qcEgW"
      },
      "execution_count": 167,
      "outputs": []
    },
    {
      "cell_type": "code",
      "source": [
        "# #fit \n",
        "# tuned_hyper_model1.fit(X_train,y_train)"
      ],
      "metadata": {
        "id": "uldAUjLub5BJ"
      },
      "execution_count": 168,
      "outputs": []
    },
    {
      "cell_type": "code",
      "source": [
        "# evaluate_model(tuned_hyper_model1)"
      ],
      "metadata": {
        "id": "QJE4joFib5FJ"
      },
      "execution_count": 169,
      "outputs": []
    },
    {
      "cell_type": "code",
      "source": [],
      "metadata": {
        "id": "2psUOHqPb5JH"
      },
      "execution_count": null,
      "outputs": []
    },
    {
      "cell_type": "markdown",
      "source": [
        "#### Tuning parameter แต่ละตัว ดูว่าส่งผลกระทบกับ Model ยังไงบ้าง\n",
        "- ใช้ AUC (Area Under Curve) เป็นตัวชี้วัดการประเมิน"
      ],
      "metadata": {
        "id": "a-E6FRwsd-6-"
      }
    },
    {
      "cell_type": "markdown",
      "source": [
        "#### 1. max_depth"
      ],
      "metadata": {
        "id": "QrYh_zTLMv1t"
      }
    },
    {
      "cell_type": "code",
      "source": [
        "max_depths = np.linspace(1, 32, 32, endpoint=True)\n",
        "train_results = []\n",
        "test_results = []\n",
        "\n",
        "for max_depth in max_depths:\n",
        "   dt = DecisionTreeClassifier(max_depth=max_depth, random_state=0)\n",
        "   dt.fit(X_train,y_train)\n",
        "   train_pred = dt.predict(X_train)\n",
        "   false_positive_rate, true_positive_rate, thresholds = roc_curve(y_train, train_pred)\n",
        "   roc_auc = auc(false_positive_rate, true_positive_rate)\n",
        "    # Add auc score to previous train results\n",
        "   train_results.append(roc_auc)\n",
        "   y_pred = dt.predict(X_test)\n",
        "   false_positive_rate, true_positive_rate, thresholds = roc_curve(y_test, y_pred)\n",
        "   roc_auc = auc(false_positive_rate, true_positive_rate)\n",
        "    # Add auc score to previous test results\n",
        "   test_results.append(roc_auc)\n",
        "\n",
        "from matplotlib.legend_handler import HandlerLine2D\n",
        "line1, = plt.plot(max_depths, train_results, 'b', label=\"Train AUC\")\n",
        "line2, = plt.plot(max_depths, test_results, 'r', label=\"Test AUC\")\n",
        "plt.legend(handler_map={line1: HandlerLine2D(numpoints=2)})\n",
        "plt.ylabel(\"AUC score\")\n",
        "plt.xlabel(\"Tree depth\")\n",
        "plt.show()"
      ],
      "metadata": {
        "colab": {
          "base_uri": "https://localhost:8080/",
          "height": 279
        },
        "id": "p9C5BR8mFRaf",
        "outputId": "f2ca7e07-0c07-4c20-d0be-ba9b28cc5cbf"
      },
      "execution_count": 70,
      "outputs": [
        {
          "output_type": "display_data",
          "data": {
            "text/plain": [
              "<Figure size 432x288 with 1 Axes>"
            ],
            "image/png": "[encoded data removed]"
          },
          "metadata": {
            "needs_background": "light"
          }
        }
      ]
    },
    {
      "cell_type": "markdown",
      "source": [
        "- Model overfits for large depth values. The tree perfectly predicts all of the train data, however, it fails to generalize the findings for new data"
      ],
      "metadata": {
        "id": "382_o-rOUKVw"
      }
    },
    {
      "cell_type": "code",
      "source": [
        "max_value = max(test_results)\n",
        "max_index = test_results.index(max_value)\n",
        "print(f\"Accuracy: {max_value}\")\n",
        "#max_index\n",
        "max_depths_ = max_depths[max_index]\n",
        "print(f\"max_depths: {max_depths_}\")"
      ],
      "metadata": {
        "colab": {
          "base_uri": "https://localhost:8080/"
        },
        "id": "EkkUF_6kFRd4",
        "outputId": "4212bc14-2830-4a86-bffb-07c40f818c60"
      },
      "execution_count": 74,
      "outputs": [
        {
          "output_type": "stream",
          "name": "stdout",
          "text": [
            "Accuracy: 0.7752989981905644\n",
            "max_depths: 5.0\n"
          ]
        }
      ]
    },
    {
      "cell_type": "markdown",
      "source": [
        "#### 2. min_samples_split"
      ],
      "metadata": {
        "id": "NmHABSbvMsrs"
      }
    },
    {
      "cell_type": "code",
      "source": [
        "min_samples_splits = np.linspace(0.1, 1.0, 10, endpoint=True)\n",
        "train_results = []\n",
        "test_results = []\n",
        "\n",
        "for min_samples_split in min_samples_splits:\n",
        "   dt = DecisionTreeClassifier(min_samples_split=min_samples_split, random_state=0)\n",
        "   dt.fit(X_train,y_train)\n",
        "   train_pred = dt.predict(X_train)\n",
        "   false_positive_rate, true_positive_rate, thresholds = roc_curve(y_train, train_pred)\n",
        "   roc_auc = auc(false_positive_rate, true_positive_rate)\n",
        "    # Add auc score to previous train results\n",
        "   train_results.append(roc_auc)\n",
        "   y_pred = dt.predict(X_test)\n",
        "   false_positive_rate, true_positive_rate, thresholds = roc_curve(y_test, y_pred)\n",
        "   roc_auc = auc(false_positive_rate, true_positive_rate)\n",
        "    # Add auc score to previous test results\n",
        "   test_results.append(roc_auc)\n",
        "\n",
        "from matplotlib.legend_handler import HandlerLine2D\n",
        "line1, = plt.plot(min_samples_splits, train_results, 'b', label=\"Train AUC\")\n",
        "line2, = plt.plot(min_samples_splits, test_results, 'r', label=\"Test AUC\")\n",
        "plt.legend(handler_map={line1: HandlerLine2D(numpoints=2)})\n",
        "plt.ylabel(\"AUC score\")\n",
        "plt.xlabel(\"min samples split\")\n",
        "plt.show()"
      ],
      "metadata": {
        "colab": {
          "base_uri": "https://localhost:8080/",
          "height": 279
        },
        "id": "lUxsegIvFRjs",
        "outputId": "45352930-e68c-4d71-ef1f-577870546561"
      },
      "execution_count": 76,
      "outputs": [
        {
          "output_type": "display_data",
          "data": {
            "text/plain": [
              "<Figure size 432x288 with 1 Axes>"
            ],
            "image/png": "[encoded data removed]"
          },
          "metadata": {
            "needs_background": "light"
          }
        }
      ]
    },
    {
      "cell_type": "markdown",
      "source": [
        "- when we consider 100% of the samples at each node, the model cannot learn enough about the data. This is an underfitting case."
      ],
      "metadata": {
        "id": "YrYcz-imUA06"
      }
    },
    {
      "cell_type": "code",
      "source": [
        "max_value = max(test_results)\n",
        "max_index = test_results.index(max_value)\n",
        "print(f\"Accuracy: {max_value}\")\n",
        "#max_index\n",
        "min_samples = min_samples_splits[max_index]\n",
        "print(f\"min samples split: {min_samples}\")"
      ],
      "metadata": {
        "colab": {
          "base_uri": "https://localhost:8080/"
        },
        "id": "GOxmM_N3JiLz",
        "outputId": "996642d4-f16a-40df-e5c6-f2a2ad14e343"
      },
      "execution_count": 77,
      "outputs": [
        {
          "output_type": "stream",
          "name": "stdout",
          "text": [
            "Accuracy: 0.7700472218544507\n",
            "min samples split: 0.1\n"
          ]
        }
      ]
    },
    {
      "cell_type": "code",
      "source": [
        "np.linspace(0.1, 1.0, 10, endpoint=True)"
      ],
      "metadata": {
        "colab": {
          "base_uri": "https://localhost:8080/"
        },
        "id": "ImMDjYE9Ouh4",
        "outputId": "4465c944-fec1-430c-8eb8-09d544860a43"
      },
      "execution_count": 90,
      "outputs": [
        {
          "output_type": "execute_result",
          "data": {
            "text/plain": [
              "array([0.1, 0.2, 0.3, 0.4, 0.5, 0.6, 0.7, 0.8, 0.9, 1. ])"
            ]
          },
          "metadata": {},
          "execution_count": 90
        }
      ]
    },
    {
      "cell_type": "markdown",
      "source": [
        "#### 3. min_samples_leaf"
      ],
      "metadata": {
        "id": "f6iZdxoBMpmx"
      }
    },
    {
      "cell_type": "code",
      "source": [
        "min_samples_leafs = np.linspace(0.1, 0.5, 5, endpoint=True)\n",
        "train_results = []\n",
        "test_results = []\n",
        "\n",
        "for min_samples_leaf in min_samples_leafs:\n",
        "   dt = DecisionTreeClassifier(min_samples_leaf=min_samples_leaf, random_state=0)\n",
        "   dt.fit(X_train,y_train)\n",
        "   train_pred = dt.predict(X_train)\n",
        "   false_positive_rate, true_positive_rate, thresholds = roc_curve(y_train, train_pred)\n",
        "   roc_auc = auc(false_positive_rate, true_positive_rate)\n",
        "    # Add auc score to previous train results\n",
        "   train_results.append(roc_auc)\n",
        "   y_pred = dt.predict(X_test)\n",
        "   false_positive_rate, true_positive_rate, thresholds = roc_curve(y_test, y_pred)\n",
        "   roc_auc = auc(false_positive_rate, true_positive_rate)\n",
        "    # Add auc score to previous test results\n",
        "   test_results.append(roc_auc)\n",
        "\n",
        "from matplotlib.legend_handler import HandlerLine2D\n",
        "line1, = plt.plot(min_samples_leafs, train_results, 'b', label=\"Train AUC\")\n",
        "line2, = plt.plot(min_samples_leafs, test_results, 'r', label=\"Test AUC\")\n",
        "plt.legend(handler_map={line1: HandlerLine2D(numpoints=2)})\n",
        "plt.ylabel(\"AUC score\")\n",
        "plt.xlabel(\"min samples split\")\n",
        "plt.show()"
      ],
      "metadata": {
        "colab": {
          "base_uri": "https://localhost:8080/",
          "height": 279
        },
        "id": "wchkU077JiOA",
        "outputId": "cee57ecb-7dde-4889-d647-aec44a0976cc"
      },
      "execution_count": 81,
      "outputs": [
        {
          "output_type": "display_data",
          "data": {
            "text/plain": [
              "<Figure size 432x288 with 1 Axes>"
            ],
            "image/png": "[encoded data removed]"
          },
          "metadata": {
            "needs_background": "light"
          }
        }
      ]
    },
    {
      "cell_type": "markdown",
      "source": [
        " - Increasing this value may cause underfitting."
      ],
      "metadata": {
        "id": "sdUOOiWCMSY5"
      }
    },
    {
      "cell_type": "code",
      "source": [
        "max_value = max(test_results)\n",
        "max_index = test_results.index(max_value)\n",
        "print(f\"Accuracy: {max_value}\")\n",
        "#max_index\n",
        "min_samples_leafs_ = min_samples_leafs[max_index]\n",
        "print(f\"min samples leafs: {min_samples_leafs_}\")"
      ],
      "metadata": {
        "colab": {
          "base_uri": "https://localhost:8080/"
        },
        "id": "9_wkZNrYNBoQ",
        "outputId": "c155ca52-af95-483f-d14d-22d9f951f061"
      },
      "execution_count": 82,
      "outputs": [
        {
          "output_type": "stream",
          "name": "stdout",
          "text": [
            "Accuracy: 0.7488525530694206\n",
            "min samples leafs: 0.1\n"
          ]
        }
      ]
    },
    {
      "cell_type": "code",
      "source": [],
      "metadata": {
        "id": "wny2HuNjOhFs"
      },
      "execution_count": null,
      "outputs": []
    },
    {
      "cell_type": "markdown",
      "source": [
        "#### 4. max_features"
      ],
      "metadata": {
        "id": "0OLuaSKoM8WM"
      }
    },
    {
      "cell_type": "code",
      "source": [
        "max_features = list(range(1,X_train.shape[1]))\n",
        "train_results = []\n",
        "test_results = []\n",
        "\n",
        "for max_feature in max_features:\n",
        "   dt = DecisionTreeClassifier(max_features=max_feature, random_state=0)\n",
        "   dt.fit(X_train,y_train)\n",
        "   train_pred = dt.predict(X_train)\n",
        "   false_positive_rate, true_positive_rate, thresholds = roc_curve(y_train, train_pred)\n",
        "   roc_auc = auc(false_positive_rate, true_positive_rate)\n",
        "    # Add auc score to previous train results\n",
        "   train_results.append(roc_auc)\n",
        "   y_pred = dt.predict(X_test)\n",
        "   false_positive_rate, true_positive_rate, thresholds = roc_curve(y_test, y_pred)\n",
        "   roc_auc = auc(false_positive_rate, true_positive_rate)\n",
        "    # Add auc score to previous test results\n",
        "   test_results.append(roc_auc)\n",
        "\n",
        "from matplotlib.legend_handler import HandlerLine2D\n",
        "line1, = plt.plot(max_features, train_results, 'b', label=\"Train AUC\")\n",
        "line2, = plt.plot(max_features, test_results, 'r', label=\"Test AUC\")\n",
        "plt.legend(handler_map={line1: HandlerLine2D(numpoints=2)})\n",
        "plt.ylabel(\"AUC score\")\n",
        "plt.xlabel(\"min samples split\")\n",
        "plt.show()"
      ],
      "metadata": {
        "colab": {
          "base_uri": "https://localhost:8080/",
          "height": 279
        },
        "id": "C51NytKkJiQP",
        "outputId": "7d88f237-c23f-4171-f668-5d1b887e5bb6"
      },
      "execution_count": 85,
      "outputs": [
        {
          "output_type": "display_data",
          "data": {
            "text/plain": [
              "<Figure size 432x288 with 1 Axes>"
            ],
            "image/png": "[encoded data removed]"
          },
          "metadata": {
            "needs_background": "light"
          }
        }
      ]
    },
    {
      "cell_type": "markdown",
      "source": [
        "- Overfitting case. It’s unexpected to get overfitting for all values of max_features. "
      ],
      "metadata": {
        "id": "AQf55sw0UcGY"
      }
    },
    {
      "cell_type": "code",
      "source": [
        "max_value = max(test_results)\n",
        "max_index = test_results.index(max_value)\n",
        "print(f\"Accuracy: {max_value}\")\n",
        "#max_index\n",
        "max_features_ = max_features[max_index]\n",
        "print(f\"min samples leafs: {max_features_}\")"
      ],
      "metadata": {
        "colab": {
          "base_uri": "https://localhost:8080/"
        },
        "id": "jp-8z_GtJiSQ",
        "outputId": "0327bae4-d10d-4f7b-fe49-77a09eb3b23f"
      },
      "execution_count": 86,
      "outputs": [
        {
          "output_type": "stream",
          "name": "stdout",
          "text": [
            "Accuracy: 0.7302837724524472\n",
            "min samples leafs: 6\n"
          ]
        }
      ]
    },
    {
      "cell_type": "markdown",
      "source": [
        "## 🐼 Hyper-parameter tuning"
      ],
      "metadata": {
        "id": "z-H9Ha-Wih1o"
      }
    },
    {
      "cell_type": "markdown",
      "source": [
        "#### Controlling the depth of the tree = 5"
      ],
      "metadata": {
        "id": "H5DqTsCviacU"
      }
    },
    {
      "cell_type": "code",
      "source": [
        "Dtree3_5 = DecisionTreeClassifier(random_state=0, max_depth=5)\n",
        "#fit \n",
        "Dtree3_5.fit(X_train,y_train)"
      ],
      "metadata": {
        "colab": {
          "base_uri": "https://localhost:8080/"
        },
        "id": "jg8ZGY9niN8_",
        "outputId": "77353462-0786-42f3-c186-776691f06541"
      },
      "execution_count": 192,
      "outputs": [
        {
          "output_type": "execute_result",
          "data": {
            "text/plain": [
              "DecisionTreeClassifier(max_depth=5, random_state=0)"
            ]
          },
          "metadata": {},
          "execution_count": 192
        }
      ]
    },
    {
      "cell_type": "code",
      "source": [
        "evaluate_model(Dtree3_5)"
      ],
      "metadata": {
        "colab": {
          "base_uri": "https://localhost:8080/"
        },
        "id": "skvCwv9FjHNY",
        "outputId": "436b5d87-422e-4207-b5e3-d274dbb1955f"
      },
      "execution_count": 193,
      "outputs": [
        {
          "output_type": "stream",
          "name": "stdout",
          "text": [
            "Train Accuracy : 0.8094478135971912\n",
            "Train Confusion Matrix:\n",
            "[[1312  286]\n",
            " [ 311 1224]]\n",
            "--------------------------------------------------\n",
            "Test Accuracy : 0.7758620689655172\n",
            "Test Confusion Matrix:\n",
            "[[380 118]\n",
            " [116 430]]\n"
          ]
        }
      ]
    },
    {
      "cell_type": "code",
      "source": [
        "tree.plot_tree(Dtree3_5);"
      ],
      "metadata": {
        "colab": {
          "base_uri": "https://localhost:8080/",
          "height": 248
        },
        "id": "sH92kinWiN_t",
        "outputId": "8b820edc-b7f7-4099-83d8-358b107813e3"
      },
      "execution_count": 194,
      "outputs": [
        {
          "output_type": "display_data",
          "data": {
            "text/plain": [
              "<Figure size 432x288 with 1 Axes>"
            ],
            "image/png": "[encoded data removed]"
          },
          "metadata": {
            "needs_background": "light"
          }
        }
      ]
    },
    {
      "cell_type": "code",
      "source": [],
      "metadata": {
        "id": "3Z5mVFo7jQqT"
      },
      "execution_count": null,
      "outputs": []
    },
    {
      "cell_type": "markdown",
      "source": [
        "#### **Hyperparameter Tuning**\n",
        "\n",
        "```\n",
        "- max_depth\n",
        "- min_samples_leaf\n",
        "- min_samples_split\n",
        "- max_features\n",
        "```\n",
        "\n"
      ],
      "metadata": {
        "id": "btgxVMz9elu6"
      }
    },
    {
      "cell_type": "code",
      "source": [
        "n = [None]\n",
        "max_feature = list(range(1,X_train.shape[1]))\n",
        "max_feature = max_feature+n"
      ],
      "metadata": {
        "id": "c2LFFEsBQoyr"
      },
      "execution_count": 173,
      "outputs": []
    },
    {
      "cell_type": "code",
      "source": [
        "from sklearn.model_selection import GridSearchCV\n",
        "\n",
        "params = { 'max_depth': np.linspace(1, 32, 32, endpoint=True),\n",
        "          'min_samples_leaf':  np.linspace(0.1, 0.5, 5, endpoint=True),\n",
        "          'min_samples_split': np.linspace(0.1, 1.0, 10, endpoint=True),\n",
        "          'max_features': max_feature}"
      ],
      "metadata": {
        "id": "vcrG2b_jFRmL"
      },
      "execution_count": 174,
      "outputs": []
    },
    {
      "cell_type": "code",
      "source": [
        "tuning_model2 =  GridSearchCV(estimator=Dtree3, \n",
        "                           param_grid=params, \n",
        "                           cv=5, n_jobs=-1, verbose=3, scoring = \"accuracy\")"
      ],
      "metadata": {
        "id": "xYxI95FnQrDL"
      },
      "execution_count": 175,
      "outputs": []
    },
    {
      "cell_type": "code",
      "source": [
        "%%time\n",
        "tuning_model2.fit(X_train,y_train)"
      ],
      "metadata": {
        "colab": {
          "base_uri": "https://localhost:8080/"
        },
        "id": "vzBqRV4xTFaO",
        "outputId": "77b537a5-1a95-438d-bb32-1a5bba298870"
      },
      "execution_count": 176,
      "outputs": [
        {
          "output_type": "stream",
          "name": "stdout",
          "text": [
            "Fitting 5 folds for each of 16000 candidates, totalling 80000 fits\n",
            "CPU times: user 55.6 s, sys: 833 ms, total: 56.5 s\n",
            "Wall time: 2min 38s\n"
          ]
        },
        {
          "output_type": "execute_result",
          "data": {
            "text/plain": [
              "GridSearchCV(cv=5, estimator=DecisionTreeClassifier(random_state=0), n_jobs=-1,\n",
              "             param_grid={'max_depth': array([ 1.,  2.,  3.,  4.,  5.,  6.,  7.,  8.,  9., 10., 11., 12., 13.,\n",
              "       14., 15., 16., 17., 18., 19., 20., 21., 22., 23., 24., 25., 26.,\n",
              "       27., 28., 29., 30., 31., 32.]),\n",
              "                         'max_features': [1, 2, 3, 4, 5, 6, 7, 8, 9, None],\n",
              "                         'min_samples_leaf': array([0.1, 0.2, 0.3, 0.4, 0.5]),\n",
              "                         'min_samples_split': array([0.1, 0.2, 0.3, 0.4, 0.5, 0.6, 0.7, 0.8, 0.9, 1. ])},\n",
              "             scoring='accuracy', verbose=3)"
            ]
          },
          "metadata": {},
          "execution_count": 176
        }
      ]
    },
    {
      "cell_type": "code",
      "source": [
        "score_df = pd.DataFrame(tuning_model2.cv_results_)\n",
        "#score_df.head()\n",
        "score_df.nlargest(5,\"mean_test_score\")"
      ],
      "metadata": {
        "colab": {
          "base_uri": "https://localhost:8080/",
          "height": 531
        },
        "id": "EcMWCoAqTFfM",
        "outputId": "d29d4179-4b92-4c06-d25d-8ef8e4fbdd5c"
      },
      "execution_count": 178,
      "outputs": [
        {
          "output_type": "execute_result",
          "data": {
            "text/plain": [
              "      mean_fit_time  std_fit_time  mean_score_time  std_score_time  \\\n",
              "1550       0.004056      0.000066         0.002115        0.000055   \n",
              "1551       0.004030      0.000041         0.002091        0.000083   \n",
              "2050       0.005528      0.003869         0.001780        0.000033   \n",
              "2051       0.003742      0.000067         0.001765        0.000026   \n",
              "2550       0.004280      0.000542         0.002040        0.000035   \n",
              "\n",
              "     param_max_depth param_max_features param_min_samples_leaf  \\\n",
              "1550             4.0                  2                    0.1   \n",
              "1551             4.0                  2                    0.1   \n",
              "2050             5.0                  2                    0.1   \n",
              "2051             5.0                  2                    0.1   \n",
              "2550             6.0                  2                    0.1   \n",
              "\n",
              "     param_min_samples_split  \\\n",
              "1550                     0.1   \n",
              "1551                     0.2   \n",
              "2050                     0.1   \n",
              "2051                     0.2   \n",
              "2550                     0.1   \n",
              "\n",
              "                                                 params  split0_test_score  \\\n",
              "1550  {'max_depth': 4.0, 'max_features': 2, 'min_sam...           0.787879   \n",
              "1551  {'max_depth': 4.0, 'max_features': 2, 'min_sam...           0.787879   \n",
              "2050  {'max_depth': 5.0, 'max_features': 2, 'min_sam...           0.787879   \n",
              "2051  {'max_depth': 5.0, 'max_features': 2, 'min_sam...           0.787879   \n",
              "2550  {'max_depth': 6.0, 'max_features': 2, 'min_sam...           0.787879   \n",
              "\n",
              "      split1_test_score  split2_test_score  split3_test_score  \\\n",
              "1550           0.738437           0.746411           0.747604   \n",
              "1551           0.738437           0.746411           0.747604   \n",
              "2050           0.738437           0.746411           0.747604   \n",
              "2051           0.738437           0.746411           0.747604   \n",
              "2550           0.738437           0.746411           0.747604   \n",
              "\n",
              "      split4_test_score  mean_test_score  std_test_score  rank_test_score  \n",
              "1550           0.728435         0.749753        0.020258                1  \n",
              "1551           0.728435         0.749753        0.020258                1  \n",
              "2050           0.728435         0.749753        0.020258                1  \n",
              "2051           0.728435         0.749753        0.020258                1  \n",
              "2550           0.728435         0.749753        0.020258                1  "
            ],
            "text/html": [
              "\n",
              "  <div id=\"df-df3338e4-9f4f-43d0-9540-401e3a8e7f24\">\n",
              "    <div class=\"colab-df-container\">\n",
              "      <div>\n",
              "<style scoped>\n",
              "    .dataframe tbody tr th:only-of-type {\n",
              "        vertical-align: middle;\n",
              "    }\n",
              "\n",
              "    .dataframe tbody tr th {\n",
              "        vertical-align: top;\n",
              "    }\n",
              "\n",
              "    .dataframe thead th {\n",
              "        text-align: right;\n",
              "    }\n",
              "</style>\n",
              "<table border=\"1\" class=\"dataframe\">\n",
              "  <thead>\n",
              "    <tr style=\"text-align: right;\">\n",
              "      <th></th>\n",
              "      <th>mean_fit_time</th>\n",
              "      <th>std_fit_time</th>\n",
              "      <th>mean_score_time</th>\n",
              "      <th>std_score_time</th>\n",
              "      <th>param_max_depth</th>\n",
              "      <th>param_max_features</th>\n",
              "      <th>param_min_samples_leaf</th>\n",
              "      <th>param_min_samples_split</th>\n",
              "      <th>params</th>\n",
              "      <th>split0_test_score</th>\n",
              "      <th>split1_test_score</th>\n",
              "      <th>split2_test_score</th>\n",
              "      <th>split3_test_score</th>\n",
              "      <th>split4_test_score</th>\n",
              "      <th>mean_test_score</th>\n",
              "      <th>std_test_score</th>\n",
              "      <th>rank_test_score</th>\n",
              "    </tr>\n",
              "  </thead>\n",
              "  <tbody>\n",
              "    <tr>\n",
              "      <th>1550</th>\n",
              "      <td>0.004056</td>\n",
              "      <td>0.000066</td>\n",
              "      <td>0.002115</td>\n",
              "      <td>0.000055</td>\n",
              "      <td>4.0</td>\n",
              "      <td>2</td>\n",
              "      <td>0.1</td>\n",
              "      <td>0.1</td>\n",
              "      <td>{'max_depth': 4.0, 'max_features': 2, 'min_sam...</td>\n",
              "      <td>0.787879</td>\n",
              "      <td>0.738437</td>\n",
              "      <td>0.746411</td>\n",
              "      <td>0.747604</td>\n",
              "      <td>0.728435</td>\n",
              "      <td>0.749753</td>\n",
              "      <td>0.020258</td>\n",
              "      <td>1</td>\n",
              "    </tr>\n",
              "    <tr>\n",
              "      <th>1551</th>\n",
              "      <td>0.004030</td>\n",
              "      <td>0.000041</td>\n",
              "      <td>0.002091</td>\n",
              "      <td>0.000083</td>\n",
              "      <td>4.0</td>\n",
              "      <td>2</td>\n",
              "      <td>0.1</td>\n",
              "      <td>0.2</td>\n",
              "      <td>{'max_depth': 4.0, 'max_features': 2, 'min_sam...</td>\n",
              "      <td>0.787879</td>\n",
              "      <td>0.738437</td>\n",
              "      <td>0.746411</td>\n",
              "      <td>0.747604</td>\n",
              "      <td>0.728435</td>\n",
              "      <td>0.749753</td>\n",
              "      <td>0.020258</td>\n",
              "      <td>1</td>\n",
              "    </tr>\n",
              "    <tr>\n",
              "      <th>2050</th>\n",
              "      <td>0.005528</td>\n",
              "      <td>0.003869</td>\n",
              "      <td>0.001780</td>\n",
              "      <td>0.000033</td>\n",
              "      <td>5.0</td>\n",
              "      <td>2</td>\n",
              "      <td>0.1</td>\n",
              "      <td>0.1</td>\n",
              "      <td>{'max_depth': 5.0, 'max_features': 2, 'min_sam...</td>\n",
              "      <td>0.787879</td>\n",
              "      <td>0.738437</td>\n",
              "      <td>0.746411</td>\n",
              "      <td>0.747604</td>\n",
              "      <td>0.728435</td>\n",
              "      <td>0.749753</td>\n",
              "      <td>0.020258</td>\n",
              "      <td>1</td>\n",
              "    </tr>\n",
              "    <tr>\n",
              "      <th>2051</th>\n",
              "      <td>0.003742</td>\n",
              "      <td>0.000067</td>\n",
              "      <td>0.001765</td>\n",
              "      <td>0.000026</td>\n",
              "      <td>5.0</td>\n",
              "      <td>2</td>\n",
              "      <td>0.1</td>\n",
              "      <td>0.2</td>\n",
              "      <td>{'max_depth': 5.0, 'max_features': 2, 'min_sam...</td>\n",
              "      <td>0.787879</td>\n",
              "      <td>0.738437</td>\n",
              "      <td>0.746411</td>\n",
              "      <td>0.747604</td>\n",
              "      <td>0.728435</td>\n",
              "      <td>0.749753</td>\n",
              "      <td>0.020258</td>\n",
              "      <td>1</td>\n",
              "    </tr>\n",
              "    <tr>\n",
              "      <th>2550</th>\n",
              "      <td>0.004280</td>\n",
              "      <td>0.000542</td>\n",
              "      <td>0.002040</td>\n",
              "      <td>0.000035</td>\n",
              "      <td>6.0</td>\n",
              "      <td>2</td>\n",
              "      <td>0.1</td>\n",
              "      <td>0.1</td>\n",
              "      <td>{'max_depth': 6.0, 'max_features': 2, 'min_sam...</td>\n",
              "      <td>0.787879</td>\n",
              "      <td>0.738437</td>\n",
              "      <td>0.746411</td>\n",
              "      <td>0.747604</td>\n",
              "      <td>0.728435</td>\n",
              "      <td>0.749753</td>\n",
              "      <td>0.020258</td>\n",
              "      <td>1</td>\n",
              "    </tr>\n",
              "  </tbody>\n",
              "</table>\n",
              "</div>\n",
              "      <button class=\"colab-df-convert\" onclick=\"convertToInteractive('df-df3338e4-9f4f-43d0-9540-401e3a8e7f24')\"\n",
              "              title=\"Convert this dataframe to an interactive table.\"\n",
              "              style=\"display:none;\">\n",
              "        \n",
              "  <svg xmlns=\"http://www.w3.org/2000/svg\" height=\"24px\"viewBox=\"0 0 24 24\"\n",
              "       width=\"24px\">\n",
              "    <path d=\"M0 0h24v24H0V0z\" fill=\"none\"/>\n",
              "    <path d=\"M18.56 5.44l.94 2.06.94-2.06 2.06-.94-2.06-.94-.94-2.06-.94 2.06-2.06.94zm-11 1L8.5 8.5l.94-2.06 2.06-.94-2.06-.94L8.5 2.5l-.94 2.06-2.06.94zm10 10l.94 2.06.94-2.06 2.06-.94-2.06-.94-.94-2.06-.94 2.06-2.06.94z\"/><path d=\"M17.41 7.96l-1.37-1.37c-.4-.4-.92-.59-1.43-.59-.52 0-1.04.2-1.43.59L10.3 9.45l-7.72 7.72c-.78.78-.78 2.05 0 2.83L4 21.41c.39.39.9.59 1.41.59.51 0 1.02-.2 1.41-.59l7.78-7.78 2.81-2.81c.8-.78.8-2.07 0-2.86zM5.41 20L4 18.59l7.72-7.72 1.47 1.35L5.41 20z\"/>\n",
              "  </svg>\n",
              "      </button>\n",
              "      \n",
              "  <style>\n",
              "    .colab-df-container {\n",
              "      display:flex;\n",
              "      flex-wrap:wrap;\n",
              "      gap: 12px;\n",
              "    }\n",
              "\n",
              "    .colab-df-convert {\n",
              "      background-color: #E8F0FE;\n",
              "      border: none;\n",
              "      border-radius: 50%;\n",
              "      cursor: pointer;\n",
              "      display: none;\n",
              "      fill: #1967D2;\n",
              "      height: 32px;\n",
              "      padding: 0 0 0 0;\n",
              "      width: 32px;\n",
              "    }\n",
              "\n",
              "    .colab-df-convert:hover {\n",
              "      background-color: #E2EBFA;\n",
              "      box-shadow: 0px 1px 2px rgba(60, 64, 67, 0.3), 0px 1px 3px 1px rgba(60, 64, 67, 0.15);\n",
              "      fill: #174EA6;\n",
              "    }\n",
              "\n",
              "    [theme=dark] .colab-df-convert {\n",
              "      background-color: #3B4455;\n",
              "      fill: #D2E3FC;\n",
              "    }\n",
              "\n",
              "    [theme=dark] .colab-df-convert:hover {\n",
              "      background-color: #434B5C;\n",
              "      box-shadow: 0px 1px 3px 1px rgba(0, 0, 0, 0.15);\n",
              "      filter: drop-shadow(0px 1px 2px rgba(0, 0, 0, 0.3));\n",
              "      fill: #FFFFFF;\n",
              "    }\n",
              "  </style>\n",
              "\n",
              "      <script>\n",
              "        const buttonEl =\n",
              "          document.querySelector('#df-df3338e4-9f4f-43d0-9540-401e3a8e7f24 button.colab-df-convert');\n",
              "        buttonEl.style.display =\n",
              "          google.colab.kernel.accessAllowed ? 'block' : 'none';\n",
              "\n",
              "        async function convertToInteractive(key) {\n",
              "          const element = document.querySelector('#df-df3338e4-9f4f-43d0-9540-401e3a8e7f24');\n",
              "          const dataTable =\n",
              "            await google.colab.kernel.invokeFunction('convertToInteractive',\n",
              "                                                     [key], {});\n",
              "          if (!dataTable) return;\n",
              "\n",
              "          const docLinkHtml = 'Like what you see? Visit the ' +\n",
              "            '<a target=\"_blank\" href=https://colab.research.google.com/notebooks/data_table.ipynb>data table notebook</a>'\n",
              "            + ' to learn more about interactive tables.';\n",
              "          element.innerHTML = '';\n",
              "          dataTable['output_type'] = 'display_data';\n",
              "          await google.colab.output.renderOutput(dataTable, element);\n",
              "          const docLink = document.createElement('div');\n",
              "          docLink.innerHTML = docLinkHtml;\n",
              "          element.appendChild(docLink);\n",
              "        }\n",
              "      </script>\n",
              "    </div>\n",
              "  </div>\n",
              "  "
            ]
          },
          "metadata": {},
          "execution_count": 178
        }
      ]
    },
    {
      "cell_type": "code",
      "source": [
        "tuning_model2.best_estimator_"
      ],
      "metadata": {
        "colab": {
          "base_uri": "https://localhost:8080/"
        },
        "id": "f1f314MbTFi1",
        "outputId": "24f4daf5-2fed-4205-d9a3-c8b1219aee7a"
      },
      "execution_count": 179,
      "outputs": [
        {
          "output_type": "execute_result",
          "data": {
            "text/plain": [
              "DecisionTreeClassifier(max_depth=4.0, max_features=2, min_samples_leaf=0.1,\n",
              "                       min_samples_split=0.1, random_state=0)"
            ]
          },
          "metadata": {},
          "execution_count": 179
        }
      ]
    },
    {
      "cell_type": "code",
      "source": [
        "dt_best2 = tuning_model2.best_estimator_\n",
        "evaluate_model(dt_best2)"
      ],
      "metadata": {
        "colab": {
          "base_uri": "https://localhost:8080/"
        },
        "id": "ubVlRJQVf_qU",
        "outputId": "16452794-ece9-4d77-9bea-556985164bb9"
      },
      "execution_count": 180,
      "outputs": [
        {
          "output_type": "stream",
          "name": "stdout",
          "text": [
            "Train Accuracy : 0.7577401851260772\n",
            "Train Confusion Matrix:\n",
            "[[1077  521]\n",
            " [ 238 1297]]\n",
            "--------------------------------------------------\n",
            "Test Accuracy : 0.7547892720306514\n",
            "Test Confusion Matrix:\n",
            "[[332 166]\n",
            " [ 90 456]]\n"
          ]
        }
      ]
    },
    {
      "cell_type": "markdown",
      "source": [
        "#### Hyperparameter Tuning\n",
        "\n",
        "```\n",
        "- max_depth\n",
        "- max_features\n",
        "```\n",
        "\n"
      ],
      "metadata": {
        "id": "0NXjzxrQgEy0"
      }
    },
    {
      "cell_type": "code",
      "source": [
        "from sklearn.model_selection import GridSearchCV\n",
        "\n",
        "params = { 'max_depth': np.linspace(1, 32, 32, endpoint=True),\n",
        "          'max_features': max_feature}\n",
        "\n",
        "tuning_model3 =  GridSearchCV(estimator=Dtree3, \n",
        "                           param_grid=params, \n",
        "                           cv=5, n_jobs=-1, verbose=3, scoring = \"accuracy\")"
      ],
      "metadata": {
        "id": "wSAFgHTOTFmJ"
      },
      "execution_count": 181,
      "outputs": []
    },
    {
      "cell_type": "code",
      "source": [
        "%%time\n",
        "tuning_model3.fit(X_train,y_train)"
      ],
      "metadata": {
        "colab": {
          "base_uri": "https://localhost:8080/"
        },
        "id": "8BhM0UAtZu6Z",
        "outputId": "ed31d781-9b91-48cf-b6c6-b41f9f0f8c68"
      },
      "execution_count": 182,
      "outputs": [
        {
          "output_type": "stream",
          "name": "stdout",
          "text": [
            "Fitting 5 folds for each of 320 candidates, totalling 1600 fits\n",
            "CPU times: user 1.37 s, sys: 23.3 ms, total: 1.39 s\n",
            "Wall time: 6.25 s\n"
          ]
        },
        {
          "output_type": "execute_result",
          "data": {
            "text/plain": [
              "GridSearchCV(cv=5, estimator=DecisionTreeClassifier(random_state=0), n_jobs=-1,\n",
              "             param_grid={'max_depth': array([ 1.,  2.,  3.,  4.,  5.,  6.,  7.,  8.,  9., 10., 11., 12., 13.,\n",
              "       14., 15., 16., 17., 18., 19., 20., 21., 22., 23., 24., 25., 26.,\n",
              "       27., 28., 29., 30., 31., 32.]),\n",
              "                         'max_features': [1, 2, 3, 4, 5, 6, 7, 8, 9, None]},\n",
              "             scoring='accuracy', verbose=3)"
            ]
          },
          "metadata": {},
          "execution_count": 182
        }
      ]
    },
    {
      "cell_type": "code",
      "source": [
        "score_df = pd.DataFrame(tuning_model3.cv_results_)\n",
        "#score_df.head()\n",
        "score_df.nlargest(5,\"mean_test_score\")"
      ],
      "metadata": {
        "colab": {
          "base_uri": "https://localhost:8080/",
          "height": 531
        },
        "id": "9WgyoCI6TFp-",
        "outputId": "365de66b-123d-4109-b201-cdb50520acf0"
      },
      "execution_count": 183,
      "outputs": [
        {
          "output_type": "execute_result",
          "data": {
            "text/plain": [
              "    mean_fit_time  std_fit_time  mean_score_time  std_score_time  \\\n",
              "46       0.008853      0.000536         0.002017        0.000161   \n",
              "47       0.008856      0.000212         0.001960        0.000076   \n",
              "39       0.009834      0.001738         0.002359        0.000640   \n",
              "45       0.010119      0.002688         0.002944        0.001732   \n",
              "38       0.009202      0.001712         0.002049        0.000065   \n",
              "\n",
              "   param_max_depth param_max_features  \\\n",
              "46             5.0                  7   \n",
              "47             5.0                  8   \n",
              "39             4.0               None   \n",
              "45             5.0                  6   \n",
              "38             4.0                  9   \n",
              "\n",
              "                                      params  split0_test_score  \\\n",
              "46     {'max_depth': 5.0, 'max_features': 7}           0.830941   \n",
              "47     {'max_depth': 5.0, 'max_features': 8}           0.845295   \n",
              "39  {'max_depth': 4.0, 'max_features': None}           0.827751   \n",
              "45     {'max_depth': 5.0, 'max_features': 6}           0.824561   \n",
              "38     {'max_depth': 4.0, 'max_features': 9}           0.827751   \n",
              "\n",
              "    split1_test_score  split2_test_score  split3_test_score  \\\n",
              "46           0.768740           0.724083           0.773163   \n",
              "47           0.730463           0.724083           0.790735   \n",
              "39           0.763955           0.727273           0.787540   \n",
              "45           0.752791           0.720893           0.789137   \n",
              "38           0.735247           0.732057           0.787540   \n",
              "\n",
              "    split4_test_score  mean_test_score  std_test_score  rank_test_score  \n",
              "46           0.758786         0.771143        0.034505                1  \n",
              "47           0.760383         0.770192        0.044414                2  \n",
              "39           0.736422         0.768588        0.036394                3  \n",
              "45           0.744409         0.766358        0.036440                4  \n",
              "38           0.742812         0.765081        0.037171                5  "
            ],
            "text/html": [
              "\n",
              "  <div id=\"df-695501d8-71eb-4f4a-b62e-aff8a60f4fa5\">\n",
              "    <div class=\"colab-df-container\">\n",
              "      <div>\n",
              "<style scoped>\n",
              "    .dataframe tbody tr th:only-of-type {\n",
              "        vertical-align: middle;\n",
              "    }\n",
              "\n",
              "    .dataframe tbody tr th {\n",
              "        vertical-align: top;\n",
              "    }\n",
              "\n",
              "    .dataframe thead th {\n",
              "        text-align: right;\n",
              "    }\n",
              "</style>\n",
              "<table border=\"1\" class=\"dataframe\">\n",
              "  <thead>\n",
              "    <tr style=\"text-align: right;\">\n",
              "      <th></th>\n",
              "      <th>mean_fit_time</th>\n",
              "      <th>std_fit_time</th>\n",
              "      <th>mean_score_time</th>\n",
              "      <th>std_score_time</th>\n",
              "      <th>param_max_depth</th>\n",
              "      <th>param_max_features</th>\n",
              "      <th>params</th>\n",
              "      <th>split0_test_score</th>\n",
              "      <th>split1_test_score</th>\n",
              "      <th>split2_test_score</th>\n",
              "      <th>split3_test_score</th>\n",
              "      <th>split4_test_score</th>\n",
              "      <th>mean_test_score</th>\n",
              "      <th>std_test_score</th>\n",
              "      <th>rank_test_score</th>\n",
              "    </tr>\n",
              "  </thead>\n",
              "  <tbody>\n",
              "    <tr>\n",
              "      <th>46</th>\n",
              "      <td>0.008853</td>\n",
              "      <td>0.000536</td>\n",
              "      <td>0.002017</td>\n",
              "      <td>0.000161</td>\n",
              "      <td>5.0</td>\n",
              "      <td>7</td>\n",
              "      <td>{'max_depth': 5.0, 'max_features': 7}</td>\n",
              "      <td>0.830941</td>\n",
              "      <td>0.768740</td>\n",
              "      <td>0.724083</td>\n",
              "      <td>0.773163</td>\n",
              "      <td>0.758786</td>\n",
              "      <td>0.771143</td>\n",
              "      <td>0.034505</td>\n",
              "      <td>1</td>\n",
              "    </tr>\n",
              "    <tr>\n",
              "      <th>47</th>\n",
              "      <td>0.008856</td>\n",
              "      <td>0.000212</td>\n",
              "      <td>0.001960</td>\n",
              "      <td>0.000076</td>\n",
              "      <td>5.0</td>\n",
              "      <td>8</td>\n",
              "      <td>{'max_depth': 5.0, 'max_features': 8}</td>\n",
              "      <td>0.845295</td>\n",
              "      <td>0.730463</td>\n",
              "      <td>0.724083</td>\n",
              "      <td>0.790735</td>\n",
              "      <td>0.760383</td>\n",
              "      <td>0.770192</td>\n",
              "      <td>0.044414</td>\n",
              "      <td>2</td>\n",
              "    </tr>\n",
              "    <tr>\n",
              "      <th>39</th>\n",
              "      <td>0.009834</td>\n",
              "      <td>0.001738</td>\n",
              "      <td>0.002359</td>\n",
              "      <td>0.000640</td>\n",
              "      <td>4.0</td>\n",
              "      <td>None</td>\n",
              "      <td>{'max_depth': 4.0, 'max_features': None}</td>\n",
              "      <td>0.827751</td>\n",
              "      <td>0.763955</td>\n",
              "      <td>0.727273</td>\n",
              "      <td>0.787540</td>\n",
              "      <td>0.736422</td>\n",
              "      <td>0.768588</td>\n",
              "      <td>0.036394</td>\n",
              "      <td>3</td>\n",
              "    </tr>\n",
              "    <tr>\n",
              "      <th>45</th>\n",
              "      <td>0.010119</td>\n",
              "      <td>0.002688</td>\n",
              "      <td>0.002944</td>\n",
              "      <td>0.001732</td>\n",
              "      <td>5.0</td>\n",
              "      <td>6</td>\n",
              "      <td>{'max_depth': 5.0, 'max_features': 6}</td>\n",
              "      <td>0.824561</td>\n",
              "      <td>0.752791</td>\n",
              "      <td>0.720893</td>\n",
              "      <td>0.789137</td>\n",
              "      <td>0.744409</td>\n",
              "      <td>0.766358</td>\n",
              "      <td>0.036440</td>\n",
              "      <td>4</td>\n",
              "    </tr>\n",
              "    <tr>\n",
              "      <th>38</th>\n",
              "      <td>0.009202</td>\n",
              "      <td>0.001712</td>\n",
              "      <td>0.002049</td>\n",
              "      <td>0.000065</td>\n",
              "      <td>4.0</td>\n",
              "      <td>9</td>\n",
              "      <td>{'max_depth': 4.0, 'max_features': 9}</td>\n",
              "      <td>0.827751</td>\n",
              "      <td>0.735247</td>\n",
              "      <td>0.732057</td>\n",
              "      <td>0.787540</td>\n",
              "      <td>0.742812</td>\n",
              "      <td>0.765081</td>\n",
              "      <td>0.037171</td>\n",
              "      <td>5</td>\n",
              "    </tr>\n",
              "  </tbody>\n",
              "</table>\n",
              "</div>\n",
              "      <button class=\"colab-df-convert\" onclick=\"convertToInteractive('df-695501d8-71eb-4f4a-b62e-aff8a60f4fa5')\"\n",
              "              title=\"Convert this dataframe to an interactive table.\"\n",
              "              style=\"display:none;\">\n",
              "        \n",
              "  <svg xmlns=\"http://www.w3.org/2000/svg\" height=\"24px\"viewBox=\"0 0 24 24\"\n",
              "       width=\"24px\">\n",
              "    <path d=\"M0 0h24v24H0V0z\" fill=\"none\"/>\n",
              "    <path d=\"M18.56 5.44l.94 2.06.94-2.06 2.06-.94-2.06-.94-.94-2.06-.94 2.06-2.06.94zm-11 1L8.5 8.5l.94-2.06 2.06-.94-2.06-.94L8.5 2.5l-.94 2.06-2.06.94zm10 10l.94 2.06.94-2.06 2.06-.94-2.06-.94-.94-2.06-.94 2.06-2.06.94z\"/><path d=\"M17.41 7.96l-1.37-1.37c-.4-.4-.92-.59-1.43-.59-.52 0-1.04.2-1.43.59L10.3 9.45l-7.72 7.72c-.78.78-.78 2.05 0 2.83L4 21.41c.39.39.9.59 1.41.59.51 0 1.02-.2 1.41-.59l7.78-7.78 2.81-2.81c.8-.78.8-2.07 0-2.86zM5.41 20L4 18.59l7.72-7.72 1.47 1.35L5.41 20z\"/>\n",
              "  </svg>\n",
              "      </button>\n",
              "      \n",
              "  <style>\n",
              "    .colab-df-container {\n",
              "      display:flex;\n",
              "      flex-wrap:wrap;\n",
              "      gap: 12px;\n",
              "    }\n",
              "\n",
              "    .colab-df-convert {\n",
              "      background-color: #E8F0FE;\n",
              "      border: none;\n",
              "      border-radius: 50%;\n",
              "      cursor: pointer;\n",
              "      display: none;\n",
              "      fill: #1967D2;\n",
              "      height: 32px;\n",
              "      padding: 0 0 0 0;\n",
              "      width: 32px;\n",
              "    }\n",
              "\n",
              "    .colab-df-convert:hover {\n",
              "      background-color: #E2EBFA;\n",
              "      box-shadow: 0px 1px 2px rgba(60, 64, 67, 0.3), 0px 1px 3px 1px rgba(60, 64, 67, 0.15);\n",
              "      fill: #174EA6;\n",
              "    }\n",
              "\n",
              "    [theme=dark] .colab-df-convert {\n",
              "      background-color: #3B4455;\n",
              "      fill: #D2E3FC;\n",
              "    }\n",
              "\n",
              "    [theme=dark] .colab-df-convert:hover {\n",
              "      background-color: #434B5C;\n",
              "      box-shadow: 0px 1px 3px 1px rgba(0, 0, 0, 0.15);\n",
              "      filter: drop-shadow(0px 1px 2px rgba(0, 0, 0, 0.3));\n",
              "      fill: #FFFFFF;\n",
              "    }\n",
              "  </style>\n",
              "\n",
              "      <script>\n",
              "        const buttonEl =\n",
              "          document.querySelector('#df-695501d8-71eb-4f4a-b62e-aff8a60f4fa5 button.colab-df-convert');\n",
              "        buttonEl.style.display =\n",
              "          google.colab.kernel.accessAllowed ? 'block' : 'none';\n",
              "\n",
              "        async function convertToInteractive(key) {\n",
              "          const element = document.querySelector('#df-695501d8-71eb-4f4a-b62e-aff8a60f4fa5');\n",
              "          const dataTable =\n",
              "            await google.colab.kernel.invokeFunction('convertToInteractive',\n",
              "                                                     [key], {});\n",
              "          if (!dataTable) return;\n",
              "\n",
              "          const docLinkHtml = 'Like what you see? Visit the ' +\n",
              "            '<a target=\"_blank\" href=https://colab.research.google.com/notebooks/data_table.ipynb>data table notebook</a>'\n",
              "            + ' to learn more about interactive tables.';\n",
              "          element.innerHTML = '';\n",
              "          dataTable['output_type'] = 'display_data';\n",
              "          await google.colab.output.renderOutput(dataTable, element);\n",
              "          const docLink = document.createElement('div');\n",
              "          docLink.innerHTML = docLinkHtml;\n",
              "          element.appendChild(docLink);\n",
              "        }\n",
              "      </script>\n",
              "    </div>\n",
              "  </div>\n",
              "  "
            ]
          },
          "metadata": {},
          "execution_count": 183
        }
      ]
    },
    {
      "cell_type": "code",
      "source": [
        "tuning_model3.best_estimator_"
      ],
      "metadata": {
        "colab": {
          "base_uri": "https://localhost:8080/"
        },
        "id": "N7qmXY_TTFtm",
        "outputId": "d41ae8ca-a6e6-429f-d41f-09f94fad3967"
      },
      "execution_count": 184,
      "outputs": [
        {
          "output_type": "execute_result",
          "data": {
            "text/plain": [
              "DecisionTreeClassifier(max_depth=5.0, max_features=7, random_state=0)"
            ]
          },
          "metadata": {},
          "execution_count": 184
        }
      ]
    },
    {
      "cell_type": "code",
      "source": [
        "dt_best3 = tuning_model3.best_estimator_\n",
        "evaluate_model(dt_best3)"
      ],
      "metadata": {
        "colab": {
          "base_uri": "https://localhost:8080/"
        },
        "id": "hb2zQ7Hrgbtl",
        "outputId": "6a83759e-9d95-428e-cd2d-609eb9e55cc0"
      },
      "execution_count": 185,
      "outputs": [
        {
          "output_type": "stream",
          "name": "stdout",
          "text": [
            "Train Accuracy : 0.7906160229811682\n",
            "Train Confusion Matrix:\n",
            "[[1224  374]\n",
            " [ 282 1253]]\n",
            "--------------------------------------------------\n",
            "Test Accuracy : 0.7931034482758621\n",
            "Test Confusion Matrix:\n",
            "[[373 125]\n",
            " [ 91 455]]\n"
          ]
        }
      ]
    },
    {
      "cell_type": "markdown",
      "source": [
        "#### Training Decision Tree With Best Hyperparameters"
      ],
      "metadata": {
        "id": "oOEMaWiehfMz"
      }
    },
    {
      "cell_type": "code",
      "source": [
        "Dtree4 = DecisionTreeClassifier(max_depth=5.0, max_features=7, random_state=0)"
      ],
      "metadata": {
        "id": "R6K-15iNgmVu"
      },
      "execution_count": 187,
      "outputs": []
    },
    {
      "cell_type": "code",
      "source": [
        "# #fit \n",
        "Dtree4.fit(X_train,y_train)"
      ],
      "metadata": {
        "colab": {
          "base_uri": "https://localhost:8080/"
        },
        "id": "RYkrZw9ngmbG",
        "outputId": "68967130-7065-41cc-d6cb-38f5aa63e847"
      },
      "execution_count": 188,
      "outputs": [
        {
          "output_type": "execute_result",
          "data": {
            "text/plain": [
              "DecisionTreeClassifier(max_depth=5.0, max_features=7, random_state=0)"
            ]
          },
          "metadata": {},
          "execution_count": 188
        }
      ]
    },
    {
      "cell_type": "code",
      "source": [
        "evaluate_model(Dtree4)"
      ],
      "metadata": {
        "colab": {
          "base_uri": "https://localhost:8080/"
        },
        "id": "V5Lq60y6Z2CV",
        "outputId": "adae0f24-2d2f-4c88-9288-18cdf93b39a8"
      },
      "execution_count": 189,
      "outputs": [
        {
          "output_type": "stream",
          "name": "stdout",
          "text": [
            "Train Accuracy : 0.7906160229811682\n",
            "Train Confusion Matrix:\n",
            "[[1224  374]\n",
            " [ 282 1253]]\n",
            "--------------------------------------------------\n",
            "Test Accuracy : 0.7931034482758621\n",
            "Test Confusion Matrix:\n",
            "[[373 125]\n",
            " [ 91 455]]\n"
          ]
        }
      ]
    },
    {
      "cell_type": "code",
      "source": [
        "from sklearn import tree\n",
        "\n",
        "##Explore\n",
        "tree.plot_tree(Dtree4);"
      ],
      "metadata": {
        "colab": {
          "base_uri": "https://localhost:8080/",
          "height": 248
        },
        "id": "SiZBW9pJZ2Fx",
        "outputId": "d7c534d8-8861-46f3-e486-928ebbe783c3"
      },
      "execution_count": 191,
      "outputs": [
        {
          "output_type": "display_data",
          "data": {
            "text/plain": [
              "<Figure size 432x288 with 1 Axes>"
            ],
            "image/png": "[encoded data removed]"
          },
          "metadata": {
            "needs_background": "light"
          }
        }
      ]
    },
    {
      "cell_type": "markdown",
      "source": [
        "#### 💜 Best Hyperparameters \n",
        "\n",
        "`(max_depth=5.0, max_features=7, random_state=0)`\n",
        "\n",
        "- Test Accuracy : 0.7931034482758621"
      ],
      "metadata": {
        "id": "bDNxP7BtjVN9"
      }
    },
    {
      "cell_type": "code",
      "source": [],
      "metadata": {
        "id": "iBn5Qe54Z2JE"
      },
      "execution_count": null,
      "outputs": []
    },
    {
      "cell_type": "code",
      "source": [],
      "metadata": {
        "id": "2o2-KgG7Z2Mc"
      },
      "execution_count": null,
      "outputs": []
    }
  ]
}