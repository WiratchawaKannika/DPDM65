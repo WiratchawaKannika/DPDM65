{
  "nbformat": 4,
  "nbformat_minor": 0,
  "metadata": {
    "colab": {
      "name": "Quiz1.ipynb",
      "provenance": [],
      "machine_shape": "hm",
      "collapsed_sections": [],
      "include_colab_link": true
    },
    "kernelspec": {
      "name": "python3",
      "display_name": "Python 3"
    },
    "language_info": {
      "name": "python"
    },
    "accelerator": "GPU",
    "gpuClass": "standard"
  },
  "cells": [
    {
      "cell_type": "markdown",
      "metadata": {
        "id": "view-in-github",
        "colab_type": "text"
      },
      "source": [
        "<a href=\"https://colab.research.google.com/github/WiratchawaKannika/DPDM65/blob/main/Quiz1.ipynb\" target=\"_parent\"><img src=\"https://colab.research.google.com/assets/colab-badge.svg\" alt=\"Open In Colab\"/></a>"
      ]
    },
    {
      "cell_type": "markdown",
      "source": [
        "# Quiz1\n",
        "เขียน function แสดงความต่างของเวลาโดย input อยู่ในรูปแบบ 'XX:YY:ZZ - AA:BB:CC'\n",
        "\n",
        "และวนลูปแสดงผลของ input ต่อไปนี้\n",
        "\n",
        "* '09:11:50 - 12:30:15'\n",
        "* '13:41:07 - 20:00:18'\n",
        "* '00:00:00 - 23:59:59'\n",
        "* '18:04:11 - 00:00:00'\n",
        "* '21:30:00 - 03:05:15'\n",
        "\n",
        "ตัวอย่าง \n",
        "input ```'00:00:00-01:00:00'``` \n",
        "\n",
        "output ```ช่วงระยะเวลาระหว่าง 00:00:00 ถึง 01:00:00 มีเวลาทั้งหมด 3,600 วินาที```"
      ],
      "metadata": {
        "id": "AyuFpHU_VgDa"
      }
    },
    {
      "cell_type": "markdown",
      "source": [
        "- 1 ชม. มี 3,600 วินาที\n",
        "\n",
        "- 1 นาที มี 60 วินาที\n"
      ],
      "metadata": {
        "id": "TsB6XUqlbSpt"
      }
    },
    {
      "cell_type": "code",
      "source": [
        "#import datetime\n",
        "from datetime import datetime"
      ],
      "metadata": {
        "id": "hVGk_8a4btpj"
      },
      "execution_count": 11,
      "outputs": []
    },
    {
      "cell_type": "code",
      "source": [
        "def calculateTime(start_end_time): ### exemple'00:00:00-01:00:00'\n",
        "    #start_time = \"09:11:50\"\n",
        "    start_time = start_end_time[0:8]\n",
        "    end_time = start_end_time[11:20]\n",
        "    # convert time string to datetime\n",
        "    t1 = datetime.strptime(start_time, \"%H:%M:%S\")\n",
        "    #print('Start time:', t1.time())\n",
        "    t2 = datetime.strptime(end_time, \"%H:%M:%S\")\n",
        "    #print('End time:', t2.time())\n",
        "    # get difference\n",
        "    delta = t2 - t1\n",
        "    delta_second = delta.total_seconds()\n",
        "    if t2 > t1 :\n",
        "        delta_second_ = delta_second\n",
        "    else:\n",
        "        delta_second_ = delta_second+(24*3600) ## บวกเพิ่มไปอีก 24 ขม.\n",
        "    # time difference in seconds\n",
        "    #print(f\"Time difference is {delta.total_seconds()} seconds\")\n",
        "    print(f\"ช่วงระยะเวลาระหว่าง {t1.time()} ถึง {t2.time()} มีเวลาทั้งหมด {delta_second_} วินาที\")"
      ],
      "metadata": {
        "id": "bBsV1PjHalE1"
      },
      "execution_count": 36,
      "outputs": []
    },
    {
      "cell_type": "markdown",
      "source": [
        "## TEST Function"
      ],
      "metadata": {
        "id": "19p2sTArh0t5"
      }
    },
    {
      "cell_type": "code",
      "source": [
        "start_end_time = '13:41:07 - 20:00:18'\n",
        "calculateTime(start_end_time)"
      ],
      "metadata": {
        "id": "jvio8t_OhEYO",
        "outputId": "995a62b6-d4de-4778-fe55-cd1e166a0397",
        "colab": {
          "base_uri": "https://localhost:8080/"
        }
      },
      "execution_count": 37,
      "outputs": [
        {
          "output_type": "stream",
          "name": "stdout",
          "text": [
            "ช่วงระยะเวลาระหว่าง 13:41:07 ถึง 20:00:18 มีเวลาทั้งหมด 22751.0 วินาที\n"
          ]
        }
      ]
    },
    {
      "cell_type": "markdown",
      "source": [
        "### วนลูปแสดงผลของ input ต่อไปนี้\n",
        "\n",
        "* '09:11:50 - 12:30:15'\n",
        "* '13:41:07 - 20:00:18'\n",
        "* '00:00:00 - 23:59:59'\n",
        "* '18:04:11 - 00:00:00'\n",
        "* '21:30:00 - 03:05:15'"
      ],
      "metadata": {
        "id": "LO6pDyR3jpRb"
      }
    },
    {
      "cell_type": "code",
      "source": [
        "time_list = ['09:11:50 - 12:30:15', '13:41:07 - 20:00:18', '00:00:00 - 23:59:59', '18:04:11 - 00:00:00','21:30:00 - 03:05:15']\n",
        "print(len(time_list))\n",
        "time_list"
      ],
      "metadata": {
        "id": "m7GiN_OmfjoI",
        "outputId": "3822f5b0-2817-4418-e2fe-b38ca09a4c3e",
        "colab": {
          "base_uri": "https://localhost:8080/"
        }
      },
      "execution_count": 38,
      "outputs": [
        {
          "output_type": "stream",
          "name": "stdout",
          "text": [
            "5\n"
          ]
        },
        {
          "output_type": "execute_result",
          "data": {
            "text/plain": [
              "['09:11:50 - 12:30:15',\n",
              " '13:41:07 - 20:00:18',\n",
              " '00:00:00 - 23:59:59',\n",
              " '18:04:11 - 00:00:00',\n",
              " '21:30:00 - 03:05:15']"
            ]
          },
          "metadata": {},
          "execution_count": 38
        }
      ]
    },
    {
      "cell_type": "code",
      "source": [
        "for time in time_list:\n",
        "    calculateTime(time)\n",
        "    print('*'*70)"
      ],
      "metadata": {
        "id": "f7rK8f-PhEZ5",
        "outputId": "03d28fbf-bf77-40ee-8b7e-ec867d41ab30",
        "colab": {
          "base_uri": "https://localhost:8080/"
        }
      },
      "execution_count": 39,
      "outputs": [
        {
          "output_type": "stream",
          "name": "stdout",
          "text": [
            "ช่วงระยะเวลาระหว่าง 09:11:50 ถึง 12:30:15 มีเวลาทั้งหมด 11905.0 วินาที\n",
            "**********************************************************************\n",
            "ช่วงระยะเวลาระหว่าง 13:41:07 ถึง 20:00:18 มีเวลาทั้งหมด 22751.0 วินาที\n",
            "**********************************************************************\n",
            "ช่วงระยะเวลาระหว่าง 00:00:00 ถึง 23:59:59 มีเวลาทั้งหมด 86399.0 วินาที\n",
            "**********************************************************************\n",
            "ช่วงระยะเวลาระหว่าง 18:04:11 ถึง 00:00:00 มีเวลาทั้งหมด 21349.0 วินาที\n",
            "**********************************************************************\n",
            "ช่วงระยะเวลาระหว่าง 21:30:00 ถึง 03:05:15 มีเวลาทั้งหมด 20115.0 วินาที\n",
            "**********************************************************************\n"
          ]
        }
      ]
    },
    {
      "cell_type": "markdown",
      "source": [
        "****"
      ],
      "metadata": {
        "id": "u6NGZYzPmpzt"
      }
    },
    {
      "cell_type": "code",
      "source": [
        ""
      ],
      "metadata": {
        "id": "oYTTPaA3qAU7"
      },
      "execution_count": null,
      "outputs": []
    }
  ]
}