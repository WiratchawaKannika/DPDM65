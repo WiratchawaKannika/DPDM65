{
  "nbformat": 4,
  "nbformat_minor": 0,
  "metadata": {
    "colab": {
      "name": "Data101 (Chapter2).ipynb",
      "provenance": [],
      "machine_shape": "hm",
      "collapsed_sections": [],
      "authorship_tag": "ABX9TyPMu9abz41NqQf/5mZB6ZJW",
      "include_colab_link": true
    },
    "kernelspec": {
      "name": "python3",
      "display_name": "Python 3"
    },
    "language_info": {
      "name": "python"
    },
    "accelerator": "GPU",
    "gpuClass": "standard"
  },
  "cells": [
    {
      "cell_type": "markdown",
      "metadata": {
        "id": "view-in-github",
        "colab_type": "text"
      },
      "source": [
        "<a href=\"https://colab.research.google.com/github/WiratchawaKannika/DPDM65/blob/main/Data101_(Chapter2).ipynb\" target=\"_parent\"><img src=\"https://colab.research.google.com/assets/colab-badge.svg\" alt=\"Open In Colab\"/></a>"
      ]
    },
    {
      "cell_type": "markdown",
      "source": [
        "pandas คือ package ที่มีคนพัฒนาขึ้นมาเพื่อใช้จัดการข้อมูลที่มีลักษณะเป็นตาราง ซึ่งใน pandas เรียกว่า dataframe"
      ],
      "metadata": {
        "id": "ujM9cEkKYwdP"
      }
    },
    {
      "cell_type": "code",
      "execution_count": null,
      "metadata": {
        "id": "-vus7v5rEz5P"
      },
      "outputs": [],
      "source": [
        "import pandas #import pandas คือ โหลด package มีชื่อว่า pandas มาใช้"
      ]
    },
    {
      "cell_type": "code",
      "source": [
        "import pandas as pd # โหลด pandas package แล้วตั้งชื่อให้ว่า pd แทน "
      ],
      "metadata": {
        "id": "2SR0fVzeXZNU"
      },
      "execution_count": null,
      "outputs": []
    },
    {
      "cell_type": "markdown",
      "source": [
        "ไฟล์ .CSV (csv = comma separated values)\n",
        "- ใช้เครื่องหมาย comma ในการแบ่ง(คั่น)แต่ละ Columns\n",
        "- ขึ้น record ใหม่จะใช้การ Enter"
      ],
      "metadata": {
        "id": "K1E4Y2JwaHen"
      }
    },
    {
      "cell_type": "code",
      "source": [
        "data_df = pd.read_csv('/content/data.csv')"
      ],
      "metadata": {
        "id": "5wH1krzXXZP0"
      },
      "execution_count": null,
      "outputs": []
    },
    {
      "cell_type": "markdown",
      "source": [
        "- 🍀function ชื่อว่า \"read_csv\" จะเรียกข้อมูลให้ออกมาอยู่ใน format ของตาราง"
      ],
      "metadata": {
        "id": "4SjgPafpd00j"
      }
    },
    {
      "cell_type": "code",
      "source": [
        "data_df #เรียกดูตาราง csv."
      ],
      "metadata": {
        "id": "yffWvQiXXZSP",
        "colab": {
          "base_uri": "https://localhost:8080/",
          "height": 112
        },
        "outputId": "e82ac98a-40a8-4fb3-9a53-2183e5a12a4a"
      },
      "execution_count": null,
      "outputs": [
        {
          "output_type": "execute_result",
          "data": {
            "text/plain": [
              "   car_id        model  year   value  person_id\n",
              "0     101       bently  1973  100000          1\n",
              "1     102  rolls royce  1965  330000          1"
            ],
            "text/html": [
              "\n",
              "  <div id=\"df-0e859b65-7d65-48d6-b7ca-cdd3875b2739\">\n",
              "    <div class=\"colab-df-container\">\n",
              "      <div>\n",
              "<style scoped>\n",
              "    .dataframe tbody tr th:only-of-type {\n",
              "        vertical-align: middle;\n",
              "    }\n",
              "\n",
              "    .dataframe tbody tr th {\n",
              "        vertical-align: top;\n",
              "    }\n",
              "\n",
              "    .dataframe thead th {\n",
              "        text-align: right;\n",
              "    }\n",
              "</style>\n",
              "<table border=\"1\" class=\"dataframe\">\n",
              "  <thead>\n",
              "    <tr style=\"text-align: right;\">\n",
              "      <th></th>\n",
              "      <th>car_id</th>\n",
              "      <th>model</th>\n",
              "      <th>year</th>\n",
              "      <th>value</th>\n",
              "      <th>person_id</th>\n",
              "    </tr>\n",
              "  </thead>\n",
              "  <tbody>\n",
              "    <tr>\n",
              "      <th>0</th>\n",
              "      <td>101</td>\n",
              "      <td>bently</td>\n",
              "      <td>1973</td>\n",
              "      <td>100000</td>\n",
              "      <td>1</td>\n",
              "    </tr>\n",
              "    <tr>\n",
              "      <th>1</th>\n",
              "      <td>102</td>\n",
              "      <td>rolls royce</td>\n",
              "      <td>1965</td>\n",
              "      <td>330000</td>\n",
              "      <td>1</td>\n",
              "    </tr>\n",
              "  </tbody>\n",
              "</table>\n",
              "</div>\n",
              "      <button class=\"colab-df-convert\" onclick=\"convertToInteractive('df-0e859b65-7d65-48d6-b7ca-cdd3875b2739')\"\n",
              "              title=\"Convert this dataframe to an interactive table.\"\n",
              "              style=\"display:none;\">\n",
              "        \n",
              "  <svg xmlns=\"http://www.w3.org/2000/svg\" height=\"24px\"viewBox=\"0 0 24 24\"\n",
              "       width=\"24px\">\n",
              "    <path d=\"M0 0h24v24H0V0z\" fill=\"none\"/>\n",
              "    <path d=\"M18.56 5.44l.94 2.06.94-2.06 2.06-.94-2.06-.94-.94-2.06-.94 2.06-2.06.94zm-11 1L8.5 8.5l.94-2.06 2.06-.94-2.06-.94L8.5 2.5l-.94 2.06-2.06.94zm10 10l.94 2.06.94-2.06 2.06-.94-2.06-.94-.94-2.06-.94 2.06-2.06.94z\"/><path d=\"M17.41 7.96l-1.37-1.37c-.4-.4-.92-.59-1.43-.59-.52 0-1.04.2-1.43.59L10.3 9.45l-7.72 7.72c-.78.78-.78 2.05 0 2.83L4 21.41c.39.39.9.59 1.41.59.51 0 1.02-.2 1.41-.59l7.78-7.78 2.81-2.81c.8-.78.8-2.07 0-2.86zM5.41 20L4 18.59l7.72-7.72 1.47 1.35L5.41 20z\"/>\n",
              "  </svg>\n",
              "      </button>\n",
              "      \n",
              "  <style>\n",
              "    .colab-df-container {\n",
              "      display:flex;\n",
              "      flex-wrap:wrap;\n",
              "      gap: 12px;\n",
              "    }\n",
              "\n",
              "    .colab-df-convert {\n",
              "      background-color: #E8F0FE;\n",
              "      border: none;\n",
              "      border-radius: 50%;\n",
              "      cursor: pointer;\n",
              "      display: none;\n",
              "      fill: #1967D2;\n",
              "      height: 32px;\n",
              "      padding: 0 0 0 0;\n",
              "      width: 32px;\n",
              "    }\n",
              "\n",
              "    .colab-df-convert:hover {\n",
              "      background-color: #E2EBFA;\n",
              "      box-shadow: 0px 1px 2px rgba(60, 64, 67, 0.3), 0px 1px 3px 1px rgba(60, 64, 67, 0.15);\n",
              "      fill: #174EA6;\n",
              "    }\n",
              "\n",
              "    [theme=dark] .colab-df-convert {\n",
              "      background-color: #3B4455;\n",
              "      fill: #D2E3FC;\n",
              "    }\n",
              "\n",
              "    [theme=dark] .colab-df-convert:hover {\n",
              "      background-color: #434B5C;\n",
              "      box-shadow: 0px 1px 3px 1px rgba(0, 0, 0, 0.15);\n",
              "      filter: drop-shadow(0px 1px 2px rgba(0, 0, 0, 0.3));\n",
              "      fill: #FFFFFF;\n",
              "    }\n",
              "  </style>\n",
              "\n",
              "      <script>\n",
              "        const buttonEl =\n",
              "          document.querySelector('#df-0e859b65-7d65-48d6-b7ca-cdd3875b2739 button.colab-df-convert');\n",
              "        buttonEl.style.display =\n",
              "          google.colab.kernel.accessAllowed ? 'block' : 'none';\n",
              "\n",
              "        async function convertToInteractive(key) {\n",
              "          const element = document.querySelector('#df-0e859b65-7d65-48d6-b7ca-cdd3875b2739');\n",
              "          const dataTable =\n",
              "            await google.colab.kernel.invokeFunction('convertToInteractive',\n",
              "                                                     [key], {});\n",
              "          if (!dataTable) return;\n",
              "\n",
              "          const docLinkHtml = 'Like what you see? Visit the ' +\n",
              "            '<a target=\"_blank\" href=https://colab.research.google.com/notebooks/data_table.ipynb>data table notebook</a>'\n",
              "            + ' to learn more about interactive tables.';\n",
              "          element.innerHTML = '';\n",
              "          dataTable['output_type'] = 'display_data';\n",
              "          await google.colab.output.renderOutput(dataTable, element);\n",
              "          const docLink = document.createElement('div');\n",
              "          docLink.innerHTML = docLinkHtml;\n",
              "          element.appendChild(docLink);\n",
              "        }\n",
              "      </script>\n",
              "    </div>\n",
              "  </div>\n",
              "  "
            ]
          },
          "metadata": {},
          "execution_count": 4
        }
      ]
    },
    {
      "cell_type": "markdown",
      "source": [
        "****"
      ],
      "metadata": {
        "id": "ei_BO1_3ep4_"
      }
    },
    {
      "cell_type": "code",
      "source": [
        "data_df2 = pandas.read_csv('/content/data.csv')\n",
        "data_df2"
      ],
      "metadata": {
        "id": "azvy1yWcXZWj",
        "colab": {
          "base_uri": "https://localhost:8080/",
          "height": 112
        },
        "outputId": "633883ad-9b2a-47bd-e5c1-0a3ae2f8e1cc"
      },
      "execution_count": null,
      "outputs": [
        {
          "output_type": "execute_result",
          "data": {
            "text/plain": [
              "   car_id        model  year   value  person_id\n",
              "0     101       bently  1973  100000          1\n",
              "1     102  rolls royce  1965  330000          1"
            ],
            "text/html": [
              "\n",
              "  <div id=\"df-c0811979-db39-4632-8b8f-f2751550f785\">\n",
              "    <div class=\"colab-df-container\">\n",
              "      <div>\n",
              "<style scoped>\n",
              "    .dataframe tbody tr th:only-of-type {\n",
              "        vertical-align: middle;\n",
              "    }\n",
              "\n",
              "    .dataframe tbody tr th {\n",
              "        vertical-align: top;\n",
              "    }\n",
              "\n",
              "    .dataframe thead th {\n",
              "        text-align: right;\n",
              "    }\n",
              "</style>\n",
              "<table border=\"1\" class=\"dataframe\">\n",
              "  <thead>\n",
              "    <tr style=\"text-align: right;\">\n",
              "      <th></th>\n",
              "      <th>car_id</th>\n",
              "      <th>model</th>\n",
              "      <th>year</th>\n",
              "      <th>value</th>\n",
              "      <th>person_id</th>\n",
              "    </tr>\n",
              "  </thead>\n",
              "  <tbody>\n",
              "    <tr>\n",
              "      <th>0</th>\n",
              "      <td>101</td>\n",
              "      <td>bently</td>\n",
              "      <td>1973</td>\n",
              "      <td>100000</td>\n",
              "      <td>1</td>\n",
              "    </tr>\n",
              "    <tr>\n",
              "      <th>1</th>\n",
              "      <td>102</td>\n",
              "      <td>rolls royce</td>\n",
              "      <td>1965</td>\n",
              "      <td>330000</td>\n",
              "      <td>1</td>\n",
              "    </tr>\n",
              "  </tbody>\n",
              "</table>\n",
              "</div>\n",
              "      <button class=\"colab-df-convert\" onclick=\"convertToInteractive('df-c0811979-db39-4632-8b8f-f2751550f785')\"\n",
              "              title=\"Convert this dataframe to an interactive table.\"\n",
              "              style=\"display:none;\">\n",
              "        \n",
              "  <svg xmlns=\"http://www.w3.org/2000/svg\" height=\"24px\"viewBox=\"0 0 24 24\"\n",
              "       width=\"24px\">\n",
              "    <path d=\"M0 0h24v24H0V0z\" fill=\"none\"/>\n",
              "    <path d=\"M18.56 5.44l.94 2.06.94-2.06 2.06-.94-2.06-.94-.94-2.06-.94 2.06-2.06.94zm-11 1L8.5 8.5l.94-2.06 2.06-.94-2.06-.94L8.5 2.5l-.94 2.06-2.06.94zm10 10l.94 2.06.94-2.06 2.06-.94-2.06-.94-.94-2.06-.94 2.06-2.06.94z\"/><path d=\"M17.41 7.96l-1.37-1.37c-.4-.4-.92-.59-1.43-.59-.52 0-1.04.2-1.43.59L10.3 9.45l-7.72 7.72c-.78.78-.78 2.05 0 2.83L4 21.41c.39.39.9.59 1.41.59.51 0 1.02-.2 1.41-.59l7.78-7.78 2.81-2.81c.8-.78.8-2.07 0-2.86zM5.41 20L4 18.59l7.72-7.72 1.47 1.35L5.41 20z\"/>\n",
              "  </svg>\n",
              "      </button>\n",
              "      \n",
              "  <style>\n",
              "    .colab-df-container {\n",
              "      display:flex;\n",
              "      flex-wrap:wrap;\n",
              "      gap: 12px;\n",
              "    }\n",
              "\n",
              "    .colab-df-convert {\n",
              "      background-color: #E8F0FE;\n",
              "      border: none;\n",
              "      border-radius: 50%;\n",
              "      cursor: pointer;\n",
              "      display: none;\n",
              "      fill: #1967D2;\n",
              "      height: 32px;\n",
              "      padding: 0 0 0 0;\n",
              "      width: 32px;\n",
              "    }\n",
              "\n",
              "    .colab-df-convert:hover {\n",
              "      background-color: #E2EBFA;\n",
              "      box-shadow: 0px 1px 2px rgba(60, 64, 67, 0.3), 0px 1px 3px 1px rgba(60, 64, 67, 0.15);\n",
              "      fill: #174EA6;\n",
              "    }\n",
              "\n",
              "    [theme=dark] .colab-df-convert {\n",
              "      background-color: #3B4455;\n",
              "      fill: #D2E3FC;\n",
              "    }\n",
              "\n",
              "    [theme=dark] .colab-df-convert:hover {\n",
              "      background-color: #434B5C;\n",
              "      box-shadow: 0px 1px 3px 1px rgba(0, 0, 0, 0.15);\n",
              "      filter: drop-shadow(0px 1px 2px rgba(0, 0, 0, 0.3));\n",
              "      fill: #FFFFFF;\n",
              "    }\n",
              "  </style>\n",
              "\n",
              "      <script>\n",
              "        const buttonEl =\n",
              "          document.querySelector('#df-c0811979-db39-4632-8b8f-f2751550f785 button.colab-df-convert');\n",
              "        buttonEl.style.display =\n",
              "          google.colab.kernel.accessAllowed ? 'block' : 'none';\n",
              "\n",
              "        async function convertToInteractive(key) {\n",
              "          const element = document.querySelector('#df-c0811979-db39-4632-8b8f-f2751550f785');\n",
              "          const dataTable =\n",
              "            await google.colab.kernel.invokeFunction('convertToInteractive',\n",
              "                                                     [key], {});\n",
              "          if (!dataTable) return;\n",
              "\n",
              "          const docLinkHtml = 'Like what you see? Visit the ' +\n",
              "            '<a target=\"_blank\" href=https://colab.research.google.com/notebooks/data_table.ipynb>data table notebook</a>'\n",
              "            + ' to learn more about interactive tables.';\n",
              "          element.innerHTML = '';\n",
              "          dataTable['output_type'] = 'display_data';\n",
              "          await google.colab.output.renderOutput(dataTable, element);\n",
              "          const docLink = document.createElement('div');\n",
              "          docLink.innerHTML = docLinkHtml;\n",
              "          element.appendChild(docLink);\n",
              "        }\n",
              "      </script>\n",
              "    </div>\n",
              "  </div>\n",
              "  "
            ]
          },
          "metadata": {},
          "execution_count": 5
        }
      ]
    },
    {
      "cell_type": "code",
      "source": [
        ""
      ],
      "metadata": {
        "id": "vDXaCb4woXYg"
      },
      "execution_count": null,
      "outputs": []
    },
    {
      "cell_type": "markdown",
      "source": [
        "# Basic Python\n"
      ],
      "metadata": {
        "id": "rqY7ClHaoWT1"
      }
    },
    {
      "cell_type": "markdown",
      "source": [
        "## Variable\n",
        "\n",
        "- ใน Python ไม่ต้องประกาศประเภทของตวแปรก่อนเหมือนภาษา C"
      ],
      "metadata": {
        "id": "49RDDkBBoetD"
      }
    },
    {
      "cell_type": "markdown",
      "source": [
        "ข้อกำหนดในการตั้งชื่อตัวแปร\n",
        "1. ชื่อห้ามมีเว้นวรรค\n",
        "2. (พยายาม) ใช้ภาษาอังกฤษ\n",
        "3. ตัวเล็กกับตัวใหญ่แตกต่างกัน(case sensitive)\n",
        "4. ห้ามใช้ตัวเลขเป็นตัวหน้า\n"
      ],
      "metadata": {
        "id": "Cw5tWLVApN-4"
      }
    },
    {
      "cell_type": "code",
      "source": [
        "variable_a = 12 \n",
        "variable_b = 13.14\n",
        "variable_c = 'A' # ' (quote) หรือ \" (double quote) ## '' บอกว่าตัวแปรเป็น String\n",
        "variable_d = 'MSc Stat KKU'"
      ],
      "metadata": {
        "id": "ajL0VDwVXZY0"
      },
      "execution_count": null,
      "outputs": []
    },
    {
      "cell_type": "code",
      "source": [
        "variable_e = '11' "
      ],
      "metadata": {
        "id": "EhUdeS9ctg6X"
      },
      "execution_count": null,
      "outputs": []
    },
    {
      "cell_type": "code",
      "source": [
        "variable a = 12 # 1. มีเว้นวรรค ทำให้ Errors"
      ],
      "metadata": {
        "id": "rGYVptubXZa9",
        "colab": {
          "base_uri": "https://localhost:8080/",
          "height": 130
        },
        "outputId": "e435b28d-abba-4b7c-e148-f87b80ce9309"
      },
      "execution_count": null,
      "outputs": [
        {
          "output_type": "error",
          "ename": "SyntaxError",
          "evalue": "ignored",
          "traceback": [
            "\u001b[0;36m  File \u001b[0;32m\"<ipython-input-7-69f5b60977cf>\"\u001b[0;36m, line \u001b[0;32m1\u001b[0m\n\u001b[0;31m    variable a = 12\u001b[0m\n\u001b[0m             ^\u001b[0m\n\u001b[0;31mSyntaxError\u001b[0m\u001b[0;31m:\u001b[0m invalid syntax\n"
          ]
        }
      ]
    },
    {
      "cell_type": "code",
      "source": [
        "ตัวแปรเอ = 123 ## 2. ไม่ควรตั้งชื่อตัวแปรเป็นภาษาไทย\n",
        "ตัวแปรเอ"
      ],
      "metadata": {
        "id": "8haHaMBBXZfO",
        "colab": {
          "base_uri": "https://localhost:8080/"
        },
        "outputId": "30ff5194-8ea3-42df-c520-82eb9438d8fb"
      },
      "execution_count": null,
      "outputs": [
        {
          "output_type": "execute_result",
          "data": {
            "text/plain": [
              "123"
            ]
          },
          "metadata": {},
          "execution_count": 9
        }
      ]
    },
    {
      "cell_type": "code",
      "source": [
        "Cat = 1 ## 3. ตัวพิมพ์ใหญ่กับตัวพิมพ์เล็กมีความหมายต่างกัน\n",
        "cat = 2"
      ],
      "metadata": {
        "id": "CR8l0a9MXZhi"
      },
      "execution_count": null,
      "outputs": []
    },
    {
      "cell_type": "code",
      "source": [
        "cat"
      ],
      "metadata": {
        "id": "G34DelIUXZmX",
        "colab": {
          "base_uri": "https://localhost:8080/"
        },
        "outputId": "a90f93c0-d15d-4549-aaa8-7813de631ef3"
      },
      "execution_count": null,
      "outputs": [
        {
          "output_type": "execute_result",
          "data": {
            "text/plain": [
              "2"
            ]
          },
          "metadata": {},
          "execution_count": 12
        }
      ]
    },
    {
      "cell_type": "code",
      "source": [
        "Cat"
      ],
      "metadata": {
        "id": "JVZqshj9XZj2",
        "colab": {
          "base_uri": "https://localhost:8080/"
        },
        "outputId": "78313f66-a734-4e4b-d2ab-0d2881c06aa4"
      },
      "execution_count": null,
      "outputs": [
        {
          "output_type": "execute_result",
          "data": {
            "text/plain": [
              "1"
            ]
          },
          "metadata": {},
          "execution_count": 11
        }
      ]
    },
    {
      "cell_type": "code",
      "source": [
        "cat1 = 2 ##'' output ถูกเก็บไว้ใน Memory  "
      ],
      "metadata": {
        "id": "4Vb9ao7zqpsm"
      },
      "execution_count": null,
      "outputs": []
    },
    {
      "cell_type": "code",
      "source": [
        "cat1 ##''พิมพ์ชื่อตัวแปรเพื่อแสดงค่า"
      ],
      "metadata": {
        "colab": {
          "base_uri": "https://localhost:8080/"
        },
        "id": "1JFztTPbqxUE",
        "outputId": "1aa4df13-66a4-4c12-e2ab-5f0bb0091710"
      },
      "execution_count": null,
      "outputs": [
        {
          "output_type": "execute_result",
          "data": {
            "text/plain": [
              "2"
            ]
          },
          "metadata": {},
          "execution_count": 15
        }
      ]
    },
    {
      "cell_type": "code",
      "source": [
        "1cat = 3 #ไม่ใช้ตัวเลขตั้งชื่ออยู่หน้าตัวแปร"
      ],
      "metadata": {
        "id": "D89tVN9SXZo4",
        "colab": {
          "base_uri": "https://localhost:8080/",
          "height": 130
        },
        "outputId": "1f6988c8-1774-4e9b-cf0e-b5df8ef6802b"
      },
      "execution_count": null,
      "outputs": [
        {
          "output_type": "error",
          "ename": "SyntaxError",
          "evalue": "ignored",
          "traceback": [
            "\u001b[0;36m  File \u001b[0;32m\"<ipython-input-13-e605ac834d96>\"\u001b[0;36m, line \u001b[0;32m1\u001b[0m\n\u001b[0;31m    1cat = 3 #ไม่ใช้ตัวเลขตั้งชื่ออยู่หน้าตัวแปร\u001b[0m\n\u001b[0m       ^\u001b[0m\n\u001b[0;31mSyntaxError\u001b[0m\u001b[0;31m:\u001b[0m invalid syntax\n"
          ]
        }
      ]
    },
    {
      "cell_type": "markdown",
      "source": [
        "- คำสั่ง print คคือ แสดงค่าที่อยู่ในตัวแปร"
      ],
      "metadata": {
        "id": "Vu1e5fPyrfzR"
      }
    },
    {
      "cell_type": "code",
      "source": [
        "print(cat1)  "
      ],
      "metadata": {
        "id": "eiTry6pcXZrN",
        "colab": {
          "base_uri": "https://localhost:8080/"
        },
        "outputId": "d3600312-f769-416c-ddb4-75efa72caccc"
      },
      "execution_count": null,
      "outputs": [
        {
          "output_type": "stream",
          "name": "stdout",
          "text": [
            "2\n"
          ]
        }
      ]
    },
    {
      "cell_type": "markdown",
      "source": [
        "- ตัวแปรสามารถนำมาดำเนินการทางคณิตศาสตร์ได้ (บวก, ลบ, คูณ, หาร)"
      ],
      "metadata": {
        "id": "hOUW0na9r18x"
      }
    },
    {
      "cell_type": "code",
      "source": [
        "variable_x = variable_a + variable_b ## output ถูกเก็บไว้ใน Memory "
      ],
      "metadata": {
        "id": "r3U1C9oOrb_2"
      },
      "execution_count": null,
      "outputs": []
    },
    {
      "cell_type": "code",
      "source": [
        "variable_x"
      ],
      "metadata": {
        "colab": {
          "base_uri": "https://localhost:8080/"
        },
        "id": "8nuMbMqrrw2u",
        "outputId": "439202f6-783b-49a4-c24a-04a184096661"
      },
      "execution_count": null,
      "outputs": [
        {
          "output_type": "execute_result",
          "data": {
            "text/plain": [
              "25.14"
            ]
          },
          "metadata": {},
          "execution_count": 18
        }
      ]
    },
    {
      "cell_type": "code",
      "source": [
        "variable_a + variable_b ## output ไม่ได้ถูกเก็บไว้ใน Memory "
      ],
      "metadata": {
        "colab": {
          "base_uri": "https://localhost:8080/"
        },
        "id": "NPzbrfsRr0Vr",
        "outputId": "d589da5b-f624-4334-cea8-0051aa9e04f9"
      },
      "execution_count": null,
      "outputs": [
        {
          "output_type": "execute_result",
          "data": {
            "text/plain": [
              "25.14"
            ]
          },
          "metadata": {},
          "execution_count": 19
        }
      ]
    },
    {
      "cell_type": "code",
      "source": [
        "variable_x = variable_a + variable_b + 5 \n",
        "print(variable_x)"
      ],
      "metadata": {
        "colab": {
          "base_uri": "https://localhost:8080/"
        },
        "id": "s2qivWMbsIT8",
        "outputId": "e4843de3-6a86-4bfa-fe23-bf7b4cf44a78"
      },
      "execution_count": null,
      "outputs": [
        {
          "output_type": "stream",
          "name": "stdout",
          "text": [
            "30.14\n"
          ]
        }
      ]
    },
    {
      "cell_type": "code",
      "source": [
        "print(variable_a + variable_b)"
      ],
      "metadata": {
        "colab": {
          "base_uri": "https://localhost:8080/"
        },
        "id": "hulsgh25sIYh",
        "outputId": "f50f503b-93fc-4595-c4da-0a051a63adf8"
      },
      "execution_count": null,
      "outputs": [
        {
          "output_type": "stream",
          "name": "stdout",
          "text": [
            "25.14\n"
          ]
        }
      ]
    },
    {
      "cell_type": "markdown",
      "source": [
        "- Python สามารถนำค่าของตัวแปรตัวหนึ่ง มาไว้ที่ตัวแปรอีกตัวหนึ่งได้"
      ],
      "metadata": {
        "id": "wow6der9s09Q"
      }
    },
    {
      "cell_type": "code",
      "source": [
        "variable_z = variable_a\n",
        "print(variable_z)"
      ],
      "metadata": {
        "colab": {
          "base_uri": "https://localhost:8080/"
        },
        "id": "Bp1g_5YQsIav",
        "outputId": "ec6e25a2-9ea1-4082-c98e-53eb9737f75d"
      },
      "execution_count": null,
      "outputs": [
        {
          "output_type": "stream",
          "name": "stdout",
          "text": [
            "12\n"
          ]
        }
      ]
    },
    {
      "cell_type": "code",
      "source": [
        "variable_a = variable_a + 3 ##''update ตัีวแปร a\n",
        "print(variable_a)\n",
        "print(variable_z) "
      ],
      "metadata": {
        "colab": {
          "base_uri": "https://localhost:8080/"
        },
        "id": "S5T5UlXtsIc3",
        "outputId": "7069bc1e-9c19-40ea-fd8f-8f5457e1fa35"
      },
      "execution_count": null,
      "outputs": [
        {
          "output_type": "stream",
          "name": "stdout",
          "text": [
            "15\n",
            "12\n"
          ]
        }
      ]
    },
    {
      "cell_type": "markdown",
      "source": [
        "- ไม่สามารถนำตัวแปรที่มี type เป็น String มาบวก (ดำเนินการทางคณิตศาสตร์ได้) กับ int ได้\n",
        "-- unsupported operand type(s) for +: 'int' and 'str'\n",
        "-- can only concatenate str (not \"int\") to str"
      ],
      "metadata": {
        "id": "15-zOR_Atwr5"
      }
    },
    {
      "cell_type": "code",
      "source": [
        "variable_a + variable_e "
      ],
      "metadata": {
        "colab": {
          "base_uri": "https://localhost:8080/",
          "height": 165
        },
        "id": "pzMo_cXYsIe-",
        "outputId": "a22e068d-ac54-4bed-88b4-7604cbf06c66"
      },
      "execution_count": null,
      "outputs": [
        {
          "output_type": "error",
          "ename": "TypeError",
          "evalue": "ignored",
          "traceback": [
            "\u001b[0;31m---------------------------------------------------------------------------\u001b[0m",
            "\u001b[0;31mTypeError\u001b[0m                                 Traceback (most recent call last)",
            "\u001b[0;32m<ipython-input-25-8bc5d5f191af>\u001b[0m in \u001b[0;36m<module>\u001b[0;34m()\u001b[0m\n\u001b[0;32m----> 1\u001b[0;31m \u001b[0mvariable_a\u001b[0m \u001b[0;34m+\u001b[0m \u001b[0mvariable_e\u001b[0m\u001b[0;34m\u001b[0m\u001b[0;34m\u001b[0m\u001b[0m\n\u001b[0m",
            "\u001b[0;31mTypeError\u001b[0m: unsupported operand type(s) for +: 'int' and 'str'"
          ]
        }
      ]
    },
    {
      "cell_type": "code",
      "source": [
        "variable_e + variable_a"
      ],
      "metadata": {
        "colab": {
          "base_uri": "https://localhost:8080/",
          "height": 165
        },
        "id": "VXF86dhxsIhP",
        "outputId": "723776b0-98a1-45e3-ccdc-0423726ed170"
      },
      "execution_count": null,
      "outputs": [
        {
          "output_type": "error",
          "ename": "TypeError",
          "evalue": "ignored",
          "traceback": [
            "\u001b[0;31m---------------------------------------------------------------------------\u001b[0m",
            "\u001b[0;31mTypeError\u001b[0m                                 Traceback (most recent call last)",
            "\u001b[0;32m<ipython-input-26-6803e42962dd>\u001b[0m in \u001b[0;36m<module>\u001b[0;34m()\u001b[0m\n\u001b[0;32m----> 1\u001b[0;31m \u001b[0mvariable_e\u001b[0m \u001b[0;34m+\u001b[0m \u001b[0mvariable_a\u001b[0m\u001b[0;34m\u001b[0m\u001b[0;34m\u001b[0m\u001b[0m\n\u001b[0m",
            "\u001b[0;31mTypeError\u001b[0m: can only concatenate str (not \"int\") to str"
          ]
        }
      ]
    },
    {
      "cell_type": "markdown",
      "source": [
        "- สามารถนำตัวอักษรมาต่อกันได้ เพียงใช้เครื่องหมาย + \n",
        "-- เอา Srting มาต่อกัน"
      ],
      "metadata": {
        "id": "lrTEAZUguX5W"
      }
    },
    {
      "cell_type": "code",
      "source": [
        "variable_c + variable_d"
      ],
      "metadata": {
        "colab": {
          "base_uri": "https://localhost:8080/",
          "height": 36
        },
        "id": "0kTBOsz0sIkL",
        "outputId": "796a0c3e-efa0-4d43-8dfe-2bfdebde3359"
      },
      "execution_count": null,
      "outputs": [
        {
          "output_type": "execute_result",
          "data": {
            "text/plain": [
              "'AMSc Stat KKU'"
            ],
            "application/vnd.google.colaboratory.intrinsic+json": {
              "type": "string"
            }
          },
          "metadata": {},
          "execution_count": 27
        }
      ]
    },
    {
      "cell_type": "markdown",
      "source": [
        "- การเปลี่ยนชนิดของตัวแปร\n",
        "-- Casting int() float() str()"
      ],
      "metadata": {
        "id": "i5peGdriuqLw"
      }
    },
    {
      "cell_type": "code",
      "source": [
        "variable_a + int(variable_e)"
      ],
      "metadata": {
        "colab": {
          "base_uri": "https://localhost:8080/"
        },
        "id": "QrHhVrD_uWK0",
        "outputId": "9180e24b-57a7-4b32-cea7-72a0b852887f"
      },
      "execution_count": null,
      "outputs": [
        {
          "output_type": "execute_result",
          "data": {
            "text/plain": [
              "26"
            ]
          },
          "metadata": {},
          "execution_count": 29
        }
      ]
    },
    {
      "cell_type": "code",
      "source": [
        "variable_e + str(variable_a) ##ยังไม่มีตัวแปรมาเก็บค่าไว้"
      ],
      "metadata": {
        "colab": {
          "base_uri": "https://localhost:8080/",
          "height": 36
        },
        "id": "4SNDSuSMu9GR",
        "outputId": "5d4f990f-9f44-4e18-ced2-13c5116a8873"
      },
      "execution_count": null,
      "outputs": [
        {
          "output_type": "execute_result",
          "data": {
            "text/plain": [
              "'1115'"
            ],
            "application/vnd.google.colaboratory.intrinsic+json": {
              "type": "string"
            }
          },
          "metadata": {},
          "execution_count": 30
        }
      ]
    },
    {
      "cell_type": "code",
      "source": [
        "variable_e"
      ],
      "metadata": {
        "colab": {
          "base_uri": "https://localhost:8080/",
          "height": 36
        },
        "id": "69ggX7-nvI7t",
        "outputId": "5bbe0c33-256f-4f64-cb5d-5551e5a4d64e"
      },
      "execution_count": null,
      "outputs": [
        {
          "output_type": "execute_result",
          "data": {
            "text/plain": [
              "'11'"
            ],
            "application/vnd.google.colaboratory.intrinsic+json": {
              "type": "string"
            }
          },
          "metadata": {},
          "execution_count": 31
        }
      ]
    },
    {
      "cell_type": "code",
      "source": [
        "print(variable_e) ##ไม่รู้ว่าเป็นตัวแปรชนิดไหนเลย "
      ],
      "metadata": {
        "colab": {
          "base_uri": "https://localhost:8080/"
        },
        "id": "aPA24CbAvQOA",
        "outputId": "c7b80b62-e7c3-4cb1-f2c6-61caa1dbdc15"
      },
      "execution_count": null,
      "outputs": [
        {
          "output_type": "stream",
          "name": "stdout",
          "text": [
            "11\n"
          ]
        }
      ]
    },
    {
      "cell_type": "markdown",
      "source": [
        "- Check /ตรวจสอบชนิดของตัวแปรด้วย type()"
      ],
      "metadata": {
        "id": "sOUQTML3vo7c"
      }
    },
    {
      "cell_type": "code",
      "source": [
        "type(variable_a)"
      ],
      "metadata": {
        "colab": {
          "base_uri": "https://localhost:8080/"
        },
        "id": "ZV1QsvGHvQP9",
        "outputId": "c78a6cd6-4c16-4b40-feb4-e851b8bbad15"
      },
      "execution_count": null,
      "outputs": [
        {
          "output_type": "execute_result",
          "data": {
            "text/plain": [
              "int"
            ]
          },
          "metadata": {},
          "execution_count": 33
        }
      ]
    },
    {
      "cell_type": "code",
      "source": [
        "type(variable_e)"
      ],
      "metadata": {
        "colab": {
          "base_uri": "https://localhost:8080/"
        },
        "id": "bjH6lZ4RvQRo",
        "outputId": "ec7aafdd-053f-4131-b31c-0cb95e869ccf"
      },
      "execution_count": null,
      "outputs": [
        {
          "output_type": "execute_result",
          "data": {
            "text/plain": [
              "str"
            ]
          },
          "metadata": {},
          "execution_count": 34
        }
      ]
    },
    {
      "cell_type": "markdown",
      "source": [
        " **Data structure (โครงสร้างข้อมูล)**"
      ],
      "metadata": {
        "id": "28glOkXdwLxH"
      }
    },
    {
      "cell_type": "markdown",
      "source": [
        "### list\n",
        "- การที่นำตัวแปรมาเรียงต่อกันเรื่อยๆและคั่นด้วยเครื่องหมาย comma (,)\n",
        "- สามารถนำตัวแปรชนิดไหนก็ได้มาเก็บไว้ใน list เดียวกัน ไม่จำเป็นต้องเป็น type เดียวกัน\n",
        "- สนใจลำดับใน list เป็นสำคัญ เพราะสามารถบอกค่าใน list ได้ด้วยลำดับ(indexing)"
      ],
      "metadata": {
        "id": "4-wFsTKlwXdI"
      }
    },
    {
      "cell_type": "code",
      "source": [
        "list_a = [1,2,3,0.9,'aaz', variable_b] ## [] (square brackets)"
      ],
      "metadata": {
        "id": "rKKzhOBUvQTM"
      },
      "execution_count": null,
      "outputs": []
    },
    {
      "cell_type": "code",
      "source": [
        "list_a"
      ],
      "metadata": {
        "colab": {
          "base_uri": "https://localhost:8080/"
        },
        "id": "zXK-ivoDw1ED",
        "outputId": "49766406-ded2-43a5-f41f-73375bec3aee"
      },
      "execution_count": null,
      "outputs": [
        {
          "output_type": "execute_result",
          "data": {
            "text/plain": [
              "[1, 2, 3, 0.9, 'aaz', 13.14]"
            ]
          },
          "metadata": {},
          "execution_count": 36
        }
      ]
    },
    {
      "cell_type": "markdown",
      "source": [
        "indexing"
      ],
      "metadata": {
        "id": "c7kr6vg1w696"
      }
    },
    {
      "cell_type": "code",
      "source": [
        "list_a[5]"
      ],
      "metadata": {
        "colab": {
          "base_uri": "https://localhost:8080/"
        },
        "id": "CEGg0Xgpw1c7",
        "outputId": "8067671a-c84c-4678-c4d9-99d84d04f92e"
      },
      "execution_count": null,
      "outputs": [
        {
          "output_type": "execute_result",
          "data": {
            "text/plain": [
              "13.14"
            ]
          },
          "metadata": {},
          "execution_count": 37
        }
      ]
    },
    {
      "cell_type": "code",
      "source": [
        "list_a[0]"
      ],
      "metadata": {
        "colab": {
          "base_uri": "https://localhost:8080/"
        },
        "id": "E9f9XIq7xJw6",
        "outputId": "ad9efc28-6531-4c51-d87f-74e922232953"
      },
      "execution_count": null,
      "outputs": [
        {
          "output_type": "execute_result",
          "data": {
            "text/plain": [
              "1"
            ]
          },
          "metadata": {},
          "execution_count": 38
        }
      ]
    },
    {
      "cell_type": "markdown",
      "source": [
        "Negative index ชี้ค่าใน list จากด้านหลัง "
      ],
      "metadata": {
        "id": "IDb4fiFpxWFa"
      }
    },
    {
      "cell_type": "code",
      "source": [
        "list_a[-2] ## Negative index "
      ],
      "metadata": {
        "colab": {
          "base_uri": "https://localhost:8080/",
          "height": 36
        },
        "id": "htia_SkDxLAU",
        "outputId": "328958ba-c0d5-4ddc-ded5-49d00d4bbdb7"
      },
      "execution_count": null,
      "outputs": [
        {
          "output_type": "execute_result",
          "data": {
            "text/plain": [
              "'aaz'"
            ],
            "application/vnd.google.colaboratory.intrinsic+json": {
              "type": "string"
            }
          },
          "metadata": {},
          "execution_count": 39
        }
      ]
    },
    {
      "cell_type": "code",
      "source": [
        "list_b = ['pizza', list_a]\n",
        "list_b "
      ],
      "metadata": {
        "colab": {
          "base_uri": "https://localhost:8080/"
        },
        "id": "1E4da4AvxTsA",
        "outputId": "3cd9792c-849b-4bae-bbc2-b6d1bf49a846"
      },
      "execution_count": null,
      "outputs": [
        {
          "output_type": "execute_result",
          "data": {
            "text/plain": [
              "['pizza', [1, 2, 3, 0.9, 'aaz', 13.14]]"
            ]
          },
          "metadata": {},
          "execution_count": 40
        }
      ]
    },
    {
      "cell_type": "code",
      "source": [
        "list_b[1][3]"
      ],
      "metadata": {
        "colab": {
          "base_uri": "https://localhost:8080/"
        },
        "id": "rLR_o8D2xxmv",
        "outputId": "81ff8eef-7202-4e04-a172-3cad372e65d0"
      },
      "execution_count": null,
      "outputs": [
        {
          "output_type": "execute_result",
          "data": {
            "text/plain": [
              "0.9"
            ]
          },
          "metadata": {},
          "execution_count": 41
        }
      ]
    },
    {
      "cell_type": "markdown",
      "source": [
        "- String คือ list ของตัวอักษร\n"
      ],
      "metadata": {
        "id": "DrIMeu6YyQIt"
      }
    },
    {
      "cell_type": "code",
      "source": [
        "x = 'shabu' \n",
        "x[-2] ##ชี้ไปที่ตัว  b"
      ],
      "metadata": {
        "colab": {
          "base_uri": "https://localhost:8080/",
          "height": 36
        },
        "id": "AMjTkySpyFFF",
        "outputId": "c494469b-4237-460b-f0a7-9890af3efb79"
      },
      "execution_count": null,
      "outputs": [
        {
          "output_type": "execute_result",
          "data": {
            "text/plain": [
              "'b'"
            ],
            "application/vnd.google.colaboratory.intrinsic+json": {
              "type": "string"
            }
          },
          "metadata": {},
          "execution_count": 42
        }
      ]
    },
    {
      "cell_type": "code",
      "source": [
        "print(list_a)\n",
        "print(list_b)"
      ],
      "metadata": {
        "colab": {
          "base_uri": "https://localhost:8080/"
        },
        "id": "Xp4IXlh4yfRL",
        "outputId": "4474cead-cb97-40e3-884d-fe43a9f67556"
      },
      "execution_count": null,
      "outputs": [
        {
          "output_type": "stream",
          "name": "stdout",
          "text": [
            "[1, 2, 3, 0.9, 'aaz', 13.14]\n",
            "['pizza', [1, 2, 3, 0.9, 'aaz', 13.14]]\n"
          ]
        }
      ]
    },
    {
      "cell_type": "code",
      "source": [
        "list_a + list_b "
      ],
      "metadata": {
        "colab": {
          "base_uri": "https://localhost:8080/"
        },
        "id": "1k574bndy5ha",
        "outputId": "cbcc66fd-2347-4eb6-b9a3-c09d5364f72a"
      },
      "execution_count": null,
      "outputs": [
        {
          "output_type": "execute_result",
          "data": {
            "text/plain": [
              "[1, 2, 3, 0.9, 'aaz', 13.14, 'pizza', [1, 2, 3, 0.9, 'aaz', 13.14]]"
            ]
          },
          "metadata": {},
          "execution_count": 44
        }
      ]
    },
    {
      "cell_type": "markdown",
      "source": [
        "### การสร้าง list\n",
        "1. สร้าง list ว่าง\n",
        "2. เพิ่มสมาชิกเข้าไปใน list\n",
        "3. สามารถชี้ค่าใน list จากข้างหลังได้"
      ],
      "metadata": {
        "id": "UcFKAHg_zO8T"
      }
    },
    {
      "cell_type": "markdown",
      "source": [
        "1. การสร้าง list ว่าง"
      ],
      "metadata": {
        "id": "ZCOJSLDrzjlN"
      }
    },
    {
      "cell_type": "code",
      "source": [
        "list_aa = []\n",
        "list_aa"
      ],
      "metadata": {
        "colab": {
          "base_uri": "https://localhost:8080/"
        },
        "id": "GxWGhI_Xy-I3",
        "outputId": "cbe9afb5-cbd5-4b07-fe1e-5d128e0c4148"
      },
      "execution_count": null,
      "outputs": [
        {
          "output_type": "execute_result",
          "data": {
            "text/plain": [
              "[]"
            ]
          },
          "metadata": {},
          "execution_count": 1
        }
      ]
    },
    {
      "cell_type": "code",
      "source": [
        "list_bb = list()\n",
        "print(list_bb)"
      ],
      "metadata": {
        "colab": {
          "base_uri": "https://localhost:8080/"
        },
        "id": "O4raTGkgzsT_",
        "outputId": "c4c0f349-20aa-4b8e-f672-a9b38d415898"
      },
      "execution_count": null,
      "outputs": [
        {
          "output_type": "stream",
          "name": "stdout",
          "text": [
            "[]\n"
          ]
        }
      ]
    },
    {
      "cell_type": "markdown",
      "source": [
        "2. การเพิ่มสมาชิกลงไปใน list (.append())"
      ],
      "metadata": {
        "id": "CvepsE9yz6On"
      }
    },
    {
      "cell_type": "code",
      "source": [
        "list_aa.append('chiken')\n",
        "list_aa.append('water')\n",
        "list_aa.append('vegetable')"
      ],
      "metadata": {
        "id": "3x-su_mEzw71"
      },
      "execution_count": null,
      "outputs": []
    },
    {
      "cell_type": "code",
      "source": [
        "list_aa"
      ],
      "metadata": {
        "colab": {
          "base_uri": "https://localhost:8080/"
        },
        "id": "lNp675Tu0Sg9",
        "outputId": "90a4bbae-fb48-4c58-ef5f-aea264471f29"
      },
      "execution_count": null,
      "outputs": [
        {
          "output_type": "execute_result",
          "data": {
            "text/plain": [
              "['chiken', 'water', 'vegetable']"
            ]
          },
          "metadata": {},
          "execution_count": 4
        }
      ]
    },
    {
      "cell_type": "code",
      "source": [
        "list_aa[-1] ##ชี้จากข้างหลัง"
      ],
      "metadata": {
        "colab": {
          "base_uri": "https://localhost:8080/",
          "height": 36
        },
        "id": "k9F6B33U0Szp",
        "outputId": "23f5ec33-fae6-4dcb-aa9a-1b0c9954e18f"
      },
      "execution_count": null,
      "outputs": [
        {
          "output_type": "execute_result",
          "data": {
            "text/plain": [
              "'vegetable'"
            ],
            "application/vnd.google.colaboratory.intrinsic+json": {
              "type": "string"
            }
          },
          "metadata": {},
          "execution_count": 5
        }
      ]
    },
    {
      "cell_type": "code",
      "source": [
        "list_aa[2] ##ชี้แบบปกติ (จากข้างหน้า)"
      ],
      "metadata": {
        "colab": {
          "base_uri": "https://localhost:8080/",
          "height": 36
        },
        "id": "1lTqBJTg0S1p",
        "outputId": "4bf2f6dd-9ec1-4009-9091-05f459e39d2b"
      },
      "execution_count": null,
      "outputs": [
        {
          "output_type": "execute_result",
          "data": {
            "text/plain": [
              "'vegetable'"
            ],
            "application/vnd.google.colaboratory.intrinsic+json": {
              "type": "string"
            }
          },
          "metadata": {},
          "execution_count": 6
        }
      ]
    },
    {
      "cell_type": "code",
      "source": [
        "list_aa.append('plate')\n",
        "#list_aa\n",
        "list_aa[-2]"
      ],
      "metadata": {
        "colab": {
          "base_uri": "https://localhost:8080/",
          "height": 36
        },
        "id": "RfP5dvO_0S3V",
        "outputId": "937267fa-531b-4a17-e10a-0db49edd62b7"
      },
      "execution_count": null,
      "outputs": [
        {
          "output_type": "execute_result",
          "data": {
            "text/plain": [
              "'vegetable'"
            ],
            "application/vnd.google.colaboratory.intrinsic+json": {
              "type": "string"
            }
          },
          "metadata": {},
          "execution_count": 7
        }
      ]
    },
    {
      "cell_type": "markdown",
      "source": [
        "pandas ที่เป็นตารางก็ใช้วิธีการแสดงค่าเหมือนกับ list เช่นกัน"
      ],
      "metadata": {
        "id": "eBoV_KSL1Cxy"
      }
    },
    {
      "cell_type": "markdown",
      "source": [
        "#### list slicing"
      ],
      "metadata": {
        "id": "8tBehfkD1OiT"
      }
    },
    {
      "cell_type": "markdown",
      "source": [
        ": (colon)\n",
        "\n",
        "เราจะตัด list โดยเอาตั้งแต่ [ตัวหน้า:ตัวก่อนตัวหลัง]\n",
        "\n",
        "ถ้าเป็นสัญลักษณ์ทางคณิตศาสตร์ [ตัวหน้า:ตัวหลัง] -> [ตัวหน้า,ตัวหลัง) \n",
        "\n",
        "- เหมือนสัญลักษณ์ของเส้นจำนวน ตัวหน้าคือวงกลมทึบ, ตัวหลังคือวงกลมโป่ง\n",
        "\n",
        "![image.png](data:image/png;base64,iVBORw0KGgoAAAANSUhEUgAAALQAAABTCAYAAAA2jC0IAAAEUklEQVR4nO3dPWzbRhjG8b+cJlPRMAE6W/1AhwyNtoyWh2wBwqLo2jBdFGepA6TIFFiZM9iZanuxPXRt1a2bna0oiljd+oVaXQp0qpJ+oAlgMcORkSjJMhOLOh75/ADBEkXZL6yXx+PxXhJEREREREREREREREREREScVrEdQKbW+RTwo1ctbvDAZjjWbeATcgfwgC4V1mmwYzusaSpuQq+zS4U68DBasgC0aPCBxajs2aAJrBDSo8LcwDv3aNC0Fda0zR2/ioM2WKZCnR6LNKjToE6P64DP5wS2w7PkNiEMJTOEfGYnnGwUs4XeYJuQGjeoDS3vAiFmlyuxQ97hJr/ZDmMaXrMdQEY6VLjGFh7X6QKwhcczzgKPgL+tRmfHQtRCj7rJwayDyUoxE7pHhzngKats8oBDujxjFXhMjw9ZomM7xJnb5EvgKsluZgj8Ef0shGL2oZfYBnaoEBCyzxwHwCI9lkuZzACn+YSQ74eW/kuFK1biyUgx+9CxTWqEVAHo0S5tMg9a5zI93uMUv3CG7150yURERERERERERERERERERERERERERERERGzzYaiiWiQby2RYpV8DdjFFlfWs/siUHQA/2A4iRz7CfH8f2w4kpT3gL2Alzcppi2Q9YAvYx51EluLwgCamcfInrZgmoVeADhBQoHJ3cVIV+ArTS6iOW2FS1bcPrB71QWAHcllFfQ64OPD6EnAIiRL+R8CTWQZl2fvA+ej5m8AF4Efgz2hZF2hbiCuNAJg/4r014B4cX7lewyRrqIceOX+sMeC463I0gVvAG9GHB9e/RT636teBdwde3wX+B+4PLPsZ+G+WQVn2NuY7BLP3CoAv6O+1/gF+tRBXGmsk97ixh5gRkJfOQQ/YZnTLcOXgUKMcSS6OcgzmXYcJB4ZpDgq7mC16kf61lkVm7Qmmv1wFWtP8xQFmK3GlhV4GlmwHkSMXMF3JcbvxPNrD9BAyvQSyl/UfEIkcNcomIiIiIiIiJ1TF3O4ufq4pweK0OskTFs4ndLFvSZHk02+FDjCD9GUXn0tok2KCjwuKeResUT6mBYrPMLWB3zED9mI29C75nD35Uop5F6xRNUjc/rfFMRPFS8THnCTzMWdVxQHDZzb30ZcHo2d7C9GPLhuffE57tWG42HkPxzd01/vQVZh4M/oWyeT1MAdCaoWMAHMcEf+PzqKN3RkeyZJ4JXWyha4x5WmZNpRp2G4Fs0uNvYVGOaCf0FOfZ2xDWRJ63BF8k2SCi4iIiIikUZY+dNFVgWsT3v+a0eG4BUzh8zjNI5aLiIiICJyyHYDkQkB/9qHzU0il3Fr0pwPs4/iUALXQ5RZgLmT5TfT6J+Bbe+GInExc6FDDnUu7TVSWihUZbx6TzG1M33nXbjgnp4Qut8f0J2h1MCfaJs0vzz0ltAyXYTl9EU4ldLm1SI5qzKMpteIwD5PUcSmb0/WEIrEqjnc1RERERETk1TwHbL103j6AsjQAAAAASUVORK5CYII=)\n"
      ],
      "metadata": {
        "id": "n7vzT_DY3gGH"
      }
    },
    {
      "cell_type": "code",
      "source": [
        "list_aa"
      ],
      "metadata": {
        "colab": {
          "base_uri": "https://localhost:8080/"
        },
        "id": "U0gOr_wx0S5E",
        "outputId": "d8f0b226-783f-4895-d008-f15f0a666552"
      },
      "execution_count": null,
      "outputs": [
        {
          "output_type": "execute_result",
          "data": {
            "text/plain": [
              "['chiken', 'water', 'vegetable', 'plate']"
            ]
          },
          "metadata": {},
          "execution_count": 8
        }
      ]
    },
    {
      "cell_type": "code",
      "source": [
        "list_aa[1:3] ##ต้องการแค่ 'water' กับ 'vegetable'  "
      ],
      "metadata": {
        "colab": {
          "base_uri": "https://localhost:8080/"
        },
        "id": "vPS24W-A0S6z",
        "outputId": "d5ab12df-c339-45d8-8b6a-dc1e19ca8dce"
      },
      "execution_count": null,
      "outputs": [
        {
          "output_type": "execute_result",
          "data": {
            "text/plain": [
              "['water', 'vegetable']"
            ]
          },
          "metadata": {},
          "execution_count": 9
        }
      ]
    },
    {
      "cell_type": "markdown",
      "source": [
        "##### **Quiz 1**\n",
        "\n",
        "ตัด ส่วนของ list เหล่านี้มาจาก list_aa\n",
        "\n",
        "1. 'iken'\n",
        "2. 'get'\n",
        "3. 'tab'"
      ],
      "metadata": {
        "id": "3T20wygw328b"
      }
    },
    {
      "cell_type": "code",
      "source": [
        "list_aa[0][2:]"
      ],
      "metadata": {
        "colab": {
          "base_uri": "https://localhost:8080/",
          "height": 36
        },
        "id": "5yKm3nFl0S8u",
        "outputId": "36c12ad0-8ee8-4a32-dfaa-755b0f3acb7a"
      },
      "execution_count": null,
      "outputs": [
        {
          "output_type": "execute_result",
          "data": {
            "text/plain": [
              "'iken'"
            ],
            "application/vnd.google.colaboratory.intrinsic+json": {
              "type": "string"
            }
          },
          "metadata": {},
          "execution_count": 10
        }
      ]
    },
    {
      "cell_type": "code",
      "source": [
        "list_aa[2][2:5]"
      ],
      "metadata": {
        "colab": {
          "base_uri": "https://localhost:8080/",
          "height": 36
        },
        "id": "GlB_nfVM0S-X",
        "outputId": "b437b63e-037b-484e-8a94-e806f7ca2c38"
      },
      "execution_count": null,
      "outputs": [
        {
          "output_type": "execute_result",
          "data": {
            "text/plain": [
              "'get'"
            ],
            "application/vnd.google.colaboratory.intrinsic+json": {
              "type": "string"
            }
          },
          "metadata": {},
          "execution_count": 11
        }
      ]
    },
    {
      "cell_type": "code",
      "source": [
        "list_aa[2][4:7]"
      ],
      "metadata": {
        "colab": {
          "base_uri": "https://localhost:8080/",
          "height": 36
        },
        "id": "JFsFIoxQ4ts1",
        "outputId": "6e3a5d71-0223-42d3-cbcb-f5c1e8cc318e"
      },
      "execution_count": null,
      "outputs": [
        {
          "output_type": "execute_result",
          "data": {
            "text/plain": [
              "'tab'"
            ],
            "application/vnd.google.colaboratory.intrinsic+json": {
              "type": "string"
            }
          },
          "metadata": {},
          "execution_count": 12
        }
      ]
    },
    {
      "cell_type": "code",
      "source": [
        "list_aa[-1][1:]"
      ],
      "metadata": {
        "colab": {
          "base_uri": "https://localhost:8080/",
          "height": 36
        },
        "id": "xtKZVaRj4z_v",
        "outputId": "cbd6b42b-17ff-40fc-fa14-395265335fdc"
      },
      "execution_count": null,
      "outputs": [
        {
          "output_type": "execute_result",
          "data": {
            "text/plain": [
              "'late'"
            ],
            "application/vnd.google.colaboratory.intrinsic+json": {
              "type": "string"
            }
          },
          "metadata": {},
          "execution_count": 13
        }
      ]
    },
    {
      "cell_type": "code",
      "source": [
        "list_aa[1][:3]"
      ],
      "metadata": {
        "colab": {
          "base_uri": "https://localhost:8080/",
          "height": 36
        },
        "id": "YUIwe4zp_gaj",
        "outputId": "56b4e320-1063-4a27-d82b-d7afe16591e5"
      },
      "execution_count": null,
      "outputs": [
        {
          "output_type": "execute_result",
          "data": {
            "text/plain": [
              "'wat'"
            ],
            "application/vnd.google.colaboratory.intrinsic+json": {
              "type": "string"
            }
          },
          "metadata": {},
          "execution_count": 14
        }
      ]
    },
    {
      "cell_type": "markdown",
      "source": [
        "#### Advance list slicing\n",
        "\n",
        "::\n",
        "\n",
        "เราจะตัด list โดยเอาตั้งแต่ [ตัวหน้า:ตัวก่อนตัวหลัง:step]\n",
        "*ถ้าไม่ใส่ step ก็คือ กระโดดไป 1 "
      ],
      "metadata": {
        "id": "HlwipWpP_l3a"
      }
    },
    {
      "cell_type": "code",
      "source": [
        "list_aa[2]"
      ],
      "metadata": {
        "colab": {
          "base_uri": "https://localhost:8080/",
          "height": 36
        },
        "id": "TnVfqpr0_kQu",
        "outputId": "2d56823d-eb01-4379-f49f-c66a1c01d5f0"
      },
      "execution_count": null,
      "outputs": [
        {
          "output_type": "execute_result",
          "data": {
            "text/plain": [
              "'vegetable'"
            ],
            "application/vnd.google.colaboratory.intrinsic+json": {
              "type": "string"
            }
          },
          "metadata": {},
          "execution_count": 15
        }
      ]
    },
    {
      "cell_type": "code",
      "source": [
        "list_aa[2][::]"
      ],
      "metadata": {
        "colab": {
          "base_uri": "https://localhost:8080/",
          "height": 36
        },
        "id": "j-WbuPevViXS",
        "outputId": "cad82132-7685-4182-dce5-998ae7ca9eb6"
      },
      "execution_count": null,
      "outputs": [
        {
          "output_type": "execute_result",
          "data": {
            "text/plain": [
              "'vegetable'"
            ],
            "application/vnd.google.colaboratory.intrinsic+json": {
              "type": "string"
            }
          },
          "metadata": {},
          "execution_count": 16
        }
      ]
    },
    {
      "cell_type": "code",
      "source": [
        "list_aa[2][::2] ## step 2 "
      ],
      "metadata": {
        "colab": {
          "base_uri": "https://localhost:8080/",
          "height": 36
        },
        "id": "7bu_3yeZVwtQ",
        "outputId": "251dacff-b436-49e6-c8cd-9fa390aae57a"
      },
      "execution_count": null,
      "outputs": [
        {
          "output_type": "execute_result",
          "data": {
            "text/plain": [
              "'vgtbe'"
            ],
            "application/vnd.google.colaboratory.intrinsic+json": {
              "type": "string"
            }
          },
          "metadata": {},
          "execution_count": 17
        }
      ]
    },
    {
      "cell_type": "code",
      "source": [
        "list_aa[2][::-1] #กลับ list "
      ],
      "metadata": {
        "colab": {
          "base_uri": "https://localhost:8080/",
          "height": 36
        },
        "id": "UouW69BPVwvz",
        "outputId": "14ec6fa3-9a75-442d-806b-a5f24f23b274"
      },
      "execution_count": null,
      "outputs": [
        {
          "output_type": "execute_result",
          "data": {
            "text/plain": [
              "'elbategev'"
            ],
            "application/vnd.google.colaboratory.intrinsic+json": {
              "type": "string"
            }
          },
          "metadata": {},
          "execution_count": 18
        }
      ]
    },
    {
      "cell_type": "markdown",
      "source": [
        "format string\n",
        "\n",
        "```\n",
        "f'sring{variable}' \n",
        "```\n",
        "\n",
        "format string f'sring{variable}'"
      ],
      "metadata": {
        "id": "ulL_dvXIY--q"
      }
    },
    {
      "cell_type": "code",
      "source": [
        "f'I like to eat {list_aa[2]}' #curly brackets"
      ],
      "metadata": {
        "colab": {
          "base_uri": "https://localhost:8080/",
          "height": 36
        },
        "id": "Jh6GLmZfVwzO",
        "outputId": "5cc2bd9b-b9af-45f3-b34c-68ed8d6ede8c"
      },
      "execution_count": null,
      "outputs": [
        {
          "output_type": "execute_result",
          "data": {
            "text/plain": [
              "'I like to eat vegetable'"
            ],
            "application/vnd.google.colaboratory.intrinsic+json": {
              "type": "string"
            }
          },
          "metadata": {},
          "execution_count": 19
        }
      ]
    },
    {
      "cell_type": "code",
      "source": [
        "f'9x10 = {9*10}'"
      ],
      "metadata": {
        "colab": {
          "base_uri": "https://localhost:8080/",
          "height": 36
        },
        "id": "PwbVSglGVw1v",
        "outputId": "fff971fc-07f8-484f-fb76-858ca4289eef"
      },
      "execution_count": null,
      "outputs": [
        {
          "output_type": "execute_result",
          "data": {
            "text/plain": [
              "'9x10 = 90'"
            ],
            "application/vnd.google.colaboratory.intrinsic+json": {
              "type": "string"
            }
          },
          "metadata": {},
          "execution_count": 20
        }
      ]
    },
    {
      "cell_type": "markdown",
      "source": [
        "## Loop\n",
        "การให้ com ทำงานที่ซ้ำๆกัน หรือทำงานที่คล้ายๆกันหลายๆรอบ\n",
        "\n",
        "indent\n",
        "\n",
        "``` python\n",
        "for ตัวแปรที่เราจะรับค่าจาก list in list ที่ต้องการจะวนลูป :\n",
        "    do something\n",
        "    do another thing\n",
        "\n",
        "this is outside the loop\n",
        "\n",
        "```"
      ],
      "metadata": {
        "id": "Z84Udu7EbVu9"
      }
    },
    {
      "cell_type": "code",
      "source": [
        "list_aa"
      ],
      "metadata": {
        "colab": {
          "base_uri": "https://localhost:8080/"
        },
        "id": "6H4HGubWdt6N",
        "outputId": "7d45b3b7-7966-4b5d-fcbd-31eb590cf695"
      },
      "execution_count": null,
      "outputs": [
        {
          "output_type": "execute_result",
          "data": {
            "text/plain": [
              "['chiken', 'water', 'vegetable', 'plate']"
            ]
          },
          "metadata": {},
          "execution_count": 23
        }
      ]
    },
    {
      "cell_type": "markdown",
      "source": [
        "### ทำงานคล้ายๆกัน"
      ],
      "metadata": {
        "id": "zqjedOFpdvcZ"
      }
    },
    {
      "cell_type": "code",
      "source": [
        "for i in list_aa:\n",
        "    print(f'now i is {i}')\n",
        "    print(f'I like to eat {i}')"
      ],
      "metadata": {
        "colab": {
          "base_uri": "https://localhost:8080/"
        },
        "id": "irdJEaYuVw4i",
        "outputId": "8e9054bb-4b61-486f-affc-a5417b5245d5"
      },
      "execution_count": null,
      "outputs": [
        {
          "output_type": "stream",
          "name": "stdout",
          "text": [
            "now i is chiken\n",
            "I like to eat chiken\n",
            "now i is water\n",
            "I like to eat water\n",
            "now i is vegetable\n",
            "I like to eat vegetable\n",
            "now i is plate\n",
            "I like to eat plate\n"
          ]
        }
      ]
    },
    {
      "cell_type": "markdown",
      "source": [
        "### ทำงานซ้ำๆกัน"
      ],
      "metadata": {
        "id": "-iWgDTJmd105"
      }
    },
    {
      "cell_type": "code",
      "source": [
        "for i in list_aa:\n",
        "    print('Ha')"
      ],
      "metadata": {
        "colab": {
          "base_uri": "https://localhost:8080/"
        },
        "id": "lW2RSXqvVw6J",
        "outputId": "973736b7-a63f-438c-e1dc-af3a854f7402"
      },
      "execution_count": null,
      "outputs": [
        {
          "output_type": "stream",
          "name": "stdout",
          "text": [
            "Ha\n",
            "Ha\n",
            "Ha\n",
            "Ha\n"
          ]
        }
      ]
    },
    {
      "cell_type": "code",
      "source": [
        "for x in [1,3,5,7,9]:\n",
        "    print(f'this x = {x} x/2 = {x/2}')"
      ],
      "metadata": {
        "colab": {
          "base_uri": "https://localhost:8080/"
        },
        "id": "t_5FCTVVd-Rd",
        "outputId": "1c70a0c3-8d5e-4d74-85cc-09a70c830925"
      },
      "execution_count": null,
      "outputs": [
        {
          "output_type": "stream",
          "name": "stdout",
          "text": [
            "this x = 1 x/2 = 0.5\n",
            "this x = 3 x/2 = 1.5\n",
            "this x = 5 x/2 = 2.5\n",
            "this x = 7 x/2 = 3.5\n",
            "this x = 9 x/2 = 4.5\n"
          ]
        }
      ]
    },
    {
      "cell_type": "code",
      "source": [
        "list(range(10))"
      ],
      "metadata": {
        "colab": {
          "base_uri": "https://localhost:8080/"
        },
        "id": "v5Jr_-aNekUU",
        "outputId": "548f2148-3cba-49de-9808-fc22e37adbb7"
      },
      "execution_count": null,
      "outputs": [
        {
          "output_type": "execute_result",
          "data": {
            "text/plain": [
              "[0, 1, 2, 3, 4, 5, 6, 7, 8, 9]"
            ]
          },
          "metadata": {},
          "execution_count": 26
        }
      ]
    },
    {
      "cell_type": "code",
      "source": [
        "for i in range(100):\n",
        "    print(f'Ha{i}',end='')"
      ],
      "metadata": {
        "colab": {
          "base_uri": "https://localhost:8080/"
        },
        "id": "w9vFW9r8e51q",
        "outputId": "acad715d-bf6a-44b3-b610-7f5d2d8101cd"
      },
      "execution_count": null,
      "outputs": [
        {
          "output_type": "stream",
          "name": "stdout",
          "text": [
            "Ha0Ha1Ha2Ha3Ha4Ha5Ha6Ha7Ha8Ha9Ha10Ha11Ha12Ha13Ha14Ha15Ha16Ha17Ha18Ha19Ha20Ha21Ha22Ha23Ha24Ha25Ha26Ha27Ha28Ha29Ha30Ha31Ha32Ha33Ha34Ha35Ha36Ha37Ha38Ha39Ha40Ha41Ha42Ha43Ha44Ha45Ha46Ha47Ha48Ha49Ha50Ha51Ha52Ha53Ha54Ha55Ha56Ha57Ha58Ha59Ha60Ha61Ha62Ha63Ha64Ha65Ha66Ha67Ha68Ha69Ha70Ha71Ha72Ha73Ha74Ha75Ha76Ha77Ha78Ha79Ha80Ha81Ha82Ha83Ha84Ha85Ha86Ha87Ha88Ha89Ha90Ha91Ha92Ha93Ha94Ha95Ha96Ha97Ha98Ha99"
          ]
        }
      ]
    },
    {
      "cell_type": "code",
      "source": [
        "list(range(5,10))"
      ],
      "metadata": {
        "colab": {
          "base_uri": "https://localhost:8080/"
        },
        "id": "p7r4SXZHfqBK",
        "outputId": "3ef8a221-a122-4ecb-e56e-088f1b073773"
      },
      "execution_count": null,
      "outputs": [
        {
          "output_type": "execute_result",
          "data": {
            "text/plain": [
              "[5, 6, 7, 8, 9]"
            ]
          },
          "metadata": {},
          "execution_count": 28
        }
      ]
    },
    {
      "cell_type": "code",
      "source": [
        "list(range(5,100,5)) ##เริ่มตั้งแต่ 5 จนถึง 100 และไป Step ละ 5 "
      ],
      "metadata": {
        "colab": {
          "base_uri": "https://localhost:8080/"
        },
        "id": "Ya_O5_Uof9lS",
        "outputId": "ceb5b61b-9652-4d5b-d91f-20e3e1cb4c4e"
      },
      "execution_count": null,
      "outputs": [
        {
          "output_type": "execute_result",
          "data": {
            "text/plain": [
              "[5, 10, 15, 20, 25, 30, 35, 40, 45, 50, 55, 60, 65, 70, 75, 80, 85, 90, 95]"
            ]
          },
          "metadata": {},
          "execution_count": 29
        }
      ]
    },
    {
      "cell_type": "markdown",
      "source": [
        "### Nested loop\n",
        "\n",
        "- loop ซ้อน loop"
      ],
      "metadata": {
        "id": "F06dTcuCglVT"
      }
    },
    {
      "cell_type": "code",
      "source": [
        "for i in range(3):\n",
        "    print(f'i = {i}')\n",
        "    for j in range(2):\n",
        "      print(f'i = {i}, j = {j}, i+j = {i+j}')"
      ],
      "metadata": {
        "colab": {
          "base_uri": "https://localhost:8080/"
        },
        "id": "TABEsQi2gKrf",
        "outputId": "2cde539d-c001-4a48-e5be-035e1061fcbc"
      },
      "execution_count": null,
      "outputs": [
        {
          "output_type": "stream",
          "name": "stdout",
          "text": [
            "i = 0\n",
            "i = 0, j = 0, i+j = 0\n",
            "i = 0, j = 1, i+j = 1\n",
            "i = 1\n",
            "i = 1, j = 0, i+j = 1\n",
            "i = 1, j = 1, i+j = 2\n",
            "i = 2\n",
            "i = 2, j = 0, i+j = 2\n",
            "i = 2, j = 1, i+j = 3\n"
          ]
        }
      ]
    },
    {
      "cell_type": "markdown",
      "source": [
        "Quiz 2 \n",
        "\n",
        "สร้าง list\n",
        "[[1],[1,1], [1,1,1],...,[1,1,1,1,1,1,1,1,1,1] โดยใช้ for loop"
      ],
      "metadata": {
        "id": "zguRGD_Fh5wO"
      }
    },
    {
      "cell_type": "code",
      "source": [
        "list_A = []\n",
        "for i in range(10):\n",
        "  AA = []\n",
        "  for j in range(i+1):\n",
        "      A=1\n",
        "      AA.append(A)\n",
        "  list_A.append(AA)"
      ],
      "metadata": {
        "id": "uUAONTZFhQOh"
      },
      "execution_count": null,
      "outputs": []
    },
    {
      "cell_type": "code",
      "source": [
        "list_A = []\n",
        "for i in range(10):\n",
        "   AA = []\n",
        "   for j in range(i+1):\n",
        "      A=1\n",
        "      AA.append(A)\n",
        "   list_A.append(AA)"
      ],
      "metadata": {
        "id": "0YcF-3LPp2Fx"
      },
      "execution_count": null,
      "outputs": []
    },
    {
      "cell_type": "code",
      "source": [
        "list_A"
      ],
      "metadata": {
        "colab": {
          "base_uri": "https://localhost:8080/"
        },
        "id": "1rlHhMphp7EI",
        "outputId": "df417f2d-f45c-41ed-fada-d22510bb98f0"
      },
      "execution_count": null,
      "outputs": [
        {
          "output_type": "execute_result",
          "data": {
            "text/plain": [
              "[[1],\n",
              " [1, 1],\n",
              " [1, 1, 1],\n",
              " [1, 1, 1, 1],\n",
              " [1, 1, 1, 1, 1],\n",
              " [1, 1, 1, 1, 1, 1],\n",
              " [1, 1, 1, 1, 1, 1, 1],\n",
              " [1, 1, 1, 1, 1, 1, 1, 1],\n",
              " [1, 1, 1, 1, 1, 1, 1, 1, 1],\n",
              " [1, 1, 1, 1, 1, 1, 1, 1, 1, 1]]"
            ]
          },
          "metadata": {},
          "execution_count": 39
        }
      ]
    },
    {
      "cell_type": "code",
      "source": [
        "##เฉลย\n",
        "list_ans = []\n",
        "print(f'list_ans = {list_ans}')\n",
        "for i in range(1, 11):\n",
        "    temp = []\n",
        "    print(f'temp = {temp}')\n",
        "    for j in range(i):\n",
        "        temp.append(1)\n",
        "    print(f'temp = {temp}')\n",
        "    list_ans.append(temp)\n",
        "\n",
        "print(list_ans)"
      ],
      "metadata": {
        "colab": {
          "base_uri": "https://localhost:8080/"
        },
        "id": "3HI9rlhoqCTO",
        "outputId": "b0651948-91c2-4437-b661-abcc26f5bd2a"
      },
      "execution_count": null,
      "outputs": [
        {
          "output_type": "stream",
          "name": "stdout",
          "text": [
            "list_ans = []\n",
            "temp = []\n",
            "temp = [1]\n",
            "temp = []\n",
            "temp = [1, 1]\n",
            "temp = []\n",
            "temp = [1, 1, 1]\n",
            "temp = []\n",
            "temp = [1, 1, 1, 1]\n",
            "temp = []\n",
            "temp = [1, 1, 1, 1, 1]\n",
            "temp = []\n",
            "temp = [1, 1, 1, 1, 1, 1]\n",
            "temp = []\n",
            "temp = [1, 1, 1, 1, 1, 1, 1]\n",
            "temp = []\n",
            "temp = [1, 1, 1, 1, 1, 1, 1, 1]\n",
            "temp = []\n",
            "temp = [1, 1, 1, 1, 1, 1, 1, 1, 1]\n",
            "temp = []\n",
            "temp = [1, 1, 1, 1, 1, 1, 1, 1, 1, 1]\n",
            "[[1], [1, 1], [1, 1, 1], [1, 1, 1, 1], [1, 1, 1, 1, 1], [1, 1, 1, 1, 1, 1], [1, 1, 1, 1, 1, 1, 1], [1, 1, 1, 1, 1, 1, 1, 1], [1, 1, 1, 1, 1, 1, 1, 1, 1], [1, 1, 1, 1, 1, 1, 1, 1, 1, 1]]\n"
          ]
        }
      ]
    },
    {
      "cell_type": "markdown",
      "source": [
        "Quiz 3 \n",
        "\n",
        "\n",
        "สร้าง list\n",
        "[[1],[1,2], [1,2,3],...,[1,2,3,4,5,6,7,8,9,10] โดยใช้ for loop"
      ],
      "metadata": {
        "id": "ddUjpzektyPy"
      }
    },
    {
      "cell_type": "code",
      "source": [
        "list_A = []\n",
        "for i in range(10):\n",
        "   AA = []\n",
        "   for j in range(i+1):\n",
        "      AA.append(j+1)\n",
        "   list_A.append(AA)"
      ],
      "metadata": {
        "id": "rB9gwVShxNJD"
      },
      "execution_count": null,
      "outputs": []
    },
    {
      "cell_type": "code",
      "source": [
        "print(list_A)"
      ],
      "metadata": {
        "colab": {
          "base_uri": "https://localhost:8080/"
        },
        "id": "P8UJeeZ40ilE",
        "outputId": "d41b3200-8f65-4743-c3d5-ce0c5b6d4174"
      },
      "execution_count": null,
      "outputs": [
        {
          "output_type": "stream",
          "name": "stdout",
          "text": [
            "[[1], [1, 2], [1, 2, 3], [1, 2, 3, 4], [1, 2, 3, 4, 5], [1, 2, 3, 4, 5, 6], [1, 2, 3, 4, 5, 6, 7], [1, 2, 3, 4, 5, 6, 7, 8], [1, 2, 3, 4, 5, 6, 7, 8, 9], [1, 2, 3, 4, 5, 6, 7, 8, 9, 10]]\n"
          ]
        }
      ]
    },
    {
      "cell_type": "markdown",
      "source": [
        "## Conditional Statement (if statement)\n",
        "\n",
        "\n",
        "``` python\n",
        "if เงื่อนไขที่เราจะตรวจสอบ (โดยอาศัยสัญลักษณ์เหล่านี้ ==, !=, <, >, <=, >=, in, is_null()) :\n",
        "    ถ้าเงื่อนไขเป็นจริง ทำ\n",
        "    ถ้าเงื่อนไขเป็นจริง ทำ\n",
        "```"
      ],
      "metadata": {
        "id": "jH9Rpcva2oya"
      }
    },
    {
      "cell_type": "code",
      "source": [
        "if 1<5:\n",
        "   print('yes') "
      ],
      "metadata": {
        "colab": {
          "base_uri": "https://localhost:8080/"
        },
        "id": "nCCl4CUz0j8Q",
        "outputId": "015b6986-1dda-45cc-d911-e486a1b3cbbc"
      },
      "execution_count": null,
      "outputs": [
        {
          "output_type": "stream",
          "name": "stdout",
          "text": [
            "yes\n"
          ]
        }
      ]
    },
    {
      "cell_type": "markdown",
      "source": [
        "## Conditional Statement (if statement)\n",
        "\n",
        "\n",
        "``` python\n",
        "if เงื่อนไขที่เราจะตรวจสอบ (โดยอาศัยสัญลักษณ์เหล่านี้ ==, !=, <, >, <=, >=, in, is_null()) :\n",
        "    ถ้าเงื่อนไขเป็นจริง ทำงานที่ 1\n",
        "    ถ้าเงื่อนไขเป็นจริง ทำงานที่ 2\n",
        "elif เงื่อนไขที่เราจะตรวจสอบต่อไปนี้ถ้าเงื่อนไขข้างบนไม่เป็นจริง:\n",
        "    ถ้าเงื่อนไขเป็นจริง ทำงานที่ a1\n",
        "    ถ้าเงื่อนไขเป็นจริง ทำงานที่ a2\n",
        "elif เงื่อนไขที่เราจะตรวจสอบต่อไปนี้ถ้าเงื่อนไขข้างบนไม่เป็นจริง:\n",
        "    ถ้าเงื่อนไขเป็นจริง ทำงานที่ b1\n",
        "    ถ้าเงื่อนไขเป็นจริง ทำงานที่ b2\n",
        "else: # ตรวจสอบเงื่อนไขข้างบนแล้วไม่เป็นจริง\n",
        "    ทำงานที่ x\n",
        "```"
      ],
      "metadata": {
        "id": "Evx4Mue73tnJ"
      }
    },
    {
      "cell_type": "code",
      "source": [
        "x = 12\n",
        "\n",
        "if x<5:\n",
        "   print('yes') \n",
        "else:\n",
        "   print('no')"
      ],
      "metadata": {
        "colab": {
          "base_uri": "https://localhost:8080/"
        },
        "id": "UW02LWTV3ft7",
        "outputId": "940e3e62-97f4-4ca4-abb2-d087d7026351"
      },
      "execution_count": null,
      "outputs": [
        {
          "output_type": "stream",
          "name": "stdout",
          "text": [
            "no\n"
          ]
        }
      ]
    },
    {
      "cell_type": "markdown",
      "source": [
        "### Example\n",
        "list_ex = [1,5,9,-19,-2,0] #หาค่าน้อยที่สุดใน list_ex โดยไม่ใช่ function min (ใช้ for กับ if)"
      ],
      "metadata": {
        "id": "ABuzI29C4--_"
      }
    },
    {
      "cell_type": "code",
      "source": [
        "minimum = list_ex[0]\n",
        "for number in list_ex:\n",
        "    if minimum > number:\n",
        "       minimum = number\n",
        "print(minimum)"
      ],
      "metadata": {
        "colab": {
          "base_uri": "https://localhost:8080/"
        },
        "id": "ujtCBITl6GEg",
        "outputId": "a2447330-fdd8-42a9-e626-011d469ad6f0"
      },
      "execution_count": null,
      "outputs": [
        {
          "output_type": "stream",
          "name": "stdout",
          "text": [
            "-19\n"
          ]
        }
      ]
    },
    {
      "cell_type": "code",
      "source": [
        "##เฉลย\n",
        "min = 100000000\n",
        "print(list_ex)\n",
        "for i in list_ex:\n",
        "    print(f'now i = {i}, min = {min}')\n",
        "    print('start condition')\n",
        "    if i < min:\n",
        "        print(f'i < min, update min -> {i}')\n",
        "        min = i\n",
        "    else:\n",
        "        print('i >= min, not update')\n",
        "    print('end condition, go to next i')\n",
        "\n",
        "print(min)"
      ],
      "metadata": {
        "colab": {
          "base_uri": "https://localhost:8080/"
        },
        "id": "q2VQV9n56Go-",
        "outputId": "c263626f-15e3-4b36-fddf-6de09b387300"
      },
      "execution_count": null,
      "outputs": [
        {
          "output_type": "stream",
          "name": "stdout",
          "text": [
            "[1, 5, 9, -19, -2, 0]\n",
            "now i = 1, min = 100000000\n",
            "start condition\n",
            "i < min, update min -> 1\n",
            "end condition, go to next i\n",
            "now i = 5, min = 1\n",
            "start condition\n",
            "i >= min, not update\n",
            "end condition, go to next i\n",
            "now i = 9, min = 1\n",
            "start condition\n",
            "i >= min, not update\n",
            "end condition, go to next i\n",
            "now i = -19, min = 1\n",
            "start condition\n",
            "i < min, update min -> -19\n",
            "end condition, go to next i\n",
            "now i = -2, min = -19\n",
            "start condition\n",
            "i >= min, not update\n",
            "end condition, go to next i\n",
            "now i = 0, min = -19\n",
            "start condition\n",
            "i >= min, not update\n",
            "end condition, go to next i\n",
            "-19\n"
          ]
        }
      ]
    },
    {
      "cell_type": "code",
      "source": [
        "list_ex = [1,5,9,-19,-2,0]\n",
        "\n",
        "min = 100000000\n",
        "for x in list_ex:\n",
        "    if x < min:\n",
        "        min = x\n",
        "\n",
        "print(min)"
      ],
      "metadata": {
        "colab": {
          "base_uri": "https://localhost:8080/"
        },
        "id": "ymVc2XdL8Vfd",
        "outputId": "21560f06-df9f-4f1d-9184-c258bddf62cd"
      },
      "execution_count": null,
      "outputs": [
        {
          "output_type": "stream",
          "name": "stdout",
          "text": [
            "-19\n"
          ]
        }
      ]
    },
    {
      "cell_type": "markdown",
      "source": [
        "#### quiz 4\n",
        "list_ex = [1,5,9,-19,-2,0] \n",
        "\n",
        "*หาค่ามากที่สุดใน list_ex โดยไม่ใช้ function max (ใช้ for กับ if)*"
      ],
      "metadata": {
        "id": "t3NoB79B8gzQ"
      }
    },
    {
      "cell_type": "code",
      "source": [
        "maximum = list_ex[0]\n",
        "for number in list_ex:\n",
        "    if maximum < number:\n",
        "       maximum = number\n",
        "print(maximum)"
      ],
      "metadata": {
        "colab": {
          "base_uri": "https://localhost:8080/"
        },
        "id": "8Teb3jr18iwd",
        "outputId": "a6668d11-6381-408c-f3ed-ea81a0c1eef2"
      },
      "execution_count": null,
      "outputs": [
        {
          "output_type": "stream",
          "name": "stdout",
          "text": [
            "9\n"
          ]
        }
      ]
    },
    {
      "cell_type": "markdown",
      "source": [
        "**Python infinity**\n",
        "\n",
        "Representing infinity as an Integer in python"
      ],
      "metadata": {
        "id": "YdKGgiDz_lza"
      }
    },
    {
      "cell_type": "markdown",
      "source": [
        "1. Using float(‘inf’) and float(‘-inf’):"
      ],
      "metadata": {
        "id": "AIgHFp5ZACT3"
      }
    },
    {
      "cell_type": "code",
      "source": [
        "float('inf')"
      ],
      "metadata": {
        "colab": {
          "base_uri": "https://localhost:8080/"
        },
        "id": "5ty81pRf_UxE",
        "outputId": "59c18bcd-e0d0-4dbb-9ed0-3b92e15c17d8"
      },
      "execution_count": null,
      "outputs": [
        {
          "output_type": "execute_result",
          "data": {
            "text/plain": [
              "inf"
            ]
          },
          "metadata": {},
          "execution_count": 63
        }
      ]
    },
    {
      "cell_type": "code",
      "source": [
        "float('-inf')"
      ],
      "metadata": {
        "colab": {
          "base_uri": "https://localhost:8080/"
        },
        "id": "lf2Pw-Tm_UzJ",
        "outputId": "280cedd8-af0c-4d39-e9f3-a9686c1a1594"
      },
      "execution_count": null,
      "outputs": [
        {
          "output_type": "execute_result",
          "data": {
            "text/plain": [
              "-inf"
            ]
          },
          "metadata": {},
          "execution_count": 64
        }
      ]
    },
    {
      "cell_type": "markdown",
      "source": [
        "2. using Python’s math module:"
      ],
      "metadata": {
        "id": "JIlUgMp2AFXh"
      }
    },
    {
      "cell_type": "code",
      "source": [
        "import math"
      ],
      "metadata": {
        "id": "YgGpJzQYAH8h"
      },
      "execution_count": null,
      "outputs": []
    },
    {
      "cell_type": "code",
      "source": [
        "math.inf"
      ],
      "metadata": {
        "colab": {
          "base_uri": "https://localhost:8080/"
        },
        "id": "4Q5W1CqoALI6",
        "outputId": "510a2783-a924-4803-fa8d-2009da81953f"
      },
      "execution_count": null,
      "outputs": [
        {
          "output_type": "execute_result",
          "data": {
            "text/plain": [
              "inf"
            ]
          },
          "metadata": {},
          "execution_count": 66
        }
      ]
    },
    {
      "cell_type": "code",
      "source": [
        "-math.inf"
      ],
      "metadata": {
        "colab": {
          "base_uri": "https://localhost:8080/"
        },
        "id": "mFHmi0goALLb",
        "outputId": "0e2e8e60-5272-422a-96f1-639cc78f5ae1"
      },
      "execution_count": null,
      "outputs": [
        {
          "output_type": "execute_result",
          "data": {
            "text/plain": [
              "-inf"
            ]
          },
          "metadata": {},
          "execution_count": 67
        }
      ]
    },
    {
      "cell_type": "markdown",
      "source": [
        "###Function\n",
        "\n",
        "``` python\n",
        "def ชื่อฟังก์ชั่น(input1,input2,....):\n",
        "    งานxxx\n",
        "    งานyyy\n",
        "    return output\n",
        "``` \n",
        "\n",
        "![image.png](data:image/png;base64,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)"
      ],
      "metadata": {
        "id": "z0XA6K9689c3"
      }
    },
    {
      "cell_type": "markdown",
      "source": [
        "**ส่วนประกอบสำคัญ**\n",
        "\n",
        "- input\n",
        "\n",
        "- process (ไม่มีไม่ได้)\n",
        "\n",
        "- output"
      ],
      "metadata": {
        "id": "s_-k3as89hux"
      }
    },
    {
      "cell_type": "markdown",
      "source": [
        "#### Example 1"
      ],
      "metadata": {
        "id": "0NvBFenB9noM"
      }
    },
    {
      "cell_type": "code",
      "source": [
        "def find_min(list_ex):\n",
        "    min = 100000000\n",
        "    for x in list_ex:\n",
        "        if x < min:\n",
        "            min = x\n",
        "    \n",
        "    return min"
      ],
      "metadata": {
        "id": "vIeTjJGN8yT2"
      },
      "execution_count": null,
      "outputs": []
    },
    {
      "cell_type": "code",
      "source": [
        "list_A = [1,5,9,-19,-2,0]\n",
        "XXX = find_min(list_A)\n",
        "print(XXX)"
      ],
      "metadata": {
        "colab": {
          "base_uri": "https://localhost:8080/"
        },
        "id": "jLLmqxZkFJmr",
        "outputId": "659e9816-5f61-4f7b-a3f1-ce94b56f29e0"
      },
      "execution_count": null,
      "outputs": [
        {
          "output_type": "stream",
          "name": "stdout",
          "text": [
            "-19\n"
          ]
        }
      ]
    },
    {
      "cell_type": "markdown",
      "source": [
        "#### Example 2\n",
        "Function ที่ไม่มี Output \n",
        "- ไม่มีตัวแปรเก็บค่า แต่ให้แสดงค่าออกมาเลย"
      ],
      "metadata": {
        "id": "cjeW_EF7F3S_"
      }
    },
    {
      "cell_type": "code",
      "source": [
        "def find_min2(list_ex): ## ไม่มีเก็บค่าในตัวแปร ให้ return \n",
        "    min = 100000000\n",
        "    for x in list_ex:\n",
        "        if x < min:\n",
        "            min = x\n",
        "    print(min)"
      ],
      "metadata": {
        "id": "V27kYR2IFJox"
      },
      "execution_count": null,
      "outputs": []
    },
    {
      "cell_type": "code",
      "source": [
        "find_min2(list_A)"
      ],
      "metadata": {
        "colab": {
          "base_uri": "https://localhost:8080/"
        },
        "id": "3bBeJbDXFJqk",
        "outputId": "74c9f3f4-403a-4f50-9cd7-143fcf08c765"
      },
      "execution_count": null,
      "outputs": [
        {
          "output_type": "stream",
          "name": "stdout",
          "text": [
            "-19\n"
          ]
        }
      ]
    },
    {
      "cell_type": "code",
      "source": [
        "YYY  = find_min2(list_A) ## ไม่เก็บค่า แต่ print ออกมาเลย"
      ],
      "metadata": {
        "colab": {
          "base_uri": "https://localhost:8080/"
        },
        "id": "mghtm72aFJud",
        "outputId": "c255954c-a504-48f9-8ef8-ab0038c89377"
      },
      "execution_count": null,
      "outputs": [
        {
          "output_type": "stream",
          "name": "stdout",
          "text": [
            "-19\n"
          ]
        }
      ]
    },
    {
      "cell_type": "code",
      "source": [
        "YYY"
      ],
      "metadata": {
        "id": "-sh3bimZFJyR"
      },
      "execution_count": null,
      "outputs": []
    },
    {
      "cell_type": "markdown",
      "source": [
        "#### Example 3\n",
        "Function แบบไม่มี Input \n"
      ],
      "metadata": {
        "id": "-mtf3vNoGjPI"
      }
    },
    {
      "cell_type": "code",
      "source": [
        "def Pi_val():\n",
        "    return 3.1416"
      ],
      "metadata": {
        "id": "RYz81zVwFJ0d"
      },
      "execution_count": null,
      "outputs": []
    },
    {
      "cell_type": "code",
      "source": [
        "r = 10\n",
        "print(f'พื้นที่วงกลมที่มีเส้นผ่านศูนย์กลางเท่ากับ {r} คือ {Pi_val()*r*r}')"
      ],
      "metadata": {
        "colab": {
          "base_uri": "https://localhost:8080/"
        },
        "id": "sY6pMHYHFJ2j",
        "outputId": "cf49d3c3-5eba-49ec-9aff-07d5bfd70004"
      },
      "execution_count": null,
      "outputs": [
        {
          "output_type": "stream",
          "name": "stdout",
          "text": [
            "พื้นที่วงกลมที่มีเส้นผ่านศูนย์กลางเท่ากับ 10 คือ 314.16\n"
          ]
        }
      ]
    },
    {
      "cell_type": "markdown",
      "source": [
        "#### Example 4\n",
        "Function ที่มีแต่ Process อย่างเดียว\n"
      ],
      "metadata": {
        "id": "wPA5Fn0sGwJA"
      }
    },
    {
      "cell_type": "code",
      "source": [
        "def draw_rectangle():\n",
        "    print('======')\n",
        "    print('|    |')\n",
        "    print('======')"
      ],
      "metadata": {
        "id": "e_TMBYadFJ4t"
      },
      "execution_count": null,
      "outputs": []
    },
    {
      "cell_type": "code",
      "source": [
        "draw_rectangle()"
      ],
      "metadata": {
        "colab": {
          "base_uri": "https://localhost:8080/"
        },
        "id": "1sG6krZrFJ6q",
        "outputId": "b1839312-4631-48af-db9a-59f80a68db3b"
      },
      "execution_count": null,
      "outputs": [
        {
          "output_type": "stream",
          "name": "stdout",
          "text": [
            "======\n",
            "|    |\n",
            "======\n"
          ]
        }
      ]
    },
    {
      "cell_type": "code",
      "source": [
        "def draw_hello():\n",
        "    print('============')\n",
        "    print('|  Hello  |')\n",
        "    print('============')"
      ],
      "metadata": {
        "id": "ytdqGpMMG_7q"
      },
      "execution_count": null,
      "outputs": []
    },
    {
      "cell_type": "code",
      "source": [
        "draw_hello()"
      ],
      "metadata": {
        "colab": {
          "base_uri": "https://localhost:8080/"
        },
        "id": "oDj_j5_yG_9l",
        "outputId": "c15c1af6-d34e-497e-89be-131645fcff23"
      },
      "execution_count": null,
      "outputs": [
        {
          "output_type": "stream",
          "name": "stdout",
          "text": [
            "============\n",
            "|  Hello  |\n",
            "============\n"
          ]
        }
      ]
    },
    {
      "cell_type": "markdown",
      "source": [
        "Function ที่ไม่มี Process จะ Run ไม่ได้"
      ],
      "metadata": {
        "id": "5PLJBzYuIpJh"
      }
    },
    {
      "cell_type": "code",
      "source": [
        "def draw_rectangle():"
      ],
      "metadata": {
        "colab": {
          "base_uri": "https://localhost:8080/",
          "height": 130
        },
        "id": "tIRiWXbAInZ3",
        "outputId": "48294e8c-305b-47bc-8c83-3a50216dca7c"
      },
      "execution_count": null,
      "outputs": [
        {
          "output_type": "error",
          "ename": "SyntaxError",
          "evalue": "ignored",
          "traceback": [
            "\u001b[0;36m  File \u001b[0;32m\"<ipython-input-81-96ff03789653>\"\u001b[0;36m, line \u001b[0;32m1\u001b[0m\n\u001b[0;31m    def draw_rectangle():\u001b[0m\n\u001b[0m                         ^\u001b[0m\n\u001b[0;31mSyntaxError\u001b[0m\u001b[0;31m:\u001b[0m unexpected EOF while parsing\n"
          ]
        }
      ]
    },
    {
      "cell_type": "markdown",
      "source": [
        "**ลักษณะของ input(หรือ paremeter, หรือ argument)**\n",
        "\n",
        "- จำเป็นต้องใส่ (non-default argument)\n",
        "\n",
        "- ไม่จำเป็นต้องใส่ (default argument) มี default อยู่แล้ว"
      ],
      "metadata": {
        "id": "D_MTZ9oQIOW4"
      }
    },
    {
      "cell_type": "code",
      "source": [
        "def draw_rectangle(dbbound=True): ## ค่า default คือ True เป็น input ที่ใส่ หรือไม่่ใส่ก็ได้ \n",
        "    if dbbound: \n",
        "        print('========')\n",
        "        print('||    ||')\n",
        "        print('========')\n",
        "    else:\n",
        "        print('________')\n",
        "        print('|      |')\n",
        "        print('--------')"
      ],
      "metadata": {
        "id": "9Wq68Wl7G__i"
      },
      "execution_count": null,
      "outputs": []
    },
    {
      "cell_type": "code",
      "source": [
        "draw_rectangle()"
      ],
      "metadata": {
        "colab": {
          "base_uri": "https://localhost:8080/"
        },
        "id": "pKz39jeEHABY",
        "outputId": "fb6095cc-f293-462e-ac36-9f6a4d50cbb6"
      },
      "execution_count": null,
      "outputs": [
        {
          "output_type": "stream",
          "name": "stdout",
          "text": [
            "========\n",
            "||    ||\n",
            "========\n"
          ]
        }
      ]
    },
    {
      "cell_type": "code",
      "source": [
        "draw_rectangle(True)"
      ],
      "metadata": {
        "colab": {
          "base_uri": "https://localhost:8080/"
        },
        "id": "YBqjCua6HADn",
        "outputId": "051b990f-11d1-4311-e0d1-ec2211989a62"
      },
      "execution_count": null,
      "outputs": [
        {
          "output_type": "stream",
          "name": "stdout",
          "text": [
            "========\n",
            "||    ||\n",
            "========\n"
          ]
        }
      ]
    },
    {
      "cell_type": "code",
      "source": [
        "draw_rectangle(False)"
      ],
      "metadata": {
        "colab": {
          "base_uri": "https://localhost:8080/"
        },
        "id": "7pWMWF7aHAFk",
        "outputId": "e52e22f0-c4f3-4477-cbf6-8c06c80734d8"
      },
      "execution_count": null,
      "outputs": [
        {
          "output_type": "stream",
          "name": "stdout",
          "text": [
            "________\n",
            "|      |\n",
            "--------\n"
          ]
        }
      ]
    },
    {
      "cell_type": "markdown",
      "source": [
        " ไม่มี input ที่เป็นค่า default"
      ],
      "metadata": {
        "id": "qg0f8BiVLK4i"
      }
    },
    {
      "cell_type": "code",
      "source": [
        "find_min2() ## ไม่มี input ที่เป็นค่า default"
      ],
      "metadata": {
        "colab": {
          "base_uri": "https://localhost:8080/",
          "height": 165
        },
        "id": "TOu7PQp0HAH3",
        "outputId": "63624852-a7fd-4796-904d-4548c22669fa"
      },
      "execution_count": null,
      "outputs": [
        {
          "output_type": "error",
          "ename": "TypeError",
          "evalue": "ignored",
          "traceback": [
            "\u001b[0;31m---------------------------------------------------------------------------\u001b[0m",
            "\u001b[0;31mTypeError\u001b[0m                                 Traceback (most recent call last)",
            "\u001b[0;32m<ipython-input-86-ef006b8c722f>\u001b[0m in \u001b[0;36m<module>\u001b[0;34m()\u001b[0m\n\u001b[0;32m----> 1\u001b[0;31m \u001b[0mfind_min2\u001b[0m\u001b[0;34m(\u001b[0m\u001b[0;34m)\u001b[0m \u001b[0;31m## ไม่มี input ที่เป็นค่า default\u001b[0m\u001b[0;34m\u001b[0m\u001b[0;34m\u001b[0m\u001b[0m\n\u001b[0m",
            "\u001b[0;31mTypeError\u001b[0m: find_min2() missing 1 required positional argument: 'list_ex'"
          ]
        }
      ]
    },
    {
      "cell_type": "code",
      "source": [
        "#''' นำ input ที่จำเป็นต้องใส่มาไว้ด้านหน้าก่อน \n",
        "def draw_rectangle(size,dbbound=True): ## size เป็น input ที่ต้องใส่\n",
        "    if dbbound:\n",
        "        up = '='\n",
        "        space = ' '\n",
        "        print(f'{(size+4)*up}')\n",
        "        print(f'||{size*space}||')\n",
        "        print(f'{(size+4)*up}')\n",
        "    else:\n",
        "        up = '-'\n",
        "        space = ' '\n",
        "        print(f'{(size+4)*up}')\n",
        "        print(f'|{size*space}|')\n",
        "        print(f'{(size+4)*up}')"
      ],
      "metadata": {
        "id": "74FU11PfHAKQ"
      },
      "execution_count": null,
      "outputs": []
    },
    {
      "cell_type": "code",
      "source": [
        "draw_rectangle() ## ถ้าไม่ใส่ input ที่จำเป็นต้องใส่ จะ Errors"
      ],
      "metadata": {
        "colab": {
          "base_uri": "https://localhost:8080/",
          "height": 165
        },
        "id": "bVhWEmeRLMiS",
        "outputId": "84a83e12-651c-4e7f-d0c2-c3fedce7b161"
      },
      "execution_count": null,
      "outputs": [
        {
          "output_type": "error",
          "ename": "TypeError",
          "evalue": "ignored",
          "traceback": [
            "\u001b[0;31m---------------------------------------------------------------------------\u001b[0m",
            "\u001b[0;31mTypeError\u001b[0m                                 Traceback (most recent call last)",
            "\u001b[0;32m<ipython-input-90-69fa6cfcddf3>\u001b[0m in \u001b[0;36m<module>\u001b[0;34m()\u001b[0m\n\u001b[0;32m----> 1\u001b[0;31m \u001b[0mdraw_rectangle\u001b[0m\u001b[0;34m(\u001b[0m\u001b[0;34m)\u001b[0m \u001b[0;31m## ถ้าไม่ใส่ input เลย จะ Errors\u001b[0m\u001b[0;34m\u001b[0m\u001b[0;34m\u001b[0m\u001b[0m\n\u001b[0m",
            "\u001b[0;31mTypeError\u001b[0m: draw_rectangle() missing 1 required positional argument: 'size'"
          ]
        }
      ]
    },
    {
      "cell_type": "code",
      "source": [
        "draw_rectangle(10,False)"
      ],
      "metadata": {
        "colab": {
          "base_uri": "https://localhost:8080/"
        },
        "id": "4t78l-umLMke",
        "outputId": "33eb2ce3-0f8e-482b-c17e-c90decbcfd38"
      },
      "execution_count": null,
      "outputs": [
        {
          "output_type": "stream",
          "name": "stdout",
          "text": [
            "--------------\n",
            "|          |\n",
            "--------------\n"
          ]
        }
      ]
    },
    {
      "cell_type": "code",
      "source": [
        "def draw_rectangle(size,dbbound=True):\n",
        "    if dbbound:\n",
        "        up = '='\n",
        "        #space = ' '\n",
        "        print(f'{(size+4)*up}')\n",
        "        print(f'||{size*\" \"}||')\n",
        "        print(f'{(size+4)*up}')\n",
        "    else:\n",
        "        up = '-'\n",
        "        #space = ' '\n",
        "        print(f'{(size+4)*up}')\n",
        "        print(f'|{size*\" \"}|')\n",
        "        print(f'{(size+4)*up}') "
      ],
      "metadata": {
        "id": "aYwY-Mt2LMmh"
      },
      "execution_count": null,
      "outputs": []
    },
    {
      "cell_type": "markdown",
      "source": [
        "ไม่ได้ใส่ parameter ตามลำดับ แต่ใส่ parameter ที่จำเป็นต้องใส่ก็สามารถ run ได้ ถ้าใส่ชื่อของ parameter ด้วย "
      ],
      "metadata": {
        "id": "thCwfG15Os44"
      }
    },
    {
      "cell_type": "code",
      "source": [
        "draw_rectangle(dbbound=False,size=7)"
      ],
      "metadata": {
        "colab": {
          "base_uri": "https://localhost:8080/"
        },
        "id": "MTgWDArFLMoY",
        "outputId": "ef99fe12-f9ab-4c73-bedb-6fec57a33d00"
      },
      "execution_count": null,
      "outputs": [
        {
          "output_type": "stream",
          "name": "stdout",
          "text": [
            "-----------\n",
            "|       |\n",
            "-----------\n"
          ]
        }
      ]
    },
    {
      "cell_type": "code",
      "source": [
        "draw_rectangle(size=7)"
      ],
      "metadata": {
        "colab": {
          "base_uri": "https://localhost:8080/"
        },
        "id": "31veZ_AFLMqS",
        "outputId": "d689df8d-5495-4330-a5ad-7b10627d5f71"
      },
      "execution_count": null,
      "outputs": [
        {
          "output_type": "stream",
          "name": "stdout",
          "text": [
            "===========\n",
            "||       ||\n",
            "===========\n"
          ]
        }
      ]
    },
    {
      "cell_type": "markdown",
      "source": [
        "#### Quiz5\n",
        "\n",
        "สร้าง function\n",
        "\n",
        "- วาด 4 เหลี่ยม ให้สามารถกำหนด ความยาว เเละ ความกว้าง ได้\n",
        "- เเต่ถ้าใส่ parameter ตัวเดียวก็ให้วาด 4 เหลี่ยม จัสตุรัส ที่มี ความยาว เเละ ความกว้าง เท่ากับ parameter ที่ใส่\n",
        "\n",
        "ให้ปริ้น ความกว้างxความยาวของสี่เหลี่ยม\n",
        "\n",
        "\n",
        "(ให้ปริ้น ความกว้าง x ความยาวของ สี่เหลี่ยม)\n",
        "\n",
        "**ตัวอย่าง**\n",
        "\n",
        "rext(3,5)\n",
        "> 3 x 5\n",
        "\n",
        "rext(7)\n",
        "\n",
        "> 7 x 7"
      ],
      "metadata": {
        "id": "cEyhZt0RPS_2"
      }
    },
    {
      "cell_type": "code",
      "source": [
        "def draw_rectagle(W, H): #เติมค่่า ตัวหนึ่งได้เเต่ใช้สองตัว\n",
        "    print(f'{W} x {H}')\n",
        "draw_rectagle(3, 5)"
      ],
      "metadata": {
        "colab": {
          "base_uri": "https://localhost:8080/"
        },
        "id": "T1KTiMxLQDiH",
        "outputId": "34c62ef8-1305-4c90-c336-1d7d5f9dac99"
      },
      "execution_count": null,
      "outputs": [
        {
          "output_type": "stream",
          "name": "stdout",
          "text": [
            "3 x 5\n"
          ]
        }
      ]
    },
    {
      "cell_type": "code",
      "source": [
        "def draw_rectagle(W, H=True): #เติมค่่า ตัวหนึ่งได้เเต่ใช้สองตัว\n",
        "    if H == True: #เช็ค if parameter 1 ตัว\n",
        "        H=W\n",
        "    print(f'{W} x {H}')"
      ],
      "metadata": {
        "id": "elAK0DNZLMsI"
      },
      "execution_count": null,
      "outputs": []
    },
    {
      "cell_type": "code",
      "source": [
        "draw_rectagle(3)"
      ],
      "metadata": {
        "colab": {
          "base_uri": "https://localhost:8080/"
        },
        "id": "ZaNOCaLgLMt1",
        "outputId": "1c836b4c-6995-4334-dc43-7d692a99d4a5"
      },
      "execution_count": null,
      "outputs": [
        {
          "output_type": "stream",
          "name": "stdout",
          "text": [
            "3 x 3\n"
          ]
        }
      ]
    },
    {
      "cell_type": "code",
      "source": [
        "draw_rectagle(3,5)"
      ],
      "metadata": {
        "colab": {
          "base_uri": "https://localhost:8080/"
        },
        "id": "2Ue0GG88LMv0",
        "outputId": "9ebf90ed-06ac-4370-8ecc-cfe72ea3dcef"
      },
      "execution_count": null,
      "outputs": [
        {
          "output_type": "stream",
          "name": "stdout",
          "text": [
            "3 x 5\n"
          ]
        }
      ]
    },
    {
      "cell_type": "code",
      "source": [
        "def draw_rectagle(W, H=True): \n",
        "    if H ==True:\n",
        "       up = '-'\n",
        "       side = '|'\n",
        "       space = W-1 \n",
        "       print(f'{W*up}')\n",
        "       for i in range(W):\n",
        "           print(f'{side}{space*\" \"}{side}')\n",
        "       print(f'{W*up}')\n",
        "       print((f'{W} x {W}'))\n",
        "    else:\n",
        "        up = '-'\n",
        "        side = '|'\n",
        "        space = W-1 \n",
        "        print(f'{W*up}')\n",
        "        for i in range(H):\n",
        "            print(f'{side}{space*\" \"}{side}')\n",
        "        print(f'{W*up}') \n",
        "        print((f'{W} x {H}'))"
      ],
      "metadata": {
        "id": "6wxUxwXeQOzE"
      },
      "execution_count": null,
      "outputs": []
    },
    {
      "cell_type": "code",
      "source": [
        "draw_rectagle(W=5)"
      ],
      "metadata": {
        "colab": {
          "base_uri": "https://localhost:8080/"
        },
        "id": "q-uOrsaRVGY4",
        "outputId": "c89e7eab-99c6-42bd-8157-6a790f31edfd"
      },
      "execution_count": null,
      "outputs": [
        {
          "output_type": "stream",
          "name": "stdout",
          "text": [
            "-----\n",
            "|    |\n",
            "|    |\n",
            "|    |\n",
            "|    |\n",
            "|    |\n",
            "-----\n",
            "5 x 5\n"
          ]
        }
      ]
    },
    {
      "cell_type": "code",
      "source": [
        "draw_rectagle(W=5,H=10)"
      ],
      "metadata": {
        "colab": {
          "base_uri": "https://localhost:8080/"
        },
        "id": "AGkFnyTNVGb9",
        "outputId": "0dec0f57-a543-48b0-f05c-e1caffa42c5d"
      },
      "execution_count": null,
      "outputs": [
        {
          "output_type": "stream",
          "name": "stdout",
          "text": [
            "-----\n",
            "|    |\n",
            "|    |\n",
            "|    |\n",
            "|    |\n",
            "|    |\n",
            "|    |\n",
            "|    |\n",
            "|    |\n",
            "|    |\n",
            "|    |\n",
            "-----\n",
            "5 x 10\n"
          ]
        }
      ]
    },
    {
      "cell_type": "code",
      "source": [
        "draw_rectagle(W=10,H=10)"
      ],
      "metadata": {
        "colab": {
          "base_uri": "https://localhost:8080/"
        },
        "id": "V-Y0PPceWaQY",
        "outputId": "c2256a01-2ba5-4584-dd6e-75e9fe587e91"
      },
      "execution_count": null,
      "outputs": [
        {
          "output_type": "stream",
          "name": "stdout",
          "text": [
            "----------\n",
            "|         |\n",
            "|         |\n",
            "|         |\n",
            "|         |\n",
            "|         |\n",
            "|         |\n",
            "|         |\n",
            "|         |\n",
            "|         |\n",
            "|         |\n",
            "----------\n",
            "10 x 10\n"
          ]
        }
      ]
    },
    {
      "cell_type": "code",
      "source": [
        "draw_rectagle(W=5,H=5)"
      ],
      "metadata": {
        "colab": {
          "base_uri": "https://localhost:8080/"
        },
        "id": "8910x70wW9OZ",
        "outputId": "24fafc66-10eb-4fc0-a613-364eae8b5d6e"
      },
      "execution_count": null,
      "outputs": [
        {
          "output_type": "stream",
          "name": "stdout",
          "text": [
            "-----\n",
            "|    |\n",
            "|    |\n",
            "|    |\n",
            "|    |\n",
            "|    |\n",
            "-----\n",
            "5 x 5\n"
          ]
        }
      ]
    },
    {
      "cell_type": "code",
      "source": [
        "draw_rectagle(H=5) ##เพราะไม่ใส่ input ที่ต้องใส่ "
      ],
      "metadata": {
        "colab": {
          "base_uri": "https://localhost:8080/",
          "height": 165
        },
        "id": "PmE-CXAvXBCJ",
        "outputId": "6f35c847-914d-466f-d07f-50cb27bcb4b3"
      },
      "execution_count": null,
      "outputs": [
        {
          "output_type": "error",
          "ename": "TypeError",
          "evalue": "ignored",
          "traceback": [
            "\u001b[0;31m---------------------------------------------------------------------------\u001b[0m",
            "\u001b[0;31mTypeError\u001b[0m                                 Traceback (most recent call last)",
            "\u001b[0;32m<ipython-input-131-2799dfdb7624>\u001b[0m in \u001b[0;36m<module>\u001b[0;34m()\u001b[0m\n\u001b[0;32m----> 1\u001b[0;31m \u001b[0mdraw_rectagle\u001b[0m\u001b[0;34m(\u001b[0m\u001b[0mH\u001b[0m\u001b[0;34m=\u001b[0m\u001b[0;36m5\u001b[0m\u001b[0;34m)\u001b[0m\u001b[0;34m\u001b[0m\u001b[0;34m\u001b[0m\u001b[0m\n\u001b[0m",
            "\u001b[0;31mTypeError\u001b[0m: draw_rectagle() missing 1 required positional argument: 'W'"
          ]
        }
      ]
    },
    {
      "cell_type": "markdown",
      "source": [
        "****"
      ],
      "metadata": {
        "id": "6U1pWV0CXWJh"
      }
    },
    {
      "cell_type": "markdown",
      "source": [
        "## การใช้คำสั่ง Split ร่วมกับการเขียน Function"
      ],
      "metadata": {
        "id": "1BzAv4Rv7qIB"
      }
    },
    {
      "cell_type": "code",
      "source": [
        "time = '18:04:11 - 00:00:00'"
      ],
      "metadata": {
        "id": "cPGSTvJ0QPYj"
      },
      "execution_count": 1,
      "outputs": []
    },
    {
      "cell_type": "code",
      "source": [
        "def cal_(time):\n",
        "    T = time.split('-')\n",
        "    Tstart = T[0]\n",
        "    Tend = T[-1]\n",
        "    SplitS = Tstart.split(':')\n",
        "    Sstart = 3600*int(SplitS[0]) + 60*int(SplitS[1]) + int(SplitS[2])\n",
        "\n",
        "    SplitE = Tend.split(':')\n",
        "    Send = 3600*int(SplitE[0]) + 60*int(SplitE[1]) + int(SplitE[2])\n",
        "\n",
        "    if Send < Sstart:\n",
        "      return f'ช่วงระยะเวลาระหว่าง {Tstart} ถึง {Tend} มีเวลาทั้งหมด {(Send+(24*3600))-Sstart:,} วินาที'\n",
        "    else:\n",
        "      return f'ช่วงระยะเวลาระหว่าง {Tstart} ถึง {Tend} มีเวลาทั้งหมด {Send-Sstart:,} วินาที'"
      ],
      "metadata": {
        "id": "sAgTVLff7OAY"
      },
      "execution_count": 2,
      "outputs": []
    },
    {
      "cell_type": "markdown",
      "source": [
        "- test function\n"
      ],
      "metadata": {
        "id": "2iPeH89k7ajx"
      }
    },
    {
      "cell_type": "code",
      "source": [
        "cal_(time)"
      ],
      "metadata": {
        "colab": {
          "base_uri": "https://localhost:8080/",
          "height": 36
        },
        "id": "T06R4Ma47OEl",
        "outputId": "9833f5c4-b500-4b55-ffc2-a53d093dac40"
      },
      "execution_count": 3,
      "outputs": [
        {
          "output_type": "execute_result",
          "data": {
            "text/plain": [
              "'ช่วงระยะเวลาระหว่าง 18:04:11  ถึง  00:00:00 มีเวลาทั้งหมด 21,349 วินาที'"
            ],
            "application/vnd.google.colaboratory.intrinsic+json": {
              "type": "string"
            }
          },
          "metadata": {},
          "execution_count": 3
        }
      ]
    },
    {
      "cell_type": "markdown",
      "source": [
        "### วนลูปแสดงผลของ input ต่อไปนี้\n",
        "\n",
        "* '09:11:50 - 12:30:15'\n",
        "* '13:41:07 - 20:00:18'\n",
        "* '00:00:00 - 23:59:59'\n",
        "* '18:04:11 - 00:00:00'\n",
        "* '21:30:00 - 03:05:15'"
      ],
      "metadata": {
        "id": "naAfpLtK7hqS"
      }
    },
    {
      "cell_type": "code",
      "source": [
        "time_list = ['09:11:50 - 12:30:15', '13:41:07 - 20:00:18', '00:00:00 - 23:59:59', '18:04:11 - 00:00:00','21:30:00 - 03:05:15']\n",
        "for time in time_list:\n",
        "    diff_time = cal_(time)\n",
        "    print(diff_time)\n",
        "    print('*'*70)"
      ],
      "metadata": {
        "colab": {
          "base_uri": "https://localhost:8080/"
        },
        "id": "nhGPv-437OHE",
        "outputId": "a38ee659-2c59-42db-ea0e-3f5a8f955fd1"
      },
      "execution_count": 4,
      "outputs": [
        {
          "output_type": "stream",
          "name": "stdout",
          "text": [
            "ช่วงระยะเวลาระหว่าง 09:11:50  ถึง  12:30:15 มีเวลาทั้งหมด 11,905 วินาที\n",
            "**********************************************************************\n",
            "ช่วงระยะเวลาระหว่าง 13:41:07  ถึง  20:00:18 มีเวลาทั้งหมด 22,751 วินาที\n",
            "**********************************************************************\n",
            "ช่วงระยะเวลาระหว่าง 00:00:00  ถึง  23:59:59 มีเวลาทั้งหมด 86,399 วินาที\n",
            "**********************************************************************\n",
            "ช่วงระยะเวลาระหว่าง 18:04:11  ถึง  00:00:00 มีเวลาทั้งหมด 21,349 วินาที\n",
            "**********************************************************************\n",
            "ช่วงระยะเวลาระหว่าง 21:30:00  ถึง  03:05:15 มีเวลาทั้งหมด 20,115 วินาที\n",
            "**********************************************************************\n"
          ]
        }
      ]
    },
    {
      "cell_type": "markdown",
      "source": [
        "- เพิ่ม Input เป็น 2 Augument "
      ],
      "metadata": {
        "id": "E2ngjFHb7whV"
      }
    },
    {
      "cell_type": "code",
      "source": [
        "def cal_time(Tstart, Tend):\n",
        "    SplitS = Tstart.split(':')\n",
        "    Sstart = 3600*int(SplitS[0]) + 60*int(SplitS[1]) + int(SplitS[2])\n",
        "\n",
        "    SplitE = Tend.split(':')\n",
        "    Send = 3600*int(SplitE[0]) + 60*int(SplitE[1]) + int(SplitE[2])\n",
        "\n",
        "    if Send < Sstart:\n",
        "      return f'ช่วงระยะเวลาระหว่าง {Tstart} ถึง {Tend} มีเวลาทั้งหมด {(Send+(24*3600))-Sstart:,} วินาที'\n",
        "    else:\n",
        "      return f'ช่วงระยะเวลาระหว่าง {Tstart} ถึง {Tend} มีเวลาทั้งหมด {Send-Sstart:,} วินาที'"
      ],
      "metadata": {
        "id": "9uFw72OM7j6q"
      },
      "execution_count": 5,
      "outputs": []
    },
    {
      "cell_type": "markdown",
      "source": [
        "- ใช้ Function ตามลำดับของ Input"
      ],
      "metadata": {
        "id": "E6oqmELE8IGo"
      }
    },
    {
      "cell_type": "code",
      "source": [
        "cal_time('18:04:11', '00:00:00')"
      ],
      "metadata": {
        "colab": {
          "base_uri": "https://localhost:8080/",
          "height": 36
        },
        "id": "X59sTQRG7l1J",
        "outputId": "b41c5162-ada7-42c9-ccc4-13c5e9f85652"
      },
      "execution_count": 6,
      "outputs": [
        {
          "output_type": "execute_result",
          "data": {
            "text/plain": [
              "'ช่วงระยะเวลาระหว่าง 18:04:11 ถึง 00:00:00 มีเวลาทั้งหมด 21,349 วินาที'"
            ],
            "application/vnd.google.colaboratory.intrinsic+json": {
              "type": "string"
            }
          },
          "metadata": {},
          "execution_count": 6
        }
      ]
    },
    {
      "cell_type": "markdown",
      "source": [
        "- ใช้ Function โดยบอกลำกับของ Input เป็นชื่อตัวแปร "
      ],
      "metadata": {
        "id": "GNCjbDpD76s1"
      }
    },
    {
      "cell_type": "code",
      "source": [
        "cal_time(Tstart = '18:04:11', Tend = '00:00:00')"
      ],
      "metadata": {
        "colab": {
          "base_uri": "https://localhost:8080/",
          "height": 36
        },
        "id": "nGbZ3fR97m-g",
        "outputId": "a1192a91-2266-435a-9172-380a6eeb9281"
      },
      "execution_count": 7,
      "outputs": [
        {
          "output_type": "execute_result",
          "data": {
            "text/plain": [
              "'ช่วงระยะเวลาระหว่าง 18:04:11 ถึง 00:00:00 มีเวลาทั้งหมด 21,349 วินาที'"
            ],
            "application/vnd.google.colaboratory.intrinsic+json": {
              "type": "string"
            }
          },
          "metadata": {},
          "execution_count": 7
        }
      ]
    },
    {
      "cell_type": "code",
      "source": [
        ""
      ],
      "metadata": {
        "id": "EeUPw1CT7ocP"
      },
      "execution_count": null,
      "outputs": []
    }
  ]
}